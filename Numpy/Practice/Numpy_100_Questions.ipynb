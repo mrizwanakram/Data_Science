{
 "cells": [
  {
   "cell_type": "markdown",
   "id": "d7000bad",
   "metadata": {},
   "source": [
    "### Q_NO_1"
   ]
  },
  {
   "cell_type": "code",
   "execution_count": 1,
   "id": "af82254a",
   "metadata": {},
   "outputs": [],
   "source": [
    "#  1. Import the numpy package under the name `np`\n",
    "import numpy as np"
   ]
  },
  {
   "cell_type": "markdown",
   "id": "00b03a62",
   "metadata": {},
   "source": [
    "### Q_NO_2"
   ]
  },
  {
   "cell_type": "code",
   "execution_count": 11,
   "id": "38899e08",
   "metadata": {},
   "outputs": [
    {
     "data": {
      "text/plain": [
       "'1.24.2'"
      ]
     },
     "execution_count": 11,
     "metadata": {},
     "output_type": "execute_result"
    }
   ],
   "source": [
    "# 2. Print the numpy version and the configuration \n",
    "n= np.__version__\n",
    "n"
   ]
  },
  {
   "cell_type": "markdown",
   "id": "78511f37",
   "metadata": {},
   "source": [
    "### Q_NO_3\n"
   ]
  },
  {
   "cell_type": "code",
   "execution_count": 10,
   "id": "7bf21faf",
   "metadata": {},
   "outputs": [
    {
     "data": {
      "text/plain": [
       "array([0., 0., 0., 0., 0., 0., 0., 0., 0., 0.])"
      ]
     },
     "execution_count": 10,
     "metadata": {},
     "output_type": "execute_result"
    }
   ],
   "source": [
    "#  Create a null vector of size 10 \n",
    "a = np.zeros(10)\n",
    "a"
   ]
  },
  {
   "cell_type": "markdown",
   "id": "f5469e01",
   "metadata": {},
   "source": [
    "### Q_NO_4"
   ]
  },
  {
   "cell_type": "code",
   "execution_count": 13,
   "id": "2fbded42",
   "metadata": {},
   "outputs": [
    {
     "data": {
      "text/plain": [
       "10"
      ]
     },
     "execution_count": 13,
     "metadata": {},
     "output_type": "execute_result"
    }
   ],
   "source": [
    "#### 4. How to find the memory size of any array \n",
    "b = np.size(a)\n",
    "b"
   ]
  },
  {
   "cell_type": "markdown",
   "id": "be52f850",
   "metadata": {},
   "source": [
    "### Q_No_5"
   ]
  },
  {
   "cell_type": "code",
   "execution_count": 17,
   "id": "ff8e375e",
   "metadata": {},
   "outputs": [
    {
     "name": "stdout",
     "output_type": "stream",
     "text": [
      " mask_indices(n, mask_func, k=0)\n",
      "\n",
      "Return the indices to access (n, n) arrays, given a masking function.\n",
      "\n",
      "Assume `mask_func` is a function that, for a square array a of size\n",
      "``(n, n)`` with a possible offset argument `k`, when called as\n",
      "``mask_func(a, k)`` returns a new array with zeros in certain locations\n",
      "(functions like `triu` or `tril` do precisely this). Then this function\n",
      "returns the indices where the non-zero values would be located.\n",
      "\n",
      "Parameters\n",
      "----------\n",
      "n : int\n",
      "    The returned indices will be valid to access arrays of shape (n, n).\n",
      "mask_func : callable\n",
      "    A function whose call signature is similar to that of `triu`, `tril`.\n",
      "    That is, ``mask_func(x, k)`` returns a boolean array, shaped like `x`.\n",
      "    `k` is an optional argument to the function.\n",
      "k : scalar\n",
      "    An optional argument which is passed through to `mask_func`. Functions\n",
      "    like `triu`, `tril` take a second argument that is interpreted as an\n",
      "    offset.\n",
      "\n",
      "Returns\n",
      "-------\n",
      "indices : tuple of arrays.\n",
      "    The `n` arrays of indices corresponding to the locations where\n",
      "    ``mask_func(np.ones((n, n)), k)`` is True.\n",
      "\n",
      "See Also\n",
      "--------\n",
      "triu, tril, triu_indices, tril_indices\n",
      "\n",
      "Notes\n",
      "-----\n",
      ".. versionadded:: 1.4.0\n",
      "\n",
      "Examples\n",
      "--------\n",
      "These are the indices that would allow you to access the upper triangular\n",
      "part of any 3x3 array:\n",
      "\n",
      ">>> iu = np.mask_indices(3, np.triu)\n",
      "\n",
      "For example, if `a` is a 3x3 array:\n",
      "\n",
      ">>> a = np.arange(9).reshape(3, 3)\n",
      ">>> a\n",
      "array([[0, 1, 2],\n",
      "       [3, 4, 5],\n",
      "       [6, 7, 8]])\n",
      ">>> a[iu]\n",
      "array([0, 1, 2, 4, 5, 8])\n",
      "\n",
      "An offset can be passed also to the masking function.  This gets us the\n",
      "indices starting on the first diagonal right of the main one:\n",
      "\n",
      ">>> iu1 = np.mask_indices(3, np.triu, 1)\n",
      "\n",
      "with which we now extract only three elements:\n",
      "\n",
      ">>> a[iu1]\n",
      "array([1, 2, 5])\n"
     ]
    }
   ],
   "source": [
    "# How to get the documentation of the numpy add function from the command line?\n",
    "# n = np.info(np.add)\n",
    "b = np.info(np.mask_indices)"
   ]
  },
  {
   "cell_type": "markdown",
   "id": "712bf047",
   "metadata": {},
   "source": [
    "### Q_NO_6"
   ]
  },
  {
   "cell_type": "code",
   "execution_count": 23,
   "id": "9cff1576",
   "metadata": {},
   "outputs": [
    {
     "data": {
      "text/plain": [
       "array([0., 0., 0., 0., 1., 0., 0., 0., 0., 0.])"
      ]
     },
     "execution_count": 23,
     "metadata": {},
     "output_type": "execute_result"
    }
   ],
   "source": [
    "# Create a null vector of size 10 but the fifth value which is 1\n",
    "\n",
    "n = np.zeros(10)\n",
    "n[4] = 1\n",
    "n"
   ]
  },
  {
   "cell_type": "markdown",
   "id": "22d9eb8b",
   "metadata": {},
   "source": [
    "### Q_NO_7"
   ]
  },
  {
   "cell_type": "code",
   "execution_count": 28,
   "id": "ac4871ba",
   "metadata": {},
   "outputs": [
    {
     "data": {
      "text/plain": [
       "array([10, 11, 12, 13, 14, 15, 16, 17, 18, 19, 20, 21, 22, 23, 24, 25, 26,\n",
       "       27, 28, 29, 30, 31, 32, 33, 34, 35, 36, 37, 38, 39, 40, 41, 42, 43,\n",
       "       44, 45, 46, 47, 48])"
      ]
     },
     "execution_count": 28,
     "metadata": {},
     "output_type": "execute_result"
    }
   ],
   "source": [
    "# Create a vector with values ranging from 10 to 49 \n",
    "a = np.arange(10,49)\n",
    "a"
   ]
  },
  {
   "cell_type": "markdown",
   "id": "915b0d9b",
   "metadata": {},
   "source": [
    "### Q_NO_8"
   ]
  },
  {
   "cell_type": "code",
   "execution_count": 30,
   "id": "0aa40d41",
   "metadata": {},
   "outputs": [
    {
     "data": {
      "text/plain": [
       "[5, 4, 3, 2, 1]"
      ]
     },
     "execution_count": 30,
     "metadata": {},
     "output_type": "execute_result"
    }
   ],
   "source": [
    "# Reverse a vector (first element becomes last) \n",
    "\n",
    "a = [1,2,3,4,5]\n",
    "b = a[::-1]\n",
    "b"
   ]
  },
  {
   "cell_type": "markdown",
   "id": "bd331473",
   "metadata": {},
   "source": [
    "### Q_NO_9"
   ]
  },
  {
   "cell_type": "code",
   "execution_count": 41,
   "id": "a7089880",
   "metadata": {},
   "outputs": [
    {
     "data": {
      "text/plain": [
       "array([[0, 1, 2],\n",
       "       [3, 4, 5],\n",
       "       [6, 7, 8]])"
      ]
     },
     "execution_count": 41,
     "metadata": {},
     "output_type": "execute_result"
    }
   ],
   "source": [
    "# Create a 3x3 matrix with values ranging from 0 to 8\n",
    "a = np.arange(9).reshape(3,3)\n",
    "a"
   ]
  },
  {
   "cell_type": "markdown",
   "id": "ba3d9a80",
   "metadata": {},
   "source": [
    "### Q_NO_10"
   ]
  },
  {
   "cell_type": "code",
   "execution_count": 44,
   "id": "ca882bd6",
   "metadata": {},
   "outputs": [
    {
     "data": {
      "text/plain": [
       "(array([0, 1, 4]),)"
      ]
     },
     "execution_count": 44,
     "metadata": {},
     "output_type": "execute_result"
    }
   ],
   "source": [
    "# Find indices of non-zero elements from [1,2,0,0,4,0] \n",
    "b = np.nonzero([1,2,0,0,4,0])\n",
    "b"
   ]
  },
  {
   "cell_type": "markdown",
   "id": "83a6af61",
   "metadata": {},
   "source": [
    "### Q_NO_11"
   ]
  },
  {
   "cell_type": "code",
   "execution_count": 47,
   "id": "02e8005e",
   "metadata": {},
   "outputs": [
    {
     "data": {
      "text/plain": [
       "array([[1., 0., 0.],\n",
       "       [0., 1., 0.],\n",
       "       [0., 0., 1.]])"
      ]
     },
     "execution_count": 47,
     "metadata": {},
     "output_type": "execute_result"
    }
   ],
   "source": [
    "# Create a 3x3 identity matrix\n",
    "a = np.eye(3)\n",
    "a"
   ]
  },
  {
   "cell_type": "markdown",
   "id": "0507fe65",
   "metadata": {},
   "source": [
    "### Q_No_12"
   ]
  },
  {
   "cell_type": "code",
   "execution_count": 49,
   "id": "af930df2",
   "metadata": {},
   "outputs": [
    {
     "data": {
      "text/plain": [
       "array([[[ 0,  1,  2],\n",
       "        [ 3,  4,  5],\n",
       "        [ 6,  7,  8]],\n",
       "\n",
       "       [[ 9, 10, 11],\n",
       "        [12, 13, 14],\n",
       "        [15, 16, 17]],\n",
       "\n",
       "       [[18, 19, 20],\n",
       "        [21, 22, 23],\n",
       "        [24, 25, 26]]])"
      ]
     },
     "execution_count": 49,
     "metadata": {},
     "output_type": "execute_result"
    }
   ],
   "source": [
    "# Create a 3x3x3 array with random values\n",
    "a = np.arange(27).reshape(3,3,3)\n",
    "a"
   ]
  },
  {
   "cell_type": "code",
   "execution_count": 51,
   "id": "2a580473",
   "metadata": {},
   "outputs": [
    {
     "data": {
      "text/plain": [
       "array([[[0.60013104, 0.13564726, 0.57321107],\n",
       "        [0.46666101, 0.39277599, 0.14370249],\n",
       "        [0.31318205, 0.58532188, 0.88459681]],\n",
       "\n",
       "       [[0.03256088, 0.01412392, 0.07545676],\n",
       "        [0.30171626, 0.18695384, 0.39698416],\n",
       "        [0.06747502, 0.02971103, 0.364265  ]],\n",
       "\n",
       "       [[0.11380497, 0.37591516, 0.40445388],\n",
       "        [0.84623009, 0.77204324, 0.83626287],\n",
       "        [0.39863065, 0.86039764, 0.32335401]]])"
      ]
     },
     "execution_count": 51,
     "metadata": {},
     "output_type": "execute_result"
    }
   ],
   "source": [
    "a = np.random.random((3,3,3))\n",
    "a"
   ]
  },
  {
   "cell_type": "markdown",
   "id": "6391a633",
   "metadata": {},
   "source": [
    "### Q_No_13"
   ]
  },
  {
   "cell_type": "code",
   "execution_count": 57,
   "id": "e27762e7",
   "metadata": {},
   "outputs": [
    {
     "name": "stdout",
     "output_type": "stream",
     "text": [
      "[[ 0  1  2  3  4  5  6  7  8  9]\n",
      " [10 11 12 13 14 15 16 17 18 19]\n",
      " [20 21 22 23 24 25 26 27 28 29]\n",
      " [30 31 32 33 34 35 36 37 38 39]\n",
      " [40 41 42 43 44 45 46 47 48 49]\n",
      " [50 51 52 53 54 55 56 57 58 59]\n",
      " [60 61 62 63 64 65 66 67 68 69]\n",
      " [70 71 72 73 74 75 76 77 78 79]\n",
      " [80 81 82 83 84 85 86 87 88 89]\n",
      " [90 91 92 93 94 95 96 97 98 99]]\n",
      "minimum 0\n",
      "Maximum 99\n"
     ]
    }
   ],
   "source": [
    "# Create a 10x10 array with random values and find the minimum and maximum values\n",
    "a = np.arange(100).reshape(10,10)\n",
    "print(a)\n",
    "b = a.min()\n",
    "print(\"minimum\",b)\n",
    "c = a.max()\n",
    "print(\"Maximum\",c)"
   ]
  },
  {
   "cell_type": "code",
   "execution_count": 60,
   "id": "aca5d369",
   "metadata": {},
   "outputs": [
    {
     "name": "stdout",
     "output_type": "stream",
     "text": [
      "[[0.33180248 0.42228718 0.43562487 0.27067297 0.25840703 0.76246139\n",
      "  0.15312199 0.71844301 0.31830824 0.56853651]\n",
      " [0.64474215 0.960276   0.20369547 0.48983321 0.18064266 0.03993211\n",
      "  0.02700445 0.56855709 0.41048527 0.17601755]\n",
      " [0.65832963 0.09041953 0.4735784  0.78161683 0.95493717 0.42572926\n",
      "  0.62116379 0.6397573  0.11013011 0.38738317]\n",
      " [0.06423404 0.29023102 0.90937143 0.45478769 0.23333954 0.07370743\n",
      "  0.61417607 0.69182122 0.44324667 0.41886588]\n",
      " [0.6657702  0.57868189 0.71586958 0.52894984 0.66808429 0.13055683\n",
      "  0.22133503 0.96151168 0.00627081 0.29407177]\n",
      " [0.11121104 0.35853209 0.38930539 0.76797558 0.13375293 0.91822344\n",
      "  0.35825116 0.07423308 0.11544077 0.75394368]\n",
      " [0.53539065 0.10759528 0.82005282 0.61686554 0.06796471 0.23747268\n",
      "  0.05460034 0.24851395 0.43315145 0.22778681]\n",
      " [0.25266145 0.45418469 0.8624882  0.06935503 0.88596974 0.55038074\n",
      "  0.11947197 0.3017704  0.37296971 0.01778106]\n",
      " [0.23666208 0.65127267 0.50273351 0.08298378 0.96764451 0.97102146\n",
      "  0.68773998 0.67139671 0.69172904 0.1972561 ]\n",
      " [0.6189529  0.00295609 0.81016466 0.30141177 0.64955448 0.32022784\n",
      "  0.85347739 0.42527382 0.72265741 0.42278996]]\n",
      "0.0029560899310813182\n",
      "0.9710214621940528\n"
     ]
    }
   ],
   "source": [
    "z = np.random.random((10,10))\n",
    "print(z)\n",
    "print(z.min())\n",
    "print(z.max())"
   ]
  },
  {
   "cell_type": "markdown",
   "id": "e4dfe17a",
   "metadata": {},
   "source": [
    "### Q_NO_14"
   ]
  },
  {
   "cell_type": "code",
   "execution_count": 66,
   "id": "5bf0b919",
   "metadata": {},
   "outputs": [
    {
     "name": "stdout",
     "output_type": "stream",
     "text": [
      "[0.8327924  0.79930656 0.34961616 0.97863404 0.75145184 0.53629101\n",
      " 0.92224766 0.42209478 0.13146999 0.84847977 0.03879689 0.60687531\n",
      " 0.74093362 0.66864281 0.30767847 0.51349414 0.31799768 0.73366236\n",
      " 0.07849019 0.01996098 0.42475045 0.62119829 0.3716035  0.42599674\n",
      " 0.7359789  0.65674015 0.44392602 0.1709232  0.39424164 0.98581797]\n",
      "Mean value is 0.527669783364082\n"
     ]
    }
   ],
   "source": [
    "# Create a random vector of size 30 and find the mean value\n",
    "a = np.random.random((30))\n",
    "print(a)\n",
    "print(\"Mean value is\", a.mean())"
   ]
  },
  {
   "cell_type": "markdown",
   "id": "9fd6eb09",
   "metadata": {},
   "source": [
    "### Q_NO_15"
   ]
  },
  {
   "cell_type": "code",
   "execution_count": 80,
   "id": "8a6fc29d",
   "metadata": {},
   "outputs": [
    {
     "data": {
      "text/plain": [
       "array([[1., 1., 1., 1., 1., 1., 1., 1., 1., 1.],\n",
       "       [1., 0., 0., 0., 0., 0., 0., 0., 0., 1.],\n",
       "       [1., 0., 0., 0., 0., 0., 0., 0., 0., 1.],\n",
       "       [1., 0., 0., 0., 0., 0., 0., 0., 0., 1.],\n",
       "       [1., 0., 0., 0., 0., 0., 0., 0., 0., 1.],\n",
       "       [1., 0., 0., 0., 0., 0., 0., 0., 0., 1.],\n",
       "       [1., 0., 0., 0., 0., 0., 0., 0., 0., 1.],\n",
       "       [1., 0., 0., 0., 0., 0., 0., 0., 0., 1.],\n",
       "       [1., 0., 0., 0., 0., 0., 0., 0., 0., 1.],\n",
       "       [1., 1., 1., 1., 1., 1., 1., 1., 1., 1.]])"
      ]
     },
     "execution_count": 80,
     "metadata": {},
     "output_type": "execute_result"
    }
   ],
   "source": [
    "# Create a 2d array with 1 on the border and 0 inside \n",
    "a = np.ones((10,10))\n",
    "a[1:-1,1:-1] = 0\n",
    "a"
   ]
  },
  {
   "cell_type": "markdown",
   "id": "a7cba9f5",
   "metadata": {},
   "source": [
    "### Q_No_16"
   ]
  },
  {
   "cell_type": "code",
   "execution_count": 86,
   "id": "dc402622",
   "metadata": {},
   "outputs": [
    {
     "name": "stdout",
     "output_type": "stream",
     "text": [
      "[[0. 0. 0. 0. 0. 0. 0.]\n",
      " [0. 1. 1. 1. 1. 1. 0.]\n",
      " [0. 1. 1. 1. 1. 1. 0.]\n",
      " [0. 1. 1. 1. 1. 1. 0.]\n",
      " [0. 1. 1. 1. 1. 1. 0.]\n",
      " [0. 1. 1. 1. 1. 1. 0.]\n",
      " [0. 0. 0. 0. 0. 0. 0.]]\n"
     ]
    }
   ],
   "source": [
    "#  How to add a border (filled with 0's) around an existing array? \n",
    "Z = np.ones((5,5))\n",
    "Z = np.pad(Z, pad_width=1, mode='constant', constant_values=0)\n",
    "print(Z)\n"
   ]
  },
  {
   "cell_type": "markdown",
   "id": "c86ddd01",
   "metadata": {},
   "source": [
    "### Q_NO_17"
   ]
  },
  {
   "cell_type": "code",
   "execution_count": 89,
   "id": "7e6f51e3",
   "metadata": {},
   "outputs": [
    {
     "name": "stdout",
     "output_type": "stream",
     "text": [
      "nan\n",
      "False\n",
      "False\n",
      "nan\n",
      "True\n",
      "False\n"
     ]
    }
   ],
   "source": [
    "#  What is the result of the following expression? \n",
    "# python\n",
    "print(0 * np.nan)\n",
    "print(np.nan == np.nan)\n",
    "print(np.inf > np.nan)\n",
    "print(np.nan - np.nan)\n",
    "print(np.nan in set([np.nan]))\n",
    "print(0.3 == 3 * 0.1)"
   ]
  },
  {
   "cell_type": "markdown",
   "id": "b60c9cad",
   "metadata": {},
   "source": [
    "### Q_NO_18"
   ]
  },
  {
   "cell_type": "code",
   "execution_count": 92,
   "id": "287b5830",
   "metadata": {},
   "outputs": [
    {
     "data": {
      "text/plain": [
       "array([[0, 0, 0, 0, 0],\n",
       "       [1, 0, 0, 0, 0],\n",
       "       [0, 2, 0, 0, 0],\n",
       "       [0, 0, 3, 0, 0],\n",
       "       [0, 0, 0, 4, 0]])"
      ]
     },
     "execution_count": 92,
     "metadata": {},
     "output_type": "execute_result"
    }
   ],
   "source": [
    "# Create a 5x5 matrix with values 1,2,3,4 just below the diagonal \n",
    "a = np.diag(1+np.arange(4),k = -1)\n",
    "a"
   ]
  },
  {
   "cell_type": "code",
   "execution_count": null,
   "id": "9b5d1dbc",
   "metadata": {},
   "outputs": [],
   "source": []
  },
  {
   "cell_type": "markdown",
   "id": "030ff545",
   "metadata": {},
   "source": [
    "### Q_NO_19"
   ]
  },
  {
   "cell_type": "code",
   "execution_count": 96,
   "id": "432600b2",
   "metadata": {},
   "outputs": [
    {
     "data": {
      "text/plain": [
       "array([[0, 1, 0, 1, 0, 1, 0, 1],\n",
       "       [1, 0, 1, 0, 1, 0, 1, 0],\n",
       "       [0, 1, 0, 1, 0, 1, 0, 1],\n",
       "       [1, 0, 1, 0, 1, 0, 1, 0],\n",
       "       [0, 1, 0, 1, 0, 1, 0, 1],\n",
       "       [1, 0, 1, 0, 1, 0, 1, 0],\n",
       "       [0, 1, 0, 1, 0, 1, 0, 1],\n",
       "       [1, 0, 1, 0, 1, 0, 1, 0]])"
      ]
     },
     "execution_count": 96,
     "metadata": {},
     "output_type": "execute_result"
    }
   ],
   "source": [
    "#  Create a 8x8 matrix and fill it with a checkerboard pattern\n",
    "z = np.zeros((8,8), dtype= int)\n",
    "z[1::2,::2]= 1\n",
    "z[::2,1::2] = 1\n",
    "z"
   ]
  },
  {
   "cell_type": "markdown",
   "id": "0af6d455",
   "metadata": {},
   "source": [
    "### Q_NO_20"
   ]
  },
  {
   "cell_type": "code",
   "execution_count": 97,
   "id": "0fce7a04",
   "metadata": {},
   "outputs": [
    {
     "data": {
      "text/plain": [
       "(1, 5, 3)"
      ]
     },
     "execution_count": 97,
     "metadata": {},
     "output_type": "execute_result"
    }
   ],
   "source": [
    "# Consider a (6,7,8) shape array, what is the index (x,y,z) of the 100th element?\n",
    "a = (np.unravel_index(99,(6,7,8)))\n",
    "a"
   ]
  },
  {
   "cell_type": "markdown",
   "id": "bcde74db",
   "metadata": {},
   "source": [
    "### Q_NO_21"
   ]
  },
  {
   "cell_type": "code",
   "execution_count": 106,
   "id": "cf276c11",
   "metadata": {},
   "outputs": [
    {
     "data": {
      "text/plain": [
       "array([[1, 0, 1, 0, 1, 0, 1, 0],\n",
       "       [0, 1, 0, 1, 0, 1, 0, 1],\n",
       "       [1, 0, 1, 0, 1, 0, 1, 0],\n",
       "       [0, 1, 0, 1, 0, 1, 0, 1],\n",
       "       [1, 0, 1, 0, 1, 0, 1, 0],\n",
       "       [0, 1, 0, 1, 0, 1, 0, 1],\n",
       "       [1, 0, 1, 0, 1, 0, 1, 0],\n",
       "       [0, 1, 0, 1, 0, 1, 0, 1]])"
      ]
     },
     "execution_count": 106,
     "metadata": {},
     "output_type": "execute_result"
    }
   ],
   "source": [
    "# Create a checkerboard 8x8 matrix using the tile function\n",
    "a = np.tile(([1,0],[0,1]),(4,4))\n",
    "a"
   ]
  },
  {
   "cell_type": "markdown",
   "id": "f3a93e7e",
   "metadata": {},
   "source": [
    "### Q_NO_22"
   ]
  },
  {
   "cell_type": "code",
   "execution_count": 109,
   "id": "12a8c88b",
   "metadata": {},
   "outputs": [
    {
     "data": {
      "text/plain": [
       "array([[ 0.65128514, -0.81425149,  1.57792417, -0.88199431, -1.24935735],\n",
       "       [ 1.38966953,  1.06912169,  1.01979723, -0.96423469,  1.21434272],\n",
       "       [ 1.61813219, -1.11540689,  0.24034629, -0.52083175,  1.03511832],\n",
       "       [-1.53182957,  1.25249094, -0.24997969, -0.88809115, -0.31195387],\n",
       "       [-0.838696  , -0.54708079,  0.38486433, -0.54254796, -0.99683705]])"
      ]
     },
     "execution_count": 109,
     "metadata": {},
     "output_type": "execute_result"
    }
   ],
   "source": [
    "# Normalize a 5x5 random matrix\n",
    "a = np.random.random((5,5))\n",
    "b = (a - np.mean(a))/np.std(a)\n",
    "b"
   ]
  },
  {
   "cell_type": "markdown",
   "id": "ae511588",
   "metadata": {},
   "source": [
    "### Q_NO_23"
   ]
  },
  {
   "cell_type": "code",
   "execution_count": 112,
   "id": "7dc6935c",
   "metadata": {},
   "outputs": [
    {
     "data": {
      "text/plain": [
       "dtype([('r', 'u1'), ('g', 'u1'), ('b', 'u1'), ('a', 'u1')])"
      ]
     },
     "execution_count": 112,
     "metadata": {},
     "output_type": "execute_result"
    }
   ],
   "source": [
    "# Create a custom dtype that describes a color as four unsigned bytes (RGBA) \n",
    "a = np.dtype([('r',np.ubyte),\n",
    "               ('g',np.ubyte),\n",
    "               ('b',np.ubyte),\n",
    "               ('a',np.ubyte)])\n",
    "a\n",
    "              "
   ]
  },
  {
   "cell_type": "markdown",
   "id": "8a5fcaad",
   "metadata": {},
   "source": [
    "### Q_NO_24"
   ]
  },
  {
   "cell_type": "code",
   "execution_count": 123,
   "id": "c154ee6b",
   "metadata": {},
   "outputs": [
    {
     "name": "stdout",
     "output_type": "stream",
     "text": [
      "[[1. 1. 1.]\n",
      " [1. 1. 1.]\n",
      " [1. 1. 1.]\n",
      " [1. 1. 1.]\n",
      " [1. 1. 1.]]\n",
      "[[1. 1.]\n",
      " [1. 1.]\n",
      " [1. 1.]]\n"
     ]
    },
    {
     "data": {
      "text/plain": [
       "array([[3., 3.],\n",
       "       [3., 3.],\n",
       "       [3., 3.],\n",
       "       [3., 3.],\n",
       "       [3., 3.]])"
      ]
     },
     "execution_count": 123,
     "metadata": {},
     "output_type": "execute_result"
    }
   ],
   "source": [
    "# Multiply a 5x3 matrix by a 3x2 matrix (real matrix product)\n",
    "a = np.ones((5,3))\n",
    "print(a)\n",
    "b = np.ones((3,2))\n",
    "print(b)\n",
    "c = np.dot(a,b)\n",
    "c"
   ]
  },
  {
   "cell_type": "markdown",
   "id": "4974abe7",
   "metadata": {},
   "source": [
    "### Q_NO_25"
   ]
  },
  {
   "cell_type": "code",
   "execution_count": 130,
   "id": "1da943fc",
   "metadata": {},
   "outputs": [
    {
     "data": {
      "text/plain": [
       "array([ 0,  1,  2,  3, -4, -5, -6, -7,  8,  9, 10])"
      ]
     },
     "execution_count": 130,
     "metadata": {},
     "output_type": "execute_result"
    }
   ],
   "source": [
    "# Given a 1D array, negate all elements which are between 3 and 8, in place. \n",
    "a = np.arange(11)\n",
    "a[(3<a) & (a <8)] *= -1\n",
    "a\n",
    "    "
   ]
  },
  {
   "cell_type": "markdown",
   "id": "20d78fc6",
   "metadata": {},
   "source": [
    "### Q_NO_26"
   ]
  },
  {
   "cell_type": "code",
   "execution_count": 131,
   "id": "97fdc693",
   "metadata": {},
   "outputs": [
    {
     "name": "stdout",
     "output_type": "stream",
     "text": [
      "9\n",
      "10\n"
     ]
    }
   ],
   "source": [
    "# What is the output of the following script? \n",
    "# python\n",
    "# Author: Jake VanderPlas\n",
    "\n",
    "print(sum(range(5),-1))\n",
    "from numpy import *\n",
    "print(sum(range(5),-1))\n"
   ]
  },
  {
   "cell_type": "markdown",
   "id": "842652d7",
   "metadata": {},
   "source": [
    "### Q_NO_27"
   ]
  },
  {
   "cell_type": "code",
   "execution_count": 142,
   "id": "099f889b",
   "metadata": {},
   "outputs": [
    {
     "name": "stdout",
     "output_type": "stream",
     "text": [
      "[  1   1   4  27 256]\n",
      "[0 1 2 4 8]\n",
      "[False False False False False]\n",
      "[0.+0.j 0.+1.j 0.+2.j 0.+3.j 0.+4.j]\n",
      "[0. 1. 2. 3. 4.]\n"
     ]
    },
    {
     "ename": "ValueError",
     "evalue": "The truth value of an array with more than one element is ambiguous. Use a.any() or a.all()",
     "output_type": "error",
     "traceback": [
      "\u001b[0;31m---------------------------------------------------------------------------\u001b[0m",
      "\u001b[0;31mValueError\u001b[0m                                Traceback (most recent call last)",
      "Cell \u001b[0;32mIn[142], line 13\u001b[0m\n\u001b[1;32m      9\u001b[0m \u001b[38;5;28mprint\u001b[39m(\u001b[38;5;241m1\u001b[39mj\u001b[38;5;241m*\u001b[39mZ)\n\u001b[1;32m     11\u001b[0m \u001b[38;5;28mprint\u001b[39m(Z\u001b[38;5;241m/\u001b[39m\u001b[38;5;241m1\u001b[39m\u001b[38;5;241m/\u001b[39m\u001b[38;5;241m1\u001b[39m)\n\u001b[0;32m---> 13\u001b[0m \u001b[38;5;28mprint\u001b[39m(Z\u001b[38;5;241m<\u001b[39mZ\u001b[38;5;241m>\u001b[39mZ)\n",
      "\u001b[0;31mValueError\u001b[0m: The truth value of an array with more than one element is ambiguous. Use a.any() or a.all()"
     ]
    }
   ],
   "source": [
    "# Consider an integer vector Z, which of these expressions are legal? (★☆☆)\n",
    "Z = np.arange(5)\n",
    "print(Z**Z)\n",
    "\n",
    "print(2 << Z >> 2)\n",
    "\n",
    "print(Z <- Z)\n",
    "\n",
    "print(1j*Z)\n",
    "\n",
    "print(Z/1/1)\n",
    "\n",
    "print(Z<Z>Z)"
   ]
  },
  {
   "cell_type": "markdown",
   "id": "a6122bcf",
   "metadata": {},
   "source": [
    "### Q_NO_28"
   ]
  },
  {
   "cell_type": "code",
   "execution_count": 144,
   "id": "08d0248e",
   "metadata": {},
   "outputs": [
    {
     "name": "stdout",
     "output_type": "stream",
     "text": [
      "nan\n",
      "0\n",
      "[-9.22337204e+18]\n"
     ]
    },
    {
     "name": "stderr",
     "output_type": "stream",
     "text": [
      "/tmp/ipykernel_106/3273011606.py:3: RuntimeWarning: invalid value encountered in divide\n",
      "  a = np.array(0) / np.array(0)\n",
      "/tmp/ipykernel_106/3273011606.py:5: RuntimeWarning: divide by zero encountered in floor_divide\n",
      "  b = np.array(0) // np.array(0)\n",
      "/tmp/ipykernel_106/3273011606.py:7: RuntimeWarning: invalid value encountered in cast\n",
      "  c = np.array([np.nan]).astype(int).astype(float)\n"
     ]
    }
   ],
   "source": [
    "# What are the result of the following expressions? (★☆☆)\n",
    "\n",
    "a = np.array(0) / np.array(0)\n",
    "print(a)\n",
    "b = np.array(0) // np.array(0)\n",
    "print(b)\n",
    "c = np.array([np.nan]).astype(int).astype(float)\n",
    "print(c)"
   ]
  },
  {
   "cell_type": "markdown",
   "id": "6ec88e1c",
   "metadata": {},
   "source": [
    "### Q_NO_29"
   ]
  },
  {
   "cell_type": "code",
   "execution_count": 162,
   "id": "57ec634f",
   "metadata": {},
   "outputs": [
    {
     "data": {
      "text/plain": [
       "array([2, 5])"
      ]
     },
     "execution_count": 162,
     "metadata": {},
     "output_type": "execute_result"
    }
   ],
   "source": [
    "# How to round away from zero a float array ? \n",
    "a = np.array((2.10,5.40), dtype = int)\n",
    "a\n"
   ]
  },
  {
   "cell_type": "code",
   "execution_count": 163,
   "id": "d97a2f08",
   "metadata": {},
   "outputs": [
    {
     "name": "stdout",
     "output_type": "stream",
     "text": [
      "[ 7. -4.  7.  8.  2. -8. 10. -7. -5. -5.]\n"
     ]
    }
   ],
   "source": [
    "Z = np.random.uniform(-10,+10,10)\n",
    "print(np.copysign(np.ceil(np.abs(Z)), Z))"
   ]
  },
  {
   "cell_type": "code",
   "execution_count": null,
   "id": "5972489b",
   "metadata": {},
   "outputs": [],
   "source": []
  },
  {
   "cell_type": "markdown",
   "id": "2be00560",
   "metadata": {},
   "source": [
    "### Q_NO_30"
   ]
  },
  {
   "cell_type": "code",
   "execution_count": 169,
   "id": "cb7de713",
   "metadata": {},
   "outputs": [
    {
     "name": "stdout",
     "output_type": "stream",
     "text": [
      "[1 2 3 4 5 6 7 8]\n",
      "[ 5  6  7  8  9 10 11 12]\n"
     ]
    },
    {
     "data": {
      "text/plain": [
       "array([5, 6, 7, 8])"
      ]
     },
     "execution_count": 169,
     "metadata": {},
     "output_type": "execute_result"
    }
   ],
   "source": [
    "# How to find common values between two arrays?\n",
    "a = np.array([1,2,3,4,5,6,7,8])\n",
    "print(a)\n",
    "b = np.array([5,6,7,8,9,10,11,12])\n",
    "print(b)\n",
    "c = np.intersect1d(a,b)\n",
    "c"
   ]
  },
  {
   "cell_type": "markdown",
   "id": "cf616c99",
   "metadata": {},
   "source": [
    "### Q_NO_31"
   ]
  },
  {
   "cell_type": "code",
   "execution_count": 180,
   "id": "c1a42fc8",
   "metadata": {},
   "outputs": [
    {
     "name": "stdout",
     "output_type": "stream",
     "text": [
      "[inf]\n"
     ]
    }
   ],
   "source": [
    "# How to ignore all numpy warnings (not recommended)? \n",
    "# Suicide mode on\n",
    "defaults = np.seterr(all=\"ignore\")\n",
    "Z = np.ones(1) / 0\n",
    "print(Z)\n",
    "# Back to sanity\n",
    "_ = np.seterr(**defaults)\n",
    "\n",
    "# Equivalently with a context manager\n",
    "with np.errstate(all=\"ignore\"):\n",
    "     np.arange(3) / 0"
   ]
  },
  {
   "cell_type": "markdown",
   "id": "7da652b1",
   "metadata": {},
   "source": [
    "### Q_NO_32"
   ]
  },
  {
   "cell_type": "code",
   "execution_count": 181,
   "id": "55c6a32b",
   "metadata": {},
   "outputs": [
    {
     "name": "stderr",
     "output_type": "stream",
     "text": [
      "/tmp/ipykernel_106/1519088985.py:3: RuntimeWarning: invalid value encountered in sqrt\n",
      "  np.sqrt(-1) == np.emath.sqrt(-1)\n"
     ]
    },
    {
     "data": {
      "text/plain": [
       "False"
      ]
     },
     "execution_count": 181,
     "metadata": {},
     "output_type": "execute_result"
    }
   ],
   "source": [
    "# Is the following expressions true? (★☆☆)\n",
    "\n",
    "np.sqrt(-1) == np.emath.sqrt(-1)\n"
   ]
  },
  {
   "cell_type": "markdown",
   "id": "333f34cc",
   "metadata": {},
   "source": [
    "### Q_NO_33"
   ]
  },
  {
   "cell_type": "code",
   "execution_count": 193,
   "id": "79123211",
   "metadata": {},
   "outputs": [
    {
     "name": "stdout",
     "output_type": "stream",
     "text": [
      "2023-02-20\n",
      "2023-02-19\n",
      "2023-02-21\n"
     ]
    }
   ],
   "source": [
    "#  How to get the dates of yesterday, today and tomorrow?\n",
    "a = np.datetime64('today')\n",
    "b = np.datetime64('today') - np.timedelta64(1)\n",
    "c = np.datetime64('today') + np.timedelta64(1)\n",
    "print(a)\n",
    "print(b)\n",
    "print(c)"
   ]
  },
  {
   "cell_type": "markdown",
   "id": "4c22b561",
   "metadata": {},
   "source": [
    "### Q_NO_34"
   ]
  },
  {
   "cell_type": "code",
   "execution_count": 201,
   "id": "eb54ba87",
   "metadata": {},
   "outputs": [
    {
     "data": {
      "text/plain": [
       "array(['2016-07-01', '2016-07-02', '2016-07-03', '2016-07-04',\n",
       "       '2016-07-05', '2016-07-06', '2016-07-07', '2016-07-08',\n",
       "       '2016-07-09', '2016-07-10', '2016-07-11', '2016-07-12',\n",
       "       '2016-07-13', '2016-07-14', '2016-07-15', '2016-07-16',\n",
       "       '2016-07-17', '2016-07-18', '2016-07-19', '2016-07-20',\n",
       "       '2016-07-21', '2016-07-22', '2016-07-23', '2016-07-24',\n",
       "       '2016-07-25', '2016-07-26', '2016-07-27', '2016-07-28',\n",
       "       '2016-07-29', '2016-07-30', '2016-07-31'], dtype='datetime64[D]')"
      ]
     },
     "execution_count": 201,
     "metadata": {},
     "output_type": "execute_result"
    }
   ],
   "source": [
    "#  How to get all the dates corresponding to the month of July 2016?\n",
    "a = np.arange('2016-07', '2016-08', dtype = 'datetime64[D]')\n",
    "a"
   ]
  },
  {
   "cell_type": "markdown",
   "id": "5e7e1198",
   "metadata": {},
   "source": [
    "### Q_NO_35"
   ]
  },
  {
   "cell_type": "code",
   "execution_count": 209,
   "id": "e865ca52",
   "metadata": {},
   "outputs": [
    {
     "name": "stdout",
     "output_type": "stream",
     "text": [
      "[1. 1. 1.]\n",
      "[2. 2. 2.]\n"
     ]
    },
    {
     "data": {
      "text/plain": [
       "array([-1.5, -1.5, -1.5])"
      ]
     },
     "execution_count": 209,
     "metadata": {},
     "output_type": "execute_result"
    }
   ],
   "source": [
    "# How to compute ((A+B)*(-A/2)) in place (without copy)?\n",
    "a = np.ones(3)*1\n",
    "b = np.ones(3)*2\n",
    "print(a)\n",
    "print(b)\n",
    "np.add(a,b,out = b)\n",
    "np.divide(a,2, out = a)\n",
    "np.negative(a,out = a)\n",
    "np.multiply(a,b, out = a)\n"
   ]
  },
  {
   "cell_type": "markdown",
   "id": "1813fc1c",
   "metadata": {},
   "source": [
    "### Q_NO_36"
   ]
  },
  {
   "cell_type": "code",
   "execution_count": 237,
   "id": "7b8dd6be",
   "metadata": {},
   "outputs": [
    {
     "name": "stdout",
     "output_type": "stream",
     "text": [
      "[7. 0. 4. 7. 6. 1. 7. 6. 5. 2.]\n",
      "[7. 0. 4. 7. 6. 1. 7. 6. 5. 2.]\n",
      "[7. 0. 4. 7. 6. 1. 7. 6. 5. 2.]\n",
      "[7 0 4 7 6 1 7 6 5 2]\n",
      "[7. 0. 4. 7. 6. 1. 7. 6. 5. 2.]\n"
     ]
    }
   ],
   "source": [
    "#  Extract the integer part of a random array of positive numbers using 4 different methods \n",
    "# a = np.array([1,3,4,5])\n",
    "# b = np.array([3,4,5,6])\n",
    "Z = np.random.uniform(0,10,10)\n",
    "\n",
    "print(Z - Z%1)\n",
    "print(Z // 1)\n",
    "print(np.floor(Z))\n",
    "print(Z.astype(int))\n",
    "print(np.trunc(Z))"
   ]
  },
  {
   "cell_type": "markdown",
   "id": "abfac26a",
   "metadata": {},
   "source": [
    "### Q_NO_37"
   ]
  },
  {
   "cell_type": "code",
   "execution_count": 247,
   "id": "555a0959",
   "metadata": {},
   "outputs": [
    {
     "data": {
      "text/plain": [
       "array([[0., 1., 2., 3., 4.],\n",
       "       [0., 1., 2., 3., 4.],\n",
       "       [0., 1., 2., 3., 4.],\n",
       "       [0., 1., 2., 3., 4.],\n",
       "       [0., 1., 2., 3., 4.]])"
      ]
     },
     "execution_count": 247,
     "metadata": {},
     "output_type": "execute_result"
    }
   ],
   "source": [
    "# Create a 5x5 matrix with row values ranging from 0 to 4\n",
    "a = np.zeros((5,5))\n",
    "a += np.arange(5)\n",
    "a"
   ]
  },
  {
   "cell_type": "markdown",
   "id": "e828eaea",
   "metadata": {},
   "source": [
    "### Q_NO_38"
   ]
  },
  {
   "cell_type": "code",
   "execution_count": 267,
   "id": "883476a9",
   "metadata": {},
   "outputs": [
    {
     "name": "stdout",
     "output_type": "stream",
     "text": [
      "[0. 1. 2. 3. 4. 5. 6. 7. 8. 9.]\n"
     ]
    }
   ],
   "source": [
    "# Consider a generator function that generates 10 integers and use it to build an array \n",
    "def genrator():\n",
    "    for x in range(10):\n",
    "        yield x\n",
    "a  = np.fromiter(genrator(), dtype = float, count = -1)\n",
    "print(a)"
   ]
  },
  {
   "cell_type": "markdown",
   "id": "9668427e",
   "metadata": {},
   "source": [
    "### Q_NO_39"
   ]
  },
  {
   "cell_type": "code",
   "execution_count": 270,
   "id": "7c457aec",
   "metadata": {},
   "outputs": [
    {
     "data": {
      "text/plain": [
       "array([1.        , 0.97959184, 0.95918367, 0.93877551, 0.91836735,\n",
       "       0.89795918, 0.87755102, 0.85714286, 0.83673469, 0.81632653,\n",
       "       0.79591837, 0.7755102 , 0.75510204, 0.73469388, 0.71428571,\n",
       "       0.69387755, 0.67346939, 0.65306122, 0.63265306, 0.6122449 ,\n",
       "       0.59183673, 0.57142857, 0.55102041, 0.53061224, 0.51020408,\n",
       "       0.48979592, 0.46938776, 0.44897959, 0.42857143, 0.40816327,\n",
       "       0.3877551 , 0.36734694, 0.34693878, 0.32653061, 0.30612245,\n",
       "       0.28571429, 0.26530612, 0.24489796, 0.2244898 , 0.20408163,\n",
       "       0.18367347, 0.16326531, 0.14285714, 0.12244898, 0.10204082,\n",
       "       0.08163265, 0.06122449, 0.04081633, 0.02040816, 0.        ])"
      ]
     },
     "execution_count": 270,
     "metadata": {},
     "output_type": "execute_result"
    }
   ],
   "source": [
    "# Create a vector of size 10 with values ranging from 0 to 1, both excluded\n",
    "a = np.linspace(1,0)\n",
    "a"
   ]
  },
  {
   "cell_type": "code",
   "execution_count": 271,
   "id": "483e5638",
   "metadata": {},
   "outputs": [
    {
     "name": "stdout",
     "output_type": "stream",
     "text": [
      "[0.09090909 0.18181818 0.27272727 0.36363636 0.45454545 0.54545455\n",
      " 0.63636364 0.72727273 0.81818182 0.90909091]\n"
     ]
    }
   ],
   "source": [
    "Z = np.linspace(0,1,11,endpoint=False)[1:]\n",
    "print(Z)"
   ]
  },
  {
   "cell_type": "markdown",
   "id": "9bdc8e17",
   "metadata": {},
   "source": [
    "### Q_NO_40"
   ]
  },
  {
   "cell_type": "code",
   "execution_count": 275,
   "id": "76c67404",
   "metadata": {},
   "outputs": [
    {
     "data": {
      "text/plain": [
       "array([0.16567373, 0.20975208, 0.31235991, 0.37755515, 0.49841576,\n",
       "       0.56227327, 0.72781606, 0.77326095, 0.80809176, 0.82242963])"
      ]
     },
     "execution_count": 275,
     "metadata": {},
     "output_type": "execute_result"
    }
   ],
   "source": [
    "# Create a random vector of size 10 and sort it \n",
    "a = np.random.random(10)\n",
    "a.sort()\n",
    "a"
   ]
  },
  {
   "cell_type": "markdown",
   "id": "15aa4d16",
   "metadata": {},
   "source": [
    "### Q_NO_41"
   ]
  },
  {
   "cell_type": "code",
   "execution_count": 281,
   "id": "e8fa1a41",
   "metadata": {},
   "outputs": [
    {
     "data": {
      "text/plain": [
       "45"
      ]
     },
     "execution_count": 281,
     "metadata": {},
     "output_type": "execute_result"
    }
   ],
   "source": [
    "# How to sum a small array faster than np.sum?\n",
    "a  =  np.arange(10)\n",
    "b = np.add.reduce(a)\n",
    "b"
   ]
  },
  {
   "cell_type": "markdown",
   "id": "f8dd8acd",
   "metadata": {},
   "source": [
    "### Q_NO_42"
   ]
  },
  {
   "cell_type": "code",
   "execution_count": 289,
   "id": "af9a9e4e",
   "metadata": {},
   "outputs": [
    {
     "name": "stdout",
     "output_type": "stream",
     "text": [
      "[0.8203559  0.82881113 0.35400526 0.07703186 0.44007464]\n",
      "[0.03178413 0.52330537 0.39422178 0.831278   0.12929327]\n"
     ]
    },
    {
     "data": {
      "text/plain": [
       "False"
      ]
     },
     "execution_count": 289,
     "metadata": {},
     "output_type": "execute_result"
    }
   ],
   "source": [
    "# Consider two random array A and B, check if they are equal\n",
    "a  = np.random.random(5)\n",
    "print(a)\n",
    "b = np.random.random(5)\n",
    "print(b)\n",
    "c = np.array_equal(a,b)\n",
    "c"
   ]
  },
  {
   "cell_type": "code",
   "execution_count": 295,
   "id": "af02a86d",
   "metadata": {},
   "outputs": [
    {
     "name": "stdout",
     "output_type": "stream",
     "text": [
      "False\n",
      "False\n"
     ]
    }
   ],
   "source": [
    "A = np.random.randint(0,2,5)\n",
    "B = np.random.randint(0,2,5)\n",
    "\n",
    "# Assuming identical shape of the arrays and a tolerance for the comparison of values\n",
    "equal = np.allclose(A,B)\n",
    "print(equal)\n",
    "\n",
    "# Checking both the shape and the element values, no tolerance (values have to be exactly equal)\n",
    "equal = np.array_equal(A,B)\n",
    "print(equal)"
   ]
  },
  {
   "cell_type": "markdown",
   "id": "c883aa86",
   "metadata": {},
   "source": [
    "### Q_NO_43"
   ]
  },
  {
   "cell_type": "code",
   "execution_count": 298,
   "id": "eaf332d6",
   "metadata": {},
   "outputs": [
    {
     "ename": "ValueError",
     "evalue": "assignment destination is read-only",
     "output_type": "error",
     "traceback": [
      "\u001b[0;31m---------------------------------------------------------------------------\u001b[0m",
      "\u001b[0;31mValueError\u001b[0m                                Traceback (most recent call last)",
      "Cell \u001b[0;32mIn[298], line 4\u001b[0m\n\u001b[1;32m      2\u001b[0m a \u001b[38;5;241m=\u001b[39m np\u001b[38;5;241m.\u001b[39marray([\u001b[38;5;241m1\u001b[39m,\u001b[38;5;241m2\u001b[39m,\u001b[38;5;241m3\u001b[39m,\u001b[38;5;241m4\u001b[39m])\n\u001b[1;32m      3\u001b[0m a\u001b[38;5;241m.\u001b[39mflags\u001b[38;5;241m.\u001b[39mwriteable \u001b[38;5;241m=\u001b[39m \u001b[38;5;28;01mFalse\u001b[39;00m\n\u001b[0;32m----> 4\u001b[0m \u001b[43ma\u001b[49m\u001b[43m[\u001b[49m\u001b[38;5;241;43m2\u001b[39;49m\u001b[43m]\u001b[49m \u001b[38;5;241m=\u001b[39m \u001b[38;5;241m1\u001b[39m\n\u001b[1;32m      5\u001b[0m a\n",
      "\u001b[0;31mValueError\u001b[0m: assignment destination is read-only"
     ]
    }
   ],
   "source": [
    "# Make an array immutable (read-only)\n",
    "a = np.array([1,2,3,4])\n",
    "a.flags.writeable = False\n",
    "a[2] = 1\n",
    "a"
   ]
  },
  {
   "cell_type": "markdown",
   "id": "08c20eea",
   "metadata": {},
   "source": [
    "### Q_NO_44"
   ]
  },
  {
   "cell_type": "code",
   "execution_count": 301,
   "id": "952a0c2c",
   "metadata": {},
   "outputs": [
    {
     "name": "stdout",
     "output_type": "stream",
     "text": [
      "[0.91657209 0.82424669 0.06720054 0.59058985 0.67166685 0.88025273\n",
      " 0.86584608 0.67098926 0.55262264 0.86055603]\n",
      "[0.95691249 0.07994092 1.31591573 0.63963099 0.12320158 0.24784511\n",
      " 0.29506342 1.02974478 0.75278167 0.32529177]\n"
     ]
    }
   ],
   "source": [
    "# Consider a random 10x2 matrix representing cartesian coordinates, convert them to polar coordinates \n",
    "Z = np.random.random((10,2))\n",
    "X,Y = Z[:,0], Z[:,1]\n",
    "R = np.sqrt(X**2+Y**2)\n",
    "T = np.arctan2(Y,X)\n",
    "print(R)\n",
    "print(T)"
   ]
  },
  {
   "cell_type": "markdown",
   "id": "285d4f7c",
   "metadata": {},
   "source": [
    "### Q_NO_45"
   ]
  },
  {
   "cell_type": "code",
   "execution_count": 316,
   "id": "b4cfe33a",
   "metadata": {},
   "outputs": [
    {
     "name": "stdout",
     "output_type": "stream",
     "text": [
      "[0.19109218 0.38797224 0.48612833 0.         0.2117278  0.27242034\n",
      " 0.22742121 0.26370845 0.32704408 0.14142065]\n"
     ]
    }
   ],
   "source": [
    "# Create random vector of size 10 and replace the maximum value by 0\n",
    "# a = np.random.random(10)\n",
    "# a[a.argmax() ] ==  0 \n",
    "# a\n",
    "\n",
    "Z = np.random.random(10)\n",
    "Z[Z.argmax()] = 0\n",
    "print(Z)"
   ]
  },
  {
   "cell_type": "markdown",
   "id": "5494c7f3",
   "metadata": {},
   "source": [
    "### Q_NO_46"
   ]
  },
  {
   "cell_type": "code",
   "execution_count": 317,
   "id": "f4055d1a",
   "metadata": {},
   "outputs": [
    {
     "name": "stdout",
     "output_type": "stream",
     "text": [
      "[[(0.  , 0.  ) (0.25, 0.  ) (0.5 , 0.  ) (0.75, 0.  ) (1.  , 0.  )]\n",
      " [(0.  , 0.25) (0.25, 0.25) (0.5 , 0.25) (0.75, 0.25) (1.  , 0.25)]\n",
      " [(0.  , 0.5 ) (0.25, 0.5 ) (0.5 , 0.5 ) (0.75, 0.5 ) (1.  , 0.5 )]\n",
      " [(0.  , 0.75) (0.25, 0.75) (0.5 , 0.75) (0.75, 0.75) (1.  , 0.75)]\n",
      " [(0.  , 1.  ) (0.25, 1.  ) (0.5 , 1.  ) (0.75, 1.  ) (1.  , 1.  )]]\n"
     ]
    }
   ],
   "source": [
    "# Create a structured array with `x` and `y` coordinates covering the [0,1]x[0,1] area\n",
    "Z = np.zeros((5,5), [('x',float),('y',float)])\n",
    "Z['x'], Z['y'] = np.meshgrid(np.linspace(0,1,5),\n",
    "                             np.linspace(0,1,5))\n",
    "print(Z)"
   ]
  },
  {
   "cell_type": "markdown",
   "id": "1c8ae28b",
   "metadata": {},
   "source": [
    "### Q_NO_47"
   ]
  },
  {
   "cell_type": "code",
   "execution_count": 318,
   "id": "14e7cb6e",
   "metadata": {},
   "outputs": [
    {
     "name": "stdout",
     "output_type": "stream",
     "text": [
      "3638.1636371179666\n"
     ]
    }
   ],
   "source": [
    "# Given two arrays, X and Y, construct the Cauchy matrix C (Cij =1/(xi - yj)) \n",
    "X = np.arange(8)\n",
    "Y = X + 0.5\n",
    "C = 1.0 / np.subtract.outer(X, Y)\n",
    "print(np.linalg.det(C))"
   ]
  },
  {
   "cell_type": "markdown",
   "id": "5c9bd1de",
   "metadata": {},
   "source": [
    "### Q_NO_48"
   ]
  },
  {
   "cell_type": "code",
   "execution_count": 319,
   "id": "32a96d51",
   "metadata": {},
   "outputs": [
    {
     "name": "stdout",
     "output_type": "stream",
     "text": [
      "-128\n",
      "127\n",
      "-2147483648\n",
      "2147483647\n",
      "-9223372036854775808\n",
      "9223372036854775807\n",
      "-3.4028235e+38\n",
      "3.4028235e+38\n",
      "1.1920929e-07\n",
      "-1.7976931348623157e+308\n",
      "1.7976931348623157e+308\n",
      "2.220446049250313e-16\n"
     ]
    }
   ],
   "source": [
    "# Print the minimum and maximum representable value for each numpy scalar type\n",
    "for dtype in [np.int8, np.int32, np.int64]:\n",
    "    print(np.iinfo(dtype).min)\n",
    "    print(np.iinfo(dtype).max)\n",
    "for dtype in [np.float32, np.float64]:\n",
    "    print(np.finfo(dtype).min)\n",
    "    print(np.finfo(dtype).max)\n",
    "    print(np.finfo(dtype).eps)"
   ]
  },
  {
   "cell_type": "markdown",
   "id": "ae290300",
   "metadata": {},
   "source": [
    "### Q_NO_49"
   ]
  },
  {
   "cell_type": "code",
   "execution_count": 320,
   "id": "7bd05656",
   "metadata": {},
   "outputs": [
    {
     "name": "stdout",
     "output_type": "stream",
     "text": [
      "[[0. 0. 0. 0. 0. 0. 0. 0. 0. 0. 0. 0. 0. 0. 0. 0. 0. 0. 0. 0. 0. 0. 0. 0.\n",
      "  0. 0. 0. 0. 0. 0. 0. 0. 0. 0. 0. 0. 0. 0. 0. 0.]\n",
      " [0. 0. 0. 0. 0. 0. 0. 0. 0. 0. 0. 0. 0. 0. 0. 0. 0. 0. 0. 0. 0. 0. 0. 0.\n",
      "  0. 0. 0. 0. 0. 0. 0. 0. 0. 0. 0. 0. 0. 0. 0. 0.]\n",
      " [0. 0. 0. 0. 0. 0. 0. 0. 0. 0. 0. 0. 0. 0. 0. 0. 0. 0. 0. 0. 0. 0. 0. 0.\n",
      "  0. 0. 0. 0. 0. 0. 0. 0. 0. 0. 0. 0. 0. 0. 0. 0.]\n",
      " [0. 0. 0. 0. 0. 0. 0. 0. 0. 0. 0. 0. 0. 0. 0. 0. 0. 0. 0. 0. 0. 0. 0. 0.\n",
      "  0. 0. 0. 0. 0. 0. 0. 0. 0. 0. 0. 0. 0. 0. 0. 0.]\n",
      " [0. 0. 0. 0. 0. 0. 0. 0. 0. 0. 0. 0. 0. 0. 0. 0. 0. 0. 0. 0. 0. 0. 0. 0.\n",
      "  0. 0. 0. 0. 0. 0. 0. 0. 0. 0. 0. 0. 0. 0. 0. 0.]\n",
      " [0. 0. 0. 0. 0. 0. 0. 0. 0. 0. 0. 0. 0. 0. 0. 0. 0. 0. 0. 0. 0. 0. 0. 0.\n",
      "  0. 0. 0. 0. 0. 0. 0. 0. 0. 0. 0. 0. 0. 0. 0. 0.]\n",
      " [0. 0. 0. 0. 0. 0. 0. 0. 0. 0. 0. 0. 0. 0. 0. 0. 0. 0. 0. 0. 0. 0. 0. 0.\n",
      "  0. 0. 0. 0. 0. 0. 0. 0. 0. 0. 0. 0. 0. 0. 0. 0.]\n",
      " [0. 0. 0. 0. 0. 0. 0. 0. 0. 0. 0. 0. 0. 0. 0. 0. 0. 0. 0. 0. 0. 0. 0. 0.\n",
      "  0. 0. 0. 0. 0. 0. 0. 0. 0. 0. 0. 0. 0. 0. 0. 0.]\n",
      " [0. 0. 0. 0. 0. 0. 0. 0. 0. 0. 0. 0. 0. 0. 0. 0. 0. 0. 0. 0. 0. 0. 0. 0.\n",
      "  0. 0. 0. 0. 0. 0. 0. 0. 0. 0. 0. 0. 0. 0. 0. 0.]\n",
      " [0. 0. 0. 0. 0. 0. 0. 0. 0. 0. 0. 0. 0. 0. 0. 0. 0. 0. 0. 0. 0. 0. 0. 0.\n",
      "  0. 0. 0. 0. 0. 0. 0. 0. 0. 0. 0. 0. 0. 0. 0. 0.]\n",
      " [0. 0. 0. 0. 0. 0. 0. 0. 0. 0. 0. 0. 0. 0. 0. 0. 0. 0. 0. 0. 0. 0. 0. 0.\n",
      "  0. 0. 0. 0. 0. 0. 0. 0. 0. 0. 0. 0. 0. 0. 0. 0.]\n",
      " [0. 0. 0. 0. 0. 0. 0. 0. 0. 0. 0. 0. 0. 0. 0. 0. 0. 0. 0. 0. 0. 0. 0. 0.\n",
      "  0. 0. 0. 0. 0. 0. 0. 0. 0. 0. 0. 0. 0. 0. 0. 0.]\n",
      " [0. 0. 0. 0. 0. 0. 0. 0. 0. 0. 0. 0. 0. 0. 0. 0. 0. 0. 0. 0. 0. 0. 0. 0.\n",
      "  0. 0. 0. 0. 0. 0. 0. 0. 0. 0. 0. 0. 0. 0. 0. 0.]\n",
      " [0. 0. 0. 0. 0. 0. 0. 0. 0. 0. 0. 0. 0. 0. 0. 0. 0. 0. 0. 0. 0. 0. 0. 0.\n",
      "  0. 0. 0. 0. 0. 0. 0. 0. 0. 0. 0. 0. 0. 0. 0. 0.]\n",
      " [0. 0. 0. 0. 0. 0. 0. 0. 0. 0. 0. 0. 0. 0. 0. 0. 0. 0. 0. 0. 0. 0. 0. 0.\n",
      "  0. 0. 0. 0. 0. 0. 0. 0. 0. 0. 0. 0. 0. 0. 0. 0.]\n",
      " [0. 0. 0. 0. 0. 0. 0. 0. 0. 0. 0. 0. 0. 0. 0. 0. 0. 0. 0. 0. 0. 0. 0. 0.\n",
      "  0. 0. 0. 0. 0. 0. 0. 0. 0. 0. 0. 0. 0. 0. 0. 0.]\n",
      " [0. 0. 0. 0. 0. 0. 0. 0. 0. 0. 0. 0. 0. 0. 0. 0. 0. 0. 0. 0. 0. 0. 0. 0.\n",
      "  0. 0. 0. 0. 0. 0. 0. 0. 0. 0. 0. 0. 0. 0. 0. 0.]\n",
      " [0. 0. 0. 0. 0. 0. 0. 0. 0. 0. 0. 0. 0. 0. 0. 0. 0. 0. 0. 0. 0. 0. 0. 0.\n",
      "  0. 0. 0. 0. 0. 0. 0. 0. 0. 0. 0. 0. 0. 0. 0. 0.]\n",
      " [0. 0. 0. 0. 0. 0. 0. 0. 0. 0. 0. 0. 0. 0. 0. 0. 0. 0. 0. 0. 0. 0. 0. 0.\n",
      "  0. 0. 0. 0. 0. 0. 0. 0. 0. 0. 0. 0. 0. 0. 0. 0.]\n",
      " [0. 0. 0. 0. 0. 0. 0. 0. 0. 0. 0. 0. 0. 0. 0. 0. 0. 0. 0. 0. 0. 0. 0. 0.\n",
      "  0. 0. 0. 0. 0. 0. 0. 0. 0. 0. 0. 0. 0. 0. 0. 0.]\n",
      " [0. 0. 0. 0. 0. 0. 0. 0. 0. 0. 0. 0. 0. 0. 0. 0. 0. 0. 0. 0. 0. 0. 0. 0.\n",
      "  0. 0. 0. 0. 0. 0. 0. 0. 0. 0. 0. 0. 0. 0. 0. 0.]\n",
      " [0. 0. 0. 0. 0. 0. 0. 0. 0. 0. 0. 0. 0. 0. 0. 0. 0. 0. 0. 0. 0. 0. 0. 0.\n",
      "  0. 0. 0. 0. 0. 0. 0. 0. 0. 0. 0. 0. 0. 0. 0. 0.]\n",
      " [0. 0. 0. 0. 0. 0. 0. 0. 0. 0. 0. 0. 0. 0. 0. 0. 0. 0. 0. 0. 0. 0. 0. 0.\n",
      "  0. 0. 0. 0. 0. 0. 0. 0. 0. 0. 0. 0. 0. 0. 0. 0.]\n",
      " [0. 0. 0. 0. 0. 0. 0. 0. 0. 0. 0. 0. 0. 0. 0. 0. 0. 0. 0. 0. 0. 0. 0. 0.\n",
      "  0. 0. 0. 0. 0. 0. 0. 0. 0. 0. 0. 0. 0. 0. 0. 0.]\n",
      " [0. 0. 0. 0. 0. 0. 0. 0. 0. 0. 0. 0. 0. 0. 0. 0. 0. 0. 0. 0. 0. 0. 0. 0.\n",
      "  0. 0. 0. 0. 0. 0. 0. 0. 0. 0. 0. 0. 0. 0. 0. 0.]\n",
      " [0. 0. 0. 0. 0. 0. 0. 0. 0. 0. 0. 0. 0. 0. 0. 0. 0. 0. 0. 0. 0. 0. 0. 0.\n",
      "  0. 0. 0. 0. 0. 0. 0. 0. 0. 0. 0. 0. 0. 0. 0. 0.]\n",
      " [0. 0. 0. 0. 0. 0. 0. 0. 0. 0. 0. 0. 0. 0. 0. 0. 0. 0. 0. 0. 0. 0. 0. 0.\n",
      "  0. 0. 0. 0. 0. 0. 0. 0. 0. 0. 0. 0. 0. 0. 0. 0.]\n",
      " [0. 0. 0. 0. 0. 0. 0. 0. 0. 0. 0. 0. 0. 0. 0. 0. 0. 0. 0. 0. 0. 0. 0. 0.\n",
      "  0. 0. 0. 0. 0. 0. 0. 0. 0. 0. 0. 0. 0. 0. 0. 0.]\n",
      " [0. 0. 0. 0. 0. 0. 0. 0. 0. 0. 0. 0. 0. 0. 0. 0. 0. 0. 0. 0. 0. 0. 0. 0.\n",
      "  0. 0. 0. 0. 0. 0. 0. 0. 0. 0. 0. 0. 0. 0. 0. 0.]\n",
      " [0. 0. 0. 0. 0. 0. 0. 0. 0. 0. 0. 0. 0. 0. 0. 0. 0. 0. 0. 0. 0. 0. 0. 0.\n",
      "  0. 0. 0. 0. 0. 0. 0. 0. 0. 0. 0. 0. 0. 0. 0. 0.]\n",
      " [0. 0. 0. 0. 0. 0. 0. 0. 0. 0. 0. 0. 0. 0. 0. 0. 0. 0. 0. 0. 0. 0. 0. 0.\n",
      "  0. 0. 0. 0. 0. 0. 0. 0. 0. 0. 0. 0. 0. 0. 0. 0.]\n",
      " [0. 0. 0. 0. 0. 0. 0. 0. 0. 0. 0. 0. 0. 0. 0. 0. 0. 0. 0. 0. 0. 0. 0. 0.\n",
      "  0. 0. 0. 0. 0. 0. 0. 0. 0. 0. 0. 0. 0. 0. 0. 0.]\n",
      " [0. 0. 0. 0. 0. 0. 0. 0. 0. 0. 0. 0. 0. 0. 0. 0. 0. 0. 0. 0. 0. 0. 0. 0.\n",
      "  0. 0. 0. 0. 0. 0. 0. 0. 0. 0. 0. 0. 0. 0. 0. 0.]\n",
      " [0. 0. 0. 0. 0. 0. 0. 0. 0. 0. 0. 0. 0. 0. 0. 0. 0. 0. 0. 0. 0. 0. 0. 0.\n",
      "  0. 0. 0. 0. 0. 0. 0. 0. 0. 0. 0. 0. 0. 0. 0. 0.]\n",
      " [0. 0. 0. 0. 0. 0. 0. 0. 0. 0. 0. 0. 0. 0. 0. 0. 0. 0. 0. 0. 0. 0. 0. 0.\n",
      "  0. 0. 0. 0. 0. 0. 0. 0. 0. 0. 0. 0. 0. 0. 0. 0.]\n",
      " [0. 0. 0. 0. 0. 0. 0. 0. 0. 0. 0. 0. 0. 0. 0. 0. 0. 0. 0. 0. 0. 0. 0. 0.\n",
      "  0. 0. 0. 0. 0. 0. 0. 0. 0. 0. 0. 0. 0. 0. 0. 0.]\n",
      " [0. 0. 0. 0. 0. 0. 0. 0. 0. 0. 0. 0. 0. 0. 0. 0. 0. 0. 0. 0. 0. 0. 0. 0.\n",
      "  0. 0. 0. 0. 0. 0. 0. 0. 0. 0. 0. 0. 0. 0. 0. 0.]\n",
      " [0. 0. 0. 0. 0. 0. 0. 0. 0. 0. 0. 0. 0. 0. 0. 0. 0. 0. 0. 0. 0. 0. 0. 0.\n",
      "  0. 0. 0. 0. 0. 0. 0. 0. 0. 0. 0. 0. 0. 0. 0. 0.]\n",
      " [0. 0. 0. 0. 0. 0. 0. 0. 0. 0. 0. 0. 0. 0. 0. 0. 0. 0. 0. 0. 0. 0. 0. 0.\n",
      "  0. 0. 0. 0. 0. 0. 0. 0. 0. 0. 0. 0. 0. 0. 0. 0.]\n",
      " [0. 0. 0. 0. 0. 0. 0. 0. 0. 0. 0. 0. 0. 0. 0. 0. 0. 0. 0. 0. 0. 0. 0. 0.\n",
      "  0. 0. 0. 0. 0. 0. 0. 0. 0. 0. 0. 0. 0. 0. 0. 0.]]\n"
     ]
    }
   ],
   "source": [
    "# How to print all the values of an array?\n",
    "np.set_printoptions(threshold=float(\"inf\"))\n",
    "Z = np.zeros((40,40))\n",
    "print(Z)"
   ]
  },
  {
   "cell_type": "markdown",
   "id": "8b1a3ba3",
   "metadata": {},
   "source": [
    "### Q_NO_50"
   ]
  },
  {
   "cell_type": "code",
   "execution_count": 321,
   "id": "f08ff9f9",
   "metadata": {},
   "outputs": [
    {
     "name": "stdout",
     "output_type": "stream",
     "text": [
      "19\n"
     ]
    }
   ],
   "source": [
    "# How to find the closest value (to a given scalar) in a vector? \n",
    "Z = np.arange(100)\n",
    "v = np.random.uniform(0,100)\n",
    "index = (np.abs(Z-v)).argmin()\n",
    "print(Z[index])"
   ]
  },
  {
   "cell_type": "markdown",
   "id": "e94c5532",
   "metadata": {},
   "source": [
    "### Q_NO_51"
   ]
  },
  {
   "cell_type": "code",
   "execution_count": 3,
   "id": "718d81a7",
   "metadata": {},
   "outputs": [
    {
     "name": "stdout",
     "output_type": "stream",
     "text": [
      "[((0., 0.), (0., 0., 0.)) ((0., 0.), (0., 0., 0.))\n",
      " ((0., 0.), (0., 0., 0.)) ((0., 0.), (0., 0., 0.))\n",
      " ((0., 0.), (0., 0., 0.)) ((0., 0.), (0., 0., 0.))\n",
      " ((0., 0.), (0., 0., 0.)) ((0., 0.), (0., 0., 0.))\n",
      " ((0., 0.), (0., 0., 0.)) ((0., 0.), (0., 0., 0.))]\n"
     ]
    },
    {
     "name": "stderr",
     "output_type": "stream",
     "text": [
      "/tmp/ipykernel_67/3902896178.py:3: FutureWarning: Passing (type, 1) or '1type' as a synonym of type is deprecated; in a future version of numpy, it will be understood as (type, (1,)) / '(1,)type'.\n",
      "  a = np.zeros(10,[ ('position', [ ('x', float, 1),\n"
     ]
    }
   ],
   "source": [
    "#  Create a structured array representing a position (x,y) and a color (r,g,b)\n",
    "import numpy as np\n",
    "a = np.zeros(10,[ ('position', [ ('x', float, 1),\n",
    "                                 ('y', float, 1)]),\n",
    "                  ('color', [ ('r', float, 1),\n",
    "                             ('g', float, 1),\n",
    "                             ('b', float, 1)])])\n",
    "                                \n",
    "print(a)"
   ]
  },
  {
   "cell_type": "code",
   "execution_count": 4,
   "id": "30b86795",
   "metadata": {},
   "outputs": [
    {
     "name": "stdout",
     "output_type": "stream",
     "text": [
      "[((0., 0.), (0., 0., 0.)) ((0., 0.), (0., 0., 0.))\n",
      " ((0., 0.), (0., 0., 0.)) ((0., 0.), (0., 0., 0.))\n",
      " ((0., 0.), (0., 0., 0.)) ((0., 0.), (0., 0., 0.))\n",
      " ((0., 0.), (0., 0., 0.)) ((0., 0.), (0., 0., 0.))\n",
      " ((0., 0.), (0., 0., 0.)) ((0., 0.), (0., 0., 0.))]\n"
     ]
    },
    {
     "name": "stderr",
     "output_type": "stream",
     "text": [
      "/tmp/ipykernel_67/274409719.py:1: FutureWarning: Passing (type, 1) or '1type' as a synonym of type is deprecated; in a future version of numpy, it will be understood as (type, (1,)) / '(1,)type'.\n",
      "  Z = np.zeros(10, [ ('position', [ ('x', float, 1),\n"
     ]
    }
   ],
   "source": [
    "Z = np.zeros(10, [ ('position', [ ('x', float, 1),\n",
    "                                  ('y', float, 1)]),\n",
    "                   ('color',    [ ('r', float, 1),\n",
    "                                  ('g', float, 1),\n",
    "                                  ('b', float, 1)])])\n",
    "print(Z)"
   ]
  },
  {
   "cell_type": "markdown",
   "id": "0c81c1d7",
   "metadata": {},
   "source": [
    "### Q_NO_52"
   ]
  },
  {
   "cell_type": "code",
   "execution_count": 8,
   "id": "db439519",
   "metadata": {},
   "outputs": [
    {
     "name": "stdout",
     "output_type": "stream",
     "text": [
      "[[0.         0.72489553 0.48604721 0.61843011 0.82328153 0.44047911\n",
      "  0.14836822 0.19202081 0.67484165 0.33694423]\n",
      " [0.72489553 0.         0.2755753  0.71621396 0.89209945 1.04846094\n",
      "  0.62819293 0.86246449 0.32751539 0.39089533]\n",
      " [0.48604721 0.2755753  0.         0.69649547 0.90620087 0.87020497\n",
      "  0.42643742 0.6512315  0.43534197 0.1588046 ]\n",
      " [0.61843011 0.71621396 0.69649547 0.         0.218811   0.57095734\n",
      "  0.48074207 0.57084752 0.41495623 0.59115911]\n",
      " [0.82328153 0.89209945 0.90620087 0.218811   0.         0.6862785\n",
      "  0.69209208 0.74812186 0.56948617 0.80827069]\n",
      " [0.44047911 1.04846094 0.87020497 0.57095734 0.6862785  0.\n",
      "  0.44423249 0.24937023 0.86599612 0.71157958]\n",
      " [0.14836822 0.62819293 0.42643742 0.48074207 0.69209208 0.44423249\n",
      "  0.         0.23427992 0.53565653 0.26764449]\n",
      " [0.19202081 0.86246449 0.6512315  0.57084752 0.74812186 0.24937023\n",
      "  0.23427992 0.         0.74477229 0.49382905]\n",
      " [0.67484165 0.32751539 0.43534197 0.41495623 0.56948617 0.86599612\n",
      "  0.53565653 0.74477229 0.         0.42963879]\n",
      " [0.33694423 0.39089533 0.1588046  0.59115911 0.80827069 0.71157958\n",
      "  0.26764449 0.49382905 0.42963879 0.        ]]\n"
     ]
    }
   ],
   "source": [
    "# Consider a random vector with shape (100,2) representing coordinates, find point by point distances\n",
    "Z = np.random.random((10,2))\n",
    "X,Y = np.atleast_2d(Z[:,0], Z[:,1])\n",
    "D = np.sqrt( (X-X.T)**2 + (Y-Y.T)**2)\n",
    "print(D)"
   ]
  },
  {
   "cell_type": "code",
   "execution_count": null,
   "id": "3706b43b",
   "metadata": {},
   "outputs": [],
   "source": []
  },
  {
   "cell_type": "markdown",
   "id": "8607c895",
   "metadata": {},
   "source": [
    "### Q_NO_53"
   ]
  },
  {
   "cell_type": "code",
   "execution_count": 88,
   "id": "4eb4788b",
   "metadata": {},
   "outputs": [
    {
     "name": "stdout",
     "output_type": "stream",
     "text": [
      "[ 4 86 15 43 75 12 52 21 27 64]\n"
     ]
    }
   ],
   "source": [
    "#  How to convert a float (32 bits) array into an integer (32 bits) in place?\n",
    "Z = (np.random.rand(10)*100).astype(np.float32)\n",
    "Y = Z.view(np.int32)\n",
    "Y[:,:] = Z\n",
    "print(Y)"
   ]
  },
  {
   "cell_type": "markdown",
   "id": "706453c1",
   "metadata": {},
   "source": [
    "### Q_NO_54"
   ]
  },
  {
   "cell_type": "code",
   "execution_count": null,
   "id": "bc27edbd",
   "metadata": {},
   "outputs": [],
   "source": [
    "# How to read the following file? \n",
    "\n",
    "# 1, 2, 3, 4, 5\n",
    "# 6,  ,  , 7, 8\n",
    "#  ,  , 9,10,11\n"
   ]
  },
  {
   "cell_type": "code",
   "execution_count": 21,
   "id": "caa1996d",
   "metadata": {},
   "outputs": [
    {
     "name": "stdout",
     "output_type": "stream",
     "text": [
      "[[ 1  2  3  4  5]\n",
      " [ 6 -1 -1  7  8]\n",
      " [-1 -1  9 10 11]]\n"
     ]
    }
   ],
   "source": [
    "import numpy as np\n",
    "from io import StringIO\n",
    "\n",
    "# Fake file\n",
    "s = StringIO('''1, 2, 3, 4, 5\n",
    "                6,  ,  , 7, 8\n",
    "                 ,  , 9,10,11\n",
    "''')\n",
    "Z = np.genfromtxt(s, delimiter=\",\", dtype=int)\n",
    "print(Z)"
   ]
  },
  {
   "cell_type": "markdown",
   "id": "90d6f9cc",
   "metadata": {},
   "source": [
    "### Q_NO_55"
   ]
  },
  {
   "cell_type": "code",
   "execution_count": null,
   "id": "c4ac3deb",
   "metadata": {},
   "outputs": [],
   "source": [
    "# What is the equivalent of enumerate for numpy arrays?\n",
    "a = np."
   ]
  },
  {
   "cell_type": "code",
   "execution_count": null,
   "id": "3416d07e",
   "metadata": {},
   "outputs": [],
   "source": []
  },
  {
   "cell_type": "code",
   "execution_count": null,
   "id": "3f0f6cd9",
   "metadata": {},
   "outputs": [],
   "source": []
  },
  {
   "cell_type": "code",
   "execution_count": null,
   "id": "25c00c33",
   "metadata": {},
   "outputs": [],
   "source": []
  },
  {
   "cell_type": "code",
   "execution_count": 35,
   "id": "535d4638",
   "metadata": {},
   "outputs": [
    {
     "data": {
      "text/plain": [
       "array([6, 6, 6, 6, 6])"
      ]
     },
     "execution_count": 35,
     "metadata": {},
     "output_type": "execute_result"
    }
   ],
   "source": [
    "a = np.array([1,2,3,4,5])\n",
    "b= np.array([[11,22,33,4,5],[6,6,6,6,6],[5,5,5,5,5]])\n"
   ]
  },
  {
   "cell_type": "code",
   "execution_count": 39,
   "id": "fb7f3599",
   "metadata": {},
   "outputs": [
    {
     "data": {
      "text/plain": [
       "array([6.95330279e-310])"
      ]
     },
     "execution_count": 39,
     "metadata": {},
     "output_type": "execute_result"
    }
   ],
   "source": [
    "a = np.empty(1)\n",
    "a"
   ]
  },
  {
   "cell_type": "code",
   "execution_count": 40,
   "id": "721a7f63",
   "metadata": {},
   "outputs": [
    {
     "data": {
      "text/plain": [
       "array([ 3,  6,  9, 12, 15, 18])"
      ]
     },
     "execution_count": 40,
     "metadata": {},
     "output_type": "execute_result"
    }
   ],
   "source": [
    "a = np.arange(3,20,3)\n",
    "a"
   ]
  },
  {
   "cell_type": "code",
   "execution_count": 48,
   "id": "11262261",
   "metadata": {},
   "outputs": [
    {
     "data": {
      "text/plain": [
       "array([ 2,  6, 11, 15, 20])"
      ]
     },
     "execution_count": 48,
     "metadata": {},
     "output_type": "execute_result"
    }
   ],
   "source": [
    "a = np.linspace(2,20, num = 5, dtype=np.int64)\n",
    "a"
   ]
  },
  {
   "cell_type": "code",
   "execution_count": 65,
   "id": "59ae40bf",
   "metadata": {},
   "outputs": [
    {
     "data": {
      "text/plain": [
       "array([[1, 3, 2, 4],\n",
       "       [2, 3, 4, 5],\n",
       "       [4, 3, 2, 1]])"
      ]
     },
     "execution_count": 65,
     "metadata": {},
     "output_type": "execute_result"
    }
   ],
   "source": [
    "a = np.array([[1,3,2,4],[2,3,4,5]])\n",
    "b = np.array([[4,3,2,1]])\n",
    "\n",
    "c = np.concatenate((a,b), axis = 0)\n",
    "c"
   ]
  },
  {
   "cell_type": "code",
   "execution_count": 76,
   "id": "005107d3",
   "metadata": {},
   "outputs": [
    {
     "data": {
      "text/plain": [
       "3"
      ]
     },
     "execution_count": 76,
     "metadata": {},
     "output_type": "execute_result"
    }
   ],
   "source": [
    "a  = np.array([[[1,2,3,4,5]],\n",
    "              [[3,4,5,6,7]],\n",
    "              [[4,5,6,7,8]]])\n",
    "a.ndim"
   ]
  },
  {
   "cell_type": "code",
   "execution_count": 77,
   "id": "3aeee97d",
   "metadata": {},
   "outputs": [
    {
     "data": {
      "text/plain": [
       "15"
      ]
     },
     "execution_count": 77,
     "metadata": {},
     "output_type": "execute_result"
    }
   ],
   "source": [
    "a.size"
   ]
  },
  {
   "cell_type": "code",
   "execution_count": 78,
   "id": "89326792",
   "metadata": {},
   "outputs": [
    {
     "data": {
      "text/plain": [
       "(3, 1, 5)"
      ]
     },
     "execution_count": 78,
     "metadata": {},
     "output_type": "execute_result"
    }
   ],
   "source": [
    "a.shape"
   ]
  },
  {
   "cell_type": "code",
   "execution_count": 87,
   "id": "0c8b899c",
   "metadata": {},
   "outputs": [
    {
     "data": {
      "text/plain": [
       "(1, 9)"
      ]
     },
     "execution_count": 87,
     "metadata": {},
     "output_type": "execute_result"
    }
   ],
   "source": [
    "a = np.array([1,2,3,4,5,6,7,8,9])\n",
    "b = a[np.newaxis, :]\n",
    "b.shape"
   ]
  },
  {
   "cell_type": "code",
   "execution_count": 86,
   "id": "d9f396f9",
   "metadata": {},
   "outputs": [
    {
     "data": {
      "text/plain": [
       "(9,)"
      ]
     },
     "execution_count": 86,
     "metadata": {},
     "output_type": "execute_result"
    }
   ],
   "source": [
    "a = np.array([1,2,3,4,5,6,7,8,9])\n",
    "a.shape"
   ]
  },
  {
   "cell_type": "code",
   "execution_count": null,
   "id": "dd2bf5d0",
   "metadata": {},
   "outputs": [],
   "source": []
  },
  {
   "cell_type": "code",
   "execution_count": null,
   "id": "06b21b6d",
   "metadata": {},
   "outputs": [],
   "source": []
  },
  {
   "cell_type": "code",
   "execution_count": null,
   "id": "404f5ba0",
   "metadata": {},
   "outputs": [],
   "source": []
  },
  {
   "cell_type": "code",
   "execution_count": null,
   "id": "a4db05ab",
   "metadata": {},
   "outputs": [],
   "source": []
  },
  {
   "cell_type": "code",
   "execution_count": null,
   "id": "4cdc0817",
   "metadata": {},
   "outputs": [],
   "source": []
  },
  {
   "cell_type": "code",
   "execution_count": null,
   "id": "1504f4c9",
   "metadata": {},
   "outputs": [],
   "source": []
  },
  {
   "cell_type": "markdown",
   "id": "811331f2",
   "metadata": {},
   "source": [
    "### Q"
   ]
  },
  {
   "cell_type": "code",
   "execution_count": 217,
   "id": "779b2e17",
   "metadata": {},
   "outputs": [],
   "source": [
    "# Non zero values"
   ]
  },
  {
   "cell_type": "code",
   "execution_count": 219,
   "id": "9f2f53f9",
   "metadata": {},
   "outputs": [
    {
     "data": {
      "text/plain": [
       "(array([0, 2, 4, 5]),)"
      ]
     },
     "execution_count": 219,
     "metadata": {},
     "output_type": "execute_result"
    }
   ],
   "source": [
    "a = np.array([1,0,9,0,8,7,0])\n",
    "c = np.nonzero(a)\n",
    "c\n",
    "# provide indexing of non zero values of givenn list"
   ]
  },
  {
   "cell_type": "code",
   "execution_count": null,
   "id": "acf2f8f2",
   "metadata": {},
   "outputs": [],
   "source": []
  }
 ],
 "metadata": {
  "kernelspec": {
   "display_name": "Python 3 (ipykernel)",
   "language": "python",
   "name": "python3"
  },
  "language_info": {
   "codemirror_mode": {
    "name": "ipython",
    "version": 3
   },
   "file_extension": ".py",
   "mimetype": "text/x-python",
   "name": "python",
   "nbconvert_exporter": "python",
   "pygments_lexer": "ipython3",
   "version": "3.10.6"
  }
 },
 "nbformat": 4,
 "nbformat_minor": 5
}
