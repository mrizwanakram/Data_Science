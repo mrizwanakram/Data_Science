{
 "cells": [
  {
   "cell_type": "code",
   "execution_count": 1,
   "id": "b9022385",
   "metadata": {},
   "outputs": [],
   "source": [
    "#  Write a Python program to count the number of strings from a given list of strings. The string length is 2 or more\n",
    "# and the first and last characters are the same. Go to the editor\n",
    "# Sample List : ['abc', 'xyz', 'aba', '1221']\n",
    "# Expected Result : 2"
   ]
  },
  {
   "cell_type": "code",
   "execution_count": 80,
   "id": "4f00b124",
   "metadata": {},
   "outputs": [
    {
     "data": {
      "text/plain": [
       "2"
      ]
     },
     "execution_count": 80,
     "metadata": {},
     "output_type": "execute_result"
    }
   ],
   "source": [
    "def count_str(list1):\n",
    "    count = 0\n",
    "    for i in list1:\n",
    "        if i[0] ==i[-1]:\n",
    "            count += 1\n",
    "    return count\n",
    "count_str(['abc', 'xyz', 'aba', '1221'])"
   ]
  },
  {
   "cell_type": "code",
   "execution_count": null,
   "id": "6739f4e3",
   "metadata": {},
   "outputs": [],
   "source": []
  },
  {
   "cell_type": "code",
   "execution_count": 24,
   "id": "a13edb48",
   "metadata": {},
   "outputs": [
    {
     "name": "stdout",
     "output_type": "stream",
     "text": [
      "0\n"
     ]
    }
   ],
   "source": [
    "def num_of_strings(str_list):\n",
    "    count = 0\n",
    "    for a in str_list:\n",
    "        if len(a) > 1 and str_list[0] == str_list[-1]:\n",
    "            count += 1\n",
    "    return count\n",
    "\n",
    "print(num_of_strings(['abc', 'xyz', 'aba', '1221']))\n",
    "    \n",
    "        \n",
    "    "
   ]
  },
  {
   "cell_type": "code",
   "execution_count": 23,
   "id": "fb894929",
   "metadata": {},
   "outputs": [
    {
     "name": "stdout",
     "output_type": "stream",
     "text": [
      "0\n"
     ]
    }
   ],
   "source": [
    "print(num_of_strings(['abc', 'xyz', 'aba', '1221']))"
   ]
  },
  {
   "cell_type": "code",
   "execution_count": 9,
   "id": "84e4878c",
   "metadata": {},
   "outputs": [
    {
     "name": "stdout",
     "output_type": "stream",
     "text": [
      "2\n"
     ]
    }
   ],
   "source": [
    "def match_words(words):\n",
    "  ctr = 0\n",
    "\n",
    "  for word in words:\n",
    "    if len(word) > 1 and word[0] == word[-1]:\n",
    "      ctr += 1\n",
    "  return ctr\n",
    "\n",
    "print(match_words(['abc', 'xyz', 'aba', '1221']))\n"
   ]
  },
  {
   "cell_type": "code",
   "execution_count": 25,
   "id": "b11e4ac0",
   "metadata": {},
   "outputs": [],
   "source": [
    "# Write a Python program to get a list, sorted in increasing order by the last element in each tuple from a given\n",
    "# list of non-empty tuples. Go to the editor\n",
    "# Sample List : [(2, 5), (1, 2), (4, 4), (2, 3), (2, 1)]\n",
    "# Expected Result : [(2, 1), (1, 2), (2, 3), (4, 4), (2, 5)]"
   ]
  },
  {
   "cell_type": "code",
   "execution_count": 86,
   "id": "7253d736",
   "metadata": {},
   "outputs": [
    {
     "data": {
      "text/plain": [
       "[(2, 1), (1, 2), (2, 3), (4, 4), (2, 5)]"
      ]
     },
     "execution_count": 86,
     "metadata": {},
     "output_type": "execute_result"
    }
   ],
   "source": [
    "def sort_list(g_list):\n",
    "    return g_list[-1]\n",
    "def list2(li):\n",
    "    return sorted(li,key=sort_list)\n",
    "list2([(2, 5), (1, 2), (4, 4), (2, 3), (2, 1)])"
   ]
  },
  {
   "cell_type": "code",
   "execution_count": null,
   "id": "c2b79397",
   "metadata": {},
   "outputs": [],
   "source": []
  },
  {
   "cell_type": "code",
   "execution_count": 35,
   "id": "af60c0bd",
   "metadata": {},
   "outputs": [
    {
     "name": "stdout",
     "output_type": "stream",
     "text": [
      "[(2, 1), (1, 2), (2, 3), (4, 4), (2, 5)]\n"
     ]
    }
   ],
   "source": [
    "def list_a(tup):\n",
    "    return tup[-1]\n",
    "\n",
    "def sor_list(tup_list):\n",
    "    \n",
    "    return sorted(tup_list, key = list_a)\n",
    "\n",
    "print(sor_list([(2, 5), (1, 2), (4, 4), (2, 3), (2, 1)]))"
   ]
  },
  {
   "cell_type": "code",
   "execution_count": 34,
   "id": "7bebdc89",
   "metadata": {},
   "outputs": [
    {
     "name": "stdout",
     "output_type": "stream",
     "text": [
      "[(2, 1), (1, 2), (2, 3), (4, 4), (2, 5)]\n"
     ]
    }
   ],
   "source": [
    "def last(n): return n[-1]\n",
    "\n",
    "def sort_list_last(tuples):\n",
    "    return sorted(tuples, key=last)\n",
    "\n",
    "print(sort_list_last([(2, 5), (1, 2), (4, 4), (2, 3), (2, 1)]))"
   ]
  },
  {
   "cell_type": "code",
   "execution_count": null,
   "id": "cc2e4379",
   "metadata": {},
   "outputs": [],
   "source": []
  },
  {
   "cell_type": "code",
   "execution_count": 87,
   "id": "39a834c4",
   "metadata": {},
   "outputs": [],
   "source": [
    "# Write a Python program to remove duplicates from a list."
   ]
  },
  {
   "cell_type": "code",
   "execution_count": 89,
   "id": "f74c6d64",
   "metadata": {},
   "outputs": [
    {
     "data": {
      "text/plain": [
       "[1, 2, 3, 4, 5, 6, 7]"
      ]
     },
     "execution_count": 89,
     "metadata": {},
     "output_type": "execute_result"
    }
   ],
   "source": [
    "def re_dub(lis):\n",
    "    b = []\n",
    "    for a in lis:\n",
    "        if a not in b:\n",
    "            b.append(a)\n",
    "    return b\n",
    "re_dub([1,2,3,3,3,4,5,6,7])"
   ]
  },
  {
   "cell_type": "code",
   "execution_count": null,
   "id": "c8689f7c",
   "metadata": {},
   "outputs": [],
   "source": []
  },
  {
   "cell_type": "code",
   "execution_count": 46,
   "id": "6fab96d2",
   "metadata": {},
   "outputs": [
    {
     "name": "stdout",
     "output_type": "stream",
     "text": [
      "[1, 22, 33, 4, 5]\n"
     ]
    }
   ],
   "source": [
    "\n",
    "def uniq_list(n):\n",
    "   \n",
    "    b =[]\n",
    "    for a in n:\n",
    "        if a not in b:\n",
    "            b.append(a)\n",
    "            \n",
    "    return b\n",
    "\n",
    "print(uniq_list([1,1,22,33,22,4,5,4]))"
   ]
  },
  {
   "cell_type": "code",
   "execution_count": null,
   "id": "028fe4bf",
   "metadata": {},
   "outputs": [],
   "source": []
  },
  {
   "cell_type": "code",
   "execution_count": 17,
   "id": "99ee6759",
   "metadata": {},
   "outputs": [
    {
     "name": "stdout",
     "output_type": "stream",
     "text": [
      "not empity\n"
     ]
    }
   ],
   "source": [
    "#Write a Python program to check if a list is empty or not.\n",
    "a = [34]\n",
    "if not a:\n",
    "    print('empity')\n",
    "else:\n",
    "    print('not empity')"
   ]
  },
  {
   "cell_type": "code",
   "execution_count": null,
   "id": "55d9f88b",
   "metadata": {},
   "outputs": [],
   "source": []
  },
  {
   "cell_type": "code",
   "execution_count": 62,
   "id": "691a8315",
   "metadata": {},
   "outputs": [
    {
     "name": "stdout",
     "output_type": "stream",
     "text": [
      "not Empty\n"
     ]
    }
   ],
   "source": [
    "\n",
    "l = ['w',2]\n",
    "if not l:\n",
    "    print(\"empity\")\n",
    "else:\n",
    "    print(\"not Empty\")"
   ]
  },
  {
   "cell_type": "code",
   "execution_count": null,
   "id": "c1e4d508",
   "metadata": {},
   "outputs": [],
   "source": []
  },
  {
   "cell_type": "code",
   "execution_count": 72,
   "id": "6913d45b",
   "metadata": {},
   "outputs": [
    {
     "name": "stdout",
     "output_type": "stream",
     "text": [
      "[1, 2, 3, 4]\n",
      "[1, 2, 3, 4]\n"
     ]
    }
   ],
   "source": [
    "#Write a Python program to clone or copy a list\n",
    "list1 = [1,2,3,4]\n",
    "list2 = list(list1)\n",
    "print(list1)\n",
    "print(list2)"
   ]
  },
  {
   "cell_type": "code",
   "execution_count": null,
   "id": "33cb0094",
   "metadata": {},
   "outputs": [],
   "source": []
  },
  {
   "cell_type": "code",
   "execution_count": 95,
   "id": "170572e5",
   "metadata": {},
   "outputs": [
    {
     "data": {
      "text/plain": [
       "['wwwe', 'rgtdtre']"
      ]
     },
     "execution_count": 95,
     "metadata": {},
     "output_type": "execute_result"
    }
   ],
   "source": [
    "# Write a Python program to find the list of words that are longer than n from a given list of words.\n",
    "def find_longer_word(n):\n",
    "    a = []\n",
    "    for i in n:\n",
    "        if len(i) > 3:\n",
    "            a.append(i)\n",
    "    return a\n",
    "\n",
    "find_longer_word(['wwwe','rgtdtre','re','fgd'])"
   ]
  },
  {
   "cell_type": "code",
   "execution_count": null,
   "id": "a7557fe9",
   "metadata": {},
   "outputs": [],
   "source": []
  },
  {
   "cell_type": "code",
   "execution_count": null,
   "id": "7d3cf0f8",
   "metadata": {},
   "outputs": [],
   "source": []
  },
  {
   "cell_type": "code",
   "execution_count": 78,
   "id": "0adc073a",
   "metadata": {},
   "outputs": [],
   "source": [
    "# OOP Task\n",
    "# Suppose you have a dice and a coin. Now write a program for a game. The game is played twice between 4 players.\n",
    "# The third game is the final which is played between the winner of game 1 and game 2 The game starts when players\n",
    "# roll a dice and toss a coin. - If the dice returns an odd number, the score of the user is same as the number returned\n",
    "# - If the dice returns an even number, the score of the user is twice the number returned. After the dice is rolled, \n",
    "# the players then toss the coin. If the Coin returns Head, then the score is thrice the previous score of the user.\n",
    "# If the Coin returns Tails, then the score is 1 less than the previous score of the user. Write a program in which\n",
    "# Game1 is played between player 1 and player 2. Game 2 is played between player 3 and 4. The final game is played\n",
    "# between the winner of game 1 and game 2. Return a winner amongst four players"
   ]
  },
  {
   "cell_type": "code",
   "execution_count": null,
   "id": "9e18ea17",
   "metadata": {},
   "outputs": [],
   "source": []
  },
  {
   "cell_type": "code",
   "execution_count": null,
   "id": "b851be8e",
   "metadata": {},
   "outputs": [],
   "source": []
  },
  {
   "cell_type": "code",
   "execution_count": null,
   "id": "9a1c22d3",
   "metadata": {},
   "outputs": [],
   "source": []
  },
  {
   "cell_type": "code",
   "execution_count": 79,
   "id": "4805a85f",
   "metadata": {},
   "outputs": [
    {
     "name": "stdout",
     "output_type": "stream",
     "text": [
      "The winner is Player 4 with a score of 7.\n"
     ]
    }
   ],
   "source": [
    "import random\n",
    "\n",
    "class Player:\n",
    "    def __init__(self, name):\n",
    "        self.name = name\n",
    "        self.score = 0\n",
    "    \n",
    "    def play(self):\n",
    "        dice = random.randint(1, 6)\n",
    "        if dice % 2 == 0:\n",
    "            self.score = 2 * dice\n",
    "        else:\n",
    "            self.score = dice\n",
    "        coin = random.choice([\"H\", \"T\"])\n",
    "        if coin == \"H\":\n",
    "            self.score *= 3\n",
    "        else:\n",
    "            self.score -= 1\n",
    "        return self.score\n",
    "\n",
    "# Define the players\n",
    "players = [Player(\"Player 1\"), Player(\"Player 2\"), Player(\"Player 3\"), Player(\"Player 4\")]\n",
    "\n",
    "# Play game 1\n",
    "game1_scores = [players[0].play(), players[1].play()]\n",
    "\n",
    "# Play game 2\n",
    "game2_scores = [players[2].play(), players[3].play()]\n",
    "\n",
    "# Determine the winner of game 1\n",
    "game1_winner = players[0] if game1_scores[0] > game1_scores[1] else players[1]\n",
    "\n",
    "# Determine the winner of game 2\n",
    "game2_winner = players[2] if game2_scores[0] > game2_scores[1] else players[3]\n",
    "\n",
    "# Play the final game\n",
    "final_scores = [game1_winner.play(), game2_winner.play()]\n",
    "\n",
    "# Determine the winner of the final game\n",
    "final_winner = game1_winner if final_scores[0] > final_scores[1] else game2_winner\n",
    "\n",
    "# Print the results\n",
    "print(f\"The winner is {final_winner.name} with a score of {final_winner.score}.\")\n"
   ]
  },
  {
   "cell_type": "code",
   "execution_count": null,
   "id": "100cf493",
   "metadata": {},
   "outputs": [],
   "source": []
  },
  {
   "cell_type": "code",
   "execution_count": null,
   "id": "a4a7b4f4",
   "metadata": {},
   "outputs": [],
   "source": []
  },
  {
   "cell_type": "code",
   "execution_count": null,
   "id": "f89dc74c",
   "metadata": {},
   "outputs": [],
   "source": []
  },
  {
   "cell_type": "code",
   "execution_count": 20,
   "id": "520b3e79",
   "metadata": {},
   "outputs": [
    {
     "name": "stdout",
     "output_type": "stream",
     "text": [
      "True\n"
     ]
    }
   ],
   "source": [
    "#Write a Python function that takes two lists and returns True if they have at least one common member.\n",
    "\n",
    "def check_list(n,a):\n",
    "    result = (\"different list\",False)\n",
    "    for i in n:\n",
    "        for j in a:\n",
    "            if i == j:\n",
    "                return True\n",
    "    return (result)\n",
    "\n",
    "print(check_list([1,2,3,4,6],[6,7,8]))"
   ]
  },
  {
   "cell_type": "code",
   "execution_count": null,
   "id": "2e6d5d3c",
   "metadata": {},
   "outputs": [],
   "source": []
  },
  {
   "cell_type": "code",
   "execution_count": 3,
   "id": "ecd993a6",
   "metadata": {},
   "outputs": [],
   "source": [
    "#  Write a Python program to print a specified list after removing the 0th, 4th and 5th elements. Go to the editor\n",
    "# Sample List : ['Red', 'Green', 'White', 'Black', 'Pink', 'Yellow']\n",
    "# Expected Output : ['Green', 'White', 'Black']"
   ]
  },
  {
   "cell_type": "code",
   "execution_count": 8,
   "id": "98343275",
   "metadata": {},
   "outputs": [
    {
     "name": "stdout",
     "output_type": "stream",
     "text": [
      "['Red', 'Green', 'White', 'Black', 'Pink', 'Yellow', 'wee']\n"
     ]
    }
   ],
   "source": [
    "def specific_list(sample_list):\n",
    "    \n",
    "    for a in sample_list:\n",
    "        if a == (sample_list[0],[4],[5]):\n",
    "            del(a)\n",
    "        \n",
    "    return sample_list\n",
    "    \n",
    "print(specific_list(['Red', 'Green', 'White', 'Black', 'Pink', 'Yellow','wee']) )"
   ]
  },
  {
   "cell_type": "code",
   "execution_count": 9,
   "id": "5ae306fb",
   "metadata": {},
   "outputs": [
    {
     "name": "stdout",
     "output_type": "stream",
     "text": [
      "[2, 4, 6]\n"
     ]
    }
   ],
   "source": [
    "#Write a Python program to print the numbers of a specified list after removing even numbers from it. \n",
    "def spec_list(given_li):\n",
    "    b = []\n",
    "    for a in given_li:\n",
    "        if a % 2 ==0:\n",
    "            b.append(a)\n",
    "    return b\n",
    "\n",
    "print(spec_list([1,2,3,4,5,6]))\n",
    "            "
   ]
  },
  {
   "cell_type": "code",
   "execution_count": 104,
   "id": "85984a57",
   "metadata": {},
   "outputs": [
    {
     "name": "stdout",
     "output_type": "stream",
     "text": [
      "[3, 5, 2, 6, 1, 4]\n"
     ]
    }
   ],
   "source": [
    "#Write a Python program to shuffle and print a specified list.\n",
    "\n",
    "from random import shuffle\n",
    "a = [1,2,3,4,5,6]\n",
    "shuffle(a)\n",
    "print(a)"
   ]
  },
  {
   "cell_type": "code",
   "execution_count": null,
   "id": "653c6e41",
   "metadata": {},
   "outputs": [],
   "source": []
  },
  {
   "cell_type": "code",
   "execution_count": 105,
   "id": "a523fa4d",
   "metadata": {},
   "outputs": [],
   "source": [
    "#Write a Python program to generate and print a list of the first and last 5 elements where the values are square\n",
    "# numbers between 1 and 30 (both included)."
   ]
  },
  {
   "cell_type": "code",
   "execution_count": 117,
   "id": "20eda2cd",
   "metadata": {},
   "outputs": [
    {
     "name": "stdout",
     "output_type": "stream",
     "text": [
      "[1]\n",
      "[1]\n",
      "[1, 4]\n",
      "[1, 4]\n",
      "[1, 4, 9]\n",
      "[1, 4, 9]\n",
      "[1, 4, 9, 16]\n",
      "[1, 4, 9, 16]\n",
      "[1, 4, 9, 16, 25]\n",
      "[1, 4, 9, 16, 25]\n",
      "[1, 4, 9, 16, 25]\n",
      "[4, 9, 16, 25, 36]\n",
      "[1, 4, 9, 16, 25]\n",
      "[9, 16, 25, 36, 49]\n",
      "[1, 4, 9, 16, 25]\n",
      "[16, 25, 36, 49, 64]\n",
      "[1, 4, 9, 16, 25]\n",
      "[25, 36, 49, 64, 81]\n"
     ]
    }
   ],
   "source": [
    "def expected_list():\n",
    "    l = list()\n",
    "    for i in range(1,10):\n",
    "        l.append(i**2)\n",
    "        print(l[:5])\n",
    "        print(l[-5:])\n",
    "              \n",
    "expected_list()            "
   ]
  },
  {
   "cell_type": "code",
   "execution_count": 113,
   "id": "e033b24d",
   "metadata": {},
   "outputs": [
    {
     "name": "stdout",
     "output_type": "stream",
     "text": [
      "[1, 4, 9, 16, 25]\n",
      "[256, 289, 324, 361, 400]\n"
     ]
    }
   ],
   "source": [
    "def printValues():\n",
    "    l = list()\n",
    "    for i in range(1,21):\n",
    "        l.append(i**2)\n",
    "    print(l[:5])\n",
    "    print(l[-5:])\n",
    "\n",
    "printValues()\n"
   ]
  },
  {
   "cell_type": "code",
   "execution_count": null,
   "id": "cb29087f",
   "metadata": {},
   "outputs": [],
   "source": []
  },
  {
   "cell_type": "code",
   "execution_count": null,
   "id": "db27bf2d",
   "metadata": {},
   "outputs": [],
   "source": []
  },
  {
   "cell_type": "code",
   "execution_count": null,
   "id": "d3afe103",
   "metadata": {},
   "outputs": [],
   "source": []
  },
  {
   "cell_type": "code",
   "execution_count": 118,
   "id": "cc852cad",
   "metadata": {},
   "outputs": [],
   "source": [
    " import random\n",
    "def play_game():   \n",
    "    player1 = 0\n",
    "    player2 = 0\n",
    "    player3 = 0\n",
    "    player4 = 0\n",
    "    for i in range(2):\n",
    "        dice = random.randint(1,6)\n",
    "        coin = random.randint(0,1)\n",
    "        if dice%2 == 0:\n",
    "            player1 += dice*2\n",
    "            player2 += dice*2\n",
    "        else:\n",
    "            player1 += dice\n",
    "            player2 += dice\n",
    "        if coin == 0:\n",
    "            player1 *= 3\n",
    "            player2 *= 3\n",
    "        else:\n",
    "            player1 -= 1\n",
    "            player2 -= 1\n",
    "    for i in range(2):\n",
    "        dice = random.randint(1,6)\n",
    "        coin = random.randint(0,1)\n",
    "        if dice%2 == 0:\n",
    "            player3 += dice*2\n",
    "            player4 += dice*2\n",
    "        else:\n",
    "            player3 += dice\n",
    "            player4 += dice\n",
    "        if coin == 0:\n",
    "            player3 *= 3\n",
    "            player4 *= 3\n",
    "        else:\n",
    "            player3 -= 1\n",
    "            player4 -= 1\n",
    "    if player1 > player2:\n",
    "        player1 = player1*2\n",
    "    else:\n",
    "        player2 = player2*2\n",
    "    if player3 > player4:\n",
    "        player3 = player3*2\n",
    "    else:\n",
    "        player4 = player4*2\n",
    "    if player1 > player3:\n",
    "        return 'Player 1'\n",
    "    else:\n",
    "        return 'Player 3'"
   ]
  },
  {
   "cell_type": "code",
   "execution_count": null,
   "id": "1d99f1c5",
   "metadata": {},
   "outputs": [],
   "source": []
  },
  {
   "cell_type": "code",
   "execution_count": null,
   "id": "b2a7caf9",
   "metadata": {},
   "outputs": [],
   "source": [
    "# Write a Python program to generate all permutations of a list in Python."
   ]
  },
  {
   "cell_type": "code",
   "execution_count": 120,
   "id": "1a17667f",
   "metadata": {},
   "outputs": [
    {
     "name": "stdout",
     "output_type": "stream",
     "text": [
      "[(2, 3, 4), (2, 4, 3), (3, 2, 4), (3, 4, 2), (4, 2, 3), (4, 3, 2)]\n"
     ]
    }
   ],
   "source": [
    "import itertools\n",
    "a  = list(itertools.permutations([2,3,4]))\n",
    "print(a)"
   ]
  },
  {
   "cell_type": "code",
   "execution_count": null,
   "id": "642221e9",
   "metadata": {},
   "outputs": [],
   "source": []
  },
  {
   "cell_type": "code",
   "execution_count": 127,
   "id": "8f4e8ad3",
   "metadata": {},
   "outputs": [
    {
     "data": {
      "text/plain": [
       "[1, 2, 3, 8, 6]"
      ]
     },
     "execution_count": 127,
     "metadata": {},
     "output_type": "execute_result"
    }
   ],
   "source": [
    "#Write a Python program to calculate the difference between the two lists.\n",
    "a = [1,2,3,4,5]\n",
    "b = [4,5,6,8,6]\n",
    "c = list(set(a) - set(b))\n",
    "d = list(set(b) - set(a))\n",
    "\n",
    "e = c + d          \n",
    "e          \n",
    "    "
   ]
  },
  {
   "cell_type": "code",
   "execution_count": null,
   "id": "67b203ea",
   "metadata": {},
   "outputs": [],
   "source": []
  },
  {
   "cell_type": "code",
   "execution_count": 132,
   "id": "f5997b33",
   "metadata": {},
   "outputs": [
    {
     "name": "stdout",
     "output_type": "stream",
     "text": [
      "2 0\n",
      "3 1\n",
      "4 2\n",
      "5 3\n",
      "6 4\n"
     ]
    }
   ],
   "source": [
    "# Write a Python program to access the index of a list. \n",
    "a = [2,3,4,5,6]\n",
    "for index_value,index_keys in enumerate(a):\n",
    "    print(index_keys,index_value)\n",
    "    \n",
    "    "
   ]
  },
  {
   "cell_type": "code",
   "execution_count": null,
   "id": "e7c81f56",
   "metadata": {},
   "outputs": [],
   "source": [
    "# enumerate() allows us to iterate through a sequence but it keeps track of both the index and the element.\n",
    "# The enumerate() function takes in an iterable as an argument,such as a list, string, tuple, or dictionary."
   ]
  },
  {
   "cell_type": "code",
   "execution_count": 139,
   "id": "1d3d6e00",
   "metadata": {},
   "outputs": [
    {
     "data": {
      "text/plain": [
       "'qwer'"
      ]
     },
     "execution_count": 139,
     "metadata": {},
     "output_type": "execute_result"
    }
   ],
   "source": [
    "# Write a Python program to convert a list of characters into a string.\n",
    "        \n",
    "a = ['q','w','e','r']\n",
    "b = ''.join(a)\n",
    "b"
   ]
  },
  {
   "cell_type": "code",
   "execution_count": null,
   "id": "e5770824",
   "metadata": {},
   "outputs": [],
   "source": []
  },
  {
   "cell_type": "code",
   "execution_count": 140,
   "id": "c175b993",
   "metadata": {},
   "outputs": [
    {
     "name": "stdout",
     "output_type": "stream",
     "text": [
      "2\n"
     ]
    }
   ],
   "source": [
    "#Write a Python program to find the index of an item in a specified list.\n",
    "a = [1,2,3,4]\n",
    "b = a.index(3)\n",
    "print(b)"
   ]
  },
  {
   "cell_type": "code",
   "execution_count": null,
   "id": "34c67f06",
   "metadata": {},
   "outputs": [],
   "source": []
  },
  {
   "cell_type": "code",
   "execution_count": 141,
   "id": "1cfd6f7b",
   "metadata": {},
   "outputs": [
    {
     "data": {
      "text/plain": [
       "[1, 2, 3, 4, 5, 6, 7, 8, 9]"
      ]
     },
     "execution_count": 141,
     "metadata": {},
     "output_type": "execute_result"
    }
   ],
   "source": [
    "#Write a Python program to flatten a shallow list\n",
    "import itertools\n",
    "a = [[1,2,3],[4,5,6],[7,8,9]]\n",
    "list1 = list(itertools.chain(*a))\n",
    "list1"
   ]
  },
  {
   "cell_type": "code",
   "execution_count": null,
   "id": "b1d7be5c",
   "metadata": {},
   "outputs": [],
   "source": []
  },
  {
   "cell_type": "code",
   "execution_count": 13,
   "id": "e51aa2ba",
   "metadata": {},
   "outputs": [
    {
     "data": {
      "text/plain": [
       "[1, 2, 3, 4, 4, 5, 6, 7]"
      ]
     },
     "execution_count": 13,
     "metadata": {},
     "output_type": "execute_result"
    }
   ],
   "source": [
    "#Write a Python program to append a list to the second list.\n",
    "a = [1,2,3,4]\n",
    "b = [4,5,6,7]\n",
    "\n",
    "# for i in b:\n",
    "#     a.append(i)\n",
    "#     print(a)\n",
    "\n",
    "c = a + b\n",
    "c"
   ]
  },
  {
   "cell_type": "code",
   "execution_count": null,
   "id": "aa53f0aa",
   "metadata": {},
   "outputs": [],
   "source": []
  },
  {
   "cell_type": "code",
   "execution_count": 17,
   "id": "e36fc641",
   "metadata": {},
   "outputs": [
    {
     "name": "stdout",
     "output_type": "stream",
     "text": [
      "4\n"
     ]
    }
   ],
   "source": [
    "# Write a Python program to select an item randomly from a list.\n",
    "import random\n",
    "a = [1,2,3,4,5]\n",
    "print(random.choice(a))\n",
    "    "
   ]
  },
  {
   "cell_type": "code",
   "execution_count": null,
   "id": "ebe8402d",
   "metadata": {},
   "outputs": [],
   "source": []
  },
  {
   "cell_type": "code",
   "execution_count": 21,
   "id": "9b594115",
   "metadata": {},
   "outputs": [
    {
     "name": "stdout",
     "output_type": "stream",
     "text": [
      "identical List\n"
     ]
    }
   ],
   "source": [
    "# Write a Python program to check whether two lists are circularly identical\n",
    "a = [1,2,3,4]\n",
    "b = [1,2,3,4]\n",
    "if a == b:\n",
    "    print(\"identical List\")\n",
    "else:\n",
    "    print(\"not identical\")"
   ]
  },
  {
   "cell_type": "code",
   "execution_count": null,
   "id": "ddada215",
   "metadata": {},
   "outputs": [],
   "source": []
  },
  {
   "cell_type": "code",
   "execution_count": 22,
   "id": "89d6d3c5",
   "metadata": {},
   "outputs": [],
   "source": [
    "# Write a Python program to find the second smallest number in a list."
   ]
  },
  {
   "cell_type": "code",
   "execution_count": 31,
   "id": "c853e19b",
   "metadata": {},
   "outputs": [
    {
     "data": {
      "text/plain": [
       "[5]"
      ]
     },
     "execution_count": 31,
     "metadata": {},
     "output_type": "execute_result"
    }
   ],
   "source": [
    "def second_small_num(list1):\n",
    "    a = []\n",
    "    list1.sort()\n",
    "    a.append(list1[1])\n",
    "    return(a)\n",
    "\n",
    "second_small_num([4,5,6,6])\n",
    "    \n",
    "            \n",
    "                \n",
    "        "
   ]
  },
  {
   "cell_type": "code",
   "execution_count": 30,
   "id": "257497bb",
   "metadata": {},
   "outputs": [
    {
     "data": {
      "text/plain": [
       "[6]"
      ]
     },
     "execution_count": 30,
     "metadata": {},
     "output_type": "execute_result"
    }
   ],
   "source": [
    "#  Write a Python program to find the second largest number in a list\n",
    "def second_small_num(list1):\n",
    "    a = []\n",
    "    list1.sort()\n",
    "    a.append(list1[-2])\n",
    "    return(a)\n",
    "\n",
    "second_small_num([4,5,6,6])"
   ]
  },
  {
   "cell_type": "code",
   "execution_count": 23,
   "id": "c6d1e692",
   "metadata": {},
   "outputs": [
    {
     "data": {
      "text/plain": [
       "[5]"
      ]
     },
     "execution_count": 23,
     "metadata": {},
     "output_type": "execute_result"
    }
   ],
   "source": [
    "#  Write a Python program to find the third largest number in a list\n",
    "def second_small_num(list1):\n",
    "    a = []\n",
    "    list1.sort()\n",
    "    a.append(list1[-3])\n",
    "    return(a)\n",
    "\n",
    "second_small_num([4,5,6,6])"
   ]
  },
  {
   "cell_type": "code",
   "execution_count": 36,
   "id": "12423dc8",
   "metadata": {},
   "outputs": [
    {
     "data": {
      "text/plain": [
       "[4, 6, 7, 8, 9]"
      ]
     },
     "execution_count": 36,
     "metadata": {},
     "output_type": "execute_result"
    }
   ],
   "source": [
    "# Write a Python program to get unique values from a list. \n",
    "\n",
    "a = [4,6,7,7,8,9]\n",
    "b = set(a)\n",
    "c = list(b)\n",
    "c\n"
   ]
  },
  {
   "cell_type": "code",
   "execution_count": null,
   "id": "a0101ff6",
   "metadata": {},
   "outputs": [],
   "source": []
  },
  {
   "cell_type": "code",
   "execution_count": 37,
   "id": "8807eac5",
   "metadata": {},
   "outputs": [],
   "source": [
    " #Write a Python program to get the frequency of elements in a list."
   ]
  },
  {
   "cell_type": "code",
   "execution_count": 39,
   "id": "692eac82",
   "metadata": {},
   "outputs": [
    {
     "name": "stdout",
     "output_type": "stream",
     "text": [
      "orignal_list [3, 3, 4, 4, 6, 7, 8, 8, 8, 99, 99, 99, 99, 99]\n",
      "Requency of list:  Counter({99: 5, 8: 3, 3: 2, 4: 2, 6: 1, 7: 1})\n"
     ]
    }
   ],
   "source": [
    "import collections\n",
    "s = [3,3,4,4,6,7,8,8,8,99,99,99,99,99]\n",
    "print(\"orignal_list\",s)\n",
    "t = collections.Counter(s)\n",
    "print(\"Requency of list: \", t)"
   ]
  },
  {
   "cell_type": "code",
   "execution_count": 40,
   "id": "5494e00d",
   "metadata": {},
   "outputs": [],
   "source": [
    "#  Write a Python program to count the number of elements in a list within a specified range"
   ]
  },
  {
   "cell_type": "code",
   "execution_count": 45,
   "id": "bf4ce79b",
   "metadata": {},
   "outputs": [
    {
     "data": {
      "text/plain": [
       "[8, 9]"
      ]
     },
     "execution_count": 45,
     "metadata": {},
     "output_type": "execute_result"
    }
   ],
   "source": [
    "a = [5,7,8,9,0,7]\n",
    "b = a[2:4]\n",
    "b"
   ]
  },
  {
   "cell_type": "code",
   "execution_count": 51,
   "id": "1498a7b8",
   "metadata": {},
   "outputs": [
    {
     "name": "stdout",
     "output_type": "stream",
     "text": [
      "7\n"
     ]
    }
   ],
   "source": [
    "def range_of_list(list1,min,max):\n",
    "    a = 0\n",
    "    for i in list1:\n",
    "        if min <= i <= max:\n",
    "            a += 1\n",
    "    return a\n",
    "\n",
    "a = [3,4,5,6,77,77,666,44,33]\n",
    "print(range_of_list(a,4,88))"
   ]
  },
  {
   "cell_type": "code",
   "execution_count": 57,
   "id": "0a2c9f56",
   "metadata": {},
   "outputs": [
    {
     "name": "stdout",
     "output_type": "stream",
     "text": [
      "[3, 4, 5, 6, 7, 7, 8, 8] [4, 5]\n"
     ]
    }
   ],
   "source": [
    "# Write a Python program to check whether a list contains a sublist.\n",
    "def check_sub_list(a,sub_list):\n",
    "    for i in a:\n",
    "        for j in sub_list:\n",
    "            \n",
    "            if j in i:\n",
    "                print(\"its a sublist: \",sub_list)\n",
    "            else:\n",
    "                (\"not  a sub list\")\n",
    "a = [3,4,5,6,7,7,8,8]\n",
    "print(a,[4,5])\n",
    "    \n"
   ]
  },
  {
   "cell_type": "code",
   "execution_count": null,
   "id": "3893ddb0",
   "metadata": {},
   "outputs": [],
   "source": []
  },
  {
   "cell_type": "markdown",
   "id": "cc0c1d38",
   "metadata": {},
   "source": [
    "### Q_No_33"
   ]
  },
  {
   "cell_type": "code",
   "execution_count": 5,
   "id": "f3d8bc95",
   "metadata": {},
   "outputs": [
    {
     "name": "stdout",
     "output_type": "stream",
     "text": [
      "Original list:\n",
      "[10, 20, 30, 40]\n",
      "S\n",
      "[[], [10], [20], [30], [40], [10, 20], [10, 30], [10, 40], [20, 30], [20, 40], [30, 40], [10, 20, 30], [10, 20, 40], [10, 30, 40], [20, 30, 40], [10, 20, 30, 40]]\n",
      "Sublists of the said list:\n",
      "[[], [10], [20], [30], [40], [10, 20], [10, 30], [10, 40], [20, 30], [20, 40], [30, 40], [10, 20, 30], [10, 20, 40], [10, 30, 40], [20, 30, 40], [10, 20, 30, 40]]\n",
      "\n",
      "Original list:\n",
      "['X', 'Y', 'Z']\n",
      "Sublists of the said list:\n",
      "[[], ['X'], ['Y'], ['Z'], ['X', 'Y'], ['X', 'Z'], ['Y', 'Z'], ['X', 'Y', 'Z']]\n"
     ]
    }
   ],
   "source": [
    "# Write a Python program to generate all sublists of a list.\n",
    "from itertools import combinations\n",
    "\n",
    "\n",
    "from itertools import combinations\n",
    "def sub_lists(my_list):\n",
    "\tsubs = []\n",
    "\tfor i in range(0, len(my_list)+1):\n",
    "\t    temp = [list(x) for x in combinations(my_list, i)]\n",
    "\t    if len(temp)>0:\n",
    "\t        subs.extend(temp)\n",
    "\treturn subs\n",
    "\n",
    "\n",
    "l1 = [10, 20, 30, 40]\n",
    "l2 = ['X', 'Y', 'Z']\n",
    "print(\"Original list:\")\n",
    "print(l1)\n",
    "print(\"S\")\n",
    "print(sub_lists(l1))\n",
    "print(\"Sublists of the said list:\")\n",
    "print(sub_lists(l1))\n",
    "print(\"\\nOriginal list:\")\n",
    "print(l2)\n",
    "print(\"Sublists of the said list:\")\n",
    "print(sub_lists(l2))\n"
   ]
  },
  {
   "cell_type": "code",
   "execution_count": null,
   "id": "8ade885b",
   "metadata": {},
   "outputs": [],
   "source": []
  },
  {
   "cell_type": "markdown",
   "id": "405a1a78",
   "metadata": {},
   "source": [
    "### Q_NO_34"
   ]
  },
  {
   "cell_type": "code",
   "execution_count": 7,
   "id": "b09e163f",
   "metadata": {},
   "outputs": [
    {
     "name": "stdout",
     "output_type": "stream",
     "text": [
      "2\n",
      "3\n",
      "5\n",
      "7\n",
      "11\n",
      "13\n",
      "17\n",
      "19\n",
      "23\n",
      "29\n",
      "31\n",
      "37\n",
      "41\n",
      "43\n",
      "47\n",
      "53\n",
      "59\n",
      "61\n",
      "67\n",
      "71\n",
      "73\n",
      "79\n",
      "83\n",
      "89\n",
      "97\n",
      "None\n"
     ]
    }
   ],
   "source": [
    "# Write a Python program that uses the Sieve of Eratosthenes method to compute prime numbers up to a specified number. \n",
    "\n",
    "# Note: In mathematics, the sieve of Eratosthenes, (Ancient Greek: κόσκινον Ἐρατοσθένους, kóskinon Eratosthénous) one of \n",
    "#       a number of prime number sieves, is a simple, ancient algorithm for finding all prime numbers up to any given limit.\n",
    "\n",
    "def prime_eratosthenes(n):\n",
    "    prime_list = []\n",
    "    for i in range(2, n+1):\n",
    "        if i not in prime_list:\n",
    "            print (i)\n",
    "            for j in range(i*i, n+1, i):\n",
    "                prime_list.append(j)\n",
    "\n",
    "print(prime_eratosthenes(100));\n"
   ]
  },
  {
   "cell_type": "markdown",
   "id": "bc1a6106",
   "metadata": {},
   "source": [
    "### Q_NO_35"
   ]
  },
  {
   "cell_type": "code",
   "execution_count": 9,
   "id": "b4dcbea4",
   "metadata": {},
   "outputs": [],
   "source": [
    "# Write a Python program to create a list by concatenating a given list with a range from 1 to n. Go to the editor\n",
    "# Sample list : ['p', 'q']\n",
    "# n =5\n",
    "# Sample Output : ['p1', 'q1', 'p2', 'q2', 'p3', 'q3', 'p4', 'q4', 'p5', 'q5']\n",
    "\n"
   ]
  },
  {
   "cell_type": "code",
   "execution_count": 10,
   "id": "e62c75c5",
   "metadata": {},
   "outputs": [
    {
     "name": "stdout",
     "output_type": "stream",
     "text": [
      "['p1', 'q1', 'p2', 'q2', 'p3', 'q3', 'p4', 'q4']\n"
     ]
    }
   ],
   "source": [
    "my_list = ['p', 'q']\n",
    "n = 4\n",
    "new_list = ['{}{}'.format(x, y) for y in range(1, n+1) for x in my_list]\n",
    "print(new_list)\n"
   ]
  },
  {
   "cell_type": "code",
   "execution_count": null,
   "id": "bb368b1f",
   "metadata": {},
   "outputs": [],
   "source": []
  },
  {
   "cell_type": "markdown",
   "id": "332237a4",
   "metadata": {},
   "source": [
    "### Q_NO_36"
   ]
  },
  {
   "cell_type": "code",
   "execution_count": 31,
   "id": "f7fcbfff",
   "metadata": {},
   "outputs": [
    {
     "data": {
      "text/plain": [
       "True"
      ]
     },
     "execution_count": 31,
     "metadata": {},
     "output_type": "execute_result"
    }
   ],
   "source": [
    "#  Check if a list contains an element\n",
    "l = [1,2,3,4,5]\n",
    "\n",
    "1 in l"
   ]
  },
  {
   "cell_type": "markdown",
   "id": "6a5b345e",
   "metadata": {},
   "source": [
    "### Q_NO_37"
   ]
  },
  {
   "cell_type": "code",
   "execution_count": 45,
   "id": "a41ba348",
   "metadata": {},
   "outputs": [
    {
     "name": "stdout",
     "output_type": "stream",
     "text": [
      "1 4\n",
      "2 5\n",
      "3 6\n",
      "4 7\n",
      "6 8\n"
     ]
    }
   ],
   "source": [
    "# How to iterate over 2+ lists at the same time\n",
    "l = [1,2,3,4,6]\n",
    "k = [4,5,6,7,8]\n",
    "for (i,j) in zip(l,k):\n",
    "    print(i,j)"
   ]
  },
  {
   "cell_type": "markdown",
   "id": "bde9b482",
   "metadata": {},
   "source": [
    "### Q_NO_38"
   ]
  },
  {
   "cell_type": "code",
   "execution_count": 46,
   "id": "72b95d5c",
   "metadata": {},
   "outputs": [
    {
     "data": {
      "text/plain": [
       "2"
      ]
     },
     "execution_count": 46,
     "metadata": {},
     "output_type": "execute_result"
    }
   ],
   "source": [
    "# Find the index of the 1st matching element\n",
    "l = [1,2,3,4]\n",
    "l.index(3)"
   ]
  },
  {
   "cell_type": "markdown",
   "id": "2ce47f9e",
   "metadata": {},
   "source": [
    "### Q_NO_39"
   ]
  },
  {
   "cell_type": "code",
   "execution_count": 49,
   "id": "dc1471ac",
   "metadata": {},
   "outputs": [
    {
     "data": {
      "text/plain": [
       "True"
      ]
     },
     "execution_count": 49,
     "metadata": {},
     "output_type": "execute_result"
    }
   ],
   "source": [
    "# How to check if an element is not in a list?\n",
    "l = [34,5,6,7,8]\n",
    "34 not in l\n",
    "22 not in l"
   ]
  },
  {
   "cell_type": "markdown",
   "id": "3dd378f0",
   "metadata": {},
   "source": [
    "#### Q_NO_40"
   ]
  },
  {
   "cell_type": "code",
   "execution_count": 53,
   "id": "859c983c",
   "metadata": {},
   "outputs": [
    {
     "name": "stdout",
     "output_type": "stream",
     "text": [
      "5\n",
      "10\n",
      "15\n",
      "20\n",
      "25\n"
     ]
    }
   ],
   "source": [
    "# Multiply every element in a list by 5 with the map function\n",
    "a = [1,2,3,4,5]\n",
    "for i in a:\n",
    "    print(i*5)\n",
    "    \n",
    "   "
   ]
  },
  {
   "cell_type": "code",
   "execution_count": 55,
   "id": "741b5c2e",
   "metadata": {},
   "outputs": [
    {
     "data": {
      "text/plain": [
       "[5, 10, 15, 20]"
      ]
     },
     "execution_count": 55,
     "metadata": {},
     "output_type": "execute_result"
    }
   ],
   "source": [
    "def mul_5(values):\n",
    "    return values * 5\n",
    "a = [1,2,3,4]\n",
    "[values for values in map(mul_5,a)]"
   ]
  },
  {
   "cell_type": "markdown",
   "id": "c66cd54f",
   "metadata": {},
   "source": [
    "### Q_NO_41"
   ]
  },
  {
   "cell_type": "code",
   "execution_count": 57,
   "id": "f1a960dd",
   "metadata": {},
   "outputs": [
    {
     "data": {
      "text/plain": [
       "[1, 2, 4]"
      ]
     },
     "execution_count": 57,
     "metadata": {},
     "output_type": "execute_result"
    }
   ],
   "source": [
    "# Remove negative values from a list with the filter function\n",
    "def rem_neg(li):\n",
    "    return True if li > 0 else False\n",
    "a = [1,2,-4,-3,4,-4]\n",
    "[val for val in filter(rem_neg,a)]"
   ]
  },
  {
   "cell_type": "markdown",
   "id": "7984a30c",
   "metadata": {},
   "source": [
    "### Q_NO_42"
   ]
  },
  {
   "cell_type": "code",
   "execution_count": null,
   "id": "1074c5db",
   "metadata": {},
   "outputs": [],
   "source": [
    "# Remove positive values from a list with the filter function\n",
    "\n",
    "def remove_neg(lists):\n",
    "    return True if lists < 0 else False\n",
    "\n",
    "a = [1,2,-5,-3,5,-1]\n",
    "[y for y in filter(remove_neg,a)]"
   ]
  },
  {
   "cell_type": "markdown",
   "id": "5b2e3b16",
   "metadata": {},
   "source": [
    "### Q_NO_43"
   ]
  },
  {
   "cell_type": "code",
   "execution_count": 59,
   "id": "be9e6898",
   "metadata": {},
   "outputs": [
    {
     "data": {
      "text/plain": [
       "[5, 10, 15, 20, 25]"
      ]
     },
     "execution_count": 59,
     "metadata": {},
     "output_type": "execute_result"
    }
   ],
   "source": [
    "# multiply a list with 5  with a lambda function\n",
    "a = [1,2,3,4,5]\n",
    "list(map(lambda x: x * 5, a))"
   ]
  },
  {
   "cell_type": "markdown",
   "id": "e9536f56",
   "metadata": {},
   "source": [
    "#### Q_NO_44"
   ]
  },
  {
   "cell_type": "code",
   "execution_count": 71,
   "id": "b4d58ea4",
   "metadata": {},
   "outputs": [
    {
     "data": {
      "text/plain": [
       "[7, 8, 9, 0, 2, 3, 4, 4, 5, 6, 6, 7, 8, 8]"
      ]
     },
     "execution_count": 71,
     "metadata": {},
     "output_type": "execute_result"
    }
   ],
   "source": [
    "#  Remove elements in a list after a specific index\n",
    "a = [1,2,3,4,5,6,7,8,9,0,2,3,4,4,5,6,6,7,8,8]\n",
    "a[6:]\n"
   ]
  },
  {
   "cell_type": "code",
   "execution_count": null,
   "id": "3301d60f",
   "metadata": {},
   "outputs": [],
   "source": []
  },
  {
   "cell_type": "code",
   "execution_count": null,
   "id": "b2918e5b",
   "metadata": {},
   "outputs": [],
   "source": []
  },
  {
   "cell_type": "code",
   "execution_count": null,
   "id": "fbd86fbc",
   "metadata": {},
   "outputs": [],
   "source": []
  },
  {
   "cell_type": "markdown",
   "id": "c7615151",
   "metadata": {},
   "source": [
    "### Python interview_10_Questons"
   ]
  },
  {
   "cell_type": "markdown",
   "id": "c3845afc",
   "metadata": {},
   "source": [
    "### Q_NO_1"
   ]
  },
  {
   "cell_type": "code",
   "execution_count": 59,
   "id": "e5a7ac01",
   "metadata": {},
   "outputs": [
    {
     "name": "stdout",
     "output_type": "stream",
     "text": [
      "6\n"
     ]
    }
   ],
   "source": [
    "# Write a function named as solution which takes a list of numbers as argument and returns sum of these numbers.\n",
    "def solution(list1):\n",
    "    a = sum(list1)\n",
    "    return a\n",
    "print(solution([1,2,3]))"
   ]
  },
  {
   "cell_type": "markdown",
   "id": "4727535a",
   "metadata": {},
   "source": [
    "### Q_NO_2"
   ]
  },
  {
   "cell_type": "code",
   "execution_count": 71,
   "id": "938a27ca",
   "metadata": {},
   "outputs": [
    {
     "name": "stdout",
     "output_type": "stream",
     "text": [
      "[2]\n"
     ]
    }
   ],
   "source": [
    "# Write a function named as solution which takes a list of integers as argument and returns the count of even numbers.\n",
    "def Solution(list1):\n",
    "    a = []\n",
    "    for i in list1:\n",
    "        if i / 2 == 1:\n",
    "            a.append(i)\n",
    "    return a\n",
    "\n",
    "print(Solution([1,2,3,4,5]))\n"
   ]
  },
  {
   "cell_type": "code",
   "execution_count": 79,
   "id": "9eece1de",
   "metadata": {},
   "outputs": [
    {
     "name": "stdout",
     "output_type": "stream",
     "text": [
      "2\n"
     ]
    }
   ],
   "source": [
    "def solution(list1):\n",
    "    a = 0\n",
    "    for i in list1:\n",
    "        if i % 2 == 0:\n",
    "            a +=1\n",
    "    return a\n",
    "print(solution([1,2,3,4,5]))"
   ]
  },
  {
   "cell_type": "code",
   "execution_count": 76,
   "id": "625ee50f",
   "metadata": {},
   "outputs": [],
   "source": [
    "def solution1(numbers):\n",
    "    count = 0\n",
    "    for num in numbers:\n",
    "        if num % 2 == 0:\n",
    "            count += 1\n",
    "    return count\n"
   ]
  },
  {
   "cell_type": "code",
   "execution_count": 77,
   "id": "2da425ef",
   "metadata": {},
   "outputs": [
    {
     "data": {
      "text/plain": [
       "2"
      ]
     },
     "execution_count": 77,
     "metadata": {},
     "output_type": "execute_result"
    }
   ],
   "source": [
    "solution1([1,2,3,4,5])"
   ]
  },
  {
   "cell_type": "markdown",
   "id": "660aab86",
   "metadata": {},
   "source": [
    "### Q_NO_3"
   ]
  },
  {
   "cell_type": "code",
   "execution_count": 84,
   "id": "f4559d70",
   "metadata": {},
   "outputs": [
    {
     "name": "stdout",
     "output_type": "stream",
     "text": [
      "[5, 10]\n"
     ]
    }
   ],
   "source": [
    "# Write a function named as solution which a string as argument and returns the number of letters and digits (list).\n",
    "\n",
    "# Example 1\n",
    "# In: solution(‘hello3wor1ld’)\n",
    "# [10,2]\n",
    "\n",
    "def solution2(string):\n",
    "    letter = 0\n",
    "    digits = 0\n",
    "    for i in string:\n",
    "        if i.isdigit():\n",
    "            digits +=1\n",
    "        elif i.isalpha():\n",
    "            letter += 1\n",
    "    return([digits,letter])\n",
    "            \n",
    "print(solution2('sdfg1043hxcvhh3'))"
   ]
  },
  {
   "cell_type": "code",
   "execution_count": 85,
   "id": "5d9777e3",
   "metadata": {},
   "outputs": [],
   "source": [
    "def solution(s):\n",
    "    letters = 0\n",
    "    digits = 0\n",
    "    for char in s:\n",
    "        if char.isdigit():\n",
    "            digits += 1\n",
    "        elif char.isalpha():\n",
    "            letters += 1\n",
    "    return [letters, digits]\n"
   ]
  },
  {
   "cell_type": "code",
   "execution_count": null,
   "id": "251b2b4c",
   "metadata": {},
   "outputs": [],
   "source": []
  },
  {
   "cell_type": "markdown",
   "id": "4c5c874f",
   "metadata": {},
   "source": [
    "#### Q_No_4"
   ]
  },
  {
   "cell_type": "code",
   "execution_count": 86,
   "id": "c016a94e",
   "metadata": {},
   "outputs": [],
   "source": [
    "# A website requires a password to register a user. Write a function solution which inputs a password (string) and validate\n",
    "# it on following rules.\n",
    "\n",
    "# Password should contain at least one letter from [a-z]\n",
    "# Password should contain at least one letter from [A-Z]\n",
    "# Password should contain at least one character from [@,$,#]\n",
    "# Password should contain at least one digit from [0-9]\n",
    "# Password should have a minimum length of 6.\n",
    "\n",
    "# The function will return True in case of valid password and False in case of in-valid password.\n",
    "\n",
    "# Example 1\n",
    "# In: solution(‘helloworld’)\n",
    "# Out: False\n",
    "\n",
    "# Example 2\n",
    "# In: solution(’Abc$123’)\n",
    "# Out: True\n",
    "# Example 3\n",
    "# In: solution(’12345678’)\n",
    "# Out: False"
   ]
  },
  {
   "cell_type": "code",
   "execution_count": 95,
   "id": "7f3ecc26",
   "metadata": {},
   "outputs": [
    {
     "data": {
      "text/plain": [
       "False"
      ]
     },
     "execution_count": 95,
     "metadata": {},
     "output_type": "execute_result"
    }
   ],
   "source": [
    "def soulution(password):\n",
    "    if len(password) < 0:\n",
    "        return False\n",
    "    has_lower = False\n",
    "    has_upper = False\n",
    "    has_special = False\n",
    "    has_digit = False\n",
    "    for a in password:\n",
    "        if a.islower():\n",
    "            has_lower = True\n",
    "        elif a.isupper():\n",
    "            has_upper = True\n",
    "        elif a.isupper():\n",
    "            has_upper = True\n",
    "#         elif a.isspecial():\n",
    "#             has_upper = True\n",
    "        elif a.isdigit():\n",
    "            has_digit = True\n",
    "        elif i in ['@','$','#']:\n",
    "            has_special  =True\n",
    "\n",
    "    return has_lower and has_upper and has_special and has_digit\n",
    "# soulution('1234f@43')\n",
    "soulution('Aa1$gf2')"
   ]
  },
  {
   "cell_type": "code",
   "execution_count": null,
   "id": "33250121",
   "metadata": {},
   "outputs": [],
   "source": []
  },
  {
   "cell_type": "markdown",
   "id": "e232c1f0",
   "metadata": {},
   "source": [
    "### Q_NO_5"
   ]
  },
  {
   "cell_type": "code",
   "execution_count": 96,
   "id": "742c77e3",
   "metadata": {},
   "outputs": [],
   "source": [
    "# You are a advance cryptographers and you have to write a code for it. In the code, every lowercase letter [a..z] is \n",
    "# replaced with the corresponding one in [z..a], while every other character (including uppercase letters and punctuation) \n",
    "# is left untouched. That is, 'a' becomes 'z', 'b' becomes 'y', 'c' becomes 'x', etc. For instance, the word \"\"vmxibkgrlm\"\",\n",
    "# when decoded, would become \"\"encryption\"\".\n",
    "\n",
    "# Write a function called solution which takes in a string and returns the deciphered string.\n",
    "\n",
    "\n",
    "# Example 1\n",
    "# In: solution('\"vmxibkgrlm\"')\n",
    "# Out: \"encryption\"\n",
    "\n",
    "# Example 2\n",
    "# In: solution(\"wrw blf hvv ozhg mrtsg'h vkrhlwv?\")\n",
    "# Out: did you see last night's episode?\n",
    "\n",
    "# ASCII values  of alphabets: A – Z = 65 to 90, a – z = 97 to 122 "
   ]
  },
  {
   "cell_type": "code",
   "execution_count": 98,
   "id": "f438f01d",
   "metadata": {},
   "outputs": [
    {
     "data": {
      "text/plain": [
       "'usqsswh'"
      ]
     },
     "execution_count": 98,
     "metadata": {},
     "output_type": "execute_result"
    }
   ],
   "source": [
    "def solution(charcter):\n",
    "    ch = ''\n",
    "    for i in charcter:\n",
    "        if i.islower():\n",
    "            ch += chr(122 - ord(i) + 97)\n",
    "        else:\n",
    "            ch += i\n",
    "    return ch\n",
    "\n",
    "solution('fhjhhds')\n",
    "        \n",
    "            "
   ]
  },
  {
   "cell_type": "markdown",
   "id": "4f7c1439",
   "metadata": {},
   "source": [
    "### # Q_NO_6"
   ]
  },
  {
   "cell_type": "code",
   "execution_count": 99,
   "id": "1f7a8272",
   "metadata": {},
   "outputs": [],
   "source": [
    "# Write a function named as solution which takes a list containing strings with versions numbers separated by two dots as argument.\n",
    "# This function should return the versions after sorting.\n",
    "\n",
    "# Example 1\n",
    "# In: solution([‘1.2.1’,‘1.0.9’,‘0.7.6’,‘7.4.0’,‘2.1.3’])\n",
    "# Out: [‘0.7.6‘,‘1.0.9’,‘1.2.1’,‘2.1.3’,’7.4.0’]\n",
    "\n",
    "# Example 2\n",
    "# In: solution([‘0.0.3’,‘0.0.1’,‘3.3.0’,‘2.1.6’])\n",
    "# Out: [‘0.0.1’,‘0.0.3’,‘2.1.6’,‘3.3.0’]\n",
    "\n",
    "def solution(versions):\n",
    "    def version_to_tuple(version):\n",
    "        return tuple(map(int, version.split(\".\")))\n",
    "    return sorted(versions, key=version_to_tuple)\n"
   ]
  },
  {
   "cell_type": "code",
   "execution_count": null,
   "id": "a81e9ea8",
   "metadata": {},
   "outputs": [],
   "source": []
  },
  {
   "cell_type": "markdown",
   "id": "ef0be097",
   "metadata": {},
   "source": [
    "### Q_NO_7"
   ]
  },
  {
   "cell_type": "code",
   "execution_count": 2,
   "id": "9f20acc8",
   "metadata": {},
   "outputs": [
    {
     "name": "stdout",
     "output_type": "stream",
     "text": [
      "V\n"
     ]
    }
   ],
   "source": [
    "# In Excel the column is labelled with alphabets A, B, C and so on. After Z the next column is assigned AA, AB, AC, …., ZY, ZZ, AAA, AAB and so on.\n",
    "\n",
    "# Write a function named as solution which takes an integer as argument and returns its corresponding column label.\n",
    "\n",
    "# Example 1\n",
    "# In: solution(1)\n",
    "# Out: ’A’\n",
    "\n",
    "# Example 2\n",
    "# In: solution(26)\n",
    "# Out: ’Z’\n",
    "\n",
    "def solution(num):\n",
    "    if num <= 0:\n",
    "        return \"Invalid column number\"\n",
    "\n",
    "    column = \"\"\n",
    "    while num > 0:\n",
    "        num -= 1\n",
    "        column = chr(num % 26 + ord('A')) + column\n",
    "        num = num // 26\n",
    "\n",
    "    return column\n",
    "print(solution(22))"
   ]
  },
  {
   "cell_type": "code",
   "execution_count": null,
   "id": "a85eba9e",
   "metadata": {},
   "outputs": [],
   "source": [
    "def solution(num):\n",
    "    if num <= 0:\n",
    "        return \"invalid character\"\n",
    "    column = \"\"\n",
    "    while num > 0:\n",
    "        num -= 1\n",
    "        column = chr(num % 26 + ord('A')) + column\n",
    "        num  = num // 26\n",
    "    return column\n",
    "solution((3))"
   ]
  },
  {
   "cell_type": "code",
   "execution_count": null,
   "id": "2c584e64",
   "metadata": {},
   "outputs": [],
   "source": []
  },
  {
   "cell_type": "code",
   "execution_count": 7,
   "id": "07650d34",
   "metadata": {},
   "outputs": [
    {
     "name": "stdout",
     "output_type": "stream",
     "text": [
      "['1.jpeg', '2.jpeg']\n",
      "[('1.jpeg', 'cat'), ('2.jpeg', 'dog'), ('1.jpeg', 'elefent')]\n"
     ]
    }
   ],
   "source": [
    "ls = ['1.jpeg','2.jpeg']\n",
    "print(ls)\n",
    "ls1 = [('1.jpeg','cat'),('2.jpeg','dog'),('1.jpeg','elefent')]\n",
    "print(ls1)"
   ]
  },
  {
   "cell_type": "code",
   "execution_count": 8,
   "id": "60276d2f",
   "metadata": {},
   "outputs": [],
   "source": [
    "for i in ls:\n",
    "    for j in ls1:\n",
    "        if i == j:\n",
    "            print(i,j)"
   ]
  },
  {
   "cell_type": "code",
   "execution_count": 9,
   "id": "df17156d",
   "metadata": {},
   "outputs": [
    {
     "name": "stdout",
     "output_type": "stream",
     "text": [
      "2.jpeg ('1.jpeg', 'elefent')\n"
     ]
    }
   ],
   "source": [
    "print(i,j)"
   ]
  },
  {
   "cell_type": "code",
   "execution_count": 10,
   "id": "a5be764a",
   "metadata": {},
   "outputs": [
    {
     "name": "stdout",
     "output_type": "stream",
     "text": [
      "['1.jpeg', '2.jpeg']\n",
      "[('1.jpeg', 'cat'), ('2.jpeg', 'dog'), ('1.jpeg', 'elephant')]\n",
      "[{'1.jpeg': ['cat', 'elephant']}, {'2.jpeg': 'dog'}]\n"
     ]
    }
   ],
   "source": [
    "ls = ['1.jpeg','2.jpeg']\n",
    "print(ls)\n",
    "\n",
    "ls1 = [('1.jpeg','cat'),('2.jpeg','dog'),('1.jpeg','elephant')]\n",
    "print(ls1)\n",
    "\n",
    "# Create an empty dictionary to store the results\n",
    "result = {}\n",
    "\n",
    "# Loop through each item in ls1\n",
    "for item in ls1:\n",
    "    # Extract the filename and label from the current item\n",
    "    filename, label = item\n",
    "    \n",
    "    # Check if the current filename is already in the dictionary\n",
    "    if filename in result:\n",
    "        # If the filename is already in the dictionary, append the current label to its list of labels\n",
    "        result[filename].append(label)\n",
    "    else:\n",
    "        # If the filename is not in the dictionary, create a new key-value pair with the filename as the key and the label as the value\n",
    "        result[filename] = [label]\n",
    "\n",
    "# Convert the dictionary to a list of dictionaries\n",
    "result_list = [ { k: v[0] } if len(v) == 1 else { k: v } for k, v in result.items() ]\n",
    "\n",
    "# Print the final result\n",
    "print(result_list)\n"
   ]
  },
  {
   "cell_type": "code",
   "execution_count": 11,
   "id": "c2be9725",
   "metadata": {},
   "outputs": [
    {
     "name": "stdout",
     "output_type": "stream",
     "text": [
      "['1.jpeg', '2.jpeg']\n",
      "[('1.jpeg', 'cat'), ('2.jpeg', 'dog'), ('1.jpeg', 'elephant')]\n",
      "[{'1.jpeg': ['cat', 'elephant'], '2.jpeg': 'dog'}]\n"
     ]
    }
   ],
   "source": [
    "# Define the input list\n",
    "ls = ['1.jpeg', '2.jpeg']\n",
    "print(ls)\n",
    "\n",
    "# Define the list of tuples\n",
    "ls1 = [('1.jpeg', 'cat'), ('2.jpeg', 'dog'), ('1.jpeg', 'elephant')]\n",
    "print(ls1)\n",
    "\n",
    "# Create an empty dictionary\n",
    "output = {}\n",
    "\n",
    "# Loop through the list of tuples\n",
    "for tup in ls1:\n",
    "    if tup[0] in ls:  # Check if the filename is in the input list\n",
    "        # Add or update the corresponding key-value pair in the dictionary\n",
    "        output.setdefault(tup[0], []).append(tup[1])\n",
    "\n",
    "# Print the final output\n",
    "print([ {k:v[0] if len(v) == 1 else v for k,v in output.items()} ])\n"
   ]
  },
  {
   "cell_type": "code",
   "execution_count": 12,
   "id": "74e13185",
   "metadata": {},
   "outputs": [
    {
     "name": "stdout",
     "output_type": "stream",
     "text": [
      "['1.jpeg', '2.jpeg']\n",
      "[('1.jpeg', 'cat'), ('2.jpeg', 'dog'), ('1.jpeg', 'elephant')]\n",
      "[{'1.jpeg': ['cat', 'elephant']}, {'2.jpeg': ['dog']}]\n"
     ]
    }
   ],
   "source": [
    "ls = ['1.jpeg','2.jpeg']\n",
    "print(ls)\n",
    "\n",
    "ls1 = [('1.jpeg','cat'),('2.jpeg','dog'),('1.jpeg','elephant')]\n",
    "print(ls1)\n",
    "\n",
    "output_dict = {}\n",
    "\n",
    "for item in ls1:\n",
    "    if item[0] in output_dict:\n",
    "        output_dict[item[0]].append(item[1])\n",
    "    else:\n",
    "        output_dict[item[0]] = [item[1]]\n",
    "\n",
    "# Convert the dictionary to a list of dictionaries\n",
    "output_list = [{k: v} for k, v in output_dict.items()]\n",
    "\n",
    "print(output_list)\n"
   ]
  },
  {
   "cell_type": "code",
   "execution_count": null,
   "id": "95a3f7c2",
   "metadata": {},
   "outputs": [],
   "source": []
  },
  {
   "cell_type": "code",
   "execution_count": 13,
   "id": "f7c4bbf2",
   "metadata": {},
   "outputs": [
    {
     "name": "stdout",
     "output_type": "stream",
     "text": [
      "['1.jpeg', '2.jpeg']\n",
      "[('1.jpeg', 'cat'), ('2.jpeg', 'dog'), ('1.jpeg', 'elephant')]\n",
      "[{'1.jpeg': ['cat', 'elephant']}, {'2.jpeg': ['dog']}]\n"
     ]
    }
   ],
   "source": [
    "ls = ['1.jpeg', '2.jpeg']\n",
    "print(ls)\n",
    "\n",
    "ls1 = [('1.jpeg', 'cat'), ('2.jpeg', 'dog'), ('1.jpeg', 'elephant')]\n",
    "print(ls1)\n",
    "\n",
    "# create an empty dictionary\n",
    "result_dict = {}\n",
    "\n",
    "# loop through ls and add keys to the dictionary\n",
    "for file_name in ls:\n",
    "    result_dict[file_name] = []\n",
    "\n",
    "# loop through ls1 and add animal names to the dictionary\n",
    "for file_name, animal_name in ls1:\n",
    "    result_dict[file_name].append(animal_name)\n",
    "\n",
    "# convert the dictionary to a list of dictionaries with filename as key and animal as value\n",
    "result_list = [{k:v} for k,v in result_dict.items()]\n",
    "\n",
    "print(result_list)\n"
   ]
  },
  {
   "cell_type": "code",
   "execution_count": null,
   "id": "c9db7ba6",
   "metadata": {},
   "outputs": [],
   "source": []
  },
  {
   "cell_type": "code",
   "execution_count": null,
   "id": "8e9ae962",
   "metadata": {},
   "outputs": [],
   "source": []
  },
  {
   "cell_type": "code",
   "execution_count": null,
   "id": "a9e66b95",
   "metadata": {},
   "outputs": [],
   "source": []
  },
  {
   "cell_type": "code",
   "execution_count": null,
   "id": "879a3df8",
   "metadata": {},
   "outputs": [],
   "source": []
  },
  {
   "cell_type": "code",
   "execution_count": null,
   "id": "7e5372e6",
   "metadata": {},
   "outputs": [],
   "source": []
  },
  {
   "cell_type": "code",
   "execution_count": 15,
   "id": "3c282e0e",
   "metadata": {},
   "outputs": [
    {
     "name": "stdout",
     "output_type": "stream",
     "text": [
      "['1.jpeg', '2.jpeg']\n",
      "[('1.jpeg', 'cat'), ('2.jpeg', 'dog'), ('1.jpeg', 'elephant')]\n",
      "[{'1.jpeg': ['cat', 'elephant']}, {'2.jpeg': ['dog']}]\n"
     ]
    }
   ],
   "source": [
    "ls = ['1.jpeg', '2.jpeg']\n",
    "print(ls)\n",
    "\n",
    "ls1 = [('1.jpeg', 'cat'), ('2.jpeg', 'dog'), ('1.jpeg', 'elephant')]\n",
    "print(ls1)\n",
    "\n",
    "output = {}\n",
    "for i in ls:\n",
    "    output[i] = []\n",
    "\n",
    "for i,j in ls1:\n",
    "    output[i].append(j)\n",
    "    \n",
    "result = [{k:v}for k,v in output.items()]\n",
    "print(result)"
   ]
  },
  {
   "cell_type": "code",
   "execution_count": 16,
   "id": "d976cc2a",
   "metadata": {},
   "outputs": [
    {
     "ename": "SyntaxError",
     "evalue": "':' expected after dictionary key (3766423803.py, line 1)",
     "output_type": "error",
     "traceback": [
      "\u001b[0;36m  Cell \u001b[0;32mIn[16], line 1\u001b[0;36m\u001b[0m\n\u001b[0;31m    a = {a:'lahore', c\u001b[0m\n\u001b[0m                     ^\u001b[0m\n\u001b[0;31mSyntaxError\u001b[0m\u001b[0;31m:\u001b[0m ':' expected after dictionary key\n"
     ]
    }
   ],
   "source": [
    "a = {a:'lahore', c\n",
    "     b: 'karachi',b\n",
    "     c: 'kasor',a}\n",
    "sort dictanory according to given c,b, a without changing keys with python\n"
   ]
  },
  {
   "cell_type": "code",
   "execution_count": 17,
   "id": "dd6ccd12",
   "metadata": {},
   "outputs": [
    {
     "name": "stdout",
     "output_type": "stream",
     "text": [
      "{'c': 'kasor', 'b': 'karachi', 'a': 'lahore'}\n"
     ]
    }
   ],
   "source": [
    "# Define the original dictionary\n",
    "a = {'a': 'lahore', 'b': 'karachi', 'c': 'kasor'}\n",
    "\n",
    "# Define the desired order of keys\n",
    "key_order = ['c', 'b', 'a']\n",
    "\n",
    "# Sort the dictionary by the key order without changing the keys\n",
    "sorted_a = {k: a[k] for k in sorted(a, key=lambda x: key_order.index(x))}\n",
    "\n",
    "# Print the sorted dictionary\n",
    "print(sorted_a)\n"
   ]
  },
  {
   "cell_type": "code",
   "execution_count": 18,
   "id": "2b063c7f",
   "metadata": {},
   "outputs": [
    {
     "name": "stdout",
     "output_type": "stream",
     "text": [
      "['1.jpeg', '2.jpeg']\n",
      "[('1.jpeg', 'cat'), ('2.jpeg', 'dog'), ('1.jpeg', 'elephant')]\n"
     ]
    }
   ],
   "source": [
    "ls = ['1.jpeg', '2.jpeg']\n",
    "print(ls)\n",
    "\n",
    "ls1 = [('1.jpeg', 'cat'), ('2.jpeg', 'dog'), ('1.jpeg', 'elephant')]\n",
    "print(ls1)\n"
   ]
  },
  {
   "cell_type": "code",
   "execution_count": 27,
   "id": "ae4a4b82",
   "metadata": {},
   "outputs": [
    {
     "name": "stdout",
     "output_type": "stream",
     "text": [
      "[{'1.jpeg': ['cat', 'elephant']}, {'2.jpeg': ['dog']}]\n"
     ]
    }
   ],
   "source": [
    "result = {}\n",
    "for i in ls:\n",
    "    result[i] = []\n",
    "for i,j in ls1:\n",
    "    result[i].append(j)\n",
    "    \n",
    "output = [{k:v} for k,v in result.items()]\n",
    "print(output)"
   ]
  },
  {
   "cell_type": "code",
   "execution_count": null,
   "id": "b09bd4f2",
   "metadata": {},
   "outputs": [],
   "source": []
  }
 ],
 "metadata": {
  "kernelspec": {
   "display_name": "Python 3 (ipykernel)",
   "language": "python",
   "name": "python3"
  },
  "language_info": {
   "codemirror_mode": {
    "name": "ipython",
    "version": 3
   },
   "file_extension": ".py",
   "mimetype": "text/x-python",
   "name": "python",
   "nbconvert_exporter": "python",
   "pygments_lexer": "ipython3",
   "version": "3.10.6"
  }
 },
 "nbformat": 4,
 "nbformat_minor": 5
}
