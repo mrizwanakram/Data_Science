{
 "cells": [
  {
   "cell_type": "markdown",
   "id": "3d22acfc",
   "metadata": {},
   "source": [
    "### Q_NO_1"
   ]
  },
  {
   "cell_type": "markdown",
   "id": "156d1b0b",
   "metadata": {},
   "source": [
    "#### Convert two lists into a dictionary"
   ]
  },
  {
   "cell_type": "code",
   "execution_count": 5,
   "id": "ebf21b98",
   "metadata": {},
   "outputs": [
    {
     "data": {
      "text/plain": [
       "{'a': 1, 'b': 2, 'c': 3, 'd': 4}"
      ]
     },
     "execution_count": 5,
     "metadata": {},
     "output_type": "execute_result"
    }
   ],
   "source": [
    "A = ['a','b','c','d']\n",
    "B = [1,2,3,4]\n",
    "c = dict(zip(A,B))\n",
    "c"
   ]
  },
  {
   "cell_type": "code",
   "execution_count": 6,
   "id": "bee06ce6",
   "metadata": {},
   "outputs": [
    {
     "name": "stdout",
     "output_type": "stream",
     "text": [
      "{'a': 1, 'b': 2, 'c': 3, 'd': 4}\n"
     ]
    }
   ],
   "source": [
    "# empty dictionary\n",
    "c = dict()\n",
    "\n",
    "for i in range(len(A)):\n",
    "    c.update({A[i]: B[i]})\n",
    "print(c)"
   ]
  },
  {
   "cell_type": "code",
   "execution_count": null,
   "id": "903d8b73",
   "metadata": {},
   "outputs": [],
   "source": []
  },
  {
   "cell_type": "markdown",
   "id": "ca9b9a25",
   "metadata": {},
   "source": [
    "## Q_NO_2"
   ]
  },
  {
   "cell_type": "markdown",
   "id": "c622296a",
   "metadata": {},
   "source": [
    "#### Merge two Python dictionaries into one"
   ]
  },
  {
   "cell_type": "code",
   "execution_count": 7,
   "id": "d56e5760",
   "metadata": {},
   "outputs": [],
   "source": [
    "dict1 = {'Ten': 10, 'Twenty': 20, 'Thirty': 30}\n",
    "dict2 = {'Thirty': 30, 'Fourty': 40, 'Fifty': 50}\n"
   ]
  },
  {
   "cell_type": "code",
   "execution_count": 13,
   "id": "40d3de9e",
   "metadata": {},
   "outputs": [
    {
     "data": {
      "text/plain": [
       "{'Ten': 10, 'Twenty': 20, 'Thirty': 30, 'Fourty': 40, 'Fifty': 50}"
      ]
     },
     "execution_count": 13,
     "metadata": {},
     "output_type": "execute_result"
    }
   ],
   "source": [
    "dict3 = {**dict1,**dict2}\n",
    "dict3"
   ]
  },
  {
   "cell_type": "code",
   "execution_count": 10,
   "id": "210e440a",
   "metadata": {},
   "outputs": [],
   "source": [
    "# The ** syntax is used to unpack the key-value pairs from the dictionaries dict1 and dict2.When the unpacking operator **\n",
    "# is used before a dictionary object it expands the dictionary into a series of key-value pairs."
   ]
  },
  {
   "cell_type": "code",
   "execution_count": 14,
   "id": "12d8d90c",
   "metadata": {},
   "outputs": [
    {
     "name": "stdout",
     "output_type": "stream",
     "text": [
      "{'Ten': 10, 'Twenty': 20, 'Thirty': 30, 'Fourty': 40, 'Fifty': 50}\n"
     ]
    }
   ],
   "source": [
    "dict3 = dict1.copy()\n",
    "dict3.update(dict2)\n",
    "print(dict3)"
   ]
  },
  {
   "cell_type": "markdown",
   "id": "f27c9cc9",
   "metadata": {},
   "source": [
    "### Q_No_3\n",
    "\n",
    "#### Print the value of key ‘history’ from the below dict\n"
   ]
  },
  {
   "cell_type": "code",
   "execution_count": 15,
   "id": "a65dbf91",
   "metadata": {},
   "outputs": [],
   "source": [
    "sampleDict = {\"class\": {\"student\": {\"name\": \"Mike\",\"marks\": {\"physics\": 70,\"history\": 80 } } } }"
   ]
  },
  {
   "cell_type": "code",
   "execution_count": 18,
   "id": "4137042b",
   "metadata": {},
   "outputs": [
    {
     "name": "stdout",
     "output_type": "stream",
     "text": [
      "80\n"
     ]
    }
   ],
   "source": [
    "# understand how to located the nested key\n",
    "sampleDict['class'] = {'student': {'name': 'Mike', 'marks': {'physics': 70, 'history': 80}}}\n",
    "sampleDict['class']['student'] = {'name': 'Mike', 'marks': {'physics': 70, 'history': 80}}\n",
    "sampleDict['class']['student']['marks'] = {'physics': 70, 'history': 80}\n",
    "\n",
    "# solution\n",
    "print(sampleDict['class']['student']['marks']['history'])"
   ]
  },
  {
   "cell_type": "code",
   "execution_count": null,
   "id": "1f7d504c",
   "metadata": {},
   "outputs": [],
   "source": []
  },
  {
   "cell_type": "code",
   "execution_count": 22,
   "id": "b38ab9cd",
   "metadata": {},
   "outputs": [
    {
     "name": "stdout",
     "output_type": "stream",
     "text": [
      "Gfg\n"
     ]
    }
   ],
   "source": [
    "\n",
    "def hi_decorator():\n",
    "    print(\"Gfg\")\n"
   ]
  },
  {
   "cell_type": "markdown",
   "id": "7619c4ae",
   "metadata": {},
   "source": [
    "### Write a program to count the number of capital letters in a list?"
   ]
  },
  {
   "cell_type": "code",
   "execution_count": 25,
   "id": "99cffe76",
   "metadata": {},
   "outputs": [
    {
     "data": {
      "text/plain": [
       "3"
      ]
     },
     "execution_count": 25,
     "metadata": {},
     "output_type": "execute_result"
    }
   ],
   "source": [
    "a = ['A','b','a','C','F']\n",
    "def cont_cap_ltr(a):\n",
    "    count = 0\n",
    "    for i in a:\n",
    "        if i.isupper():\n",
    "            count += 1\n",
    "    return count\n",
    "\n",
    "cont_cap_ltr(a)"
   ]
  },
  {
   "cell_type": "markdown",
   "id": "81844d8c",
   "metadata": {},
   "source": [
    "### Write a program to display the Fibonacci sequence in Python?"
   ]
  },
  {
   "cell_type": "code",
   "execution_count": 36,
   "id": "469ffd72",
   "metadata": {},
   "outputs": [
    {
     "data": {
      "text/plain": [
       "[0,\n",
       " 1,\n",
       " 1,\n",
       " 2,\n",
       " 3,\n",
       " 5,\n",
       " 8,\n",
       " 13,\n",
       " 21,\n",
       " 34,\n",
       " 55,\n",
       " 89,\n",
       " 144,\n",
       " 233,\n",
       " 377,\n",
       " 610,\n",
       " 987,\n",
       " 1597,\n",
       " 2584,\n",
       " 4181,\n",
       " 6765,\n",
       " 10946,\n",
       " 17711,\n",
       " 28657,\n",
       " 46368,\n",
       " 75025,\n",
       " 121393,\n",
       " 196418,\n",
       " 317811,\n",
       " 514229,\n",
       " 832040,\n",
       " 1346269,\n",
       " 2178309,\n",
       " 3524578,\n",
       " 5702887,\n",
       " 9227465,\n",
       " 14930352,\n",
       " 24157817,\n",
       " 39088169,\n",
       " 63245986,\n",
       " 102334155,\n",
       " 165580141,\n",
       " 267914296,\n",
       " 433494437,\n",
       " 701408733,\n",
       " 1134903170,\n",
       " 1836311903,\n",
       " 2971215073,\n",
       " 4807526976,\n",
       " 7778742049]"
      ]
     },
     "execution_count": 36,
     "metadata": {},
     "output_type": "execute_result"
    }
   ],
   "source": [
    "def feb(n):\n",
    "    a = 0\n",
    "    b = 1\n",
    "    feb_list = []\n",
    "    for i in range(n):\n",
    "        feb_list.append(a)\n",
    "        a,b = b, a + b\n",
    "    return feb_list\n",
    "feb(50)"
   ]
  },
  {
   "cell_type": "markdown",
   "id": "863b0168",
   "metadata": {},
   "source": [
    "### Write a program in Python to produce a Star triangle?"
   ]
  },
  {
   "cell_type": "code",
   "execution_count": 59,
   "id": "33cb2ea2",
   "metadata": {},
   "outputs": [
    {
     "name": "stdout",
     "output_type": "stream",
     "text": [
      "    *\n",
      "   ***\n",
      "  *****\n",
      " *******\n"
     ]
    }
   ],
   "source": [
    "def star(n):\n",
    "    for i in range(n):\n",
    "        print(' '*(n-i-1), '*'*(2*i+1))\n",
    "star(4)\n",
    "        "
   ]
  },
  {
   "cell_type": "code",
   "execution_count": null,
   "id": "b7250b95",
   "metadata": {},
   "outputs": [],
   "source": []
  },
  {
   "cell_type": "code",
   "execution_count": null,
   "id": "0d07aeb3",
   "metadata": {},
   "outputs": [],
   "source": []
  },
  {
   "cell_type": "code",
   "execution_count": null,
   "id": "b203e82c",
   "metadata": {},
   "outputs": [],
   "source": []
  },
  {
   "cell_type": "markdown",
   "id": "4b92910f",
   "metadata": {},
   "source": [
    "### Write a program to check whether the given number is prime or not?"
   ]
  },
  {
   "cell_type": "code",
   "execution_count": 52,
   "id": "f044c9e2",
   "metadata": {},
   "outputs": [
    {
     "data": {
      "text/plain": [
       "False"
      ]
     },
     "execution_count": 52,
     "metadata": {},
     "output_type": "execute_result"
    }
   ],
   "source": [
    "def is_prime(n):\n",
    "    if n <=1:\n",
    "        return False\n",
    "    for i in range(2, int(n**0.5) +1 ):\n",
    "        if n % i == 0:\n",
    "            return False\n",
    "    return True\n",
    "        \n",
    "is_prime(9)  "
   ]
  },
  {
   "cell_type": "code",
   "execution_count": null,
   "id": "bf54bdb5",
   "metadata": {},
   "outputs": [],
   "source": []
  }
 ],
 "metadata": {
  "kernelspec": {
   "display_name": "Python 3 (ipykernel)",
   "language": "python",
   "name": "python3"
  },
  "language_info": {
   "codemirror_mode": {
    "name": "ipython",
    "version": 3
   },
   "file_extension": ".py",
   "mimetype": "text/x-python",
   "name": "python",
   "nbconvert_exporter": "python",
   "pygments_lexer": "ipython3",
   "version": "3.10.6"
  }
 },
 "nbformat": 4,
 "nbformat_minor": 5
}
