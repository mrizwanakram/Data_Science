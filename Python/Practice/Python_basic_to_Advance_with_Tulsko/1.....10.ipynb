{
 "cells": [
  {
   "cell_type": "code",
   "execution_count": 20,
   "id": "4a3ce222",
   "metadata": {},
   "outputs": [
    {
     "data": {
      "text/plain": [
       "-1"
      ]
     },
     "execution_count": 20,
     "metadata": {},
     "output_type": "execute_result"
    }
   ],
   "source": [
    "4-5"
   ]
  },
  {
   "cell_type": "code",
   "execution_count": 21,
   "id": "45a92dd6",
   "metadata": {},
   "outputs": [
    {
     "data": {
      "text/plain": [
       "17"
      ]
     },
     "execution_count": 21,
     "metadata": {},
     "output_type": "execute_result"
    }
   ],
   "source": [
    "4+6+7"
   ]
  },
  {
   "cell_type": "code",
   "execution_count": 22,
   "id": "56e7a1a4",
   "metadata": {},
   "outputs": [
    {
     "data": {
      "text/plain": [
       "1.3333333333333333"
      ]
     },
     "execution_count": 22,
     "metadata": {},
     "output_type": "execute_result"
    }
   ],
   "source": [
    "4/3"
   ]
  },
  {
   "cell_type": "code",
   "execution_count": 23,
   "id": "78d6ba99",
   "metadata": {},
   "outputs": [
    {
     "data": {
      "text/plain": [
       "16"
      ]
     },
     "execution_count": 23,
     "metadata": {},
     "output_type": "execute_result"
    }
   ],
   "source": [
    "2**4\n"
   ]
  },
  {
   "cell_type": "code",
   "execution_count": 24,
   "id": "5a4fd2a0",
   "metadata": {},
   "outputs": [
    {
     "data": {
      "text/plain": [
       "2.5"
      ]
     },
     "execution_count": 24,
     "metadata": {},
     "output_type": "execute_result"
    }
   ],
   "source": [
    "5/2"
   ]
  },
  {
   "cell_type": "code",
   "execution_count": 25,
   "id": "a7374d14",
   "metadata": {},
   "outputs": [
    {
     "data": {
      "text/plain": [
       "2"
      ]
     },
     "execution_count": 25,
     "metadata": {},
     "output_type": "execute_result"
    }
   ],
   "source": [
    "5//2"
   ]
  },
  {
   "cell_type": "code",
   "execution_count": 26,
   "id": "57315687",
   "metadata": {},
   "outputs": [
    {
     "data": {
      "text/plain": [
       "0"
      ]
     },
     "execution_count": 26,
     "metadata": {},
     "output_type": "execute_result"
    }
   ],
   "source": [
    "4//7"
   ]
  },
  {
   "cell_type": "code",
   "execution_count": 27,
   "id": "7340460e",
   "metadata": {},
   "outputs": [
    {
     "data": {
      "text/plain": [
       "1"
      ]
     },
     "execution_count": 27,
     "metadata": {},
     "output_type": "execute_result"
    }
   ],
   "source": [
    "5%2"
   ]
  },
  {
   "cell_type": "code",
   "execution_count": 28,
   "id": "2b8e9a43",
   "metadata": {},
   "outputs": [
    {
     "data": {
      "text/plain": [
       "1"
      ]
     },
     "execution_count": 28,
     "metadata": {},
     "output_type": "execute_result"
    }
   ],
   "source": [
    "7//4"
   ]
  },
  {
   "cell_type": "code",
   "execution_count": 29,
   "id": "9d2810db",
   "metadata": {},
   "outputs": [
    {
     "data": {
      "text/plain": [
       "39"
      ]
     },
     "execution_count": 29,
     "metadata": {},
     "output_type": "execute_result"
    }
   ],
   "source": [
    "3-4+5*8"
   ]
  },
  {
   "cell_type": "code",
   "execution_count": 30,
   "id": "0137ae60",
   "metadata": {},
   "outputs": [
    {
     "data": {
      "text/plain": [
       "39"
      ]
     },
     "execution_count": 30,
     "metadata": {},
     "output_type": "execute_result"
    }
   ],
   "source": [
    "4+5*7"
   ]
  },
  {
   "cell_type": "code",
   "execution_count": 31,
   "id": "a7b27977",
   "metadata": {},
   "outputs": [
    {
     "data": {
      "text/plain": [
       "84"
      ]
     },
     "execution_count": 31,
     "metadata": {},
     "output_type": "execute_result"
    }
   ],
   "source": [
    "(8+6) * 6"
   ]
  },
  {
   "cell_type": "code",
   "execution_count": 32,
   "id": "219b5e86",
   "metadata": {},
   "outputs": [
    {
     "data": {
      "text/plain": [
       "16"
      ]
     },
     "execution_count": 32,
     "metadata": {},
     "output_type": "execute_result"
    }
   ],
   "source": [
    "2*2*2*2\n"
   ]
  },
  {
   "cell_type": "code",
   "execution_count": 33,
   "id": "43d51194",
   "metadata": {},
   "outputs": [
    {
     "data": {
      "text/plain": [
       "16"
      ]
     },
     "execution_count": 33,
     "metadata": {},
     "output_type": "execute_result"
    }
   ],
   "source": [
    "2**4"
   ]
  },
  {
   "cell_type": "code",
   "execution_count": 34,
   "id": "c40cbb16",
   "metadata": {},
   "outputs": [
    {
     "data": {
      "text/plain": [
       "3"
      ]
     },
     "execution_count": 34,
     "metadata": {},
     "output_type": "execute_result"
    }
   ],
   "source": [
    "10  // 3"
   ]
  },
  {
   "cell_type": "code",
   "execution_count": 35,
   "id": "272c5091",
   "metadata": {},
   "outputs": [
    {
     "data": {
      "text/plain": [
       "2"
      ]
     },
     "execution_count": 35,
     "metadata": {},
     "output_type": "execute_result"
    }
   ],
   "source": [
    "10 % 4"
   ]
  },
  {
   "cell_type": "code",
   "execution_count": 36,
   "id": "00f06c31",
   "metadata": {},
   "outputs": [
    {
     "data": {
      "text/plain": [
       "'rizwan'"
      ]
     },
     "execution_count": 36,
     "metadata": {},
     "output_type": "execute_result"
    }
   ],
   "source": [
    "'rizwan'"
   ]
  },
  {
   "cell_type": "code",
   "execution_count": 37,
   "id": "1bf1a8bf",
   "metadata": {},
   "outputs": [
    {
     "name": "stdout",
     "output_type": "stream",
     "text": [
      "rizwan\n"
     ]
    }
   ],
   "source": [
    "print('rizwan')"
   ]
  },
  {
   "cell_type": "code",
   "execution_count": 38,
   "id": "1d19c02d",
   "metadata": {},
   "outputs": [
    {
     "name": "stdout",
     "output_type": "stream",
     "text": [
      "rizwa's laptop\n"
     ]
    }
   ],
   "source": [
    "print(\"rizwa's laptop\")"
   ]
  },
  {
   "cell_type": "code",
   "execution_count": 39,
   "id": "29045e39",
   "metadata": {},
   "outputs": [
    {
     "name": "stdout",
     "output_type": "stream",
     "text": [
      "'rizwan/'s laptop\n"
     ]
    }
   ],
   "source": [
    "print(\"'rizwan/'s laptop\")"
   ]
  },
  {
   "cell_type": "code",
   "execution_count": 40,
   "id": "bad85e83",
   "metadata": {},
   "outputs": [
    {
     "data": {
      "text/plain": [
       "'rizanakram'"
      ]
     },
     "execution_count": 40,
     "metadata": {},
     "output_type": "execute_result"
    }
   ],
   "source": [
    "'rizan' + 'akram'"
   ]
  },
  {
   "cell_type": "code",
   "execution_count": 41,
   "id": "95870190",
   "metadata": {},
   "outputs": [
    {
     "data": {
      "text/plain": [
       "' mayo mayo mayo mayo mayo mayo mayo mayo mayo mayo'"
      ]
     },
     "execution_count": 41,
     "metadata": {},
     "output_type": "execute_result"
    }
   ],
   "source": [
    "10 * \" mayo\""
   ]
  },
  {
   "cell_type": "code",
   "execution_count": null,
   "id": "10412ebf",
   "metadata": {},
   "outputs": [],
   "source": []
  },
  {
   "cell_type": "markdown",
   "id": "0ecb3a34",
   "metadata": {},
   "source": [
    "## Lecture 4, variables\n",
    "\n",
    "The name of the variable must always start with either a letter or an underscore (_). For example: _str, str, num, _num are all valid name for the variables. \n",
    "2. The name of the variable cannot start with a number"
   ]
  },
  {
   "cell_type": "code",
   "execution_count": 42,
   "id": "53aa4fe0",
   "metadata": {},
   "outputs": [
    {
     "data": {
      "text/plain": [
       "5"
      ]
     },
     "execution_count": 42,
     "metadata": {},
     "output_type": "execute_result"
    }
   ],
   "source": [
    "2+3"
   ]
  },
  {
   "cell_type": "code",
   "execution_count": 43,
   "id": "19023fda",
   "metadata": {},
   "outputs": [],
   "source": [
    "x = 2"
   ]
  },
  {
   "cell_type": "code",
   "execution_count": 44,
   "id": "57662ff0",
   "metadata": {},
   "outputs": [],
   "source": [
    "y = 5"
   ]
  },
  {
   "cell_type": "code",
   "execution_count": 45,
   "id": "29256b33",
   "metadata": {},
   "outputs": [
    {
     "data": {
      "text/plain": [
       "7"
      ]
     },
     "execution_count": 45,
     "metadata": {},
     "output_type": "execute_result"
    }
   ],
   "source": [
    "x + y "
   ]
  },
  {
   "cell_type": "code",
   "execution_count": 46,
   "id": "aab514fe",
   "metadata": {},
   "outputs": [],
   "source": [
    " x = 5"
   ]
  },
  {
   "cell_type": "code",
   "execution_count": 47,
   "id": "d91bace1",
   "metadata": {},
   "outputs": [
    {
     "data": {
      "text/plain": [
       "10"
      ]
     },
     "execution_count": 47,
     "metadata": {},
     "output_type": "execute_result"
    }
   ],
   "source": [
    "x + y"
   ]
  },
  {
   "cell_type": "code",
   "execution_count": 48,
   "id": "3badc2b3",
   "metadata": {},
   "outputs": [
    {
     "data": {
      "text/plain": [
       "11"
      ]
     },
     "execution_count": 48,
     "metadata": {},
     "output_type": "execute_result"
    }
   ],
   "source": [
    "x + 6"
   ]
  },
  {
   "cell_type": "code",
   "execution_count": 49,
   "id": "2933cb47",
   "metadata": {},
   "outputs": [
    {
     "data": {
      "text/plain": [
       "16"
      ]
     },
     "execution_count": 49,
     "metadata": {},
     "output_type": "execute_result"
    }
   ],
   "source": [
    "_ + y  #underscore is used to output of previous opration "
   ]
  },
  {
   "cell_type": "code",
   "execution_count": 50,
   "id": "fbc4870a",
   "metadata": {},
   "outputs": [],
   "source": [
    "name = 'youtube'"
   ]
  },
  {
   "cell_type": "code",
   "execution_count": 51,
   "id": "a874e3ef",
   "metadata": {},
   "outputs": [
    {
     "data": {
      "text/plain": [
       "'youtube'"
      ]
     },
     "execution_count": 51,
     "metadata": {},
     "output_type": "execute_result"
    }
   ],
   "source": [
    "name"
   ]
  },
  {
   "cell_type": "code",
   "execution_count": 52,
   "id": "bf304398",
   "metadata": {},
   "outputs": [
    {
     "data": {
      "text/plain": [
       "'youtubemayo'"
      ]
     },
     "execution_count": 52,
     "metadata": {},
     "output_type": "execute_result"
    }
   ],
   "source": [
    "name + 'mayo'"
   ]
  },
  {
   "cell_type": "code",
   "execution_count": 53,
   "id": "22cfb3dd",
   "metadata": {},
   "outputs": [],
   "source": [
    "#indexing"
   ]
  },
  {
   "cell_type": "code",
   "execution_count": 54,
   "id": "2c28b1d9",
   "metadata": {},
   "outputs": [
    {
     "data": {
      "text/plain": [
       "'y'"
      ]
     },
     "execution_count": 54,
     "metadata": {},
     "output_type": "execute_result"
    }
   ],
   "source": [
    "name[0]"
   ]
  },
  {
   "cell_type": "code",
   "execution_count": 55,
   "id": "062bf6df",
   "metadata": {},
   "outputs": [
    {
     "data": {
      "text/plain": [
       "'b'"
      ]
     },
     "execution_count": 55,
     "metadata": {},
     "output_type": "execute_result"
    }
   ],
   "source": [
    "name[5]"
   ]
  },
  {
   "cell_type": "code",
   "execution_count": 56,
   "id": "f8eb2ebd",
   "metadata": {},
   "outputs": [
    {
     "data": {
      "text/plain": [
       "'e'"
      ]
     },
     "execution_count": 56,
     "metadata": {},
     "output_type": "execute_result"
    }
   ],
   "source": [
    "name[6]"
   ]
  },
  {
   "cell_type": "code",
   "execution_count": 57,
   "id": "480052e4",
   "metadata": {},
   "outputs": [
    {
     "data": {
      "text/plain": [
       "'e'"
      ]
     },
     "execution_count": 57,
     "metadata": {},
     "output_type": "execute_result"
    }
   ],
   "source": [
    "name[-1]"
   ]
  },
  {
   "cell_type": "code",
   "execution_count": 58,
   "id": "73a2aaac",
   "metadata": {},
   "outputs": [
    {
     "data": {
      "text/plain": [
       "'b'"
      ]
     },
     "execution_count": 58,
     "metadata": {},
     "output_type": "execute_result"
    }
   ],
   "source": [
    "name[-2]"
   ]
  },
  {
   "cell_type": "code",
   "execution_count": 50,
   "id": "870039de",
   "metadata": {},
   "outputs": [
    {
     "data": {
      "text/plain": [
       "'o'"
      ]
     },
     "execution_count": 50,
     "metadata": {},
     "output_type": "execute_result"
    }
   ],
   "source": [
    "name[-6]"
   ]
  },
  {
   "cell_type": "code",
   "execution_count": 59,
   "id": "3bd6aefd",
   "metadata": {},
   "outputs": [],
   "source": [
    "#slicicing"
   ]
  },
  {
   "cell_type": "code",
   "execution_count": 60,
   "id": "061376c2",
   "metadata": {},
   "outputs": [
    {
     "data": {
      "text/plain": [
       "'yout'"
      ]
     },
     "execution_count": 60,
     "metadata": {},
     "output_type": "execute_result"
    }
   ],
   "source": [
    "name[0:4]"
   ]
  },
  {
   "cell_type": "code",
   "execution_count": 61,
   "id": "ee9aa2f6",
   "metadata": {},
   "outputs": [
    {
     "data": {
      "text/plain": [
       "'tu'"
      ]
     },
     "execution_count": 61,
     "metadata": {},
     "output_type": "execute_result"
    }
   ],
   "source": [
    "name[3:5]"
   ]
  },
  {
   "cell_type": "code",
   "execution_count": 62,
   "id": "b9211e01",
   "metadata": {},
   "outputs": [
    {
     "data": {
      "text/plain": [
       "'utube'"
      ]
     },
     "execution_count": 62,
     "metadata": {},
     "output_type": "execute_result"
    }
   ],
   "source": [
    "name[2:]"
   ]
  },
  {
   "cell_type": "code",
   "execution_count": 63,
   "id": "f4fba3bf",
   "metadata": {},
   "outputs": [
    {
     "data": {
      "text/plain": [
       "'youtub'"
      ]
     },
     "execution_count": 63,
     "metadata": {},
     "output_type": "execute_result"
    }
   ],
   "source": [
    "name[:6]"
   ]
  },
  {
   "cell_type": "code",
   "execution_count": 64,
   "id": "6c0ad76b",
   "metadata": {},
   "outputs": [
    {
     "data": {
      "text/plain": [
       "'be'"
      ]
     },
     "execution_count": 64,
     "metadata": {},
     "output_type": "execute_result"
    }
   ],
   "source": [
    "name[5:88]"
   ]
  },
  {
   "cell_type": "code",
   "execution_count": 65,
   "id": "83245dde",
   "metadata": {},
   "outputs": [
    {
     "data": {
      "text/plain": [
       "'my tube'"
      ]
     },
     "execution_count": 65,
     "metadata": {},
     "output_type": "execute_result"
    }
   ],
   "source": [
    "'my ' + name[3:]"
   ]
  },
  {
   "cell_type": "code",
   "execution_count": 66,
   "id": "b042de53",
   "metadata": {},
   "outputs": [],
   "source": [
    " a = 'cvfgdfdfdfgg'"
   ]
  },
  {
   "cell_type": "code",
   "execution_count": 67,
   "id": "3c735289",
   "metadata": {},
   "outputs": [
    {
     "data": {
      "text/plain": [
       "12"
      ]
     },
     "execution_count": 67,
     "metadata": {},
     "output_type": "execute_result"
    }
   ],
   "source": [
    "len(a)"
   ]
  },
  {
   "cell_type": "code",
   "execution_count": null,
   "id": "786aa525",
   "metadata": {},
   "outputs": [],
   "source": []
  },
  {
   "cell_type": "markdown",
   "id": "0f985695",
   "metadata": {},
   "source": [
    "## Lecture 5, Lists\n",
    "List is a collection which is ordered and changeable. Allows duplicate members.use \"[ ]\" brackets for lists."
   ]
  },
  {
   "cell_type": "code",
   "execution_count": 74,
   "id": "41848612",
   "metadata": {},
   "outputs": [],
   "source": [
    "nums = [23,45,67,89,43]"
   ]
  },
  {
   "cell_type": "code",
   "execution_count": 75,
   "id": "b312064c",
   "metadata": {},
   "outputs": [
    {
     "data": {
      "text/plain": [
       "[23, 45, 67, 89, 43]"
      ]
     },
     "execution_count": 75,
     "metadata": {},
     "output_type": "execute_result"
    }
   ],
   "source": [
    "nums"
   ]
  },
  {
   "cell_type": "code",
   "execution_count": 76,
   "id": "1c3002f7",
   "metadata": {},
   "outputs": [
    {
     "data": {
      "text/plain": [
       "23"
      ]
     },
     "execution_count": 76,
     "metadata": {},
     "output_type": "execute_result"
    }
   ],
   "source": [
    "nums[0]"
   ]
  },
  {
   "cell_type": "code",
   "execution_count": 77,
   "id": "f27db187",
   "metadata": {},
   "outputs": [
    {
     "data": {
      "text/plain": [
       "43"
      ]
     },
     "execution_count": 77,
     "metadata": {},
     "output_type": "execute_result"
    }
   ],
   "source": [
    "nums[4]"
   ]
  },
  {
   "cell_type": "code",
   "execution_count": 78,
   "id": "fdebef59",
   "metadata": {},
   "outputs": [
    {
     "data": {
      "text/plain": [
       "[23, 45, 67]"
      ]
     },
     "execution_count": 78,
     "metadata": {},
     "output_type": "execute_result"
    }
   ],
   "source": [
    "nums[0:3]"
   ]
  },
  {
   "cell_type": "code",
   "execution_count": 79,
   "id": "556f8df8",
   "metadata": {},
   "outputs": [
    {
     "data": {
      "text/plain": [
       "[23, 45, 67, 89, 43]"
      ]
     },
     "execution_count": 79,
     "metadata": {},
     "output_type": "execute_result"
    }
   ],
   "source": [
    "nums[:5]"
   ]
  },
  {
   "cell_type": "code",
   "execution_count": 80,
   "id": "185ead7e",
   "metadata": {},
   "outputs": [
    {
     "data": {
      "text/plain": [
       "89"
      ]
     },
     "execution_count": 80,
     "metadata": {},
     "output_type": "execute_result"
    }
   ],
   "source": [
    "nums[-2]"
   ]
  },
  {
   "cell_type": "code",
   "execution_count": 81,
   "id": "ced4604b",
   "metadata": {},
   "outputs": [
    {
     "data": {
      "text/plain": [
       "[23, 45]"
      ]
     },
     "execution_count": 81,
     "metadata": {},
     "output_type": "execute_result"
    }
   ],
   "source": [
    "nums[:-3]"
   ]
  },
  {
   "cell_type": "code",
   "execution_count": 82,
   "id": "bb5f7b62",
   "metadata": {},
   "outputs": [],
   "source": [
    "names = ['ali', 'rizwan','umar']"
   ]
  },
  {
   "cell_type": "code",
   "execution_count": 83,
   "id": "019dc4a2",
   "metadata": {},
   "outputs": [
    {
     "data": {
      "text/plain": [
       "['ali', 'rizwan', 'umar']"
      ]
     },
     "execution_count": 83,
     "metadata": {},
     "output_type": "execute_result"
    }
   ],
   "source": [
    "names"
   ]
  },
  {
   "cell_type": "code",
   "execution_count": 84,
   "id": "e734f7cc",
   "metadata": {},
   "outputs": [],
   "source": [
    "name =  [4.5,'ali',45] # can store diff type of values"
   ]
  },
  {
   "cell_type": "code",
   "execution_count": 85,
   "id": "2a054009",
   "metadata": {},
   "outputs": [
    {
     "data": {
      "text/plain": [
       "[4.5, 'ali', 45]"
      ]
     },
     "execution_count": 85,
     "metadata": {},
     "output_type": "execute_result"
    }
   ],
   "source": [
    "name"
   ]
  },
  {
   "cell_type": "code",
   "execution_count": 86,
   "id": "c844744b",
   "metadata": {},
   "outputs": [],
   "source": [
    "nil = [names,name]"
   ]
  },
  {
   "cell_type": "code",
   "execution_count": 87,
   "id": "8f3445ec",
   "metadata": {},
   "outputs": [
    {
     "data": {
      "text/plain": [
       "[['ali', 'rizwan', 'umar'], [4.5, 'ali', 45]]"
      ]
     },
     "execution_count": 87,
     "metadata": {},
     "output_type": "execute_result"
    }
   ],
   "source": [
    "nil"
   ]
  },
  {
   "cell_type": "code",
   "execution_count": 88,
   "id": "fc6ba22a",
   "metadata": {},
   "outputs": [
    {
     "data": {
      "text/plain": [
       "['ali', 'rizwan', 'umar']"
      ]
     },
     "execution_count": 88,
     "metadata": {},
     "output_type": "execute_result"
    }
   ],
   "source": [
    "names"
   ]
  },
  {
   "cell_type": "code",
   "execution_count": 89,
   "id": "13b9b415",
   "metadata": {},
   "outputs": [],
   "source": [
    "names.append(45)#insert a vlue in a list"
   ]
  },
  {
   "cell_type": "code",
   "execution_count": 90,
   "id": "ce85b42e",
   "metadata": {},
   "outputs": [
    {
     "data": {
      "text/plain": [
       "['ali', 'rizwan', 'umar', 45]"
      ]
     },
     "execution_count": 90,
     "metadata": {},
     "output_type": "execute_result"
    }
   ],
   "source": [
    "names"
   ]
  },
  {
   "cell_type": "code",
   "execution_count": 91,
   "id": "4cd3ca9f",
   "metadata": {},
   "outputs": [],
   "source": [
    "names.insert(4,56)# insert a value in a list at specific index"
   ]
  },
  {
   "cell_type": "code",
   "execution_count": 92,
   "id": "6c1b34ba",
   "metadata": {},
   "outputs": [
    {
     "data": {
      "text/plain": [
       "['ali', 'rizwan', 'umar', 45, 56]"
      ]
     },
     "execution_count": 92,
     "metadata": {},
     "output_type": "execute_result"
    }
   ],
   "source": [
    "names"
   ]
  },
  {
   "cell_type": "code",
   "execution_count": 93,
   "id": "9afc3d68",
   "metadata": {},
   "outputs": [],
   "source": [
    "names.remove(56)"
   ]
  },
  {
   "cell_type": "code",
   "execution_count": 94,
   "id": "3ff8a083",
   "metadata": {},
   "outputs": [
    {
     "data": {
      "text/plain": [
       "['ali', 'rizwan', 'umar', 45]"
      ]
     },
     "execution_count": 94,
     "metadata": {},
     "output_type": "execute_result"
    }
   ],
   "source": [
    "names"
   ]
  },
  {
   "cell_type": "code",
   "execution_count": 95,
   "id": "ffbc31b4",
   "metadata": {},
   "outputs": [
    {
     "data": {
      "text/plain": [
       "'umar'"
      ]
     },
     "execution_count": 95,
     "metadata": {},
     "output_type": "execute_result"
    }
   ],
   "source": [
    "names.pop(2) # del a specific value with indexing"
   ]
  },
  {
   "cell_type": "code",
   "execution_count": 96,
   "id": "588bf911",
   "metadata": {},
   "outputs": [
    {
     "data": {
      "text/plain": [
       "['ali', 'rizwan', 45]"
      ]
     },
     "execution_count": 96,
     "metadata": {},
     "output_type": "execute_result"
    }
   ],
   "source": [
    "names"
   ]
  },
  {
   "cell_type": "code",
   "execution_count": 97,
   "id": "f9b6bc64",
   "metadata": {},
   "outputs": [
    {
     "data": {
      "text/plain": [
       "45"
      ]
     },
     "execution_count": 97,
     "metadata": {},
     "output_type": "execute_result"
    }
   ],
   "source": [
    "names.pop()"
   ]
  },
  {
   "cell_type": "code",
   "execution_count": 98,
   "id": "df1ca972",
   "metadata": {},
   "outputs": [
    {
     "data": {
      "text/plain": [
       "['ali', 'rizwan']"
      ]
     },
     "execution_count": 98,
     "metadata": {},
     "output_type": "execute_result"
    }
   ],
   "source": [
    "names"
   ]
  },
  {
   "cell_type": "code",
   "execution_count": 116,
   "id": "2b44aa7f",
   "metadata": {},
   "outputs": [],
   "source": [
    "a = [33,44,55,66,8]"
   ]
  },
  {
   "cell_type": "code",
   "execution_count": 117,
   "id": "659936e2",
   "metadata": {},
   "outputs": [],
   "source": [
    "del a[1:4]"
   ]
  },
  {
   "cell_type": "code",
   "execution_count": 118,
   "id": "74d40deb",
   "metadata": {},
   "outputs": [
    {
     "data": {
      "text/plain": [
       "[33, 8]"
      ]
     },
     "execution_count": 118,
     "metadata": {},
     "output_type": "execute_result"
    }
   ],
   "source": [
    "a"
   ]
  },
  {
   "cell_type": "code",
   "execution_count": 119,
   "id": "6417fc04",
   "metadata": {},
   "outputs": [],
   "source": [
    "a.extend([3,4,5,6])"
   ]
  },
  {
   "cell_type": "code",
   "execution_count": 120,
   "id": "570f5481",
   "metadata": {},
   "outputs": [
    {
     "data": {
      "text/plain": [
       "[33, 8, 3, 4, 5, 6]"
      ]
     },
     "execution_count": 120,
     "metadata": {},
     "output_type": "execute_result"
    }
   ],
   "source": [
    "a"
   ]
  },
  {
   "cell_type": "code",
   "execution_count": 121,
   "id": "eaef8262",
   "metadata": {},
   "outputs": [
    {
     "data": {
      "text/plain": [
       "3"
      ]
     },
     "execution_count": 121,
     "metadata": {},
     "output_type": "execute_result"
    }
   ],
   "source": [
    "min(a)"
   ]
  },
  {
   "cell_type": "code",
   "execution_count": 122,
   "id": "be20e5f0",
   "metadata": {},
   "outputs": [
    {
     "data": {
      "text/plain": [
       "33"
      ]
     },
     "execution_count": 122,
     "metadata": {},
     "output_type": "execute_result"
    }
   ],
   "source": [
    "max(a)"
   ]
  },
  {
   "cell_type": "code",
   "execution_count": 123,
   "id": "0395c1b2",
   "metadata": {},
   "outputs": [
    {
     "data": {
      "text/plain": [
       "59"
      ]
     },
     "execution_count": 123,
     "metadata": {},
     "output_type": "execute_result"
    }
   ],
   "source": [
    "sum(a)"
   ]
  },
  {
   "cell_type": "code",
   "execution_count": 124,
   "id": "be5d4748",
   "metadata": {},
   "outputs": [],
   "source": [
    "a.sort()"
   ]
  },
  {
   "cell_type": "code",
   "execution_count": 125,
   "id": "b3fa772d",
   "metadata": {},
   "outputs": [
    {
     "data": {
      "text/plain": [
       "[3, 4, 5, 6, 8, 33]"
      ]
     },
     "execution_count": 125,
     "metadata": {},
     "output_type": "execute_result"
    }
   ],
   "source": [
    "a"
   ]
  },
  {
   "cell_type": "code",
   "execution_count": 126,
   "id": "f4f74a8b",
   "metadata": {},
   "outputs": [
    {
     "data": {
      "text/plain": [
       "[3, 4, 5, 6, 8, 33]"
      ]
     },
     "execution_count": 126,
     "metadata": {},
     "output_type": "execute_result"
    }
   ],
   "source": [
    "a.copy()\n",
    "\n",
    "a"
   ]
  },
  {
   "cell_type": "code",
   "execution_count": 129,
   "id": "4a7e6721",
   "metadata": {},
   "outputs": [],
   "source": [
    "a.reverse()"
   ]
  },
  {
   "cell_type": "code",
   "execution_count": 130,
   "id": "6e753d22",
   "metadata": {},
   "outputs": [
    {
     "data": {
      "text/plain": [
       "[33, 8, 6, 5, 4, 3]"
      ]
     },
     "execution_count": 130,
     "metadata": {},
     "output_type": "execute_result"
    }
   ],
   "source": [
    "a"
   ]
  },
  {
   "cell_type": "code",
   "execution_count": null,
   "id": "cf80ac78",
   "metadata": {},
   "outputs": [],
   "source": [
    "# a.clear()\n",
    "# a"
   ]
  },
  {
   "cell_type": "code",
   "execution_count": null,
   "id": "52d41438",
   "metadata": {},
   "outputs": [],
   "source": [
    "#Python does not have built-in support for Arrays, but Python Lists can be used instead."
   ]
  },
  {
   "cell_type": "code",
   "execution_count": null,
   "id": "8aba423c",
   "metadata": {},
   "outputs": [],
   "source": []
  },
  {
   "cell_type": "code",
   "execution_count": 121,
   "id": "b65c9c9d",
   "metadata": {},
   "outputs": [],
   "source": []
  },
  {
   "cell_type": "markdown",
   "id": "6d70c098",
   "metadata": {},
   "source": [
    "### Lecture 6 Tuple\n",
    "Tuple is a collection which is ordered and unchangeable.Tuples are sequences, just like lists. The differences between tuples and lists are, the tuples cannot be changed unlike lists and tuples use parentheses, whereas lists use square brackets.\n",
    "\n",
    "Creating a tuple is as simple as putting different comma-separated values. Optionally you can put these comma-separated values between parentheses also. "
   ]
  },
  {
   "cell_type": "code",
   "execution_count": 138,
   "id": "122a046a",
   "metadata": {},
   "outputs": [
    {
     "name": "stdout",
     "output_type": "stream",
     "text": [
      "()\n"
     ]
    }
   ],
   "source": [
    "#The empty tuple is written as two parentheses containing nothing −\n",
    "\n",
    "tup1 = ();\n",
    "print(tup1)"
   ]
  },
  {
   "cell_type": "code",
   "execution_count": 139,
   "id": "d79ff698",
   "metadata": {},
   "outputs": [
    {
     "name": "stdout",
     "output_type": "stream",
     "text": [
      "(50,)\n"
     ]
    }
   ],
   "source": [
    "#To write a tuple containing a single value you have to include a comma, even though there is only one value −\n",
    "\n",
    "tup1 = (50,);\n",
    "print(tup1)"
   ]
  },
  {
   "cell_type": "code",
   "execution_count": 133,
   "id": "14a83758",
   "metadata": {},
   "outputs": [],
   "source": [
    "tuple = (22,33,44,55,66)"
   ]
  },
  {
   "cell_type": "code",
   "execution_count": 134,
   "id": "ee9a98e6",
   "metadata": {},
   "outputs": [
    {
     "data": {
      "text/plain": [
       "(22, 33, 44, 55, 66)"
      ]
     },
     "execution_count": 134,
     "metadata": {},
     "output_type": "execute_result"
    }
   ],
   "source": [
    "tuple"
   ]
  },
  {
   "cell_type": "code",
   "execution_count": 135,
   "id": "44a9c81b",
   "metadata": {},
   "outputs": [
    {
     "data": {
      "text/plain": [
       "44"
      ]
     },
     "execution_count": 135,
     "metadata": {},
     "output_type": "execute_result"
    }
   ],
   "source": [
    "tuple[2]"
   ]
  },
  {
   "cell_type": "code",
   "execution_count": 108,
   "id": "87af2ff0",
   "metadata": {},
   "outputs": [
    {
     "ename": "TypeError",
     "evalue": "'tuple' object does not support item assignment",
     "output_type": "error",
     "traceback": [
      "\u001b[1;31m---------------------------------------------------------------------------\u001b[0m",
      "\u001b[1;31mTypeError\u001b[0m                                 Traceback (most recent call last)",
      "\u001b[1;32m<ipython-input-108-7029f524e9d3>\u001b[0m in \u001b[0;36m<module>\u001b[1;34m\u001b[0m\n\u001b[1;32m----> 1\u001b[1;33m \u001b[0mtuple\u001b[0m\u001b[1;33m[\u001b[0m\u001b[1;36m1\u001b[0m\u001b[1;33m]\u001b[0m \u001b[1;33m=\u001b[0m \u001b[1;36m44\u001b[0m\u001b[1;33m\u001b[0m\u001b[1;33m\u001b[0m\u001b[0m\n\u001b[0m",
      "\u001b[1;31mTypeError\u001b[0m: 'tuple' object does not support item assignment"
     ]
    }
   ],
   "source": [
    "tuple[1] = 44"
   ]
  },
  {
   "cell_type": "markdown",
   "id": "06656552",
   "metadata": {},
   "source": [
    "### Set \n",
    "Set is a collection which is unordered, unchangeable*, and unindexed."
   ]
  },
  {
   "cell_type": "code",
   "execution_count": 109,
   "id": "395efb48",
   "metadata": {},
   "outputs": [],
   "source": [
    "s = {33,5,55,66,77,88}"
   ]
  },
  {
   "cell_type": "code",
   "execution_count": 110,
   "id": "cbcae773",
   "metadata": {},
   "outputs": [
    {
     "data": {
      "text/plain": [
       "{5, 33, 55, 66, 77, 88}"
      ]
     },
     "execution_count": 110,
     "metadata": {},
     "output_type": "execute_result"
    }
   ],
   "source": [
    "s"
   ]
  },
  {
   "cell_type": "code",
   "execution_count": null,
   "id": "38dd163e",
   "metadata": {},
   "outputs": [],
   "source": []
  },
  {
   "cell_type": "markdown",
   "id": "c5e8343f",
   "metadata": {},
   "source": [
    "### Lecture 7 Dictionaries\n",
    "Dictionary is a collection which is ordered** and changeable.\n",
    "in this we have a key and its value"
   ]
  },
  {
   "cell_type": "code",
   "execution_count": 141,
   "id": "c6da6884",
   "metadata": {},
   "outputs": [],
   "source": [
    "data = {1:'rizwan', 2:'akasha',4:'ali'}"
   ]
  },
  {
   "cell_type": "code",
   "execution_count": 142,
   "id": "80c2ec31",
   "metadata": {},
   "outputs": [
    {
     "data": {
      "text/plain": [
       "{1: 'rizwan', 2: 'akasha', 4: 'ali'}"
      ]
     },
     "execution_count": 142,
     "metadata": {},
     "output_type": "execute_result"
    }
   ],
   "source": [
    "data"
   ]
  },
  {
   "cell_type": "code",
   "execution_count": 143,
   "id": "2bc0daa3",
   "metadata": {},
   "outputs": [
    {
     "data": {
      "text/plain": [
       "'akasha'"
      ]
     },
     "execution_count": 143,
     "metadata": {},
     "output_type": "execute_result"
    }
   ],
   "source": [
    "data[2]"
   ]
  },
  {
   "cell_type": "code",
   "execution_count": 144,
   "id": "41c7698c",
   "metadata": {},
   "outputs": [
    {
     "data": {
      "text/plain": [
       "'ali'"
      ]
     },
     "execution_count": 144,
     "metadata": {},
     "output_type": "execute_result"
    }
   ],
   "source": [
    "data[4]"
   ]
  },
  {
   "cell_type": "code",
   "execution_count": 145,
   "id": "f6bd0068",
   "metadata": {},
   "outputs": [
    {
     "ename": "KeyError",
     "evalue": "3",
     "output_type": "error",
     "traceback": [
      "\u001b[1;31m---------------------------------------------------------------------------\u001b[0m",
      "\u001b[1;31mKeyError\u001b[0m                                  Traceback (most recent call last)",
      "\u001b[1;32m<ipython-input-145-4c5bcc095e19>\u001b[0m in \u001b[0;36m<module>\u001b[1;34m\u001b[0m\n\u001b[1;32m----> 1\u001b[1;33m \u001b[0mdata\u001b[0m\u001b[1;33m[\u001b[0m\u001b[1;36m3\u001b[0m\u001b[1;33m]\u001b[0m \u001b[1;31m#bc we don't have any value at 3\u001b[0m\u001b[1;33m\u001b[0m\u001b[1;33m\u001b[0m\u001b[0m\n\u001b[0m",
      "\u001b[1;31mKeyError\u001b[0m: 3"
     ]
    }
   ],
   "source": [
    "data[3] #bc we don't have any value at 3"
   ]
  },
  {
   "cell_type": "code",
   "execution_count": 146,
   "id": "1b69ea76",
   "metadata": {},
   "outputs": [
    {
     "data": {
      "text/plain": [
       "'ali'"
      ]
     },
     "execution_count": 146,
     "metadata": {},
     "output_type": "execute_result"
    }
   ],
   "source": [
    "data.get(4)"
   ]
  },
  {
   "cell_type": "code",
   "execution_count": 147,
   "id": "15369094",
   "metadata": {},
   "outputs": [],
   "source": [
    "data.get(3)"
   ]
  },
  {
   "cell_type": "code",
   "execution_count": 148,
   "id": "f88fe74d",
   "metadata": {},
   "outputs": [
    {
     "name": "stdout",
     "output_type": "stream",
     "text": [
      "None\n"
     ]
    }
   ],
   "source": [
    "print(data.get(3))"
   ]
  },
  {
   "cell_type": "code",
   "execution_count": 149,
   "id": "8df05b61",
   "metadata": {},
   "outputs": [
    {
     "data": {
      "text/plain": [
       "'rizwan'"
      ]
     },
     "execution_count": 149,
     "metadata": {},
     "output_type": "execute_result"
    }
   ],
   "source": [
    "data.get(1)"
   ]
  },
  {
   "cell_type": "code",
   "execution_count": 150,
   "id": "f4f64cf4",
   "metadata": {},
   "outputs": [
    {
     "data": {
      "text/plain": [
       "'not found'"
      ]
     },
     "execution_count": 150,
     "metadata": {},
     "output_type": "execute_result"
    }
   ],
   "source": [
    "data.get(3,'not found')"
   ]
  },
  {
   "cell_type": "code",
   "execution_count": 151,
   "id": "fa09ec31",
   "metadata": {},
   "outputs": [],
   "source": [
    "keys = ['rizwan','ali','umar']\n",
    "values = ['python','js','c++']"
   ]
  },
  {
   "cell_type": "code",
   "execution_count": 152,
   "id": "2008b1fa",
   "metadata": {},
   "outputs": [],
   "source": [
    "data = dict(zip(keys,values))"
   ]
  },
  {
   "cell_type": "code",
   "execution_count": 153,
   "id": "f78648c1",
   "metadata": {},
   "outputs": [
    {
     "data": {
      "text/plain": [
       "{'rizwan': 'python', 'ali': 'js', 'umar': 'c++'}"
      ]
     },
     "execution_count": 153,
     "metadata": {},
     "output_type": "execute_result"
    }
   ],
   "source": [
    "data"
   ]
  },
  {
   "cell_type": "code",
   "execution_count": 154,
   "id": "1ece36ca",
   "metadata": {},
   "outputs": [
    {
     "data": {
      "text/plain": [
       "'js'"
      ]
     },
     "execution_count": 154,
     "metadata": {},
     "output_type": "execute_result"
    }
   ],
   "source": [
    "data['ali']"
   ]
  },
  {
   "cell_type": "code",
   "execution_count": 155,
   "id": "cd4207aa",
   "metadata": {},
   "outputs": [
    {
     "ename": "NameError",
     "evalue": "name 'mayo' is not defined",
     "output_type": "error",
     "traceback": [
      "\u001b[1;31m---------------------------------------------------------------------------\u001b[0m",
      "\u001b[1;31mNameError\u001b[0m                                 Traceback (most recent call last)",
      "\u001b[1;32m<ipython-input-155-eb577c2558cf>\u001b[0m in \u001b[0;36m<module>\u001b[1;34m\u001b[0m\n\u001b[1;32m----> 1\u001b[1;33m \u001b[0mdata\u001b[0m\u001b[1;33m[\u001b[0m\u001b[0mmayo\u001b[0m\u001b[1;33m]\u001b[0m\u001b[1;33m\u001b[0m\u001b[1;33m\u001b[0m\u001b[0m\n\u001b[0m",
      "\u001b[1;31mNameError\u001b[0m: name 'mayo' is not defined"
     ]
    }
   ],
   "source": [
    "data[mayo]"
   ]
  },
  {
   "cell_type": "code",
   "execution_count": 136,
   "id": "f714fbad",
   "metadata": {},
   "outputs": [],
   "source": [
    "data['fazi'] = 'c#'"
   ]
  },
  {
   "cell_type": "code",
   "execution_count": 137,
   "id": "9c224a9f",
   "metadata": {},
   "outputs": [
    {
     "data": {
      "text/plain": [
       "{'rizwan': 'python', 'ali': 'js', 'umar': 'c++', 'fazi': 'c#'}"
      ]
     },
     "execution_count": 137,
     "metadata": {},
     "output_type": "execute_result"
    }
   ],
   "source": [
    "data"
   ]
  },
  {
   "cell_type": "code",
   "execution_count": 139,
   "id": "f51f3a78",
   "metadata": {},
   "outputs": [],
   "source": [
    "del data['umar']"
   ]
  },
  {
   "cell_type": "code",
   "execution_count": 140,
   "id": "aa0771ee",
   "metadata": {},
   "outputs": [
    {
     "data": {
      "text/plain": [
       "{'rizwan': 'python', 'ali': 'js', 'fazi': 'c#'}"
      ]
     },
     "execution_count": 140,
     "metadata": {},
     "output_type": "execute_result"
    }
   ],
   "source": [
    "data"
   ]
  },
  {
   "cell_type": "code",
   "execution_count": null,
   "id": "f20ddcf3",
   "metadata": {},
   "outputs": [],
   "source": []
  },
  {
   "cell_type": "code",
   "execution_count": 144,
   "id": "0c2f4da9",
   "metadata": {},
   "outputs": [],
   "source": [
    "prog = {'js': 'atom','cs':'grt','vs':['ali','anwar','umar','kamran'],'c#':{'as':'beta','b' : 'alfa'}}"
   ]
  },
  {
   "cell_type": "code",
   "execution_count": 146,
   "id": "dd558258",
   "metadata": {},
   "outputs": [
    {
     "data": {
      "text/plain": [
       "'atom'"
      ]
     },
     "execution_count": 146,
     "metadata": {},
     "output_type": "execute_result"
    }
   ],
   "source": [
    "prog['js']"
   ]
  },
  {
   "cell_type": "code",
   "execution_count": 149,
   "id": "6daceb56",
   "metadata": {},
   "outputs": [
    {
     "data": {
      "text/plain": [
       "['ali', 'anwar', 'umar', 'kamran']"
      ]
     },
     "execution_count": 149,
     "metadata": {},
     "output_type": "execute_result"
    }
   ],
   "source": [
    "prog['vs']"
   ]
  },
  {
   "cell_type": "code",
   "execution_count": 150,
   "id": "bb4b0b44",
   "metadata": {},
   "outputs": [
    {
     "data": {
      "text/plain": [
       "'umar'"
      ]
     },
     "execution_count": 150,
     "metadata": {},
     "output_type": "execute_result"
    }
   ],
   "source": [
    "prog['vs'][2]"
   ]
  },
  {
   "cell_type": "code",
   "execution_count": 151,
   "id": "6998f042",
   "metadata": {},
   "outputs": [
    {
     "data": {
      "text/plain": [
       "{'as': 'beta', 'b': 'alfa'}"
      ]
     },
     "execution_count": 151,
     "metadata": {},
     "output_type": "execute_result"
    }
   ],
   "source": [
    "prog['c#']"
   ]
  },
  {
   "cell_type": "code",
   "execution_count": 152,
   "id": "a2fd6700",
   "metadata": {},
   "outputs": [
    {
     "data": {
      "text/plain": [
       "'alfa'"
      ]
     },
     "execution_count": 152,
     "metadata": {},
     "output_type": "execute_result"
    }
   ],
   "source": [
    "prog['c#']['b']"
   ]
  },
  {
   "cell_type": "code",
   "execution_count": 155,
   "id": "2053387e",
   "metadata": {},
   "outputs": [
    {
     "data": {
      "text/plain": [
       "'beta'"
      ]
     },
     "execution_count": 155,
     "metadata": {},
     "output_type": "execute_result"
    }
   ],
   "source": [
    "prog['c#']['as']"
   ]
  },
  {
   "cell_type": "code",
   "execution_count": null,
   "id": "76cb0005",
   "metadata": {},
   "outputs": [],
   "source": []
  },
  {
   "cell_type": "markdown",
   "id": "c12e2d48",
   "metadata": {},
   "source": [
    "### Lecture 8: help command\n",
    "Python help() function is used to get help related to the object passed during the call. It takes an optional parameter and returns help information. If no argument is given, it shows the Python help console. It internally calls python's help function.\n"
   ]
  },
  {
   "cell_type": "code",
   "execution_count": null,
   "id": "e30827b8",
   "metadata": {},
   "outputs": [],
   "source": []
  },
  {
   "cell_type": "code",
   "execution_count": null,
   "id": "f53bdfc6",
   "metadata": {},
   "outputs": [],
   "source": []
  },
  {
   "cell_type": "markdown",
   "id": "121d2b10",
   "metadata": {},
   "source": [
    "### Lecture 9: Sublime\n",
    "Sublime Text is a commonly-used text editor used to write Python code. Sublime Text's slick user interface along with its numerous extensions for syntax highlighting, source file finding and analyzing code metrics make the editor more accessible to new programmers than some other applications like Vim and Emacs."
   ]
  },
  {
   "cell_type": "markdown",
   "id": "177d65e0",
   "metadata": {},
   "source": [
    "### Lecture 10 More about of variables\n",
    "A Python variable is a symbolic name that is a reference or pointer to an object. Once an object is assigned to a variable, you can refer to the object by that name. But the data itself is still contained within the object. ... Python does not create another object."
   ]
  },
  {
   "cell_type": "code",
   "execution_count": 1,
   "id": "8a754c05",
   "metadata": {},
   "outputs": [],
   "source": [
    "num = 5"
   ]
  },
  {
   "cell_type": "code",
   "execution_count": 2,
   "id": "c1f0a462",
   "metadata": {},
   "outputs": [
    {
     "data": {
      "text/plain": [
       "140733740951472"
      ]
     },
     "execution_count": 2,
     "metadata": {},
     "output_type": "execute_result"
    }
   ],
   "source": [
    "id(num)"
   ]
  },
  {
   "cell_type": "code",
   "execution_count": 3,
   "id": "d8a43872",
   "metadata": {},
   "outputs": [],
   "source": [
    "name = 'rizwan'"
   ]
  },
  {
   "cell_type": "code",
   "execution_count": 4,
   "id": "9d234918",
   "metadata": {},
   "outputs": [
    {
     "data": {
      "text/plain": [
       "1536926271728"
      ]
     },
     "execution_count": 4,
     "metadata": {},
     "output_type": "execute_result"
    }
   ],
   "source": [
    "id(name)"
   ]
  },
  {
   "cell_type": "code",
   "execution_count": 5,
   "id": "3f64f96a",
   "metadata": {},
   "outputs": [],
   "source": [
    "a = 10 \n",
    "b = a"
   ]
  },
  {
   "cell_type": "code",
   "execution_count": 6,
   "id": "a5a81661",
   "metadata": {},
   "outputs": [
    {
     "data": {
      "text/plain": [
       "10"
      ]
     },
     "execution_count": 6,
     "metadata": {},
     "output_type": "execute_result"
    }
   ],
   "source": [
    "b"
   ]
  },
  {
   "cell_type": "code",
   "execution_count": 7,
   "id": "adb99565",
   "metadata": {},
   "outputs": [
    {
     "data": {
      "text/plain": [
       "10"
      ]
     },
     "execution_count": 7,
     "metadata": {},
     "output_type": "execute_result"
    }
   ],
   "source": [
    "a"
   ]
  },
  {
   "cell_type": "code",
   "execution_count": 8,
   "id": "8cb371bc",
   "metadata": {},
   "outputs": [
    {
     "data": {
      "text/plain": [
       "140733740951632"
      ]
     },
     "execution_count": 8,
     "metadata": {},
     "output_type": "execute_result"
    }
   ],
   "source": [
    "id(a)"
   ]
  },
  {
   "cell_type": "code",
   "execution_count": 9,
   "id": "873724f8",
   "metadata": {},
   "outputs": [
    {
     "data": {
      "text/plain": [
       "140733740951632"
      ]
     },
     "execution_count": 9,
     "metadata": {},
     "output_type": "execute_result"
    }
   ],
   "source": [
    "id(b)"
   ]
  },
  {
   "cell_type": "code",
   "execution_count": 10,
   "id": "a00c54da",
   "metadata": {},
   "outputs": [
    {
     "data": {
      "text/plain": [
       "140733740951632"
      ]
     },
     "execution_count": 10,
     "metadata": {},
     "output_type": "execute_result"
    }
   ],
   "source": [
    "id(10)"
   ]
  },
  {
   "cell_type": "code",
   "execution_count": 11,
   "id": "61bcd5cf",
   "metadata": {},
   "outputs": [],
   "source": [
    "k = 10"
   ]
  },
  {
   "cell_type": "code",
   "execution_count": 12,
   "id": "5623c4ca",
   "metadata": {},
   "outputs": [
    {
     "data": {
      "text/plain": [
       "140733740951632"
      ]
     },
     "execution_count": 12,
     "metadata": {},
     "output_type": "execute_result"
    }
   ],
   "source": [
    "id(10)"
   ]
  },
  {
   "cell_type": "code",
   "execution_count": 13,
   "id": "0b7bd0d0",
   "metadata": {},
   "outputs": [
    {
     "data": {
      "text/plain": [
       "140733740951632"
      ]
     },
     "execution_count": 13,
     "metadata": {},
     "output_type": "execute_result"
    }
   ],
   "source": [
    "id(k)"
   ]
  },
  {
   "cell_type": "code",
   "execution_count": 14,
   "id": "9239f456",
   "metadata": {},
   "outputs": [],
   "source": [
    "a = 9"
   ]
  },
  {
   "cell_type": "code",
   "execution_count": 15,
   "id": "de7229e3",
   "metadata": {},
   "outputs": [
    {
     "data": {
      "text/plain": [
       "140733740951600"
      ]
     },
     "execution_count": 15,
     "metadata": {},
     "output_type": "execute_result"
    }
   ],
   "source": [
    "id(a)"
   ]
  },
  {
   "cell_type": "code",
   "execution_count": 16,
   "id": "7c60c6b9",
   "metadata": {},
   "outputs": [
    {
     "data": {
      "text/plain": [
       "140733740951632"
      ]
     },
     "execution_count": 16,
     "metadata": {},
     "output_type": "execute_result"
    }
   ],
   "source": [
    "id(b)"
   ]
  },
  {
   "cell_type": "code",
   "execution_count": 17,
   "id": "882e0d68",
   "metadata": {},
   "outputs": [],
   "source": [
    "k = a"
   ]
  },
  {
   "cell_type": "code",
   "execution_count": 18,
   "id": "d9d9ceb7",
   "metadata": {},
   "outputs": [
    {
     "data": {
      "text/plain": [
       "140733740951600"
      ]
     },
     "execution_count": 18,
     "metadata": {},
     "output_type": "execute_result"
    }
   ],
   "source": [
    "id(k)"
   ]
  },
  {
   "cell_type": "code",
   "execution_count": 19,
   "id": "2bd23113",
   "metadata": {},
   "outputs": [],
   "source": [
    "b = 8"
   ]
  },
  {
   "cell_type": "code",
   "execution_count": 20,
   "id": "dad46885",
   "metadata": {},
   "outputs": [
    {
     "data": {
      "text/plain": [
       "140733740951568"
      ]
     },
     "execution_count": 20,
     "metadata": {},
     "output_type": "execute_result"
    }
   ],
   "source": [
    "id(b)"
   ]
  },
  {
   "cell_type": "code",
   "execution_count": 21,
   "id": "c78990bd",
   "metadata": {},
   "outputs": [],
   "source": [
    "pi =  3.14"
   ]
  },
  {
   "cell_type": "code",
   "execution_count": 22,
   "id": "2294ee38",
   "metadata": {},
   "outputs": [
    {
     "data": {
      "text/plain": [
       "3.14"
      ]
     },
     "execution_count": 22,
     "metadata": {},
     "output_type": "execute_result"
    }
   ],
   "source": [
    "pi"
   ]
  },
  {
   "cell_type": "code",
   "execution_count": 23,
   "id": "061ee05b",
   "metadata": {},
   "outputs": [],
   "source": [
    "pi = 3.15"
   ]
  },
  {
   "cell_type": "code",
   "execution_count": 24,
   "id": "2ca70cd7",
   "metadata": {},
   "outputs": [
    {
     "data": {
      "text/plain": [
       "3.15"
      ]
     },
     "execution_count": 24,
     "metadata": {},
     "output_type": "execute_result"
    }
   ],
   "source": [
    "pi"
   ]
  },
  {
   "cell_type": "code",
   "execution_count": 25,
   "id": "057eae43",
   "metadata": {},
   "outputs": [
    {
     "data": {
      "text/plain": [
       "float"
      ]
     },
     "execution_count": 25,
     "metadata": {},
     "output_type": "execute_result"
    }
   ],
   "source": [
    "type(pi)"
   ]
  },
  {
   "cell_type": "code",
   "execution_count": null,
   "id": "a7b8948a",
   "metadata": {},
   "outputs": [],
   "source": []
  }
 ],
 "metadata": {
  "kernelspec": {
   "display_name": "Python 3",
   "language": "python",
   "name": "python3"
  },
  "language_info": {
   "codemirror_mode": {
    "name": "ipython",
    "version": 3
   },
   "file_extension": ".py",
   "mimetype": "text/x-python",
   "name": "python",
   "nbconvert_exporter": "python",
   "pygments_lexer": "ipython3",
   "version": "3.8.8"
  }
 },
 "nbformat": 4,
 "nbformat_minor": 5
}
