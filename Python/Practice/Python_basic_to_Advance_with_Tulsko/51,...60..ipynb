{
 "cells": [
  {
   "cell_type": "markdown",
   "id": "441c4d18",
   "metadata": {},
   "source": [
    "### Lecture 51: Constructor, Self and Comparing Objects\n",
    "Constructors are generally used for instantiating an object. The task of constructors is to initialize(assign values) to the data members of the class when an object of the class is created. In Python the __init__() method is called the constructor and is always called when an object is created."
   ]
  },
  {
   "cell_type": "code",
   "execution_count": 3,
   "id": "b5aec9bf",
   "metadata": {},
   "outputs": [
    {
     "name": "stdout",
     "output_type": "stream",
     "text": [
      "2778024536288\n"
     ]
    }
   ],
   "source": [
    "class computer:\n",
    "    pass\n",
    "    \n",
    "c1 = computer()\n",
    "print(id(c1))"
   ]
  },
  {
   "cell_type": "code",
   "execution_count": 6,
   "id": "2a6d3ca3",
   "metadata": {},
   "outputs": [
    {
     "name": "stdout",
     "output_type": "stream",
     "text": [
      "umar\n",
      "Ali\n"
     ]
    }
   ],
   "source": [
    "class computer:\n",
    "    def __init__(self):\n",
    "        self.name = \"Ali\"\n",
    "        self.age = 20\n",
    "        \n",
    "c1 = computer()\n",
    "c2 = computer()\n",
    "\n",
    "c1.name = \"umar\"\n",
    "c1.age = 18\n",
    "\n",
    "print(c1.name)\n",
    "print(c2.name)"
   ]
  },
  {
   "cell_type": "code",
   "execution_count": 9,
   "id": "3d18eaa1",
   "metadata": {},
   "outputs": [
    {
     "name": "stdout",
     "output_type": "stream",
     "text": [
      "umar\n",
      "Ali\n"
     ]
    }
   ],
   "source": [
    "class computer:\n",
    "    def __init__(self):\n",
    "        self.name = \"Ali\"\n",
    "        self.age = 20\n",
    "        \n",
    "    def update(self):\n",
    "        self.age = 24\n",
    "        \n",
    "    def compare(self,other):\n",
    "        if self.age == other.age:\n",
    "            return True\n",
    "        else:\n",
    "            False\n",
    "        \n",
    "c1 = computer()\n",
    "c2 = computer()\n",
    "\n",
    "c1.name = \"umar\"\n",
    "c1.age = 18\n",
    "\n",
    "if c1.compare(c2):\n",
    "    print(\"They have same age\")\n",
    "\n",
    "\n",
    "\n",
    "print(c1.name)\n",
    "print(c2.name)"
   ]
  },
  {
   "cell_type": "code",
   "execution_count": null,
   "id": "af9f21af",
   "metadata": {},
   "outputs": [],
   "source": []
  },
  {
   "cell_type": "code",
   "execution_count": 10,
   "id": "e1f35c5b",
   "metadata": {},
   "outputs": [],
   "source": [
    "#end"
   ]
  },
  {
   "cell_type": "code",
   "execution_count": null,
   "id": "36c92fa8",
   "metadata": {},
   "outputs": [],
   "source": []
  },
  {
   "cell_type": "markdown",
   "id": "a2c5144c",
   "metadata": {},
   "source": [
    "### Lecture 52: Types of variables\n",
    "\n",
    "There are three different types of variables in OOPs in python.\n",
    "Instance variable ( Object level variable )\n",
    "Static variable ( Class level variable )\n",
    "Local variable ( Method level variable )"
   ]
  },
  {
   "cell_type": "code",
   "execution_count": 15,
   "id": "3ec00fc4",
   "metadata": {},
   "outputs": [],
   "source": [
    "#two types of variables\n",
    "#(1): instance variable : if we difine a variable init called iv\n",
    "#(2): class(static) variable : if define outside from init called cv"
   ]
  },
  {
   "cell_type": "code",
   "execution_count": 18,
   "id": "2a6ecc77",
   "metadata": {},
   "outputs": [
    {
     "name": "stdout",
     "output_type": "stream",
     "text": [
      "BMW 8 5\n",
      "BMW 10 5\n"
     ]
    }
   ],
   "source": [
    "class car:\n",
    "    \n",
    "    wheels = 4    #class namespace\n",
    "    \n",
    "    def __init__(self):   #instance namespace\n",
    "        self.mil = 10\n",
    "        self.com = \"BMW\"\n",
    "        \n",
    "c1 = car()\n",
    "c2 = car()\n",
    "\n",
    "c1.mil = 8\n",
    "\n",
    "car.wheels = 5\n",
    "\n",
    "print(c1.com,c1.mil,c1.wheels)\n",
    "print(c2.com,c2.mil,c2.wheels)"
   ]
  },
  {
   "cell_type": "code",
   "execution_count": 21,
   "id": "1bdf4d9f",
   "metadata": {},
   "outputs": [],
   "source": [
    "#variables for store dta\n",
    "#and Method for behavier"
   ]
  },
  {
   "cell_type": "code",
   "execution_count": 22,
   "id": "0fb1e03e",
   "metadata": {},
   "outputs": [],
   "source": [
    "#End"
   ]
  },
  {
   "cell_type": "code",
   "execution_count": null,
   "id": "f3d4d2ce",
   "metadata": {},
   "outputs": [],
   "source": []
  },
  {
   "cell_type": "markdown",
   "id": "937809ea",
   "metadata": {},
   "source": [
    "### Lecture 53: Types of Methods\n",
    "In python there are three different method types. The static method, the class method, and the instance method."
   ]
  },
  {
   "cell_type": "code",
   "execution_count": 27,
   "id": "cb5c7d9c",
   "metadata": {},
   "outputs": [
    {
     "name": "stdout",
     "output_type": "stream",
     "text": [
      "55.333333333333336\n",
      "77.66666666666667\n"
     ]
    }
   ],
   "source": [
    "class student:\n",
    "    \n",
    "    school = \"LGU\"\n",
    "    \n",
    "    def __init__(self,m1,m2,m3):\n",
    "        \n",
    "        self.m1 = m1\n",
    "        self.m2 = m2\n",
    "        self.m3 = m3\n",
    "        \n",
    "    def avg(self):\n",
    "        return(self.m1 + self.m2 + self.m3)/3\n",
    "    \n",
    "        \n",
    "s1 = student(33,56,77)\n",
    "s2 = student(65,78,90)\n",
    "\n",
    "print(s1.avg())\n",
    "print(s2.avg())"
   ]
  },
  {
   "cell_type": "code",
   "execution_count": 26,
   "id": "4cdca403",
   "metadata": {},
   "outputs": [],
   "source": [
    "#acssesers = if we want to facht value we use this\n",
    "#Mutators = if we want to mute values we use this."
   ]
  },
  {
   "cell_type": "code",
   "execution_count": 31,
   "id": "a4306334",
   "metadata": {},
   "outputs": [
    {
     "name": "stdout",
     "output_type": "stream",
     "text": [
      "55.333333333333336\n",
      "LGU\n",
      "This is a student class in abc school\n"
     ]
    }
   ],
   "source": [
    "class student:\n",
    "    \n",
    "    school = \"LGU\"\n",
    "    \n",
    "    def __init__(self,m1,m2,m3):\n",
    "        \n",
    "        self.m1 = m1\n",
    "        self.m2 = m2\n",
    "        self.m3 = m3\n",
    "        \n",
    "    def avg(self):\n",
    "        return(self.m1 + self.m2 + self.m3)/3\n",
    "    \n",
    "    def get_m1(self):   #called them gatters bc the get values\n",
    "        return self.m1\n",
    "    \n",
    "    def set_m1(self,value):     #called them setters bc they set values\n",
    "        self.m1 = value\n",
    "    \n",
    "    @classmethod     # call a decorater\n",
    "    \n",
    "    def getschool(cls):\n",
    "        return cls.school\n",
    "    \n",
    "    @staticmethod\n",
    "    def info():\n",
    "        print(\"This is a student class in abc school\")\n",
    "        \n",
    "s1 = student(33,56,77)\n",
    "s2 = student(65,78,90)\n",
    "\n",
    "print(s1.avg())\n",
    "print(student.getschool())\n",
    "student.info()"
   ]
  },
  {
   "cell_type": "code",
   "execution_count": null,
   "id": "528f88ed",
   "metadata": {},
   "outputs": [],
   "source": []
  },
  {
   "cell_type": "code",
   "execution_count": null,
   "id": "c72ebc37",
   "metadata": {},
   "outputs": [],
   "source": []
  },
  {
   "cell_type": "markdown",
   "id": "d808a8f9",
   "metadata": {},
   "source": [
    "### Lecture 54: inner class in python.\n",
    "A class defined in another class is known as inner class or nested class. If an object is created using child class means inner class then the object can also be used by parent class or root class."
   ]
  },
  {
   "cell_type": "code",
   "execution_count": 33,
   "id": "80b22625",
   "metadata": {},
   "outputs": [
    {
     "name": "stdout",
     "output_type": "stream",
     "text": [
      "Ali 2\n"
     ]
    }
   ],
   "source": [
    "class student:\n",
    "    def __init__(self,name,rollno):\n",
    "        \n",
    "        self.name = name\n",
    "        self.rollno = rollno\n",
    "        \n",
    "s1 = student(\"Ali\", 2)\n",
    "s2 = student(\"umar\", 5)\n",
    "\n",
    "print(s1.name,s1.rollno)\n",
    "    "
   ]
  },
  {
   "cell_type": "code",
   "execution_count": 41,
   "id": "7774305b",
   "metadata": {},
   "outputs": [
    {
     "name": "stdout",
     "output_type": "stream",
     "text": [
      "Ali 2\n",
      "2778025618736\n",
      "2778025616864\n"
     ]
    }
   ],
   "source": [
    "class student:   #outer class\n",
    "    def __init__(self,name,rollno):\n",
    "        \n",
    "        self.name = name\n",
    "        self.rollno = rollno\n",
    "        self.lap = self.laptop()\n",
    "        \n",
    "    def show(self):\n",
    "        print(self.name, self.rollno)\n",
    "        \n",
    "    class laptop:    #iner class\n",
    "        \n",
    "        def __init__(self):\n",
    "            self.brand = \"hp\"\n",
    "            self.cpu = \"i5\"\n",
    "            self.ram = 8\n",
    "        \n",
    "        \n",
    "s1 = student(\"Ali\", 2)\n",
    "s2 = student(\"umar\", 5)\n",
    "\n",
    "s1.show()\n",
    "lap1 = s1.lap\n",
    "lap2 = s2.lap\n",
    "\n",
    "print(id(lap1))\n",
    "print(id(lap2))"
   ]
  },
  {
   "cell_type": "code",
   "execution_count": 43,
   "id": "fb704088",
   "metadata": {},
   "outputs": [
    {
     "name": "stdout",
     "output_type": "stream",
     "text": [
      "Ali 2\n",
      "hp i5 8\n"
     ]
    }
   ],
   "source": [
    "class student:   #outer class\n",
    "    def __init__(self,name,rollno):\n",
    "        \n",
    "        self.name = name\n",
    "        self.rollno = rollno\n",
    "        self.lap = self.laptop()\n",
    "        \n",
    "    def show(self):\n",
    "        print(self.name, self.rollno)\n",
    "        self.lap.show()\n",
    "        \n",
    "    class laptop:    #iner class\n",
    "        \n",
    "        def __init__(self):\n",
    "            self.brand = \"hp\"\n",
    "            self.cpu = \"i5\"\n",
    "            self.ram = 8\n",
    "        \n",
    "        def show(self):\n",
    "            print(self.brand,self.cpu,self.ram)\n",
    "        \n",
    "s1 = student(\"Ali\", 2)\n",
    "s2 = student(\"umar\", 5)\n",
    "\n",
    "s1.show()\n",
    "lap1 = s1.lap\n",
    "lap2 = s2.lap\n",
    "\n"
   ]
  },
  {
   "cell_type": "code",
   "execution_count": null,
   "id": "ecb668fb",
   "metadata": {},
   "outputs": [],
   "source": []
  },
  {
   "cell_type": "code",
   "execution_count": 44,
   "id": "f7ea38f4",
   "metadata": {},
   "outputs": [],
   "source": [
    "#end"
   ]
  },
  {
   "cell_type": "code",
   "execution_count": null,
   "id": "e2af7576",
   "metadata": {},
   "outputs": [],
   "source": []
  },
  {
   "cell_type": "markdown",
   "id": "a9cf6cfb",
   "metadata": {},
   "source": [
    "### Lecture 55: inheritence\n",
    "Python Inheritance. Inheritance is an important aspect of the object-oriented paradigm. Inheritance provides code reusability to the program because we can use an existing class to create a new class instead of creating it from scratch."
   ]
  },
  {
   "cell_type": "code",
   "execution_count": 20,
   "id": "f93ef34a",
   "metadata": {},
   "outputs": [
    {
     "name": "stdout",
     "output_type": "stream",
     "text": [
      "Feature 1 working\n",
      "Feature 2 working\n",
      "Feature 3 working\n",
      "Feature 4 working\n",
      "Feature 1 working\n",
      "Feature 2 working\n",
      "Feature 3 working\n",
      "Feature 4 working\n",
      "Feature 5 working\n"
     ]
    }
   ],
   "source": [
    "class A:\n",
    "    def feature1(self):\n",
    "        print(\"Feature 1 working\")\n",
    "        \n",
    "    def feature2(self):\n",
    "        print(\"Feature 2 working\")\n",
    "        \n",
    "class B(A):\n",
    "    def feature3(self):\n",
    "        print(\"Feature 3 working\")\n",
    "        \n",
    "    def feature4(self):\n",
    "        print(\"Feature 4 working\")\n",
    "        \n",
    "class C(B):\n",
    "    \n",
    "    def feature5(self):\n",
    "        print(\"Feature 5 working\")\n",
    "        \n",
    "    \n",
    "a1 = A()\n",
    "\n",
    "a1.feature1()\n",
    "a1.feature2()\n",
    "\n",
    "b1 = B()   \n",
    "b1.feature3()\n",
    "b1.feature4()\n",
    "\n",
    "c1 = C()\n",
    "c1.feature1()\n",
    "c1.feature2()\n",
    "c1.feature3()\n",
    "c1.feature4()\n",
    "c1.feature5()"
   ]
  },
  {
   "cell_type": "code",
   "execution_count": null,
   "id": "83e874e9",
   "metadata": {},
   "outputs": [],
   "source": []
  },
  {
   "cell_type": "code",
   "execution_count": 12,
   "id": "4840fc0d",
   "metadata": {},
   "outputs": [],
   "source": [
    "# End,\n",
    "\n"
   ]
  },
  {
   "cell_type": "code",
   "execution_count": null,
   "id": "1a9e0b6b",
   "metadata": {},
   "outputs": [],
   "source": []
  },
  {
   "cell_type": "markdown",
   "id": "3c3e73ff",
   "metadata": {},
   "source": [
    "### Lecture 56: Constracters in inheritence\n",
    "A derived class inherits the members of its base class. when a derived class object is instantiated, its base class members must be initialized in addition to its own members. The base class constructor is called to initialize the base class members of the derived class object"
   ]
  },
  {
   "cell_type": "code",
   "execution_count": 23,
   "id": "1487df9c",
   "metadata": {},
   "outputs": [
    {
     "name": "stdout",
     "output_type": "stream",
     "text": [
      "in A init\n"
     ]
    }
   ],
   "source": [
    "class A:\n",
    "    def __init__(self):\n",
    "        print(\"in A init\")\n",
    "    \n",
    "    \n",
    "    def feature1(self):\n",
    "        print(\"Feature 1 working\")\n",
    "        \n",
    "    def feature2(self):\n",
    "        print(\"Feature 2 working\")\n",
    "        \n",
    "class B(A):\n",
    "    def feature3(self):\n",
    "        print(\"Feature 3 working\")\n",
    "        \n",
    "    def feature4(self):\n",
    "        print(\"Feature 4 working\")\n",
    "\n",
    "a1 = A()\n"
   ]
  },
  {
   "cell_type": "code",
   "execution_count": 27,
   "id": "df67f353",
   "metadata": {},
   "outputs": [
    {
     "name": "stdout",
     "output_type": "stream",
     "text": [
      "in B init\n"
     ]
    }
   ],
   "source": [
    "class A:\n",
    "    def __init__(self):\n",
    "        print(\"in A init\")\n",
    "    \n",
    "    \n",
    "    def feature1(self):\n",
    "        print(\"Feature 1 working\")\n",
    "        \n",
    "    def feature2(self):\n",
    "        print(\"Feature 2 working\")\n",
    "        \n",
    "class B(A):\n",
    "    def __init__(self):\n",
    "        print(\"in B init\")\n",
    "    \n",
    "    def feature3(self):\n",
    "        print(\"Feature 3 working\")\n",
    "        \n",
    "    def feature4(self):\n",
    "        print(\"Feature 4 working\")\n",
    "        \n",
    "a1 = B()"
   ]
  },
  {
   "cell_type": "code",
   "execution_count": 28,
   "id": "adab1029",
   "metadata": {},
   "outputs": [
    {
     "name": "stdout",
     "output_type": "stream",
     "text": [
      "in A init\n",
      "in B init\n"
     ]
    }
   ],
   "source": [
    "class A:\n",
    "    def __init__(self):\n",
    "        print(\"in A init\")\n",
    "    \n",
    "    \n",
    "    def feature1(self):\n",
    "        print(\"Feature 1 working\")\n",
    "        \n",
    "    def feature2(self):\n",
    "        print(\"Feature 2 working\")\n",
    "        \n",
    "class B(A):\n",
    "    def __init__(self):\n",
    "        super().__init__()\n",
    "        print(\"in B init\")\n",
    "    \n",
    "    def feature3(self):\n",
    "        print(\"Feature 3 working\")\n",
    "        \n",
    "    def feature4(self):\n",
    "        print(\"Feature 4 working\")\n",
    "        \n",
    "a1 = B()"
   ]
  },
  {
   "cell_type": "code",
   "execution_count": 31,
   "id": "d5565ad0",
   "metadata": {},
   "outputs": [
    {
     "name": "stdout",
     "output_type": "stream",
     "text": [
      "in c init\n"
     ]
    }
   ],
   "source": [
    "class A:\n",
    "    def __init__(self):\n",
    "        print(\"in A init\")\n",
    "    \n",
    "    \n",
    "    def feature1(self):\n",
    "        print(\"Feature 1 working\")\n",
    "        \n",
    "    def feature2(self):\n",
    "        print(\"Feature 2 working\")\n",
    "        \n",
    "class B():\n",
    "    def __init__(self):\n",
    "        print(\"in B init\")\n",
    "    \n",
    "    def feature3(self):\n",
    "        print(\"Feature 3 working\")\n",
    "        \n",
    "    def feature4(self):\n",
    "        print(\"Feature 4 working\")\n",
    "\n",
    "class C(A,B):\n",
    "    def __init__(self):\n",
    "        print(\"in c init\")\n",
    "\n",
    "a1 = C()"
   ]
  },
  {
   "cell_type": "code",
   "execution_count": 33,
   "id": "dafecf00",
   "metadata": {},
   "outputs": [
    {
     "name": "stdout",
     "output_type": "stream",
     "text": [
      "in A init\n",
      "in c init\n",
      "Feature 1-A working\n"
     ]
    }
   ],
   "source": [
    "class A:\n",
    "    def __init__(self):\n",
    "        print(\"in A init\")\n",
    "    \n",
    "    \n",
    "    def feature1(self):\n",
    "        print(\"Feature 1-A working\")\n",
    "        \n",
    "    def feature2(self):\n",
    "        print(\"Feature 2 working\")\n",
    "        \n",
    "class B():\n",
    "    def __init__(self):\n",
    "        print(\"in B init\")\n",
    "    \n",
    "    def feature3(self):\n",
    "        print(\"Feature 1-B working\")\n",
    "        \n",
    "    def feature4(self):\n",
    "        print(\"Feature 4 working\")\n",
    "\n",
    "class C(A,B):\n",
    "    def __init__(self):\n",
    "        super().__init__()\n",
    "        print(\"in c init\")\n",
    "\n",
    "a1 = C()\n",
    "a1.feature1()"
   ]
  },
  {
   "cell_type": "code",
   "execution_count": 34,
   "id": "de10bec4",
   "metadata": {},
   "outputs": [],
   "source": [
    "#MRO = Methode Resolution Order"
   ]
  },
  {
   "cell_type": "code",
   "execution_count": 36,
   "id": "6a29ca74",
   "metadata": {},
   "outputs": [
    {
     "name": "stdout",
     "output_type": "stream",
     "text": [
      "in A init\n",
      "in c init\n",
      "Feature 2 working\n"
     ]
    }
   ],
   "source": [
    "class A:\n",
    "    def __init__(self):\n",
    "        print(\"in A init\")\n",
    "    \n",
    "    \n",
    "    def feature1(self):\n",
    "        print(\"Feature 1-A working\")\n",
    "        \n",
    "    def feature2(self):\n",
    "        print(\"Feature 2 working\")\n",
    "        \n",
    "class B():\n",
    "    def __init__(self):\n",
    "        print(\"in B init\")\n",
    "    \n",
    "    def feature3(self):\n",
    "        print(\"Feature 1-B working\")\n",
    "        \n",
    "    def feature4(self):\n",
    "        print(\"Feature 4 working\")\n",
    "\n",
    "class C(A,B):\n",
    "    def __init__(self):\n",
    "        super().__init__()\n",
    "        print(\"in c init\")\n",
    "        \n",
    "    def feat(self):\n",
    "        super().feature2()\n",
    "\n",
    "a1 = C()\n",
    "a1.feat()"
   ]
  },
  {
   "cell_type": "code",
   "execution_count": null,
   "id": "0c0b6fde",
   "metadata": {},
   "outputs": [],
   "source": []
  },
  {
   "cell_type": "code",
   "execution_count": 37,
   "id": "8ebc9c96",
   "metadata": {},
   "outputs": [],
   "source": [
    "#end"
   ]
  },
  {
   "cell_type": "code",
   "execution_count": null,
   "id": "9cee5fc4",
   "metadata": {},
   "outputs": [],
   "source": []
  },
  {
   "cell_type": "markdown",
   "id": "372b800b",
   "metadata": {},
   "source": [
    "### Lecture 57: intro of polymorphism\n",
    "Polymorphism in python defines methods in the child class that have the same name as the methods in the parent class. In inheritance, the child class inherits the methods from the parent class. Also, it is possible to modify a method in a child class that it has inherited from the parent class."
   ]
  },
  {
   "cell_type": "code",
   "execution_count": 40,
   "id": "ee6ad763",
   "metadata": {},
   "outputs": [],
   "source": [
    "# There are 4 types of polymorphism\n",
    "# (1) Duck Typing\n",
    "# (2) Oprater overloding\n",
    "# (3) Methode overloding\n",
    "# (4) Methode overriding"
   ]
  },
  {
   "cell_type": "code",
   "execution_count": null,
   "id": "85a391fc",
   "metadata": {},
   "outputs": [],
   "source": []
  },
  {
   "cell_type": "markdown",
   "id": "fe09169d",
   "metadata": {},
   "source": [
    "### Lecture 58: Duck typing in pyhhon\n",
    "\n",
    "Duck typing is a concept related to dynamic typing, where the type or the class of an object is less important than the methods it defines. When you use duck typing, you do not check types at all. Instead, you check for the presence of a given method or attribute."
   ]
  },
  {
   "cell_type": "code",
   "execution_count": 53,
   "id": "bef973c8",
   "metadata": {},
   "outputs": [
    {
     "name": "stdout",
     "output_type": "stream",
     "text": [
      "installing\n",
      "Running\n"
     ]
    }
   ],
   "source": [
    "class pycharm:\n",
    "    def execute(self):\n",
    "        print(\"installing\")\n",
    "        print(\"Running\")\n",
    "        \n",
    "\n",
    "class laptop:\n",
    "    def code(self,ide):\n",
    "        ide.execute()\n",
    "        \n",
    "ide = pycharm()\n",
    "\n",
    "lap1 = laptop()\n",
    "lap1.code(ide)\n",
    "    "
   ]
  },
  {
   "cell_type": "code",
   "execution_count": 56,
   "id": "4250711b",
   "metadata": {},
   "outputs": [
    {
     "name": "stdout",
     "output_type": "stream",
     "text": [
      "spell check\n",
      "grammar\n",
      "english\n",
      "urdu\n"
     ]
    }
   ],
   "source": [
    "\n",
    "class pycharm:\n",
    "    def execute(self):\n",
    "        print(\"installing\")\n",
    "        print(\"Running\")\n",
    "\n",
    "        \n",
    "class myeditor:\n",
    "    def execute(self):\n",
    "        print(\"spell check\")\n",
    "        print(\"grammar\")\n",
    "        print(\"english\")\n",
    "        print(\"urdu\")\n",
    "        \n",
    "\n",
    "class laptop:\n",
    "    def code(self,ide):\n",
    "        ide.execute()\n",
    "        \n",
    "ide = myeditor()\n",
    "\n",
    "lap1 =laptop()\n",
    "lap1.code(ide)\n",
    "    "
   ]
  },
  {
   "cell_type": "code",
   "execution_count": null,
   "id": "859f15fb",
   "metadata": {},
   "outputs": [],
   "source": [
    "# polymorphism means one thing,meltiple forms"
   ]
  },
  {
   "cell_type": "code",
   "execution_count": null,
   "id": "d08a04b5",
   "metadata": {},
   "outputs": [],
   "source": []
  },
  {
   "cell_type": "markdown",
   "id": "8117c1d9",
   "metadata": {},
   "source": [
    "### Lecture 59: Oprater overloding\n",
    "Operator overloading in Python is the ability of a single operator to perform more than one operation based on the class (type) of operands. For example, the + operator can be used to add two numbers, concatenate two strings or merge two lists"
   ]
  },
  {
   "cell_type": "code",
   "execution_count": 58,
   "id": "7f3aad28",
   "metadata": {},
   "outputs": [],
   "source": [
    "#5,6 = 5 + 6 = 5,6,opraends,+ = #oprater\n",
    "# synthetic suger = means that they are try to simplyfy code for user."
   ]
  },
  {
   "cell_type": "code",
   "execution_count": 62,
   "id": "590589d4",
   "metadata": {},
   "outputs": [
    {
     "name": "stdout",
     "output_type": "stream",
     "text": [
      "11\n",
      "11\n"
     ]
    }
   ],
   "source": [
    "a =  5\n",
    "b =  6\n",
    "print(a + b )\n",
    "print(int.__add__(a,b))"
   ]
  },
  {
   "cell_type": "code",
   "execution_count": 63,
   "id": "6edc5694",
   "metadata": {},
   "outputs": [
    {
     "name": "stdout",
     "output_type": "stream",
     "text": [
      "56\n",
      "56\n"
     ]
    }
   ],
   "source": [
    "a = '5'\n",
    "b =  '6'\n",
    "print(a + b )\n",
    "print(str.__add__(a,b))"
   ]
  },
  {
   "cell_type": "code",
   "execution_count": 68,
   "id": "afb35fd1",
   "metadata": {},
   "outputs": [
    {
     "name": "stdout",
     "output_type": "stream",
     "text": [
      "99\n",
      "132\n"
     ]
    }
   ],
   "source": [
    "class student:\n",
    "    \n",
    "    def __init__(self,m1,m2):\n",
    "        self.m1 = m1\n",
    "        self.m2 = m2\n",
    "     \n",
    "    def __add__(self,other):\n",
    "        m1 = self.m1 + other.m1\n",
    "        m2 = self.m2 + other.m2\n",
    "        s3 = student(m1,m2)\n",
    "        return s3\n",
    "        \n",
    "s1 = student(45,65)\n",
    "s2 = student(54,67)\n",
    "\n",
    "s3 = s1 + s2\n",
    "    \n",
    "    \n",
    "print(s3.m1)\n",
    "print(s3.m2)"
   ]
  },
  {
   "cell_type": "code",
   "execution_count": 70,
   "id": "67df2ee4",
   "metadata": {},
   "outputs": [
    {
     "name": "stdout",
     "output_type": "stream",
     "text": [
      "-9\n",
      "-2\n"
     ]
    }
   ],
   "source": [
    "class student:\n",
    "    \n",
    "    def __init__(self,m1,m2):\n",
    "        self.m1 = m1\n",
    "        self.m2 = m2\n",
    "     \n",
    "    def __sub__(self,other):\n",
    "        m1 = self.m1 - other.m1\n",
    "        m2 = self.m2 - other.m2\n",
    "        s3 = student(m1,m2)\n",
    "        return s3\n",
    "        \n",
    "s1 = student(45,65)\n",
    "s2 = student(54,67)\n",
    "\n",
    "s3 = s1 - s2\n",
    "    \n",
    "    \n",
    "print(s3.m1)\n",
    "print(s3.m2)"
   ]
  },
  {
   "cell_type": "code",
   "execution_count": 71,
   "id": "7d6f1926",
   "metadata": {},
   "outputs": [
    {
     "name": "stdout",
     "output_type": "stream",
     "text": [
      "2430\n",
      "4355\n"
     ]
    }
   ],
   "source": [
    "class student:\n",
    "    \n",
    "    def __init__(self,m1,m2):\n",
    "        self.m1 = m1\n",
    "        self.m2 = m2\n",
    "     \n",
    "    def __mul__(self,other):\n",
    "        m1 = self.m1 * other.m1\n",
    "        m2 = self.m2 * other.m2\n",
    "        s3 = student(m1,m2)\n",
    "        return s3\n",
    "        \n",
    "s1 = student(45,65)\n",
    "s2 = student(54,67)\n",
    "\n",
    "s3 = s1 * s2\n",
    "    \n",
    "    \n",
    "print(s3.m1)\n",
    "print(s3.m2)"
   ]
  },
  {
   "cell_type": "code",
   "execution_count": 73,
   "id": "ffc040b4",
   "metadata": {},
   "outputs": [
    {
     "ename": "TypeError",
     "evalue": "unsupported operand type(s) for /: 'student' and 'student'",
     "output_type": "error",
     "traceback": [
      "\u001b[1;31m---------------------------------------------------------------------------\u001b[0m",
      "\u001b[1;31mTypeError\u001b[0m                                 Traceback (most recent call last)",
      "\u001b[1;32m<ipython-input-73-8b2e49d7a497>\u001b[0m in \u001b[0;36m<module>\u001b[1;34m\u001b[0m\n\u001b[0;32m     14\u001b[0m \u001b[0ms2\u001b[0m \u001b[1;33m=\u001b[0m \u001b[0mstudent\u001b[0m\u001b[1;33m(\u001b[0m\u001b[1;36m54\u001b[0m\u001b[1;33m,\u001b[0m\u001b[1;36m67\u001b[0m\u001b[1;33m)\u001b[0m\u001b[1;33m\u001b[0m\u001b[1;33m\u001b[0m\u001b[0m\n\u001b[0;32m     15\u001b[0m \u001b[1;33m\u001b[0m\u001b[0m\n\u001b[1;32m---> 16\u001b[1;33m \u001b[0ms3\u001b[0m \u001b[1;33m=\u001b[0m \u001b[0ms1\u001b[0m \u001b[1;33m/\u001b[0m \u001b[0ms2\u001b[0m\u001b[1;33m\u001b[0m\u001b[1;33m\u001b[0m\u001b[0m\n\u001b[0m\u001b[0;32m     17\u001b[0m \u001b[1;33m\u001b[0m\u001b[0m\n\u001b[0;32m     18\u001b[0m \u001b[1;33m\u001b[0m\u001b[0m\n",
      "\u001b[1;31mTypeError\u001b[0m: unsupported operand type(s) for /: 'student' and 'student'"
     ]
    }
   ],
   "source": [
    "class student:\n",
    "    \n",
    "    def __init__(self,m1,m2):\n",
    "        self.m1 = m1\n",
    "        self.m2 = m2\n",
    "     \n",
    "    def __div__(self,other):\n",
    "        m1 = self.m1 / other.m1\n",
    "        m2 = self.m2 / other.m2\n",
    "        s3 = student(m1,m2)\n",
    "        return s3\n",
    "        \n",
    "s1 = student(45,65)\n",
    "s2 = student(54,67)\n",
    "\n",
    "s3 = s1 / s2\n",
    "    \n",
    "    \n",
    "print(s3.m1)\n",
    "print(s3.m2)"
   ]
  },
  {
   "cell_type": "code",
   "execution_count": 74,
   "id": "f99fa763",
   "metadata": {},
   "outputs": [
    {
     "name": "stdout",
     "output_type": "stream",
     "text": [
      "s2 wins\n"
     ]
    }
   ],
   "source": [
    "class student:\n",
    "    \n",
    "    def __init__(self,m1,m2):\n",
    "        self.m1 = m1\n",
    "        self.m2 = m2\n",
    "     \n",
    "    def __add__(self,other):\n",
    "        m1 = self.m1 + other.m1\n",
    "        m2 = self.m2 + other.m2\n",
    "        s3 = student(m1,m2)\n",
    "        return s3\n",
    "    \n",
    "    def __gt__(self,other):\n",
    "        r1 = self.m1 + self.m2\n",
    "        r2 = other.m1 + other.m2\n",
    "        if r1 > r2:\n",
    "            return True\n",
    "        else:\n",
    "            return False\n",
    "        \n",
    "s1 = student(45,65)\n",
    "s2 = student(54,67)\n",
    "\n",
    "s3 = s1 + s2\n",
    "    \n",
    "    \n",
    "if s1 > s2:\n",
    "    \n",
    "    print(\"s1 wins\")\n",
    "else:\n",
    "    print('s2 wins')"
   ]
  },
  {
   "cell_type": "code",
   "execution_count": 75,
   "id": "483eebea",
   "metadata": {},
   "outputs": [
    {
     "name": "stdout",
     "output_type": "stream",
     "text": [
      "s1 wins\n"
     ]
    }
   ],
   "source": [
    "class student:\n",
    "    \n",
    "    def __init__(self,m1,m2):\n",
    "        self.m1 = m1\n",
    "        self.m2 = m2\n",
    "     \n",
    "    def __add__(self,other):\n",
    "        m1 = self.m1 + other.m1\n",
    "        m2 = self.m2 + other.m2\n",
    "        s3 = student(m1,m2)\n",
    "        return s3\n",
    "    \n",
    "    def __gt__(self,other):\n",
    "        r1 = self.m1 + self.m2\n",
    "        r2 = other.m1 + other.m2\n",
    "        if r1 > r2:\n",
    "            return True\n",
    "        else:\n",
    "            return False\n",
    "        \n",
    "s1 = student(75,65)\n",
    "s2 = student(54,67)\n",
    "\n",
    "s3 = s1 + s2\n",
    "    \n",
    "    \n",
    "if s1 > s2:\n",
    "    \n",
    "    print(\"s1 wins\")\n",
    "else:\n",
    "    print('s2 wins')"
   ]
  },
  {
   "cell_type": "code",
   "execution_count": 80,
   "id": "f2ce147b",
   "metadata": {},
   "outputs": [
    {
     "name": "stdout",
     "output_type": "stream",
     "text": [
      "s1 wins\n",
      "9\n",
      "<__main__.student object at 0x000001C8232AD460>\n"
     ]
    }
   ],
   "source": [
    "class student:\n",
    "    \n",
    "    def __init__(self,m1,m2):\n",
    "        self.m1 = m1\n",
    "        self.m2 = m2\n",
    "     \n",
    "    def __add__(self,other):\n",
    "        m1 = self.m1 + other.m1\n",
    "        m2 = self.m2 + other.m2\n",
    "        s3 = student(m1,m2)\n",
    "        return s3\n",
    "    \n",
    "    def __gt__(self,other):\n",
    "        r1 = self.m1 + self.m2\n",
    "        r2 = other.m1 + other.m2\n",
    "        if r1 > r2:\n",
    "            return True\n",
    "        else:\n",
    "            return False\n",
    "        \n",
    "s1 = student(56,67)\n",
    "s2 = student(54,67)\n",
    "\n",
    "s3 = s1 + s2\n",
    "    \n",
    "    \n",
    "if s1 > s2:\n",
    "    \n",
    "    print(\"s1 wins\")\n",
    "else:\n",
    "    print('s2 wins')\n",
    "    \n",
    "a = 9\n",
    "print(a.__str__())\n",
    "\n",
    "print(s1.__str__())"
   ]
  },
  {
   "cell_type": "code",
   "execution_count": 82,
   "id": "058d063b",
   "metadata": {},
   "outputs": [
    {
     "name": "stdout",
     "output_type": "stream",
     "text": [
      "s1 wins\n",
      "9\n",
      "(56, 67)\n"
     ]
    }
   ],
   "source": [
    "class student:\n",
    "    \n",
    "    def __init__(self,m1,m2):\n",
    "        self.m1 = m1\n",
    "        self.m2 = m2\n",
    "     \n",
    "    def __add__(self,other):\n",
    "        m1 = self.m1 + other.m1\n",
    "        m2 = self.m2 + other.m2\n",
    "        s3 = student(m1,m2)\n",
    "        return s3\n",
    "    \n",
    "    def __gt__(self,other):\n",
    "        r1 = self.m1 + self.m2\n",
    "        r2 = other.m1 + other.m2\n",
    "        if r1 > r2:\n",
    "            return True\n",
    "        else:\n",
    "            return False\n",
    "        \n",
    "    def __str__(self):\n",
    "        return self.m1,self.m2\n",
    "        \n",
    "s1 = student(56,67)\n",
    "s2 = student(54,67)\n",
    "\n",
    "s3 = s1 + s2\n",
    "    \n",
    "    \n",
    "if s1 > s2:\n",
    "    \n",
    "    print(\"s1 wins\")\n",
    "else:\n",
    "    print('s2 wins')\n",
    "    \n",
    "a = 9\n",
    "print(a.__str__())\n",
    "\n",
    "print(s1.__str__())"
   ]
  },
  {
   "cell_type": "code",
   "execution_count": 84,
   "id": "45b86768",
   "metadata": {},
   "outputs": [
    {
     "name": "stdout",
     "output_type": "stream",
     "text": [
      "s1 wins\n",
      "9\n",
      "56,67\n",
      "54,67\n"
     ]
    }
   ],
   "source": [
    "class student:\n",
    "    \n",
    "    def __init__(self,m1,m2):\n",
    "        self.m1 = m1\n",
    "        self.m2 = m2\n",
    "     \n",
    "    def __add__(self,other):\n",
    "        m1 = self.m1 + other.m1\n",
    "        m2 = self.m2 + other.m2\n",
    "        s3 = student(m1,m2)\n",
    "        return s3\n",
    "    \n",
    "    def __gt__(self,other):\n",
    "        r1 = self.m1 + self.m2\n",
    "        r2 = other.m1 + other.m2\n",
    "        if r1 > r2:\n",
    "            return True\n",
    "        else:\n",
    "            return False\n",
    "        \n",
    "    def __str__(self):\n",
    "        return '{},{}'.format (self.m1,self.m2)\n",
    "        \n",
    "s1 = student(56,67)\n",
    "s2 = student(54,67)\n",
    "\n",
    "s3 = s1 + s2\n",
    "    \n",
    "    \n",
    "if s1 > s2:\n",
    "    \n",
    "    print(\"s1 wins\")\n",
    "else:\n",
    "    print('s2 wins')\n",
    "    \n",
    "a = 9\n",
    "print(a.__str__())\n",
    "\n",
    "print(s1)\n",
    "print(s2)"
   ]
  },
  {
   "cell_type": "code",
   "execution_count": null,
   "id": "98ceb554",
   "metadata": {},
   "outputs": [],
   "source": []
  },
  {
   "cell_type": "code",
   "execution_count": 85,
   "id": "c88080d2",
   "metadata": {},
   "outputs": [],
   "source": [
    "#END\n"
   ]
  },
  {
   "cell_type": "code",
   "execution_count": null,
   "id": "26beea95",
   "metadata": {},
   "outputs": [],
   "source": []
  },
  {
   "cell_type": "markdown",
   "id": "a9c2aef6",
   "metadata": {},
   "source": [
    "### Lecture 60: \n",
    "\n",
    "### Method overloding\n",
    "The main advantage of this is cleanliness of code. Method overloading increases the readability of the program. Overloaded methods give programmers the flexibility to call a similar method for different types of data. Overloading is also used on constructors to create new objects given different amounts of data.\n",
    "\n",
    "\n",
    "### Method overriding\n",
    "In Python method overriding occurs by simply defining in the child class a method with the same name of a method in the parent class. When you define a method in the object you make this latter able to satisfy that method call, so the implementations of its ancestors do not come in play."
   ]
  },
  {
   "cell_type": "code",
   "execution_count": 87,
   "id": "a1c4b472",
   "metadata": {},
   "outputs": [],
   "source": [
    "#Types of Polymorphism\n",
    "# (1) Methode overriding = parameters with same name and same arguments.\n",
    "# (2) Methode overloding = same name but different parameters.\n"
   ]
  },
  {
   "cell_type": "code",
   "execution_count": 1,
   "id": "0c8943ac",
   "metadata": {},
   "outputs": [
    {
     "name": "stdout",
     "output_type": "stream",
     "text": [
      "7\n"
     ]
    }
   ],
   "source": [
    "class student:\n",
    "    \n",
    "    def __init__(self,m1,m2):\n",
    "        self.m1 = m1\n",
    "        self.m2 = m2\n",
    "        \n",
    "    def sum(self,a,b):\n",
    "        s = a + b\n",
    "        return s\n",
    "    \n",
    "s1 = student(44,65)\n",
    "print(s1.sum(3,4))"
   ]
  },
  {
   "cell_type": "code",
   "execution_count": 3,
   "id": "b8fb955a",
   "metadata": {},
   "outputs": [
    {
     "name": "stdout",
     "output_type": "stream",
     "text": [
      "9\n"
     ]
    }
   ],
   "source": [
    "class student:\n",
    "    \n",
    "    def __init__(self,m1,m2):\n",
    "        self.m1 = m1\n",
    "        self.m2 = m2\n",
    "        \n",
    "    def sum(self,a,b,c):\n",
    "        s = a + b + c\n",
    "        return s\n",
    "    \n",
    "s1 = student(44,65)\n",
    "print(s1.sum(3,4,2))"
   ]
  },
  {
   "cell_type": "code",
   "execution_count": 4,
   "id": "0a7b52e8",
   "metadata": {},
   "outputs": [
    {
     "ename": "TypeError",
     "evalue": "sum() missing 1 required positional argument: 'c'",
     "output_type": "error",
     "traceback": [
      "\u001b[1;31m---------------------------------------------------------------------------\u001b[0m",
      "\u001b[1;31mTypeError\u001b[0m                                 Traceback (most recent call last)",
      "\u001b[1;32m<ipython-input-4-1c3ffe9c5939>\u001b[0m in \u001b[0;36m<module>\u001b[1;34m\u001b[0m\n\u001b[0;32m     10\u001b[0m \u001b[1;33m\u001b[0m\u001b[0m\n\u001b[0;32m     11\u001b[0m \u001b[0ms1\u001b[0m \u001b[1;33m=\u001b[0m \u001b[0mstudent\u001b[0m\u001b[1;33m(\u001b[0m\u001b[1;36m44\u001b[0m\u001b[1;33m,\u001b[0m\u001b[1;36m65\u001b[0m\u001b[1;33m)\u001b[0m\u001b[1;33m\u001b[0m\u001b[1;33m\u001b[0m\u001b[0m\n\u001b[1;32m---> 12\u001b[1;33m \u001b[0mprint\u001b[0m\u001b[1;33m(\u001b[0m\u001b[0ms1\u001b[0m\u001b[1;33m.\u001b[0m\u001b[0msum\u001b[0m\u001b[1;33m(\u001b[0m\u001b[1;36m3\u001b[0m\u001b[1;33m,\u001b[0m\u001b[1;36m4\u001b[0m\u001b[1;33m,\u001b[0m\u001b[1;33m)\u001b[0m\u001b[1;33m)\u001b[0m\u001b[1;33m\u001b[0m\u001b[1;33m\u001b[0m\u001b[0m\n\u001b[0m",
      "\u001b[1;31mTypeError\u001b[0m: sum() missing 1 required positional argument: 'c'"
     ]
    }
   ],
   "source": [
    "class student:\n",
    "    \n",
    "    def __init__(self,m1,m2):\n",
    "        self.m1 = m1\n",
    "        self.m2 = m2\n",
    "        \n",
    "    def sum(self,a,b,c):\n",
    "        s = a + b + c\n",
    "        return s\n",
    "    \n",
    "s1 = student(44,65)\n",
    "print(s1.sum(3,4,))"
   ]
  },
  {
   "cell_type": "code",
   "execution_count": 9,
   "id": "c01b1a68",
   "metadata": {},
   "outputs": [
    {
     "name": "stdout",
     "output_type": "stream",
     "text": [
      "9\n"
     ]
    }
   ],
   "source": [
    "class student:\n",
    "    \n",
    "    def __init__(self,m1,m2):\n",
    "        self.m1 = m1\n",
    "        self.m2 = m2\n",
    "        \n",
    "    def sum(self,a=None,b=None,c=None):\n",
    "        s = 0\n",
    "        if a != None and b != None and c != None:\n",
    "        \n",
    "            s = a + b + c\n",
    "        elif a != none and b != none:\n",
    "            s = a + b\n",
    "        else:\n",
    "            s = a\n",
    "        return s\n",
    "    \n",
    "s1 = student(44,65)\n",
    "print(s1.sum(3,4,2))"
   ]
  },
  {
   "cell_type": "code",
   "execution_count": 11,
   "id": "1c65edd3",
   "metadata": {},
   "outputs": [
    {
     "name": "stdout",
     "output_type": "stream",
     "text": [
      "7\n"
     ]
    }
   ],
   "source": [
    "class student:\n",
    "    \n",
    "    def __init__(self,m1,m2):\n",
    "        self.m1 = m1\n",
    "        self.m2 = m2\n",
    "        \n",
    "    def sum(self,a=None,b=None,c=None):\n",
    "        s = 0\n",
    "        if a != None and b != None and c != None:\n",
    "        \n",
    "            s = a + b + c\n",
    "        elif a != None and b != None:\n",
    "            s = a + b\n",
    "        else:\n",
    "            s = a\n",
    "        return s\n",
    "    \n",
    "s1 = student(44,65)\n",
    "print(s1.sum(3,4,))"
   ]
  },
  {
   "cell_type": "code",
   "execution_count": 13,
   "id": "01597941",
   "metadata": {},
   "outputs": [
    {
     "name": "stdout",
     "output_type": "stream",
     "text": [
      "3\n"
     ]
    }
   ],
   "source": [
    "class student:\n",
    "    \n",
    "    def __init__(self,m1,m2):\n",
    "        self.m1 = m1\n",
    "        self.m2 = m2\n",
    "        \n",
    "    def sum(self,a=None,b=None,c=None):\n",
    "        s = 0\n",
    "        if a != None and b != None and c != None:\n",
    "        \n",
    "            s = a + b + c\n",
    "        elif a != None and b != None:\n",
    "            s = a + b\n",
    "        else:\n",
    "            s = a\n",
    "        return s\n",
    "    \n",
    "s1 = student(44,65)\n",
    "print(s1.sum(3))"
   ]
  },
  {
   "cell_type": "code",
   "execution_count": 14,
   "id": "a0fbd634",
   "metadata": {},
   "outputs": [],
   "source": [
    "# Above all calculation of lec 60 belongs to metode overloding"
   ]
  },
  {
   "cell_type": "code",
   "execution_count": null,
   "id": "fb9e4aad",
   "metadata": {},
   "outputs": [],
   "source": []
  },
  {
   "cell_type": "code",
   "execution_count": 15,
   "id": "ccda2e25",
   "metadata": {},
   "outputs": [],
   "source": [
    "#method overriding"
   ]
  },
  {
   "cell_type": "code",
   "execution_count": 16,
   "id": "c2f09325",
   "metadata": {},
   "outputs": [
    {
     "name": "stdout",
     "output_type": "stream",
     "text": [
      "in a show\n"
     ]
    }
   ],
   "source": [
    "class A:\n",
    "    def show(self):\n",
    "        print(\"in a show\")\n",
    "        \n",
    "class B(A):        #HERE B inherit A\n",
    "    pass\n",
    "\n",
    "a1 = B()\n",
    "a1.show()\n",
    "        "
   ]
  },
  {
   "cell_type": "code",
   "execution_count": 17,
   "id": "77972776",
   "metadata": {},
   "outputs": [
    {
     "name": "stdout",
     "output_type": "stream",
     "text": [
      "in B show\n"
     ]
    }
   ],
   "source": [
    "class A:\n",
    "    def show(self):\n",
    "        print(\"in a show\")\n",
    "        \n",
    "class B():    #HERE B inherit A\n",
    "    def show(self):\n",
    "        print(\"in B show\")\n",
    "\n",
    "a1 = B()\n",
    "a1.show()\n",
    "        "
   ]
  },
  {
   "cell_type": "code",
   "execution_count": null,
   "id": "3c2bbc49",
   "metadata": {},
   "outputs": [],
   "source": []
  },
  {
   "cell_type": "code",
   "execution_count": 18,
   "id": "298da0d4",
   "metadata": {},
   "outputs": [],
   "source": [
    "#END"
   ]
  },
  {
   "cell_type": "code",
   "execution_count": null,
   "id": "b6816425",
   "metadata": {},
   "outputs": [],
   "source": []
  }
 ],
 "metadata": {
  "kernelspec": {
   "display_name": "Python 3",
   "language": "python",
   "name": "python3"
  },
  "language_info": {
   "codemirror_mode": {
    "name": "ipython",
    "version": 3
   },
   "file_extension": ".py",
   "mimetype": "text/x-python",
   "name": "python",
   "nbconvert_exporter": "python",
   "pygments_lexer": "ipython3",
   "version": "3.8.8"
  }
 },
 "nbformat": 4,
 "nbformat_minor": 5
}
