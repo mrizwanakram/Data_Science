{
 "cells": [
  {
   "cell_type": "markdown",
   "id": "25f6c9e6",
   "metadata": {},
   "source": [
    "### Lecture 31: Working with matrix in python\n",
    "Matrix is one of the important data structures that can be used in mathematical and scientific calculations. Python does not have a straightforward way to implement a matrix data type. Python matrix can be created using a nested list data type and by using the numpy library"
   ]
  },
  {
   "cell_type": "code",
   "execution_count": 3,
   "id": "e1c44e48",
   "metadata": {},
   "outputs": [],
   "source": [
    "from numpy import *"
   ]
  },
  {
   "cell_type": "code",
   "execution_count": 8,
   "id": "350dc457",
   "metadata": {},
   "outputs": [],
   "source": [
    "arr1 = array([\n",
    "                [1,2,3,4,5],\n",
    "    \n",
    "                [6,7,8,9,0]\n",
    "])"
   ]
  },
  {
   "cell_type": "code",
   "execution_count": 9,
   "id": "2e214ee7",
   "metadata": {},
   "outputs": [
    {
     "name": "stdout",
     "output_type": "stream",
     "text": [
      "[[1 2 3 4 5]\n",
      " [6 7 8 9 0]]\n"
     ]
    }
   ],
   "source": [
    "print(arr1)"
   ]
  },
  {
   "cell_type": "code",
   "execution_count": 10,
   "id": "68c1b9b1",
   "metadata": {},
   "outputs": [
    {
     "name": "stdout",
     "output_type": "stream",
     "text": [
      "int32\n"
     ]
    }
   ],
   "source": [
    "print(arr1.dtype)"
   ]
  },
  {
   "cell_type": "code",
   "execution_count": 11,
   "id": "03099ea3",
   "metadata": {},
   "outputs": [
    {
     "name": "stdout",
     "output_type": "stream",
     "text": [
      "2\n"
     ]
    }
   ],
   "source": [
    "print(arr1.ndim)"
   ]
  },
  {
   "cell_type": "code",
   "execution_count": 12,
   "id": "00680a5b",
   "metadata": {},
   "outputs": [
    {
     "name": "stdout",
     "output_type": "stream",
     "text": [
      "(2, 5)\n"
     ]
    }
   ],
   "source": [
    "print(arr1.shape)"
   ]
  },
  {
   "cell_type": "code",
   "execution_count": 13,
   "id": "c2282b56",
   "metadata": {},
   "outputs": [
    {
     "name": "stdout",
     "output_type": "stream",
     "text": [
      "10\n"
     ]
    }
   ],
   "source": [
    "print(arr1.size)"
   ]
  },
  {
   "cell_type": "code",
   "execution_count": 14,
   "id": "289a3069",
   "metadata": {},
   "outputs": [
    {
     "data": {
      "text/plain": [
       "array([[1, 2, 3, 4, 5],\n",
       "       [6, 7, 8, 9, 0]])"
      ]
     },
     "execution_count": 14,
     "metadata": {},
     "output_type": "execute_result"
    }
   ],
   "source": [
    "arr1"
   ]
  },
  {
   "cell_type": "code",
   "execution_count": 15,
   "id": "2a1ab4b5",
   "metadata": {},
   "outputs": [],
   "source": [
    "arr2 = arr1.flatten()"
   ]
  },
  {
   "cell_type": "code",
   "execution_count": 16,
   "id": "54264bc0",
   "metadata": {},
   "outputs": [
    {
     "name": "stdout",
     "output_type": "stream",
     "text": [
      "[1 2 3 4 5 6 7 8 9 0]\n"
     ]
    }
   ],
   "source": [
    "print(arr2)"
   ]
  },
  {
   "cell_type": "code",
   "execution_count": 17,
   "id": "6314fa18",
   "metadata": {},
   "outputs": [],
   "source": [
    "arr3 = array([\n",
    "                [1,2,3,4,5,7,5,4],\n",
    "    \n",
    "                [6,7,8,9,0,5,6,7]\n",
    "])"
   ]
  },
  {
   "cell_type": "code",
   "execution_count": 18,
   "id": "55597e6f",
   "metadata": {},
   "outputs": [
    {
     "name": "stdout",
     "output_type": "stream",
     "text": [
      "2\n"
     ]
    }
   ],
   "source": [
    "print(arr3.ndim)"
   ]
  },
  {
   "cell_type": "code",
   "execution_count": 19,
   "id": "bf938242",
   "metadata": {},
   "outputs": [],
   "source": [
    "arr4 = arr3.flatten()"
   ]
  },
  {
   "cell_type": "code",
   "execution_count": 20,
   "id": "589d4a01",
   "metadata": {},
   "outputs": [
    {
     "name": "stdout",
     "output_type": "stream",
     "text": [
      "[1 2 3 4 5 7 5 4 6 7 8 9 0 5 6 7]\n"
     ]
    }
   ],
   "source": [
    "print(arr4)"
   ]
  },
  {
   "cell_type": "code",
   "execution_count": 21,
   "id": "b7b2ab8a",
   "metadata": {},
   "outputs": [
    {
     "name": "stdout",
     "output_type": "stream",
     "text": [
      "1\n"
     ]
    }
   ],
   "source": [
    "print(arr4.ndim)"
   ]
  },
  {
   "cell_type": "code",
   "execution_count": 22,
   "id": "aa9d129c",
   "metadata": {},
   "outputs": [],
   "source": [
    "arr5 = arr4.reshape(4,4)"
   ]
  },
  {
   "cell_type": "code",
   "execution_count": 23,
   "id": "72d78f61",
   "metadata": {},
   "outputs": [
    {
     "name": "stdout",
     "output_type": "stream",
     "text": [
      "[[1 2 3 4]\n",
      " [5 7 5 4]\n",
      " [6 7 8 9]\n",
      " [0 5 6 7]]\n"
     ]
    }
   ],
   "source": [
    "print(arr5)"
   ]
  },
  {
   "cell_type": "code",
   "execution_count": 26,
   "id": "1e1a52e4",
   "metadata": {},
   "outputs": [],
   "source": [
    "arr5 = arr4.reshape(2,4,2)"
   ]
  },
  {
   "cell_type": "code",
   "execution_count": 27,
   "id": "4ac83b61",
   "metadata": {},
   "outputs": [
    {
     "name": "stdout",
     "output_type": "stream",
     "text": [
      "[[[1 2]\n",
      "  [3 4]\n",
      "  [5 7]\n",
      "  [5 4]]\n",
      "\n",
      " [[6 7]\n",
      "  [8 9]\n",
      "  [0 5]\n",
      "  [6 7]]]\n"
     ]
    }
   ],
   "source": [
    "print(arr5)"
   ]
  },
  {
   "cell_type": "code",
   "execution_count": 29,
   "id": "0537ba29",
   "metadata": {},
   "outputs": [],
   "source": [
    "arr5 = arr4.reshape(2,2,4)"
   ]
  },
  {
   "cell_type": "code",
   "execution_count": 30,
   "id": "2d10135c",
   "metadata": {},
   "outputs": [
    {
     "name": "stdout",
     "output_type": "stream",
     "text": [
      "[[[1 2 3 4]\n",
      "  [5 7 5 4]]\n",
      "\n",
      " [[6 7 8 9]\n",
      "  [0 5 6 7]]]\n"
     ]
    }
   ],
   "source": [
    "print(arr5)"
   ]
  },
  {
   "cell_type": "code",
   "execution_count": 31,
   "id": "9800bb00",
   "metadata": {},
   "outputs": [
    {
     "name": "stdout",
     "output_type": "stream",
     "text": [
      "3\n"
     ]
    }
   ],
   "source": [
    "print(arr5.ndim)"
   ]
  },
  {
   "cell_type": "code",
   "execution_count": 32,
   "id": "881f39e8",
   "metadata": {},
   "outputs": [],
   "source": [
    "arr1 = array([\n",
    "                [1,2,3,4,5],\n",
    "    \n",
    "                [6,7,8,9,0]\n",
    "])"
   ]
  },
  {
   "cell_type": "code",
   "execution_count": 33,
   "id": "94eab7e9",
   "metadata": {},
   "outputs": [
    {
     "name": "stdout",
     "output_type": "stream",
     "text": [
      "[[1 2 3 4 5]\n",
      " [6 7 8 9 0]]\n"
     ]
    }
   ],
   "source": [
    "print(arr1)"
   ]
  },
  {
   "cell_type": "code",
   "execution_count": 34,
   "id": "6145aed3",
   "metadata": {},
   "outputs": [],
   "source": [
    "m = matrix(arr1)"
   ]
  },
  {
   "cell_type": "code",
   "execution_count": 35,
   "id": "1c7673b1",
   "metadata": {},
   "outputs": [
    {
     "name": "stdout",
     "output_type": "stream",
     "text": [
      "[[1 2 3 4 5]\n",
      " [6 7 8 9 0]]\n"
     ]
    }
   ],
   "source": [
    "print(m)"
   ]
  },
  {
   "cell_type": "code",
   "execution_count": 40,
   "id": "45214a69",
   "metadata": {},
   "outputs": [],
   "source": [
    "m = matrix('4 5 6 7 ; 5 6 7 8')"
   ]
  },
  {
   "cell_type": "code",
   "execution_count": 41,
   "id": "b11af641",
   "metadata": {},
   "outputs": [
    {
     "name": "stdout",
     "output_type": "stream",
     "text": [
      "[[4 5 6 7]\n",
      " [5 6 7 8]]\n"
     ]
    }
   ],
   "source": [
    "print(m)"
   ]
  },
  {
   "cell_type": "code",
   "execution_count": 42,
   "id": "0690aa15",
   "metadata": {},
   "outputs": [],
   "source": [
    "m = matrix('4 5; 6 7 ; 5 6; 7 8')"
   ]
  },
  {
   "cell_type": "code",
   "execution_count": 43,
   "id": "28c5cfb8",
   "metadata": {},
   "outputs": [
    {
     "name": "stdout",
     "output_type": "stream",
     "text": [
      "[[4 5]\n",
      " [6 7]\n",
      " [5 6]\n",
      " [7 8]]\n"
     ]
    }
   ],
   "source": [
    "print(m)"
   ]
  },
  {
   "cell_type": "code",
   "execution_count": 52,
   "id": "3f857185",
   "metadata": {},
   "outputs": [],
   "source": [
    "m = matrix('4 5 6 ;7 8 6; 7 8,9')"
   ]
  },
  {
   "cell_type": "code",
   "execution_count": 53,
   "id": "3d2b858b",
   "metadata": {},
   "outputs": [
    {
     "name": "stdout",
     "output_type": "stream",
     "text": [
      "[[4 5 6]\n",
      " [7 8 6]\n",
      " [7 8 9]]\n"
     ]
    }
   ],
   "source": [
    "print(m)"
   ]
  },
  {
   "cell_type": "code",
   "execution_count": 54,
   "id": "75cac895",
   "metadata": {},
   "outputs": [
    {
     "data": {
      "text/plain": [
       "matrix([[4, 5, 6],\n",
       "        [7, 8, 6],\n",
       "        [7, 8, 9]])"
      ]
     },
     "execution_count": 54,
     "metadata": {},
     "output_type": "execute_result"
    }
   ],
   "source": [
    "m"
   ]
  },
  {
   "cell_type": "code",
   "execution_count": 55,
   "id": "b1e7bd3e",
   "metadata": {},
   "outputs": [
    {
     "name": "stdout",
     "output_type": "stream",
     "text": [
      "[4 8 9]\n"
     ]
    }
   ],
   "source": [
    "print(diagonal(m))"
   ]
  },
  {
   "cell_type": "code",
   "execution_count": 56,
   "id": "8281db93",
   "metadata": {},
   "outputs": [
    {
     "name": "stdout",
     "output_type": "stream",
     "text": [
      "4\n"
     ]
    }
   ],
   "source": [
    "print(m.min())"
   ]
  },
  {
   "cell_type": "code",
   "execution_count": 57,
   "id": "2f06b6df",
   "metadata": {},
   "outputs": [
    {
     "name": "stdout",
     "output_type": "stream",
     "text": [
      "9\n"
     ]
    }
   ],
   "source": [
    "print(m.max())"
   ]
  },
  {
   "cell_type": "code",
   "execution_count": 59,
   "id": "56cfdde0",
   "metadata": {},
   "outputs": [],
   "source": [
    "m1 = matrix('1 2 3;4 5 6;7 8 9')"
   ]
  },
  {
   "cell_type": "code",
   "execution_count": 60,
   "id": "5050bedf",
   "metadata": {},
   "outputs": [],
   "source": [
    "m2 = matrix('9 8 7;6 5 4;3 2 1')"
   ]
  },
  {
   "cell_type": "code",
   "execution_count": 63,
   "id": "66b0817b",
   "metadata": {},
   "outputs": [],
   "source": [
    "m3 = m1 + m2"
   ]
  },
  {
   "cell_type": "code",
   "execution_count": 64,
   "id": "af713923",
   "metadata": {},
   "outputs": [
    {
     "name": "stdout",
     "output_type": "stream",
     "text": [
      "[[10 10 10]\n",
      " [10 10 10]\n",
      " [10 10 10]]\n"
     ]
    }
   ],
   "source": [
    "print(m3)"
   ]
  },
  {
   "cell_type": "code",
   "execution_count": 65,
   "id": "d9198464",
   "metadata": {},
   "outputs": [],
   "source": [
    "m3 = m1 * m2"
   ]
  },
  {
   "cell_type": "code",
   "execution_count": 66,
   "id": "d3e4302a",
   "metadata": {},
   "outputs": [
    {
     "name": "stdout",
     "output_type": "stream",
     "text": [
      "[[ 30  24  18]\n",
      " [ 84  69  54]\n",
      " [138 114  90]]\n"
     ]
    }
   ],
   "source": [
    "print(m3)"
   ]
  },
  {
   "cell_type": "code",
   "execution_count": null,
   "id": "1d61dc50",
   "metadata": {},
   "outputs": [],
   "source": [
    "\n",
    "\n"
   ]
  },
  {
   "cell_type": "markdown",
   "id": "d99eec7f",
   "metadata": {},
   "source": [
    "### Lecture 32: FUNCTIONS IN PYTHON.\n",
    "A function is a block of code that only runs when it is called. Python functions return a value using a return statement, if one is specified. A function can be called anywhere after the function has been declared. By itself, a function does nothing.\n",
    "\n",
    "#### Types of Functions in Python\n",
    "Python Function with no argument and no return value.\n",
    "Function with no argument and with a Return value.\n",
    "Python Function with argument and No Return value.\n",
    "Function with argument and return value."
   ]
  },
  {
   "cell_type": "code",
   "execution_count": 4,
   "id": "e3cdcd8a",
   "metadata": {},
   "outputs": [],
   "source": [
    "def fun():\n",
    "    print(\"M.Rizwan\")\n",
    "    print(\" Akram\")"
   ]
  },
  {
   "cell_type": "code",
   "execution_count": 6,
   "id": "0d9ca835",
   "metadata": {},
   "outputs": [
    {
     "name": "stdout",
     "output_type": "stream",
     "text": [
      "M.Rizwan\n",
      " Akram\n"
     ]
    }
   ],
   "source": [
    "fun()"
   ]
  },
  {
   "cell_type": "code",
   "execution_count": 8,
   "id": "aa0b48f9",
   "metadata": {},
   "outputs": [],
   "source": [
    "def add(x,y):\n",
    "    c = x + y\n",
    "    print(c)\n"
   ]
  },
  {
   "cell_type": "code",
   "execution_count": 9,
   "id": "43d9be13",
   "metadata": {},
   "outputs": [
    {
     "name": "stdout",
     "output_type": "stream",
     "text": [
      "10\n"
     ]
    }
   ],
   "source": [
    "add(5,5)"
   ]
  },
  {
   "cell_type": "code",
   "execution_count": 10,
   "id": "be156e77",
   "metadata": {},
   "outputs": [
    {
     "name": "stdout",
     "output_type": "stream",
     "text": [
      "100\n"
     ]
    }
   ],
   "source": [
    "add(50,50)"
   ]
  },
  {
   "cell_type": "code",
   "execution_count": 11,
   "id": "25909084",
   "metadata": {},
   "outputs": [
    {
     "name": "stdout",
     "output_type": "stream",
     "text": [
      "2000\n"
     ]
    }
   ],
   "source": [
    "add(1000,1000)"
   ]
  },
  {
   "cell_type": "code",
   "execution_count": 12,
   "id": "58af3a4f",
   "metadata": {},
   "outputs": [],
   "source": [
    "def sub(x,y):\n",
    "    c = x - y\n",
    "    print(c)"
   ]
  },
  {
   "cell_type": "code",
   "execution_count": 13,
   "id": "3aac3352",
   "metadata": {},
   "outputs": [
    {
     "name": "stdout",
     "output_type": "stream",
     "text": [
      "3\n"
     ]
    }
   ],
   "source": [
    "sub(10,7)"
   ]
  },
  {
   "cell_type": "code",
   "execution_count": 14,
   "id": "af55efcc",
   "metadata": {},
   "outputs": [
    {
     "name": "stdout",
     "output_type": "stream",
     "text": [
      "54535\n"
     ]
    }
   ],
   "source": [
    "sub(100000,45465)"
   ]
  },
  {
   "cell_type": "code",
   "execution_count": 17,
   "id": "15da9db2",
   "metadata": {},
   "outputs": [
    {
     "name": "stdout",
     "output_type": "stream",
     "text": [
      "-2\n"
     ]
    }
   ],
   "source": [
    "sub(4,6)"
   ]
  },
  {
   "cell_type": "code",
   "execution_count": 18,
   "id": "c963eabc",
   "metadata": {},
   "outputs": [],
   "source": [
    "def add(x,y,z):\n",
    "    c = x + y +z\n",
    "    print(c)"
   ]
  },
  {
   "cell_type": "code",
   "execution_count": 19,
   "id": "0ab6f881",
   "metadata": {},
   "outputs": [
    {
     "name": "stdout",
     "output_type": "stream",
     "text": [
      "9\n"
     ]
    }
   ],
   "source": [
    "add(2,3,4)"
   ]
  },
  {
   "cell_type": "code",
   "execution_count": 20,
   "id": "7e63df46",
   "metadata": {},
   "outputs": [
    {
     "name": "stdout",
     "output_type": "stream",
     "text": [
      "213\n"
     ]
    }
   ],
   "source": [
    "add(45,78,90)"
   ]
  },
  {
   "cell_type": "code",
   "execution_count": 23,
   "id": "6b4f37d4",
   "metadata": {},
   "outputs": [
    {
     "name": "stdout",
     "output_type": "stream",
     "text": [
      "1024214\n"
     ]
    }
   ],
   "source": [
    "add(3,678567,345644)"
   ]
  },
  {
   "cell_type": "code",
   "execution_count": 24,
   "id": "ae420ce9",
   "metadata": {},
   "outputs": [],
   "source": [
    "def sub(x,y,z):\n",
    "    c = x - y - z\n",
    "    print(c)"
   ]
  },
  {
   "cell_type": "code",
   "execution_count": 25,
   "id": "168258b7",
   "metadata": {},
   "outputs": [
    {
     "name": "stdout",
     "output_type": "stream",
     "text": [
      "-2\n"
     ]
    }
   ],
   "source": [
    "sub(5,4,3)"
   ]
  },
  {
   "cell_type": "code",
   "execution_count": 26,
   "id": "a3b51231",
   "metadata": {},
   "outputs": [
    {
     "name": "stdout",
     "output_type": "stream",
     "text": [
      "381\n"
     ]
    }
   ],
   "source": [
    "sub(434,32,21)"
   ]
  },
  {
   "cell_type": "code",
   "execution_count": 27,
   "id": "969ce895",
   "metadata": {},
   "outputs": [],
   "source": [
    "def mul(x,y):\n",
    "    c = x *y\n",
    "    print(c)"
   ]
  },
  {
   "cell_type": "code",
   "execution_count": 28,
   "id": "0a86769c",
   "metadata": {},
   "outputs": [
    {
     "name": "stdout",
     "output_type": "stream",
     "text": [
      "12\n"
     ]
    }
   ],
   "source": [
    "mul(3,4)"
   ]
  },
  {
   "cell_type": "code",
   "execution_count": 29,
   "id": "d04dda34",
   "metadata": {},
   "outputs": [
    {
     "name": "stdout",
     "output_type": "stream",
     "text": [
      "36\n"
     ]
    }
   ],
   "source": [
    "mul(6,6)"
   ]
  },
  {
   "cell_type": "code",
   "execution_count": 30,
   "id": "c5279234",
   "metadata": {},
   "outputs": [
    {
     "name": "stdout",
     "output_type": "stream",
     "text": [
      "26826\n"
     ]
    }
   ],
   "source": [
    "mul(34,789)"
   ]
  },
  {
   "cell_type": "code",
   "execution_count": 31,
   "id": "bf77c2a8",
   "metadata": {},
   "outputs": [],
   "source": [
    "def mul(x,y,z):\n",
    "    c = x * y * z\n",
    "    print(c)"
   ]
  },
  {
   "cell_type": "code",
   "execution_count": 32,
   "id": "9a3f1aa2",
   "metadata": {},
   "outputs": [
    {
     "name": "stdout",
     "output_type": "stream",
     "text": [
      "8\n"
     ]
    }
   ],
   "source": [
    "mul(2,2,2)"
   ]
  },
  {
   "cell_type": "code",
   "execution_count": 33,
   "id": "623cfafc",
   "metadata": {},
   "outputs": [
    {
     "name": "stdout",
     "output_type": "stream",
     "text": [
      "36\n"
     ]
    }
   ],
   "source": [
    "mul(12,3,1)"
   ]
  },
  {
   "cell_type": "code",
   "execution_count": 34,
   "id": "c1741889",
   "metadata": {},
   "outputs": [
    {
     "name": "stdout",
     "output_type": "stream",
     "text": [
      "155194128\n"
     ]
    }
   ],
   "source": [
    "mul(456,786,433)"
   ]
  },
  {
   "cell_type": "code",
   "execution_count": 38,
   "id": "bb1555dd",
   "metadata": {},
   "outputs": [
    {
     "name": "stdout",
     "output_type": "stream",
     "text": [
      "24\n",
      "9\n"
     ]
    }
   ],
   "source": [
    "def add(x,y):\n",
    "    c = x + y\n",
    "    return c\n",
    "mul(2,3,4)\n",
    "result = add(4,5)\n",
    "print(result)"
   ]
  },
  {
   "cell_type": "code",
   "execution_count": 40,
   "id": "27257e77",
   "metadata": {},
   "outputs": [
    {
     "name": "stdout",
     "output_type": "stream",
     "text": [
      "-9\n",
      "21\n"
     ]
    }
   ],
   "source": [
    "def add(x,y,z):\n",
    "    c = x + y + z\n",
    "    return c\n",
    "sub(6,7,8)\n",
    "result = add(6,7,8)\n",
    "print(result)\n",
    "    "
   ]
  },
  {
   "cell_type": "code",
   "execution_count": 44,
   "id": "140ece74",
   "metadata": {},
   "outputs": [
    {
     "name": "stdout",
     "output_type": "stream",
     "text": [
      "10 0\n"
     ]
    }
   ],
   "source": [
    "def add_sub(x,y):\n",
    "    a = x + y\n",
    "    b = x - y\n",
    "    return a,b\n",
    "result1, result2 = add_sub(5,5)\n",
    "print(result1,result2)"
   ]
  },
  {
   "cell_type": "code",
   "execution_count": null,
   "id": "1d512bc8",
   "metadata": {},
   "outputs": [],
   "source": [
    "#end"
   ]
  },
  {
   "cell_type": "code",
   "execution_count": null,
   "id": "1d26a499",
   "metadata": {},
   "outputs": [],
   "source": []
  },
  {
   "cell_type": "markdown",
   "id": "19e8457b",
   "metadata": {},
   "source": [
    "### Lecture 33: Function arguments.\n",
    "The terms parameter and argument can be used for the same thing: information that are passed into a function. From a function's perspective: A parameter is the variable listed inside the parentheses in the function definition. An argument is the value that are sent to the function when it is called.\n",
    "\n",
    "### Mutable and immutable arguments.\n",
    "Objects of built-in types like int , float , bool , str , tuple , and Unicode are immutable. Objects of built-in types like list , set , and dict are mutable. A mutable object can change its state or contents, whereas immutable objects cannot.\n",
    "\n"
   ]
  },
  {
   "cell_type": "code",
   "execution_count": 2,
   "id": "bcd27512",
   "metadata": {},
   "outputs": [],
   "source": [
    "def update(x):\n",
    "    print(id(x))\n",
    "    x = 9\n",
    "    print(id(x))\n",
    "    print(\"x = \",x)"
   ]
  },
  {
   "cell_type": "code",
   "execution_count": 11,
   "id": "1061a0f8",
   "metadata": {},
   "outputs": [
    {
     "name": "stdout",
     "output_type": "stream",
     "text": [
      "140735748843440\n",
      "140735748843440\n",
      "140735748843568\n",
      "x =  9\n",
      "a =  5\n"
     ]
    }
   ],
   "source": [
    "a  = 5\n",
    "print(id(a))\n",
    "update(a)\n",
    "print('a = ',a)"
   ]
  },
  {
   "cell_type": "code",
   "execution_count": 17,
   "id": "aee95aab",
   "metadata": {},
   "outputs": [],
   "source": [
    "def update(list):\n",
    "    print(id(list))\n",
    "    list [1] = 9\n",
    "    print(id(list))\n",
    "    print(\"x = \",list)"
   ]
  },
  {
   "cell_type": "code",
   "execution_count": 18,
   "id": "5cbe66d5",
   "metadata": {},
   "outputs": [
    {
     "name": "stdout",
     "output_type": "stream",
     "text": [
      "2104344604096\n",
      "2104344604096\n",
      "2104344604096\n",
      "x =  [34, 9, 77]\n",
      "list=  [34, 9, 77]\n"
     ]
    }
   ],
   "source": [
    "list  = [34,66,77]\n",
    "print(id(list))\n",
    "update(list)\n",
    "print('list= ',list)"
   ]
  },
  {
   "cell_type": "code",
   "execution_count": 19,
   "id": "5123e89d",
   "metadata": {},
   "outputs": [],
   "source": [
    "#end"
   ]
  },
  {
   "cell_type": "code",
   "execution_count": null,
   "id": "29725082",
   "metadata": {},
   "outputs": [],
   "source": []
  },
  {
   "cell_type": "markdown",
   "id": "5c997f6c",
   "metadata": {},
   "source": [
    "### Lecture 34: Types of arguments\n",
    "5 Types of Arguments in Python Function Definition:\n",
    "default arguments.\n",
    "keyword arguments.\n",
    "positional arguments.\n",
    "arbitrary positional arguments.\n",
    "arbitrary keyword arguments\n",
    "\n",
    "\n",
    "##### Position:\n",
    "The first positional argument always needs to be listed first when the function is called. The second positional argument needs to be listed second and the third positional argument listed third, etc. An example of positional arguments can be seen in Python's complex() function.\n",
    "\n",
    "\n",
    "#### Keyword: \n",
    "Keyword arguments (or named arguments) are values that, when passed into a function, are identifiable by specific parameter names. A keyword argument is preceded by a parameter and the assignment operator, = . Keyword arguments can be likened to dictionaries in that they map a value to a keyword.\n",
    "\n",
    "#### Default:\n",
    "Python has a different way of representing syntax and default values for function arguments. Default values indicate that the function argument will take that value if no argument value is passed during the function call. The default value is assigned by using the assignment(=) operator of the form keywordname=value.\n",
    "\n",
    "### Variable length:\n",
    "You may need to process a function for more arguments than you specified while defining the function. These arguments are called variable-length arguments and are not named in the function definition, unlike required and default arguments."
   ]
  },
  {
   "cell_type": "code",
   "execution_count": 21,
   "id": "d7022ff1",
   "metadata": {},
   "outputs": [],
   "source": [
    "def add(x,y):                        # x and y called formal arguments\n",
    "    a = x + y\n",
    "    print(a)"
   ]
  },
  {
   "cell_type": "code",
   "execution_count": 24,
   "id": "2569e093",
   "metadata": {},
   "outputs": [
    {
     "name": "stdout",
     "output_type": "stream",
     "text": [
      "7\n"
     ]
    }
   ],
   "source": [
    "add(4,3)                             #4 and 3 called actual arguments.\n",
    "                                    #Actal arguments have four types.\n",
    "                                    #position,keyword,default,variable length"
   ]
  },
  {
   "cell_type": "code",
   "execution_count": 28,
   "id": "453542cf",
   "metadata": {},
   "outputs": [],
   "source": [
    "def person(name,age):\n",
    "    print(name)\n",
    "    print(age)"
   ]
  },
  {
   "cell_type": "code",
   "execution_count": 29,
   "id": "619c06d6",
   "metadata": {},
   "outputs": [
    {
     "name": "stdout",
     "output_type": "stream",
     "text": [
      "ali\n",
      "20\n"
     ]
    }
   ],
   "source": [
    "person('ali',20)"
   ]
  },
  {
   "cell_type": "code",
   "execution_count": 32,
   "id": "7e3f8041",
   "metadata": {},
   "outputs": [],
   "source": [
    "def person(name,age):\n",
    "    print(name)\n",
    "    print(age)"
   ]
  },
  {
   "cell_type": "code",
   "execution_count": 33,
   "id": "9b8c82e1",
   "metadata": {},
   "outputs": [
    {
     "name": "stdout",
     "output_type": "stream",
     "text": [
      "20\n",
      "Ali\n"
     ]
    }
   ],
   "source": [
    "person(20,\"Ali\")"
   ]
  },
  {
   "cell_type": "code",
   "execution_count": 35,
   "id": "a4218bfc",
   "metadata": {},
   "outputs": [
    {
     "name": "stdout",
     "output_type": "stream",
     "text": [
      "Ali\n",
      "20\n"
     ]
    }
   ],
   "source": [
    "person(age = 20,name = \"Ali\")                      #keyword argument"
   ]
  },
  {
   "cell_type": "code",
   "execution_count": 38,
   "id": "e89133ea",
   "metadata": {},
   "outputs": [],
   "source": [
    "def person(name,age = 18):                       #defult argument\n",
    "    print(name)\n",
    "    print(age)"
   ]
  },
  {
   "cell_type": "code",
   "execution_count": 39,
   "id": "b0504580",
   "metadata": {},
   "outputs": [
    {
     "name": "stdout",
     "output_type": "stream",
     "text": [
      "Ali\n",
      "18\n"
     ]
    }
   ],
   "source": [
    "person(\"Ali\")"
   ]
  },
  {
   "cell_type": "code",
   "execution_count": 40,
   "id": "5f9bc7ff",
   "metadata": {},
   "outputs": [
    {
     "name": "stdout",
     "output_type": "stream",
     "text": [
      "50\n",
      "Ali\n"
     ]
    }
   ],
   "source": [
    "person(50,\"Ali\")                       #override"
   ]
  },
  {
   "cell_type": "code",
   "execution_count": 41,
   "id": "2edba85f",
   "metadata": {},
   "outputs": [],
   "source": [
    "def sum(a,b):\n",
    "    c = a + b\n",
    "    print(c)"
   ]
  },
  {
   "cell_type": "code",
   "execution_count": 42,
   "id": "eb5791b3",
   "metadata": {},
   "outputs": [
    {
     "name": "stdout",
     "output_type": "stream",
     "text": [
      "9\n"
     ]
    }
   ],
   "source": [
    "sum(4,5)"
   ]
  },
  {
   "cell_type": "code",
   "execution_count": 48,
   "id": "6dc65d61",
   "metadata": {},
   "outputs": [],
   "source": [
    "def sum(a, * b):                        # variable length argument\n",
    "                                    #  *  use for multipate values\n",
    "    #c = a + b\n",
    "    print(a)\n",
    "    print(b)"
   ]
  },
  {
   "cell_type": "code",
   "execution_count": 49,
   "id": "791c49ca",
   "metadata": {},
   "outputs": [
    {
     "name": "stdout",
     "output_type": "stream",
     "text": [
      "3\n",
      "(5, 6, 7)\n"
     ]
    }
   ],
   "source": [
    "sum(3,5,6,7)"
   ]
  },
  {
   "cell_type": "code",
   "execution_count": 62,
   "id": "d70230bf",
   "metadata": {},
   "outputs": [],
   "source": [
    "def sum(a,*b):\n",
    "    c = a \n",
    "     \n",
    "    for i in b:\n",
    "        c = c + i\n",
    "    \n",
    "    print(c)"
   ]
  },
  {
   "cell_type": "code",
   "execution_count": 63,
   "id": "f94eb2af",
   "metadata": {},
   "outputs": [
    {
     "name": "stdout",
     "output_type": "stream",
     "text": [
      "62\n"
     ]
    }
   ],
   "source": [
    "sum(2,30,10,20)"
   ]
  },
  {
   "cell_type": "code",
   "execution_count": 66,
   "id": "4d4011fd",
   "metadata": {},
   "outputs": [],
   "source": [
    "def sum(*b):\n",
    "    c = 0\n",
    "\n",
    "     \n",
    "    for i in b:\n",
    "        c = c + i\n",
    "    \n",
    "    print(c)"
   ]
  },
  {
   "cell_type": "code",
   "execution_count": 67,
   "id": "684dad1f",
   "metadata": {},
   "outputs": [
    {
     "name": "stdout",
     "output_type": "stream",
     "text": [
      "18\n"
     ]
    }
   ],
   "source": [
    "sum(3,4,5,6)"
   ]
  },
  {
   "cell_type": "code",
   "execution_count": 68,
   "id": "691629fc",
   "metadata": {},
   "outputs": [],
   "source": [
    "# end"
   ]
  },
  {
   "cell_type": "code",
   "execution_count": null,
   "id": "20594b9a",
   "metadata": {},
   "outputs": [],
   "source": []
  },
  {
   "cell_type": "markdown",
   "id": "30d30838",
   "metadata": {},
   "source": [
    "### Lecture 35: Keyworded Variable Length Arguments in Python | **kwargs\n",
    "\n",
    "The special syntax *args in function definitions in python is used to pass a variable number of arguments to a function. It is used to pass a non-key worded, variable-length argument list. The syntax is to use the symbol * to take in a variable number of arguments; by convention, it is often used with the word args"
   ]
  },
  {
   "cell_type": "code",
   "execution_count": 75,
   "id": "c18ec9f8",
   "metadata": {},
   "outputs": [],
   "source": [
    "def person(name, *data):\n",
    "    print(name)\n",
    "    print(data)"
   ]
  },
  {
   "cell_type": "code",
   "execution_count": 76,
   "id": "4f374904",
   "metadata": {},
   "outputs": [
    {
     "name": "stdout",
     "output_type": "stream",
     "text": [
      "Rizwan\n",
      "(22, 'Lahore', 3098581002)\n"
     ]
    }
   ],
   "source": [
    "person('Rizwan',22,'Lahore',3098581002)"
   ]
  },
  {
   "cell_type": "code",
   "execution_count": 82,
   "id": "75b8231c",
   "metadata": {},
   "outputs": [],
   "source": [
    "def person(name, **data):             # ** mean passing multipale arguments but\n",
    "                                      #  with the help of keywords\n",
    "    print(name)\n",
    "    print(data)"
   ]
  },
  {
   "cell_type": "code",
   "execution_count": 84,
   "id": "dc54783d",
   "metadata": {},
   "outputs": [
    {
     "name": "stdout",
     "output_type": "stream",
     "text": [
      "Rizwan\n",
      "{'age': 22, 'city': 'Lahore', 'no': 3098581002}\n"
     ]
    }
   ],
   "source": [
    "person('Rizwan',age = 22,city = 'Lahore',no = 3098581002)"
   ]
  },
  {
   "cell_type": "code",
   "execution_count": null,
   "id": "cd7b2bfa",
   "metadata": {},
   "outputs": [],
   "source": []
  },
  {
   "cell_type": "code",
   "execution_count": 93,
   "id": "10f2bb3f",
   "metadata": {},
   "outputs": [],
   "source": [
    "def person(name, **data):\n",
    "    print(name)\n",
    "    \n",
    "    for i,j in data.items():\n",
    "        print(i,j)\n",
    "    "
   ]
  },
  {
   "cell_type": "code",
   "execution_count": 94,
   "id": "138def1c",
   "metadata": {},
   "outputs": [
    {
     "name": "stdout",
     "output_type": "stream",
     "text": [
      "Rizwan\n",
      "age 22\n",
      "city Lahore\n",
      "no 3098581002\n"
     ]
    }
   ],
   "source": [
    "person('Rizwan',age = 22,city = 'Lahore',no = 3098581002)"
   ]
  },
  {
   "cell_type": "code",
   "execution_count": 95,
   "id": "99fb2461",
   "metadata": {},
   "outputs": [],
   "source": [
    "#end "
   ]
  },
  {
   "cell_type": "code",
   "execution_count": null,
   "id": "1a93e088",
   "metadata": {},
   "outputs": [],
   "source": []
  },
  {
   "cell_type": "markdown",
   "id": "96301d7a",
   "metadata": {},
   "source": [
    "### 36: Global Keyword in Python | Global vs Local Variable\n",
    "Global variables are variables declared outside a function. Local variables are variables declared inside a function. While global variables cannot be directly changed in a function, you can use the global keyword to create a function that will change the value of a global variable."
   ]
  },
  {
   "cell_type": "code",
   "execution_count": 104,
   "id": "d40c2a64",
   "metadata": {},
   "outputs": [
    {
     "name": "stdout",
     "output_type": "stream",
     "text": [
      "in function 15\n"
     ]
    }
   ],
   "source": [
    "\n",
    "a = 10                #Globle variable = scope of this fun is everywhere.\n",
    "def something():      #local variable = we cannot use this fun outside.\n",
    "    a = 15\n",
    "    b = 9\n",
    "    print(\"in function\", a)\n",
    "something() \n",
    "    \n",
    "    \n",
    "#print(b)\n"
   ]
  },
  {
   "cell_type": "code",
   "execution_count": 105,
   "id": "825d23ec",
   "metadata": {},
   "outputs": [
    {
     "name": "stdout",
     "output_type": "stream",
     "text": [
      "out function 10\n"
     ]
    }
   ],
   "source": [
    "print(\"out function\", a)"
   ]
  },
  {
   "cell_type": "code",
   "execution_count": 106,
   "id": "32cc2ec9",
   "metadata": {},
   "outputs": [
    {
     "name": "stdout",
     "output_type": "stream",
     "text": [
      "in function 10\n",
      "out function 10\n"
     ]
    }
   ],
   "source": [
    "a = 10                \n",
    "def something():      \n",
    "\n",
    "    print(\"in function\", a)\n",
    "something() \n",
    "print(\"out function\", a)"
   ]
  },
  {
   "cell_type": "code",
   "execution_count": 112,
   "id": "ad0b369b",
   "metadata": {},
   "outputs": [
    {
     "name": "stdout",
     "output_type": "stream",
     "text": [
      "in function 15\n",
      "out function 15\n"
     ]
    }
   ],
   "source": [
    "a = 10                \n",
    "def something():\n",
    "    global a\n",
    "    a = 15      #  =?  ; want to change variable globaly\n",
    "    print(\"in function\", a)\n",
    "something() \n",
    "print(\"out function\", a)"
   ]
  },
  {
   "cell_type": "code",
   "execution_count": 118,
   "id": "db9fc71e",
   "metadata": {},
   "outputs": [
    {
     "name": "stdout",
     "output_type": "stream",
     "text": [
      "140735748843600\n",
      "140735748843600\n",
      "in function 9\n",
      "out function 10\n"
     ]
    }
   ],
   "source": [
    "a = 10  \n",
    "print(id(a))\n",
    "def something():\n",
    "    a = 9\n",
    "    x = globals()['a']\n",
    "    \n",
    "    print(id(x))\n",
    "    print(\"in function\", a)\n",
    "something()\n",
    "print(\"out function\", a)"
   ]
  },
  {
   "cell_type": "code",
   "execution_count": 119,
   "id": "8c0dd601",
   "metadata": {},
   "outputs": [
    {
     "name": "stdout",
     "output_type": "stream",
     "text": [
      "140735748843600\n",
      "140735748843600\n",
      "in function 9\n",
      "out function 15\n"
     ]
    }
   ],
   "source": [
    "a = 10  \n",
    "print(id(a))\n",
    "def something():\n",
    "    a = 9\n",
    "    x = globals()['a']\n",
    "    \n",
    "    print(id(x))\n",
    "    print(\"in function\", a)\n",
    "    globals()['a'] = 15\n",
    "    \n",
    "something()\n",
    "print(\"out function\", a)"
   ]
  },
  {
   "cell_type": "code",
   "execution_count": 120,
   "id": "ca9912f1",
   "metadata": {},
   "outputs": [],
   "source": [
    "# end"
   ]
  },
  {
   "cell_type": "code",
   "execution_count": null,
   "id": "eaec2209",
   "metadata": {},
   "outputs": [],
   "source": []
  },
  {
   "cell_type": "markdown",
   "id": "5475e268",
   "metadata": {},
   "source": [
    "### Lecture 37: Pass a list to a function\n",
    "In Python, you can unpack list , tuple , dict (dictionary) and pass its elements to function as arguments by adding * to list or tuple and ** to dictionary when calling function. Note that if list , tuple , or dict is specified as an argument without * or ** , it is not be unpacked and passed to the function as is."
   ]
  },
  {
   "cell_type": "code",
   "execution_count": 126,
   "id": "388e4bc3",
   "metadata": {},
   "outputs": [
    {
     "name": "stdout",
     "output_type": "stream",
     "text": [
      "even : 6 and odd : 7\n"
     ]
    }
   ],
   "source": [
    "def count(list):\n",
    "    even = 0\n",
    "    odd = 0\n",
    "    for i in list:\n",
    "        if i % 2 == 0:\n",
    "            even += 1\n",
    "        else:\n",
    "            odd +=1\n",
    "            \n",
    "    return even,odd\n",
    "    \n",
    "list = [2,3,4,5,6,7,89,98,90,11,45,44,33]\n",
    "even,odd = count(list)\n",
    "\n",
    "print(\"even : {} and odd : {}\".format(even,odd))"
   ]
  },
  {
   "cell_type": "code",
   "execution_count": 127,
   "id": "3c341ec0",
   "metadata": {},
   "outputs": [],
   "source": [
    "# end"
   ]
  },
  {
   "cell_type": "code",
   "execution_count": null,
   "id": "5c866194",
   "metadata": {},
   "outputs": [],
   "source": []
  },
  {
   "cell_type": "markdown",
   "id": "ba4e850e",
   "metadata": {},
   "source": [
    "### 38:Fibonacci sequence in python.\n",
    "Fibonacci numbers are a sequence of whole numbers: 0, 1, 1, 2, 3, 5, 8, 13, 21, 34, ... This infinite sequence is called the Fibonacci sequence.\n",
    "0,1,1,2,3,5,8,13,21,34,......."
   ]
  },
  {
   "cell_type": "code",
   "execution_count": 135,
   "id": "518d4c12",
   "metadata": {},
   "outputs": [
    {
     "name": "stdout",
     "output_type": "stream",
     "text": [
      "0\n",
      "1\n",
      "1\n",
      "2\n",
      "3\n"
     ]
    }
   ],
   "source": [
    "def fib(n):\n",
    "    \n",
    "    a = 0\n",
    "    b = 1\n",
    "    print(a)\n",
    "    print(b)\n",
    "    \n",
    "    for i in range(2,n):\n",
    "        c = a + b\n",
    "        a = b\n",
    "        b = c\n",
    "        \n",
    "        print(c)\n",
    "fib(5)"
   ]
  },
  {
   "cell_type": "code",
   "execution_count": 138,
   "id": "8c68a83c",
   "metadata": {},
   "outputs": [
    {
     "name": "stdout",
     "output_type": "stream",
     "text": [
      "0\n"
     ]
    }
   ],
   "source": [
    "def fib(n):\n",
    "    \n",
    "    a = 0\n",
    "    b = 1\n",
    "    if n == 1:\n",
    "        print(a)\n",
    "    else:\n",
    "        print(a)\n",
    "        print(b)\n",
    "    \n",
    "    for i in range(2,n):\n",
    "        c = a + b\n",
    "        a = b\n",
    "        b = c\n",
    "        \n",
    "        print(c)\n",
    "fib(1)"
   ]
  },
  {
   "cell_type": "code",
   "execution_count": 139,
   "id": "a8da631a",
   "metadata": {},
   "outputs": [
    {
     "name": "stdout",
     "output_type": "stream",
     "text": [
      "0\n",
      "1\n",
      "1\n",
      "2\n",
      "3\n"
     ]
    }
   ],
   "source": [
    "fib(5)"
   ]
  },
  {
   "cell_type": "code",
   "execution_count": 140,
   "id": "8099e016",
   "metadata": {},
   "outputs": [
    {
     "name": "stdout",
     "output_type": "stream",
     "text": [
      "0\n",
      "1\n",
      "1\n",
      "2\n",
      "3\n",
      "5\n",
      "8\n",
      "13\n",
      "21\n",
      "34\n"
     ]
    }
   ],
   "source": [
    "fib(10)"
   ]
  },
  {
   "cell_type": "code",
   "execution_count": 141,
   "id": "31f22308",
   "metadata": {},
   "outputs": [
    {
     "name": "stdout",
     "output_type": "stream",
     "text": [
      "0\n",
      "1\n"
     ]
    }
   ],
   "source": [
    "fib(-3) # assigment = ?., how to corret this erroe?"
   ]
  },
  {
   "cell_type": "code",
   "execution_count": 142,
   "id": "c0142f21",
   "metadata": {},
   "outputs": [
    {
     "name": "stdout",
     "output_type": "stream",
     "text": [
      "0\n",
      "1\n",
      "1\n",
      "2\n",
      "3\n",
      "5\n",
      "8\n",
      "13\n",
      "21\n",
      "34\n",
      "55\n",
      "89\n",
      "144\n",
      "233\n",
      "377\n",
      "610\n",
      "987\n",
      "1597\n",
      "2584\n",
      "4181\n",
      "6765\n",
      "10946\n",
      "17711\n",
      "28657\n",
      "46368\n",
      "75025\n",
      "121393\n",
      "196418\n",
      "317811\n",
      "514229\n",
      "832040\n",
      "1346269\n",
      "2178309\n",
      "3524578\n",
      "5702887\n",
      "9227465\n",
      "14930352\n",
      "24157817\n",
      "39088169\n",
      "63245986\n",
      "102334155\n",
      "165580141\n",
      "267914296\n",
      "433494437\n",
      "701408733\n",
      "1134903170\n",
      "1836311903\n",
      "2971215073\n",
      "4807526976\n",
      "7778742049\n",
      "12586269025\n",
      "20365011074\n",
      "32951280099\n",
      "53316291173\n",
      "86267571272\n",
      "139583862445\n",
      "225851433717\n",
      "365435296162\n",
      "591286729879\n",
      "956722026041\n",
      "1548008755920\n",
      "2504730781961\n",
      "4052739537881\n",
      "6557470319842\n",
      "10610209857723\n",
      "17167680177565\n",
      "27777890035288\n",
      "44945570212853\n",
      "72723460248141\n",
      "117669030460994\n",
      "190392490709135\n",
      "308061521170129\n",
      "498454011879264\n",
      "806515533049393\n",
      "1304969544928657\n",
      "2111485077978050\n",
      "3416454622906707\n",
      "5527939700884757\n",
      "8944394323791464\n",
      "14472334024676221\n",
      "23416728348467685\n",
      "37889062373143906\n",
      "61305790721611591\n",
      "99194853094755497\n",
      "160500643816367088\n",
      "259695496911122585\n",
      "420196140727489673\n",
      "679891637638612258\n",
      "1100087778366101931\n",
      "1779979416004714189\n",
      "2880067194370816120\n",
      "4660046610375530309\n",
      "7540113804746346429\n",
      "12200160415121876738\n",
      "19740274219868223167\n",
      "31940434634990099905\n",
      "51680708854858323072\n",
      "83621143489848422977\n",
      "135301852344706746049\n",
      "218922995834555169026\n"
     ]
    }
   ],
   "source": [
    "fib(100)  # assig = how we get numbers till 89?"
   ]
  },
  {
   "cell_type": "code",
   "execution_count": 143,
   "id": "c5e673a2",
   "metadata": {},
   "outputs": [
    {
     "name": "stdout",
     "output_type": "stream",
     "text": [
      "0\n",
      "1\n",
      "1\n",
      "2\n",
      "3\n",
      "5\n",
      "8\n",
      "13\n",
      "21\n",
      "34\n",
      "55\n",
      "89\n"
     ]
    }
   ],
   "source": [
    "def num(n):\n",
    "    a=0\n",
    "    b=1\n",
    "    if(n<0):\n",
    "        print(\"number is invalid\")\n",
    "    elif(n==1):\n",
    "        print(a)\n",
    "    else:\n",
    "        print(0)\n",
    "        print(1)\n",
    "        c=0\n",
    "        for i in range(2,n):\n",
    "            c = a + b\n",
    "            if(c<100):\n",
    "                a=b\n",
    "                b=c\n",
    "                print(c)\n",
    "\n",
    "num(100)"
   ]
  },
  {
   "cell_type": "code",
   "execution_count": 144,
   "id": "23d902a8",
   "metadata": {},
   "outputs": [],
   "source": [
    "#end"
   ]
  },
  {
   "cell_type": "code",
   "execution_count": null,
   "id": "78030f03",
   "metadata": {},
   "outputs": [],
   "source": []
  },
  {
   "cell_type": "markdown",
   "id": "84afee12",
   "metadata": {},
   "source": [
    "### Lecture 39: Factorial of a Number\n",
    "The Python factorial function factorial(n) is defined for a whole number n . This computes the product of all terms from n to 1 . factorial(0) is taken to be 1 . Therefore, factorial(4) = 4 * 3 * 2 * 1 = 24."
   ]
  },
  {
   "cell_type": "code",
   "execution_count": 157,
   "id": "f1d8b0d9",
   "metadata": {},
   "outputs": [
    {
     "name": "stdout",
     "output_type": "stream",
     "text": [
      "24\n"
     ]
    }
   ],
   "source": [
    "def fact(n):\n",
    "    f = 1\n",
    "    for i in range(1,n+1):\n",
    "        f = f * i\n",
    "    return f\n",
    "    \n",
    "    \n",
    "x = 4\n",
    "result = fact(x)\n",
    "print(result)"
   ]
  },
  {
   "cell_type": "code",
   "execution_count": 5,
   "id": "e903ea4c",
   "metadata": {},
   "outputs": [
    {
     "name": "stdout",
     "output_type": "stream",
     "text": [
      "[2 3 4 5]\n"
     ]
    }
   ],
   "source": []
  },
  {
   "cell_type": "code",
   "execution_count": 158,
   "id": "a55616de",
   "metadata": {},
   "outputs": [],
   "source": [
    "#end"
   ]
  },
  {
   "cell_type": "code",
   "execution_count": null,
   "id": "571453ff",
   "metadata": {},
   "outputs": [],
   "source": []
  },
  {
   "cell_type": "markdown",
   "id": "202f4955",
   "metadata": {},
   "source": [
    "### Lecture 40: Recurrion:\n",
    "Python also accepts function recursion, which means a defined function can call itself. Recursion is a common mathematical and programming concept. It means that a function calls itself. This has the benefit of meaning that you can loop through data to reach a result.\n",
    "\n",
    "#calling a function from itself"
   ]
  },
  {
   "cell_type": "code",
   "execution_count": 166,
   "id": "261025c1",
   "metadata": {},
   "outputs": [
    {
     "name": "stdout",
     "output_type": "stream",
     "text": [
      "3000\n"
     ]
    }
   ],
   "source": [
    "import sys\n",
    "print(sys.getrecursionlimit())\n",
    "\n",
    "\n",
    "def greet():\n",
    "    print(\"hello\")\n",
    "    greet()\n"
   ]
  },
  {
   "cell_type": "code",
   "execution_count": 169,
   "id": "28a1008e",
   "metadata": {},
   "outputs": [
    {
     "name": "stdout",
     "output_type": "stream",
     "text": [
      "10000\n"
     ]
    }
   ],
   "source": [
    "import sys\n",
    "sys.setrecursionlimit(10000)\n",
    "print(sys.getrecursionlimit())\n",
    "\n",
    "\n",
    "def greet():\n",
    "    print(\"hello\")\n",
    "    greet()"
   ]
  },
  {
   "cell_type": "code",
   "execution_count": 1,
   "id": "225b4e53",
   "metadata": {},
   "outputs": [
    {
     "name": "stdout",
     "output_type": "stream",
     "text": [
      "10000\n",
      "hello 1\n"
     ]
    }
   ],
   "source": [
    "import sys\n",
    "sys.setrecursionlimit(10000)\n",
    "print(sys.getrecursionlimit())\n",
    "i = 0\n",
    "\n",
    "def greet():\n",
    "    global i\n",
    "    i+=1\n",
    "    print(\"hello\",1)\n",
    "    \n",
    "greet()"
   ]
  },
  {
   "cell_type": "code",
   "execution_count": 2,
   "id": "fad6fcf6",
   "metadata": {},
   "outputs": [],
   "source": [
    "#  ?  upper cell"
   ]
  },
  {
   "cell_type": "code",
   "execution_count": 3,
   "id": "fa2305ab",
   "metadata": {},
   "outputs": [],
   "source": [
    "#end"
   ]
  },
  {
   "cell_type": "code",
   "execution_count": null,
   "id": "59aacd6f",
   "metadata": {},
   "outputs": [],
   "source": []
  }
 ],
 "metadata": {
  "kernelspec": {
   "display_name": "Python 3",
   "language": "python",
   "name": "python3"
  },
  "language_info": {
   "codemirror_mode": {
    "name": "ipython",
    "version": 3
   },
   "file_extension": ".py",
   "mimetype": "text/x-python",
   "name": "python",
   "nbconvert_exporter": "python",
   "pygments_lexer": "ipython3",
   "version": "3.8.8"
  }
 },
 "nbformat": 4,
 "nbformat_minor": 5
}
