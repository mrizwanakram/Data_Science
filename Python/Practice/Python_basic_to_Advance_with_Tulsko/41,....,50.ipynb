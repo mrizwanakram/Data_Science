{
 "cells": [
  {
   "cell_type": "markdown",
   "id": "599f5940",
   "metadata": {},
   "source": [
    "### Lecture 41: Fectorial by using Recursion.\n",
    "A recursive function is a nonleaf function that calls itself. The factorial function can be written as a recursive function call. Recall that factorial(n) = n × (n – 1) × (n – 2) × … × 2 × 1. The factorial function can be rewritten recursively as factorial(n) = n × factorial(n – 1)."
   ]
  },
  {
   "cell_type": "code",
   "execution_count": 11,
   "id": "b076939f",
   "metadata": {},
   "outputs": [
    {
     "name": "stdout",
     "output_type": "stream",
     "text": [
      "120\n"
     ]
    }
   ],
   "source": [
    "def fact(n):\n",
    "    if (n==0):\n",
    "        return 1\n",
    "    \n",
    "    return n * fact(n-1)\n",
    "\n",
    "result = fact(5)\n",
    "print(result)"
   ]
  },
  {
   "cell_type": "code",
   "execution_count": null,
   "id": "e1859487",
   "metadata": {},
   "outputs": [],
   "source": []
  },
  {
   "cell_type": "code",
   "execution_count": 12,
   "id": "da341b56",
   "metadata": {},
   "outputs": [],
   "source": []
  },
  {
   "cell_type": "code",
   "execution_count": null,
   "id": "39e2a4c2",
   "metadata": {},
   "outputs": [],
   "source": []
  },
  {
   "cell_type": "markdown",
   "id": "213c5bec",
   "metadata": {},
   "source": [
    "### Lecture 42: Annonimus Function,Lamda in python\n",
    "In Python, an anonymous function is a function that is defined without a name. While normal functions are defined using the def keyword in Python, anonymous functions are defined using the lambda keyword. Hence, anonymous functions are also called lambda functions."
   ]
  },
  {
   "cell_type": "code",
   "execution_count": 15,
   "id": "028ecaac",
   "metadata": {},
   "outputs": [],
   "source": [
    "# if we do not mention a function it should becom annonimus.or lamdas."
   ]
  },
  {
   "cell_type": "code",
   "execution_count": 18,
   "id": "ff5a7944",
   "metadata": {},
   "outputs": [],
   "source": [
    "# Functions are objects in python."
   ]
  },
  {
   "cell_type": "code",
   "execution_count": 19,
   "id": "ca24c9a1",
   "metadata": {},
   "outputs": [
    {
     "name": "stdout",
     "output_type": "stream",
     "text": [
      "25\n"
     ]
    }
   ],
   "source": [
    "def square(a):\n",
    "    return a * a\n",
    "result = square(5)\n",
    "print(result)"
   ]
  },
  {
   "cell_type": "code",
   "execution_count": 21,
   "id": "2311f993",
   "metadata": {},
   "outputs": [
    {
     "name": "stdout",
     "output_type": "stream",
     "text": [
      "36\n"
     ]
    }
   ],
   "source": [
    "f = lambda a : a * a\n",
    "result = f(6)\n",
    "print(result)"
   ]
  },
  {
   "cell_type": "code",
   "execution_count": 22,
   "id": "afc90315",
   "metadata": {},
   "outputs": [
    {
     "name": "stdout",
     "output_type": "stream",
     "text": [
      "11\n"
     ]
    }
   ],
   "source": [
    "f = lambda a,b: a + b\n",
    "result = f(6,5)\n",
    "print(result)"
   ]
  },
  {
   "cell_type": "code",
   "execution_count": 23,
   "id": "a7918037",
   "metadata": {},
   "outputs": [
    {
     "name": "stdout",
     "output_type": "stream",
     "text": [
      "1\n"
     ]
    }
   ],
   "source": [
    "f = lambda a,b: a - b\n",
    "result = f(6,5)\n",
    "print(result)"
   ]
  },
  {
   "cell_type": "code",
   "execution_count": 24,
   "id": "62646342",
   "metadata": {},
   "outputs": [
    {
     "name": "stdout",
     "output_type": "stream",
     "text": [
      "30\n"
     ]
    }
   ],
   "source": [
    "f = lambda a,b: a * b\n",
    "result = f(6,5)\n",
    "print(result)"
   ]
  },
  {
   "cell_type": "code",
   "execution_count": 25,
   "id": "33d52ea1",
   "metadata": {},
   "outputs": [],
   "source": [
    "# End"
   ]
  },
  {
   "cell_type": "code",
   "execution_count": null,
   "id": "fe8f1025",
   "metadata": {},
   "outputs": [],
   "source": []
  },
  {
   "cell_type": "markdown",
   "id": "f714ae49",
   "metadata": {},
   "source": [
    "### Lecture 43: Lambda,Filter,Map, Reduce functions\n",
    "Map, Filter, and Reduce are paradigms of functional programming. They allow the programmer (you) to write simpler, shorter code, without neccessarily needing to bother about intricacies like loops and branching."
   ]
  },
  {
   "cell_type": "code",
   "execution_count": 29,
   "id": "8964b908",
   "metadata": {},
   "outputs": [
    {
     "name": "stdout",
     "output_type": "stream",
     "text": [
      "[4, 6, 8]\n"
     ]
    }
   ],
   "source": [
    "def is_even(n):\n",
    "    return n%2 == 0\n",
    "\n",
    "\n",
    "nums = [3,4,5,6,7,8,9]\n",
    "evens = list(filter(is_even,nums))\n",
    "print(evens)"
   ]
  },
  {
   "cell_type": "code",
   "execution_count": 30,
   "id": "b9ac7cc8",
   "metadata": {},
   "outputs": [
    {
     "name": "stdout",
     "output_type": "stream",
     "text": [
      "[3, 5, 7, 9]\n"
     ]
    }
   ],
   "source": [
    "def is_odd(n):\n",
    "    return n%2 == 1\n",
    "\n",
    "\n",
    "nums = [3,4,5,6,7,8,9]\n",
    "odds = list(filter(is_odd,nums))\n",
    "print(odds)"
   ]
  },
  {
   "cell_type": "markdown",
   "id": "88e5aedc",
   "metadata": {},
   "source": [
    "### Using by lamda function"
   ]
  },
  {
   "cell_type": "code",
   "execution_count": 33,
   "id": "c4a670d8",
   "metadata": {},
   "outputs": [
    {
     "name": "stdout",
     "output_type": "stream",
     "text": [
      "[3, 5, 7, 9]\n"
     ]
    }
   ],
   "source": [
    "nums = [3,4,5,6,7,8,9]\n",
    "odds = list(filter(lambda n:n%2==1,nums))\n",
    "print(odds)"
   ]
  },
  {
   "cell_type": "code",
   "execution_count": 36,
   "id": "34861730",
   "metadata": {},
   "outputs": [
    {
     "name": "stdout",
     "output_type": "stream",
     "text": [
      "[6, 10, 14, 18]\n"
     ]
    }
   ],
   "source": [
    "nums = [3,4,5,6,7,8,9]\n",
    "odds = list(filter(lambda n:n%2==1,nums))\n",
    "doubles = list(map(lambda n:n*2,odds))\n",
    "print(doubles)"
   ]
  },
  {
   "cell_type": "code",
   "execution_count": 40,
   "id": "4f8e12ce",
   "metadata": {
    "scrolled": true
   },
   "outputs": [
    {
     "name": "stdout",
     "output_type": "stream",
     "text": [
      "48\n"
     ]
    }
   ],
   "source": [
    "from functools import reduce\n",
    "\n",
    "def add_all(a,b):\n",
    "    return a + b\n",
    "\n",
    "nums = [3,4,5,6,7,8,9]\n",
    "odds = list(filter(lambda n:n%2==1,nums))\n",
    "doubles = list(map(lambda n:n*2,odds))\n",
    "\n",
    "sum = reduce(add_all,doubles)\n",
    "\n",
    "print(sum)\n",
    "\n"
   ]
  },
  {
   "cell_type": "code",
   "execution_count": 42,
   "id": "2229ff0e",
   "metadata": {},
   "outputs": [
    {
     "name": "stdout",
     "output_type": "stream",
     "text": [
      "[6, 10, 14, 18]\n",
      "48\n"
     ]
    }
   ],
   "source": [
    "from functools import reduce\n",
    "\n",
    "\n",
    "nums = [3,4,5,6,7,8,9]\n",
    "odds = list(filter(lambda n:n%2==1,nums))\n",
    "doubles = list(map(lambda n:n*2,odds))\n",
    "\n",
    "print(doubles)\n",
    "\n",
    "sum = reduce(lambda a,b :a + b,doubles)\n",
    "\n",
    "print(sum)"
   ]
  },
  {
   "cell_type": "code",
   "execution_count": 43,
   "id": "c510ad1c",
   "metadata": {},
   "outputs": [],
   "source": [
    "#end\n"
   ]
  },
  {
   "cell_type": "code",
   "execution_count": null,
   "id": "c32d180c",
   "metadata": {},
   "outputs": [],
   "source": []
  },
  {
   "cell_type": "markdown",
   "id": "7ff2fd51",
   "metadata": {},
   "source": [
    "### Lecture 44: Decoraters\n",
    "A decorator in Python is a function that takes another function as its argument, and returns yet another function . Decorators can be extremely useful as they allow the extension of an existing function, without any modification to the original function source code."
   ]
  },
  {
   "cell_type": "code",
   "execution_count": 5,
   "id": "7e1e0dfb",
   "metadata": {},
   "outputs": [],
   "source": [
    "def div(a,b):\n",
    "    print(a/b) \n",
    "    "
   ]
  },
  {
   "cell_type": "code",
   "execution_count": 6,
   "id": "671b0e26",
   "metadata": {},
   "outputs": [
    {
     "name": "stdout",
     "output_type": "stream",
     "text": [
      "2.0\n"
     ]
    }
   ],
   "source": [
    "div(4,2)"
   ]
  },
  {
   "cell_type": "code",
   "execution_count": 7,
   "id": "291b367d",
   "metadata": {},
   "outputs": [
    {
     "name": "stdout",
     "output_type": "stream",
     "text": [
      "0.5\n"
     ]
    }
   ],
   "source": [
    "def div(a,b):\n",
    "    print(a/b)\n",
    "div(2,4)"
   ]
  },
  {
   "cell_type": "code",
   "execution_count": 11,
   "id": "3700f398",
   "metadata": {},
   "outputs": [
    {
     "name": "stdout",
     "output_type": "stream",
     "text": [
      "2.0\n"
     ]
    }
   ],
   "source": [
    "def div(a,b):\n",
    "    if a < b:\n",
    "        b,a = a,b\n",
    "    print(a/b)\n",
    "div(2,4)"
   ]
  },
  {
   "cell_type": "code",
   "execution_count": 21,
   "id": "b9549236",
   "metadata": {},
   "outputs": [
    {
     "name": "stdout",
     "output_type": "stream",
     "text": [
      "2.0\n"
     ]
    }
   ],
   "source": [
    "def div(a,b):\n",
    "    print(a/b)\n",
    "    \n",
    "def smart_div(func):\n",
    "    \n",
    "    def inner(a,b):\n",
    "        if a < b:\n",
    "            b,a = a,b\n",
    "            \n",
    "            return func(a,b)       \n",
    "    \n",
    "    return inner\n",
    "div = smart_div(div)\n",
    "    \n",
    "div(2,4)"
   ]
  },
  {
   "cell_type": "code",
   "execution_count": 22,
   "id": "9fc1fd0a",
   "metadata": {},
   "outputs": [],
   "source": [
    "# END"
   ]
  },
  {
   "cell_type": "code",
   "execution_count": null,
   "id": "938d1184",
   "metadata": {},
   "outputs": [],
   "source": []
  },
  {
   "cell_type": "markdown",
   "id": "4ec1fc67",
   "metadata": {},
   "source": [
    "### Lecture 45: Modules \n",
    "In Python, Modules are simply files with the “. py” extension containing Python code that can be imported inside another Python Program. In simple terms, we can consider a module to be the same as a code library or a file that contains a set of functions that you want to include in your application."
   ]
  },
  {
   "cell_type": "code",
   "execution_count": 25,
   "id": "ffe493fc",
   "metadata": {},
   "outputs": [],
   "source": [
    "#break code into small modules\n",
    "#            ABCD\n",
    "#           BC   AD\n",
    "#         A  B  C  D\n",
    "# USE any module seprately\n",
    "# can use any module in other module"
   ]
  },
  {
   "cell_type": "code",
   "execution_count": 6,
   "id": "a21eb322",
   "metadata": {},
   "outputs": [
    {
     "ename": "ModuleNotFoundError",
     "evalue": "No module named 'calc'",
     "output_type": "error",
     "traceback": [
      "\u001b[1;31m---------------------------------------------------------------------------\u001b[0m",
      "\u001b[1;31mModuleNotFoundError\u001b[0m                       Traceback (most recent call last)",
      "\u001b[1;32m<ipython-input-6-6bd256c782cf>\u001b[0m in \u001b[0;36m<module>\u001b[1;34m\u001b[0m\n\u001b[0;32m      1\u001b[0m \u001b[1;31m#import calc\u001b[0m\u001b[1;33m\u001b[0m\u001b[1;33m\u001b[0m\u001b[1;33m\u001b[0m\u001b[0m\n\u001b[1;32m----> 2\u001b[1;33m \u001b[1;32mfrom\u001b[0m \u001b[0mcalc\u001b[0m \u001b[1;32mimport\u001b[0m \u001b[1;33m*\u001b[0m\u001b[1;33m\u001b[0m\u001b[1;33m\u001b[0m\u001b[0m\n\u001b[0m",
      "\u001b[1;31mModuleNotFoundError\u001b[0m: No module named 'calc'"
     ]
    }
   ],
   "source": [
    "\n",
    "#import calc\n",
    "from calc import *"
   ]
  },
  {
   "cell_type": "code",
   "execution_count": 7,
   "id": "a532140c",
   "metadata": {},
   "outputs": [
    {
     "ename": "NameError",
     "evalue": "name 'add' is not defined",
     "output_type": "error",
     "traceback": [
      "\u001b[1;31m---------------------------------------------------------------------------\u001b[0m",
      "\u001b[1;31mNameError\u001b[0m                                 Traceback (most recent call last)",
      "\u001b[1;32m<ipython-input-7-59f2807c691c>\u001b[0m in \u001b[0;36m<module>\u001b[1;34m\u001b[0m\n\u001b[0;32m      1\u001b[0m \u001b[0ma\u001b[0m \u001b[1;33m=\u001b[0m \u001b[1;36m5\u001b[0m\u001b[1;33m\u001b[0m\u001b[1;33m\u001b[0m\u001b[0m\n\u001b[0;32m      2\u001b[0m \u001b[0mb\u001b[0m \u001b[1;33m=\u001b[0m \u001b[1;36m4\u001b[0m\u001b[1;33m\u001b[0m\u001b[1;33m\u001b[0m\u001b[0m\n\u001b[1;32m----> 3\u001b[1;33m \u001b[0mc\u001b[0m \u001b[1;33m=\u001b[0m \u001b[0madd\u001b[0m\u001b[1;33m(\u001b[0m\u001b[0ma\u001b[0m\u001b[1;33m,\u001b[0m\u001b[0mb\u001b[0m\u001b[1;33m)\u001b[0m\u001b[1;33m\u001b[0m\u001b[1;33m\u001b[0m\u001b[0m\n\u001b[0m\u001b[0;32m      4\u001b[0m \u001b[0mprint\u001b[0m\u001b[1;33m(\u001b[0m\u001b[0mc\u001b[0m\u001b[1;33m)\u001b[0m\u001b[1;33m\u001b[0m\u001b[1;33m\u001b[0m\u001b[0m\n",
      "\u001b[1;31mNameError\u001b[0m: name 'add' is not defined"
     ]
    }
   ],
   "source": [
    "a = 5\n",
    "b = 4\n",
    "c = add(a,b)\n",
    "print(c)"
   ]
  },
  {
   "cell_type": "code",
   "execution_count": 7,
   "id": "631ee471",
   "metadata": {},
   "outputs": [
    {
     "ename": "NameError",
     "evalue": "name 'sys' is not defined",
     "output_type": "error",
     "traceback": [
      "\u001b[1;31m---------------------------------------------------------------------------\u001b[0m",
      "\u001b[1;31mNameError\u001b[0m                                 Traceback (most recent call last)",
      "\u001b[1;32m<ipython-input-7-b35d1d099a2a>\u001b[0m in \u001b[0;36m<module>\u001b[1;34m\u001b[0m\n\u001b[1;32m----> 1\u001b[1;33m \u001b[0msys\u001b[0m\u001b[1;33m.\u001b[0m\u001b[0mpath\u001b[0m\u001b[1;33m\u001b[0m\u001b[1;33m\u001b[0m\u001b[0m\n\u001b[0m",
      "\u001b[1;31mNameError\u001b[0m: name 'sys' is not defined"
     ]
    }
   ],
   "source": [
    "sys.path"
   ]
  },
  {
   "cell_type": "code",
   "execution_count": 13,
   "id": "adfaf368",
   "metadata": {},
   "outputs": [],
   "source": [
    "# module note works in jupeter note book that way use other ids like pycharn or vscode"
   ]
  },
  {
   "cell_type": "code",
   "execution_count": null,
   "id": "2382da78",
   "metadata": {},
   "outputs": [],
   "source": []
  },
  {
   "cell_type": "code",
   "execution_count": null,
   "id": "1b919812",
   "metadata": {},
   "outputs": [],
   "source": []
  },
  {
   "cell_type": "markdown",
   "id": "0a503d45",
   "metadata": {},
   "source": [
    "### Lecture 46: special variable __name__\n",
    "The __name__ variable (two underscores before and after) is a special Python variable. ... In Python, you can import that script as a module in another script. Thanks to this special variable, you can decide whether you want to run the script. Or that you want to import the functions defined in the script"
   ]
  },
  {
   "cell_type": "code",
   "execution_count": 14,
   "id": "2a2155ec",
   "metadata": {},
   "outputs": [
    {
     "name": "stdout",
     "output_type": "stream",
     "text": [
      "__main__\n"
     ]
    }
   ],
   "source": [
    "print(__name__)"
   ]
  },
  {
   "cell_type": "code",
   "execution_count": null,
   "id": "3c304660",
   "metadata": {},
   "outputs": [],
   "source": []
  },
  {
   "cell_type": "code",
   "execution_count": 11,
   "id": "a446e341",
   "metadata": {},
   "outputs": [],
   "source": []
  },
  {
   "cell_type": "code",
   "execution_count": null,
   "id": "2912ec3f",
   "metadata": {},
   "outputs": [],
   "source": []
  },
  {
   "cell_type": "code",
   "execution_count": null,
   "id": "f472b488",
   "metadata": {},
   "outputs": [],
   "source": []
  },
  {
   "cell_type": "code",
   "execution_count": 15,
   "id": "bfa378c7",
   "metadata": {},
   "outputs": [],
   "source": [
    "#47,__name__==main,   part 2"
   ]
  },
  {
   "cell_type": "code",
   "execution_count": null,
   "id": "9494c332",
   "metadata": {},
   "outputs": [],
   "source": []
  },
  {
   "cell_type": "code",
   "execution_count": null,
   "id": "bcfe0a0a",
   "metadata": {},
   "outputs": [],
   "source": []
  },
  {
   "cell_type": "code",
   "execution_count": null,
   "id": "79410376",
   "metadata": {},
   "outputs": [],
   "source": []
  },
  {
   "cell_type": "code",
   "execution_count": null,
   "id": "bebb1d17",
   "metadata": {},
   "outputs": [],
   "source": []
  },
  {
   "cell_type": "code",
   "execution_count": null,
   "id": "4a6d7c1a",
   "metadata": {},
   "outputs": [],
   "source": []
  },
  {
   "cell_type": "code",
   "execution_count": null,
   "id": "69ebe415",
   "metadata": {},
   "outputs": [],
   "source": []
  },
  {
   "cell_type": "markdown",
   "id": "dccf15ce",
   "metadata": {},
   "source": [
    "### Lecture 48: OOPs in python\n",
    "In Python, object-oriented Programming (OOPs) is a programming paradigm that uses objects and classes in programming. It aims to implement real-world entities like inheritance, polymorphisms, encapsulation, etc. in the programming."
   ]
  },
  {
   "cell_type": "code",
   "execution_count": 17,
   "id": "fab888f0",
   "metadata": {},
   "outputs": [],
   "source": [
    "#into"
   ]
  },
  {
   "cell_type": "code",
   "execution_count": null,
   "id": "4e4d0032",
   "metadata": {},
   "outputs": [],
   "source": []
  },
  {
   "cell_type": "markdown",
   "id": "454634f5",
   "metadata": {},
   "source": [
    "### Lecture 49: class \n",
    "A Python class is like an outline for creating a new object. An object is anything that you wish to manipulate or change while working through the code. Every time a class object is instantiated, which is when we declare a variable, a new object is initiated from scratch.\n",
    "\n",
    "\n",
    "\n",
    "class = blue prints and objects= orignal Design "
   ]
  },
  {
   "cell_type": "code",
   "execution_count": 20,
   "id": "d0e04f65",
   "metadata": {},
   "outputs": [],
   "source": [
    "#before create an object firstly we create a class"
   ]
  },
  {
   "cell_type": "code",
   "execution_count": 28,
   "id": "d3575e05",
   "metadata": {},
   "outputs": [
    {
     "name": "stdout",
     "output_type": "stream",
     "text": [
      "<class 'int'>\n",
      "<class 'str'>\n",
      "<class '__main__.computer'>\n"
     ]
    }
   ],
   "source": [
    "class computer:\n",
    "    def config(self):\n",
    "        print('i5, 16gb, 1TB')\n",
    "\n",
    "x = 10\n",
    "print(type(x))\n",
    "        \n",
    "a = '8'\n",
    "print(type(a))\n",
    "comp1 = computer()\n",
    "print(type(comp1))"
   ]
  },
  {
   "cell_type": "code",
   "execution_count": 32,
   "id": "a6754b0c",
   "metadata": {},
   "outputs": [
    {
     "name": "stdout",
     "output_type": "stream",
     "text": [
      "i5, 16gb, 1TB\n"
     ]
    }
   ],
   "source": [
    "class computer:\n",
    "    def config(self):\n",
    "        print('i5, 16gb, 1TB')\n",
    "\n",
    "        \n",
    "comp1 = computer()\n",
    "\n",
    "computer.config(comp1)"
   ]
  },
  {
   "cell_type": "code",
   "execution_count": 33,
   "id": "bed15eaf",
   "metadata": {},
   "outputs": [
    {
     "name": "stdout",
     "output_type": "stream",
     "text": [
      "i5, 16gb, 1TB\n",
      "i5, 16gb, 1TB\n"
     ]
    }
   ],
   "source": [
    "class computer:\n",
    "    def config(self):\n",
    "        print('i5, 16gb, 1TB')\n",
    "\n",
    "        \n",
    "comp1 = computer()\n",
    "comp2 = computer()\n",
    "\n",
    "computer.config(comp1)\n",
    "computer.config(comp2)"
   ]
  },
  {
   "cell_type": "code",
   "execution_count": 38,
   "id": "2bd5f96f",
   "metadata": {},
   "outputs": [
    {
     "name": "stdout",
     "output_type": "stream",
     "text": [
      "i5, 16gb, 1TB\n",
      "i5, 16gb, 1TB\n"
     ]
    },
    {
     "ename": "NameError",
     "evalue": "name 'config' is not defined",
     "output_type": "error",
     "traceback": [
      "\u001b[1;31m---------------------------------------------------------------------------\u001b[0m",
      "\u001b[1;31mNameError\u001b[0m                                 Traceback (most recent call last)",
      "\u001b[1;32m<ipython-input-38-69072426b609>\u001b[0m in \u001b[0;36m<module>\u001b[1;34m\u001b[0m\n\u001b[0;32m     10\u001b[0m \u001b[0mcomputer\u001b[0m\u001b[1;33m.\u001b[0m\u001b[0mconfig\u001b[0m\u001b[1;33m(\u001b[0m\u001b[0mcomp2\u001b[0m\u001b[1;33m)\u001b[0m\u001b[1;33m\u001b[0m\u001b[1;33m\u001b[0m\u001b[0m\n\u001b[0;32m     11\u001b[0m \u001b[1;33m\u001b[0m\u001b[0m\n\u001b[1;32m---> 12\u001b[1;33m \u001b[0mconfig\u001b[0m\u001b[1;33m.\u001b[0m\u001b[0mcomp1\u001b[0m\u001b[1;33m(\u001b[0m\u001b[1;33m)\u001b[0m\u001b[1;33m\u001b[0m\u001b[1;33m\u001b[0m\u001b[0m\n\u001b[0m\u001b[0;32m     13\u001b[0m \u001b[0mconfig\u001b[0m\u001b[1;33m.\u001b[0m\u001b[0mcomp2\u001b[0m\u001b[1;33m(\u001b[0m\u001b[1;33m)\u001b[0m\u001b[1;33m\u001b[0m\u001b[1;33m\u001b[0m\u001b[0m\n",
      "\u001b[1;31mNameError\u001b[0m: name 'config' is not defined"
     ]
    }
   ],
   "source": [
    "class computer:\n",
    "    def config(self):\n",
    "        print('i5, 16gb, 1TB')\n",
    "\n",
    "        \n",
    "comp1 = computer()\n",
    "comp2 = computer()\n",
    "\n",
    "computer.config(comp1)\n",
    "computer.config(comp2)\n",
    "\n",
    "config.comp1()\n",
    "config.comp2()"
   ]
  },
  {
   "cell_type": "code",
   "execution_count": null,
   "id": "67089104",
   "metadata": {},
   "outputs": [],
   "source": []
  },
  {
   "cell_type": "code",
   "execution_count": null,
   "id": "e5e15526",
   "metadata": {},
   "outputs": [],
   "source": []
  },
  {
   "cell_type": "code",
   "execution_count": 1,
   "id": "89f1ffb1",
   "metadata": {},
   "outputs": [],
   "source": [
    "#end"
   ]
  },
  {
   "cell_type": "code",
   "execution_count": null,
   "id": "a50ac839",
   "metadata": {},
   "outputs": [],
   "source": []
  },
  {
   "cell_type": "markdown",
   "id": "3cd6ed56",
   "metadata": {},
   "source": [
    "### Lecture 50: __init__ method\n",
    "\"__init__\" is a reseved method in python classes. It is known as a constructor in object oriented concepts. This method called when an object is created from the class and it allow the class to initialize the attributes of a class."
   ]
  },
  {
   "cell_type": "code",
   "execution_count": 4,
   "id": "7110c128",
   "metadata": {},
   "outputs": [
    {
     "name": "stdout",
     "output_type": "stream",
     "text": [
      "in init\n",
      "in init\n",
      "i5,16gb,1tb\n",
      "i5,16gb,1tb\n"
     ]
    }
   ],
   "source": [
    "class computer:\n",
    "    def __init__(self):\n",
    "        print(\"in init\")\n",
    "        \n",
    "        \n",
    "    def config(self):\n",
    "        print(\"i5,16gb,1tb\")\n",
    "        \n",
    "com1 = computer()\n",
    "com2 = computer()\n",
    "\n",
    "com1.config()\n",
    "com1.config()"
   ]
  },
  {
   "cell_type": "code",
   "execution_count": 8,
   "id": "97ae3997",
   "metadata": {},
   "outputs": [
    {
     "name": "stdout",
     "output_type": "stream",
     "text": [
      "config is i5 16\n",
      "config is apple 3 8\n"
     ]
    }
   ],
   "source": [
    "class computer:\n",
    "    def __init__(self,cpu,ram):\n",
    "        self.cpu = cpu\n",
    "        self.ram = ram\n",
    "        \n",
    "        \n",
    "    def config(self):\n",
    "        print(\"config is\",self.cpu,self.ram)\n",
    "        \n",
    "com1 = computer('i5',16)\n",
    "com2 = computer('apple 3',8)\n",
    "\n",
    "com1.config()\n",
    "com2.config()"
   ]
  },
  {
   "cell_type": "code",
   "execution_count": null,
   "id": "3a109767",
   "metadata": {},
   "outputs": [],
   "source": []
  },
  {
   "cell_type": "code",
   "execution_count": 9,
   "id": "3f2fd8cd",
   "metadata": {},
   "outputs": [],
   "source": [
    "#end"
   ]
  },
  {
   "cell_type": "code",
   "execution_count": null,
   "id": "7c1f861a",
   "metadata": {},
   "outputs": [],
   "source": []
  }
 ],
 "metadata": {
  "kernelspec": {
   "display_name": "Python 3",
   "language": "python",
   "name": "python3"
  },
  "language_info": {
   "codemirror_mode": {
    "name": "ipython",
    "version": 3
   },
   "file_extension": ".py",
   "mimetype": "text/x-python",
   "name": "python",
   "nbconvert_exporter": "python",
   "pygments_lexer": "ipython3",
   "version": "3.8.8"
  }
 },
 "nbformat": 4,
 "nbformat_minor": 5
}
