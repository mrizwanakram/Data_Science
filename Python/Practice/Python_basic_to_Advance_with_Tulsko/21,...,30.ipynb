{
 "cells": [
  {
   "cell_type": "markdown",
   "id": "66ccf914",
   "metadata": {},
   "source": [
    "### Lecture 21:   if, if else,if elif else, nested if"
   ]
  },
  {
   "cell_type": "markdown",
   "id": "bfe86a58",
   "metadata": {},
   "source": [
    "### if statemnt:\n",
    "The IF statement is a decision-making statement that guides a program to make decisions based on specified criteria. The IF statement executes one set of code if a specified condition is met (TRUE) or another set of code evaluates to FALSE."
   ]
  },
  {
   "cell_type": "code",
   "execution_count": 6,
   "id": "551bba61",
   "metadata": {},
   "outputs": [
    {
     "name": "stdout",
     "output_type": "stream",
     "text": [
      "i am right\n"
     ]
    }
   ],
   "source": [
    "if True:\n",
    "   print(\"i am right\")"
   ]
  },
  {
   "cell_type": "code",
   "execution_count": 8,
   "id": "cabe7dce",
   "metadata": {},
   "outputs": [],
   "source": [
    "if False:\n",
    "    print(\"i am right\")\n"
   ]
  },
  {
   "cell_type": "code",
   "execution_count": 9,
   "id": "22c9c484",
   "metadata": {},
   "outputs": [
    {
     "name": "stdout",
     "output_type": "stream",
     "text": [
      "bye\n"
     ]
    }
   ],
   "source": [
    "if False:\n",
    "    print(\"i am right\")\n",
    "print('bye')"
   ]
  },
  {
   "cell_type": "code",
   "execution_count": 29,
   "id": "fdbc4976",
   "metadata": {},
   "outputs": [
    {
     "name": "stdout",
     "output_type": "stream",
     "text": [
      "odd\n",
      "bye\n"
     ]
    }
   ],
   "source": [
    "x = 9\n",
    "r = x % 2\n",
    "if r == 0:\n",
    "    print('even')\n",
    "if (r == 1):\n",
    "    \n",
    "    print('odd')\n",
    "print('bye')"
   ]
  },
  {
   "cell_type": "code",
   "execution_count": 38,
   "id": "4ba8f638",
   "metadata": {},
   "outputs": [
    {
     "name": "stdout",
     "output_type": "stream",
     "text": [
      "even\n",
      "Great\n",
      "bye\n"
     ]
    }
   ],
   "source": [
    "x = 6\n",
    "r = x % 2\n",
    "if r == 0:\n",
    "    print('even')\n",
    "    if x > 4: \n",
    "        print('Great')\n",
    "else:\n",
    "    \n",
    "    print('odd')\n",
    "print('bye')"
   ]
  },
  {
   "cell_type": "markdown",
   "id": "8bf76add",
   "metadata": {},
   "source": [
    "### if else\n",
    "An if else Python statement evaluates whether an expression is true or false. If a condition is true, the “if” statement executes. Otherwise, the “else” statement executes. Python if else statements help coders control the flow of their programs."
   ]
  },
  {
   "cell_type": "code",
   "execution_count": 64,
   "id": "66b0c44a",
   "metadata": {},
   "outputs": [
    {
     "name": "stdout",
     "output_type": "stream",
     "text": [
      "even\n",
      "Great\n",
      "bye\n"
     ]
    }
   ],
   "source": [
    "x = 8\n",
    "r = x % 2\n",
    "if r == 0:\n",
    "    print('even')\n",
    "    if x > 4: \n",
    "        print('Great')\n",
    "    else:\n",
    "        ('not to great')\n",
    "else:\n",
    "    \n",
    "    print('odd')\n",
    "print('bye')"
   ]
  },
  {
   "cell_type": "code",
   "execution_count": 48,
   "id": "f7df92b3",
   "metadata": {},
   "outputs": [
    {
     "name": "stdout",
     "output_type": "stream",
     "text": [
      "odd\n",
      "bye\n"
     ]
    }
   ],
   "source": [
    "x = 3\n",
    "r = x % 2\n",
    "if r == 0:\n",
    "    print('even')\n",
    "    if x > 3: \n",
    "        print('Great')\n",
    "    else:\n",
    "        ('not to great')\n",
    "else:\n",
    "    \n",
    "    print('odd')\n",
    "print('bye')"
   ]
  },
  {
   "cell_type": "code",
   "execution_count": 55,
   "id": "51140a1a",
   "metadata": {},
   "outputs": [
    {
     "name": "stdout",
     "output_type": "stream",
     "text": [
      "four\n"
     ]
    }
   ],
   "source": [
    "x = 4;\n",
    "if x == 1:\n",
    "    print('one')\n",
    "if x == 2:\n",
    "    print('two')\n",
    "if x == 3:\n",
    "    print('three')\n",
    "if x == 4:\n",
    "    print('four')"
   ]
  },
  {
   "cell_type": "markdown",
   "id": "a471a9fc",
   "metadata": {},
   "source": [
    "### elif\n",
    "The elif is short for else if. It allows us to check for multiple expressions. If the condition for if is False , it checks the condition of the next elif block and so on. If all the conditions are False , the body of else is executed."
   ]
  },
  {
   "cell_type": "code",
   "execution_count": 66,
   "id": "b4046881",
   "metadata": {},
   "outputs": [
    {
     "name": "stdout",
     "output_type": "stream",
     "text": [
      "two\n"
     ]
    }
   ],
   "source": [
    "x = 2;\n",
    "if x == 1:\n",
    "    print('one')\n",
    "elif x == 2:\n",
    "    print('two')\n",
    "elif x == 3:\n",
    "    print('three')\n",
    "elif x == 4:\n",
    "    print('four')"
   ]
  },
  {
   "cell_type": "code",
   "execution_count": 67,
   "id": "9ac02b4d",
   "metadata": {},
   "outputs": [
    {
     "name": "stdout",
     "output_type": "stream",
     "text": [
      "out of range\n"
     ]
    }
   ],
   "source": [
    "x = 5;\n",
    "if x == 1:\n",
    "    print('one')\n",
    "elif x == 2:\n",
    "    print('two')\n",
    "elif x == 3:\n",
    "    print('three')\n",
    "elif x == 4:\n",
    "    print('four')\n",
    "else:\n",
    "    print('out of range')"
   ]
  },
  {
   "cell_type": "code",
   "execution_count": null,
   "id": "dd024ae5",
   "metadata": {},
   "outputs": [],
   "source": []
  },
  {
   "cell_type": "markdown",
   "id": "79570f90",
   "metadata": {},
   "source": [
    "### Lecture 22: while loop, Nested while loop"
   ]
  },
  {
   "cell_type": "markdown",
   "id": "1b791e9c",
   "metadata": {},
   "source": [
    "### while loop\n",
    "Python While Loop is used to execute a block of statements repeatedly until a given condition is satisfied. And when the condition becomes false, the line immediately after the loop in the program is executed. While loop falls under the category of indefinite iteration"
   ]
  },
  {
   "cell_type": "code",
   "execution_count": 16,
   "id": "513b37a7",
   "metadata": {},
   "outputs": [
    {
     "name": "stdout",
     "output_type": "stream",
     "text": [
      "Rizwan\n",
      "Rizwan\n",
      "Rizwan\n",
      "Rizwan\n",
      "Rizwan\n"
     ]
    }
   ],
   "source": [
    "g = 6\n",
    "while g<=10:\n",
    "        print(\"Rizwan\")\n",
    "        g = g + 1"
   ]
  },
  {
   "cell_type": "markdown",
   "id": "698ad388",
   "metadata": {},
   "source": [
    "##### we keep in mind while useing of while loop\n",
    "(1) initalization (2) condition  (3)  increment/Decrement"
   ]
  },
  {
   "cell_type": "code",
   "execution_count": 19,
   "id": "98c05229",
   "metadata": {},
   "outputs": [
    {
     "name": "stdout",
     "output_type": "stream",
     "text": [
      "Rizwan\n",
      "Rizwan\n",
      "Rizwan\n",
      "Rizwan\n",
      "Rizwan\n"
     ]
    }
   ],
   "source": [
    "g = 5 \n",
    "while g>=1:\n",
    "        print(\"Rizwan\")\n",
    "        g = g - 1"
   ]
  },
  {
   "cell_type": "code",
   "execution_count": 21,
   "id": "7f4180a0",
   "metadata": {},
   "outputs": [
    {
     "name": "stdout",
     "output_type": "stream",
     "text": [
      "Rizwan 5\n",
      "Rizwan 4\n",
      "Rizwan 3\n",
      "Rizwan 2\n",
      "Rizwan 1\n"
     ]
    }
   ],
   "source": [
    "g = 5\n",
    "while g>=1:\n",
    "        print(\"Rizwan\",g)\n",
    "        g = g - 1"
   ]
  },
  {
   "cell_type": "code",
   "execution_count": 22,
   "id": "d681833d",
   "metadata": {},
   "outputs": [
    {
     "name": "stdout",
     "output_type": "stream",
     "text": [
      "Rizwan 10\n",
      "Rizwan 9\n",
      "Rizwan 8\n",
      "Rizwan 7\n",
      "Rizwan 6\n",
      "Rizwan 5\n",
      "Rizwan 4\n",
      "Rizwan 3\n"
     ]
    }
   ],
   "source": [
    "g = 10\n",
    "while g>=3:\n",
    "        print(\"Rizwan\",g)\n",
    "        g = g - 1"
   ]
  },
  {
   "cell_type": "markdown",
   "id": "ef8e5c7e",
   "metadata": {},
   "source": [
    "### Nested while loop\n",
    "When a while loop is present inside another while loop then it is called nested while loop. Lets take an example to understand this concept. i = 1 j = 5 while i < 4: while j < 8: print(i, \",\", j) j = j + 1 i = i + 1.\n",
    "\n",
    "#using while loop inside while loop called nested loop."
   ]
  },
  {
   "cell_type": "code",
   "execution_count": null,
   "id": "e030d81c",
   "metadata": {},
   "outputs": [],
   "source": []
  },
  {
   "cell_type": "code",
   "execution_count": null,
   "id": "85e12b15",
   "metadata": {},
   "outputs": [],
   "source": []
  },
  {
   "cell_type": "code",
   "execution_count": 13,
   "id": "1761d5e5",
   "metadata": {},
   "outputs": [
    {
     "name": "stdout",
     "output_type": "stream",
     "text": [
      "Rizwan rocks rocks rocks rocks rocks \n",
      "Rizwan rocks rocks rocks rocks rocks \n",
      "Rizwan rocks rocks rocks rocks rocks \n",
      "Rizwan rocks rocks rocks rocks rocks \n",
      "Rizwan rocks rocks rocks rocks rocks \n"
     ]
    }
   ],
   "source": [
    "g = 5\n",
    "h = 1\n",
    "while g>=1:\n",
    "        h = 1\n",
    "        print(\"Rizwan\", end = \" \")\n",
    "        while h <= 5:\n",
    "            print('rocks',end = \" \")\n",
    "            h = h+1\n",
    "        g = g - 1\n",
    "        print()"
   ]
  },
  {
   "cell_type": "code",
   "execution_count": null,
   "id": "525510c4",
   "metadata": {},
   "outputs": [],
   "source": []
  },
  {
   "cell_type": "code",
   "execution_count": 1,
   "id": "f5d95460",
   "metadata": {},
   "outputs": [
    {
     "name": "stdout",
     "output_type": "stream",
     "text": [
      "# # # # # # \n",
      "# # # # # # \n",
      "# # # # # # \n",
      "# # # # # # \n",
      "# # # # # # \n"
     ]
    }
   ],
   "source": [
    "g = 5\n",
    "h = 1\n",
    "while g>=1:\n",
    "        h = 1\n",
    "        print(\"#\", end = \" \")\n",
    "        while h <= 5:\n",
    "            print('#',end = \" \")\n",
    "            h = h+1\n",
    "        g = g  - 1\n",
    "        print()"
   ]
  },
  {
   "cell_type": "code",
   "execution_count": null,
   "id": "ca0c9b07",
   "metadata": {},
   "outputs": [],
   "source": []
  },
  {
   "cell_type": "markdown",
   "id": "8849bbd2",
   "metadata": {},
   "source": [
    "### For LOOP\n",
    "In the context of most data science work, Python for loops are used to loop through an iterable object (like a list, tuple, set, etc.) and perform the same action for each entry. For example, a for loop would allow us to iterate through a list, performing the same action on each item in the list."
   ]
  },
  {
   "cell_type": "code",
   "execution_count": 3,
   "id": "6f927866",
   "metadata": {},
   "outputs": [],
   "source": [
    "x = ['rizwan',24,3.4]"
   ]
  },
  {
   "cell_type": "code",
   "execution_count": 4,
   "id": "802fd38a",
   "metadata": {},
   "outputs": [
    {
     "name": "stdout",
     "output_type": "stream",
     "text": [
      "rizwan\n",
      "24\n",
      "3.4\n"
     ]
    }
   ],
   "source": [
    "for i in x:\n",
    "    print(i)"
   ]
  },
  {
   "cell_type": "code",
   "execution_count": 8,
   "id": "ce41da75",
   "metadata": {},
   "outputs": [
    {
     "name": "stdout",
     "output_type": "stream",
     "text": [
      "M\n",
      "A\n",
      "Y\n",
      "O\n"
     ]
    }
   ],
   "source": [
    "x = 'MAYO'\n",
    "for i in x:\n",
    "    print(i)"
   ]
  },
  {
   "cell_type": "code",
   "execution_count": 11,
   "id": "bb9b0981",
   "metadata": {},
   "outputs": [
    {
     "name": "stdout",
     "output_type": "stream",
     "text": [
      "0\n",
      "1\n",
      "2\n",
      "3\n",
      "4\n",
      "5\n",
      "6\n",
      "7\n",
      "8\n",
      "9\n"
     ]
    }
   ],
   "source": [
    "for i in range(10):\n",
    "    print(i)"
   ]
  },
  {
   "cell_type": "code",
   "execution_count": 12,
   "id": "ede8af01",
   "metadata": {},
   "outputs": [
    {
     "name": "stdout",
     "output_type": "stream",
     "text": [
      "20\n",
      "25\n",
      "30\n",
      "35\n",
      "40\n",
      "45\n"
     ]
    }
   ],
   "source": [
    "for i in range(20,50,5):\n",
    "    print(i)"
   ]
  },
  {
   "cell_type": "code",
   "execution_count": 16,
   "id": "3805a273",
   "metadata": {},
   "outputs": [
    {
     "name": "stdout",
     "output_type": "stream",
     "text": [
      "20\n",
      "17\n",
      "14\n",
      "11\n",
      "8\n"
     ]
    }
   ],
   "source": [
    "for r in range(20,5,-3):\n",
    "    print(r)"
   ]
  },
  {
   "cell_type": "code",
   "execution_count": 25,
   "id": "7c15424f",
   "metadata": {},
   "outputs": [
    {
     "name": "stdout",
     "output_type": "stream",
     "text": [
      "0\n",
      "1\n",
      "3\n",
      "4\n",
      "5\n",
      "6\n",
      "7\n",
      "8\n",
      "9\n"
     ]
    }
   ],
   "source": [
    "for i in range(10):\n",
    "    if i != 2:\n",
    "        print(i)\n",
    "    "
   ]
  },
  {
   "cell_type": "code",
   "execution_count": null,
   "id": "495a558e",
   "metadata": {},
   "outputs": [],
   "source": []
  },
  {
   "cell_type": "markdown",
   "id": "21d10b69",
   "metadata": {},
   "source": [
    "### Break, continue, pass, key words in python\n",
    "The main difference between break and continue statement is that when break keyword is encountered, it will exit the loop. Python Pass Statement is used as a placeholder inside loops, functions, class, if-statement that is meant to be implemented later."
   ]
  },
  {
   "cell_type": "code",
   "execution_count": 5,
   "id": "12084f65",
   "metadata": {},
   "outputs": [
    {
     "name": "stdout",
     "output_type": "stream",
     "text": [
      "How many candes you want:5\n",
      "Candy\n",
      "Candy\n",
      "Candy\n",
      "Candy\n",
      "Candy\n"
     ]
    }
   ],
   "source": [
    "av = 10\n",
    "x = int(input(\"How many candes you want:\"))\n",
    "i =1\n",
    "while i <= x:\n",
    "    if i > av:\n",
    "        break\n",
    "    print('Candy')\n",
    "    i+= 1"
   ]
  },
  {
   "cell_type": "code",
   "execution_count": 2,
   "id": "ac4e03c1",
   "metadata": {},
   "outputs": [
    {
     "name": "stdout",
     "output_type": "stream",
     "text": [
      "How many candes you want:6\n",
      "Candy\n",
      "Candy\n",
      "Candy\n",
      "Candy\n",
      "Candy\n",
      "BYE\n"
     ]
    }
   ],
   "source": [
    "av = 5\n",
    "x = int(input(\"How many candes you want:\"))\n",
    "i =1\n",
    "while i <= x:\n",
    "    if i > av:\n",
    "        break\n",
    "    print('Candy')\n",
    "    i+= 1\n",
    "    \n",
    "print(\"BYE\")"
   ]
  },
  {
   "cell_type": "code",
   "execution_count": 5,
   "id": "a6597dee",
   "metadata": {},
   "outputs": [
    {
     "name": "stdout",
     "output_type": "stream",
     "text": [
      "How many candes you want:6\n",
      "Candy\n",
      "Candy\n",
      "Candy\n",
      "Candy\n",
      "Candy\n",
      "out of stoke\n"
     ]
    }
   ],
   "source": [
    "av = 5\n",
    "x = int(input(\"How many candes you want:\"))\n",
    "i =1\n",
    "while i <= x:\n",
    "    if i > av:\n",
    "        print('out of stoke')\n",
    "        break\n",
    "    print('Candy')\n",
    "    i+= 1"
   ]
  },
  {
   "cell_type": "code",
   "execution_count": null,
   "id": "bd601f1b",
   "metadata": {},
   "outputs": [],
   "source": []
  },
  {
   "cell_type": "code",
   "execution_count": 14,
   "id": "7d6af905",
   "metadata": {},
   "outputs": [
    {
     "name": "stdout",
     "output_type": "stream",
     "text": [
      "1\n",
      "2\n",
      "4\n",
      "7\n",
      "8\n",
      "11\n",
      "13\n",
      "14\n",
      "16\n",
      "17\n",
      "19\n",
      "22\n",
      "23\n",
      "26\n",
      "28\n",
      "29\n",
      "31\n",
      "32\n",
      "34\n",
      "37\n",
      "38\n",
      "41\n",
      "43\n",
      "44\n",
      "46\n",
      "47\n",
      "49\n",
      "52\n",
      "53\n",
      "56\n",
      "58\n",
      "59\n",
      "61\n",
      "62\n",
      "64\n",
      "67\n",
      "68\n",
      "71\n",
      "73\n",
      "74\n",
      "76\n",
      "77\n",
      "79\n",
      "82\n",
      "83\n",
      "86\n",
      "88\n",
      "89\n",
      "91\n",
      "92\n",
      "94\n",
      "97\n",
      "98\n",
      "bye\n"
     ]
    }
   ],
   "source": [
    "for i in range(1,101):\n",
    "    if i % 3 == 0 or i % 5 == 0 :\n",
    "        continue\n",
    "    print(i)\n",
    "\n",
    "print(\"bye\")"
   ]
  },
  {
   "cell_type": "code",
   "execution_count": 15,
   "id": "ab140d50",
   "metadata": {},
   "outputs": [
    {
     "name": "stdout",
     "output_type": "stream",
     "text": [
      "1\n",
      "2\n",
      "3\n",
      "4\n",
      "5\n",
      "6\n",
      "7\n",
      "8\n",
      "9\n",
      "10\n",
      "11\n",
      "12\n",
      "13\n",
      "14\n",
      "16\n",
      "17\n",
      "18\n",
      "19\n",
      "20\n",
      "21\n",
      "22\n",
      "23\n",
      "24\n",
      "25\n",
      "26\n",
      "27\n",
      "28\n",
      "29\n",
      "31\n",
      "32\n",
      "33\n",
      "34\n",
      "35\n",
      "36\n",
      "37\n",
      "38\n",
      "39\n",
      "40\n",
      "41\n",
      "42\n",
      "43\n",
      "44\n",
      "46\n",
      "47\n",
      "48\n",
      "49\n",
      "50\n",
      "51\n",
      "52\n",
      "53\n",
      "54\n",
      "55\n",
      "56\n",
      "57\n",
      "58\n",
      "59\n",
      "61\n",
      "62\n",
      "63\n",
      "64\n",
      "65\n",
      "66\n",
      "67\n",
      "68\n",
      "69\n",
      "70\n",
      "71\n",
      "72\n",
      "73\n",
      "74\n",
      "76\n",
      "77\n",
      "78\n",
      "79\n",
      "80\n",
      "81\n",
      "82\n",
      "83\n",
      "84\n",
      "85\n",
      "86\n",
      "87\n",
      "88\n",
      "89\n",
      "91\n",
      "92\n",
      "93\n",
      "94\n",
      "95\n",
      "96\n",
      "97\n",
      "98\n",
      "99\n",
      "100\n",
      "bye\n"
     ]
    }
   ],
   "source": [
    "for i in range(1,101):\n",
    "    if i % 3 == 0 and i % 5 == 0 :\n",
    "        continue\n",
    "    print(i)\n",
    "\n",
    "print(\"bye\")"
   ]
  },
  {
   "cell_type": "code",
   "execution_count": 29,
   "id": "502d5a6f",
   "metadata": {},
   "outputs": [
    {
     "name": "stdout",
     "output_type": "stream",
     "text": [
      "2\n",
      "4\n",
      "6\n",
      "8\n",
      "10\n",
      "12\n",
      "14\n",
      "16\n",
      "18\n",
      "20\n",
      "22\n",
      "24\n",
      "26\n",
      "28\n",
      "30\n",
      "32\n",
      "34\n",
      "36\n",
      "38\n",
      "40\n",
      "42\n",
      "44\n",
      "46\n",
      "48\n",
      "50\n",
      "52\n",
      "54\n",
      "56\n",
      "58\n",
      "60\n",
      "62\n",
      "64\n",
      "66\n",
      "68\n",
      "70\n",
      "72\n",
      "74\n",
      "76\n",
      "78\n",
      "80\n",
      "82\n",
      "84\n",
      "86\n",
      "88\n",
      "90\n",
      "92\n",
      "94\n",
      "96\n",
      "98\n",
      "100\n"
     ]
    }
   ],
   "source": [
    "for i in range(1,101):\n",
    "    if i % 2 != 0:\n",
    "        pass\n",
    "    else:\n",
    "        print(i)"
   ]
  },
  {
   "cell_type": "markdown",
   "id": "5b6b3f16",
   "metadata": {},
   "source": [
    "### Lecture 22.1: Break vs continue vs pass\n",
    "The Python break statement stops the loop in which the statement is placed. A Python continue statement skips a single iteration in a loop. Both break and continue statements can be used in a for or a while loop. ... The continue statement allows you to skip part of a loop when a condition is met"
   ]
  },
  {
   "cell_type": "code",
   "execution_count": 33,
   "id": "74e51e11",
   "metadata": {},
   "outputs": [
    {
     "name": "stdout",
     "output_type": "stream",
     "text": [
      "Hello 0\n",
      "Hello 1\n",
      "Hello 3\n",
      "Hello 4\n"
     ]
    }
   ],
   "source": [
    "for i in range (5):\n",
    "    if i == 2:\n",
    "        continue\n",
    "    \n",
    "    print(\"Hello\",i)"
   ]
  },
  {
   "cell_type": "code",
   "execution_count": 34,
   "id": "41124b96",
   "metadata": {},
   "outputs": [
    {
     "name": "stdout",
     "output_type": "stream",
     "text": [
      "Hello 0\n",
      "Hello 1\n",
      "Hello 2\n"
     ]
    }
   ],
   "source": [
    "for i in range (5):\n",
    "    if i == 3:\n",
    "        break\n",
    "    \n",
    "    print(\"Hello\",i)"
   ]
  },
  {
   "cell_type": "code",
   "execution_count": 38,
   "id": "d23a4c9a",
   "metadata": {},
   "outputs": [],
   "source": [
    "def fun():\n",
    "    print(\"hello\")\n",
    "    print(\"hello\")\n",
    "    print(\"hello\")"
   ]
  },
  {
   "cell_type": "code",
   "execution_count": 39,
   "id": "efd98aab",
   "metadata": {},
   "outputs": [],
   "source": [
    "def fun():\n",
    "    pass\n",
    "a = 5"
   ]
  },
  {
   "cell_type": "code",
   "execution_count": 40,
   "id": "36d1c5c7",
   "metadata": {},
   "outputs": [],
   "source": [
    "class human:\n",
    "    pass"
   ]
  },
  {
   "cell_type": "code",
   "execution_count": null,
   "id": "34b3eb52",
   "metadata": {},
   "outputs": [],
   "source": []
  },
  {
   "cell_type": "markdown",
   "id": "5bcd879c",
   "metadata": {},
   "source": [
    "### Lecture 23: Printing patterns in python."
   ]
  },
  {
   "cell_type": "code",
   "execution_count": 45,
   "id": "4f93b952",
   "metadata": {},
   "outputs": [
    {
     "name": "stdout",
     "output_type": "stream",
     "text": [
      "@@@@@@@@\n",
      "@@@@@@@@\n",
      "@@@@@@@@\n",
      "@@@@@@@@\n",
      "@@@@@@@@\n"
     ]
    }
   ],
   "source": [
    "for i in range(5):\n",
    "    for j in range(8):\n",
    "        print(\"@\",end = \"\")\n",
    "        \n",
    "    print()"
   ]
  },
  {
   "cell_type": "code",
   "execution_count": 56,
   "id": "ecea2c93",
   "metadata": {},
   "outputs": [
    {
     "name": "stdout",
     "output_type": "stream",
     "text": [
      "#\n",
      "##\n",
      "###\n",
      "####\n"
     ]
    }
   ],
   "source": [
    "for i in range(4):\n",
    "    for j in range(i + 1):\n",
    "        print(\"#\",end = \"\")\n",
    "        \n",
    "    print()"
   ]
  },
  {
   "cell_type": "code",
   "execution_count": 62,
   "id": "17747be9",
   "metadata": {},
   "outputs": [
    {
     "name": "stdout",
     "output_type": "stream",
     "text": [
      "#####\n",
      "####\n",
      "###\n",
      "##\n",
      "#\n"
     ]
    }
   ],
   "source": [
    "for i in range(5):\n",
    "    for j in range(5 - i):\n",
    "        print(\"#\",end = \"\")\n",
    "        \n",
    "    print()"
   ]
  },
  {
   "cell_type": "code",
   "execution_count": null,
   "id": "5eac33f2",
   "metadata": {},
   "outputs": [],
   "source": []
  },
  {
   "cell_type": "markdown",
   "id": "51fd1cdc",
   "metadata": {},
   "source": [
    "### Lecture 24: For else in python\n",
    "Python allows the else keyword to be used with the for and while loops too. The else block appears after the body of the loop. The statements in the else block will be executed after all iterations are completed. The program exits the loop only after the else block is executed."
   ]
  },
  {
   "cell_type": "code",
   "execution_count": 68,
   "id": "5abf6ab0",
   "metadata": {},
   "outputs": [
    {
     "name": "stdout",
     "output_type": "stream",
     "text": [
      "25\n",
      "20\n",
      "15\n"
     ]
    }
   ],
   "source": [
    "numbers = [12,25,20,15,43,34]\n",
    "for num in numbers:\n",
    "    if num % 5 == 0:\n",
    "        print(num)"
   ]
  },
  {
   "cell_type": "code",
   "execution_count": 69,
   "id": "f60143f4",
   "metadata": {},
   "outputs": [
    {
     "name": "stdout",
     "output_type": "stream",
     "text": [
      "25\n"
     ]
    }
   ],
   "source": [
    "numbers = [12,25,20,15,43,34]\n",
    "for num in numbers:\n",
    "    if num % 5 == 0:\n",
    "        print(num)\n",
    "        break"
   ]
  },
  {
   "cell_type": "code",
   "execution_count": 70,
   "id": "894bfbdf",
   "metadata": {},
   "outputs": [],
   "source": [
    "numbers = [12,26,19,16,43,34]\n",
    "for num in numbers:\n",
    "    if num % 5 == 0:\n",
    "        print(num)\n",
    "        break"
   ]
  },
  {
   "cell_type": "code",
   "execution_count": 76,
   "id": "55d507ff",
   "metadata": {},
   "outputs": [
    {
     "name": "stdout",
     "output_type": "stream",
     "text": [
      "not found\n",
      "not found\n",
      "not found\n",
      "not found\n",
      "not found\n",
      "not found\n"
     ]
    }
   ],
   "source": [
    "numbers = [12,26,19,16,43,34]\n",
    "for num in numbers:\n",
    "    if num % 5 == 0:\n",
    "        print(num)\n",
    "        break\n",
    "    else:\n",
    "        print(\"not found\")"
   ]
  },
  {
   "cell_type": "code",
   "execution_count": 77,
   "id": "5006fde0",
   "metadata": {},
   "outputs": [
    {
     "name": "stdout",
     "output_type": "stream",
     "text": [
      "not found\n"
     ]
    }
   ],
   "source": [
    "numbers = [12,26,19,16,43,34]\n",
    "for num in numbers:\n",
    "    if num % 5 == 0:\n",
    "        print(num)\n",
    "        break\n",
    "else:\n",
    "        print(\"not found\")"
   ]
  },
  {
   "cell_type": "code",
   "execution_count": 80,
   "id": "2ddaa53c",
   "metadata": {},
   "outputs": [
    {
     "name": "stdout",
     "output_type": "stream",
     "text": [
      "10\n"
     ]
    }
   ],
   "source": [
    "numbers = [10,26,19,16,43,34]\n",
    "for num in numbers:\n",
    "    if num % 5 == 0:\n",
    "        print(num)\n",
    "        break\n",
    "    else:\n",
    "        print(\"not found\")"
   ]
  },
  {
   "cell_type": "code",
   "execution_count": null,
   "id": "aca97765",
   "metadata": {},
   "outputs": [],
   "source": []
  },
  {
   "cell_type": "markdown",
   "id": "417209b4",
   "metadata": {},
   "source": [
    "### Lecture 25: Prime Numbers\n",
    "2, 3, 5, 7 etc. are prime numbers as they do not have any other factors. But 6 is not prime (it is composite) since, 2 x 3 = 6 \n",
    "#Write a code for checking that a given number is prime number or not."
   ]
  },
  {
   "cell_type": "code",
   "execution_count": 87,
   "id": "41698bbb",
   "metadata": {},
   "outputs": [
    {
     "name": "stdout",
     "output_type": "stream",
     "text": [
      "prime\n"
     ]
    }
   ],
   "source": [
    "num = 7\n",
    "for i in range(2,num):\n",
    "    if num % i == 0:\n",
    "        print(\"Not prime\")\n",
    "        break\n",
    "else:\n",
    "    print(\"prime\")\n",
    "\n"
   ]
  },
  {
   "cell_type": "code",
   "execution_count": 88,
   "id": "173a9c96",
   "metadata": {},
   "outputs": [
    {
     "name": "stdout",
     "output_type": "stream",
     "text": [
      "Not prime\n"
     ]
    }
   ],
   "source": [
    "num = 10\n",
    "for i in range(2,num):\n",
    "    if num % i == 0:\n",
    "        print(\"Not prime\")\n",
    "        break\n",
    "else:\n",
    "    print(\"prime\")\n"
   ]
  },
  {
   "cell_type": "markdown",
   "id": "6f2c4226",
   "metadata": {},
   "source": [
    "### Lecture 26: Array in Python\n",
    "Python arrays are a data structure like lists. They contain a number of objects that can be of different data types. ... For example, if you have a list of student names that you want to store, you may want to store them in an array. Arrays are useful if you want to work with many values of the same Python data type."
   ]
  },
  {
   "cell_type": "code",
   "execution_count": 100,
   "id": "47096cc0",
   "metadata": {},
   "outputs": [
    {
     "name": "stdout",
     "output_type": "stream",
     "text": [
      "('i', [2, 3, 4, 5])\n"
     ]
    }
   ],
   "source": [
    "from array import *\n",
    "values = ('i',[2,3,4,5])\n",
    "print(values)"
   ]
  },
  {
   "cell_type": "code",
   "execution_count": 115,
   "id": "890dcbdd",
   "metadata": {},
   "outputs": [
    {
     "name": "stdout",
     "output_type": "stream",
     "text": [
      "array('i', [2, -37, 4, 5])\n"
     ]
    }
   ],
   "source": [
    "\n",
    "values =array ('i',[2,-37,4,5])\n",
    "print(values)"
   ]
  },
  {
   "cell_type": "code",
   "execution_count": 119,
   "id": "0361acba",
   "metadata": {},
   "outputs": [
    {
     "name": "stdout",
     "output_type": "stream",
     "text": [
      "array('i', [5, 4, -37, 2])\n"
     ]
    }
   ],
   "source": [
    "\n",
    "values =array('i',[2,-37,4,5])\n",
    "values.reverse()\n",
    "print(values)\n"
   ]
  },
  {
   "cell_type": "code",
   "execution_count": 120,
   "id": "77f27d7c",
   "metadata": {},
   "outputs": [
    {
     "name": "stdout",
     "output_type": "stream",
     "text": [
      "2\n"
     ]
    }
   ],
   "source": [
    "values =array('i',[2,-37,4,5])\n",
    "print(values[0])\n"
   ]
  },
  {
   "cell_type": "code",
   "execution_count": 124,
   "id": "8b1daaa9",
   "metadata": {},
   "outputs": [
    {
     "name": "stdout",
     "output_type": "stream",
     "text": [
      "5\n"
     ]
    }
   ],
   "source": [
    "values =array('i',[2,-37,4,5])\n",
    "\n",
    "print(values[3])\n"
   ]
  },
  {
   "cell_type": "code",
   "execution_count": 3,
   "id": "5a718115",
   "metadata": {},
   "outputs": [
    {
     "name": "stdout",
     "output_type": "stream",
     "text": [
      "2\n",
      "-37\n",
      "4\n",
      "5\n"
     ]
    }
   ],
   "source": [
    "from array import *\n",
    "val = array('i',[2,-37,4,5])\n",
    "for e in val:\n",
    "    print(e)\n"
   ]
  },
  {
   "cell_type": "code",
   "execution_count": null,
   "id": "4cb570d7",
   "metadata": {},
   "outputs": [],
   "source": []
  },
  {
   "cell_type": "code",
   "execution_count": 6,
   "id": "4b122f65",
   "metadata": {},
   "outputs": [
    {
     "ename": "NameError",
     "evalue": "name 'a' is not defined",
     "output_type": "error",
     "traceback": [
      "\u001b[1;31m---------------------------------------------------------------------------\u001b[0m",
      "\u001b[1;31mNameError\u001b[0m                                 Traceback (most recent call last)",
      "\u001b[1;32m<ipython-input-6-29f3c481d08f>\u001b[0m in \u001b[0;36m<module>\u001b[1;34m\u001b[0m\n\u001b[0;32m      1\u001b[0m \u001b[1;32mfrom\u001b[0m \u001b[0marray\u001b[0m \u001b[1;32mimport\u001b[0m \u001b[1;33m*\u001b[0m\u001b[1;33m\u001b[0m\u001b[1;33m\u001b[0m\u001b[0m\n\u001b[1;32m----> 2\u001b[1;33m \u001b[0mv\u001b[0m \u001b[1;33m=\u001b[0m \u001b[0marray\u001b[0m\u001b[1;33m(\u001b[0m\u001b[1;34m'u'\u001b[0m\u001b[1;33m,\u001b[0m\u001b[1;33m[\u001b[0m\u001b[0me\u001b[0m\u001b[1;33m,\u001b[0m\u001b[0ma\u001b[0m\u001b[1;33m,\u001b[0m\u001b[0mi\u001b[0m\u001b[1;33m]\u001b[0m\u001b[1;33m)\u001b[0m\u001b[1;33m\u001b[0m\u001b[1;33m\u001b[0m\u001b[0m\n\u001b[0m\u001b[0;32m      3\u001b[0m \u001b[1;32mfor\u001b[0m \u001b[0me\u001b[0m \u001b[1;32min\u001b[0m \u001b[0mv\u001b[0m\u001b[1;33m:\u001b[0m\u001b[1;33m\u001b[0m\u001b[1;33m\u001b[0m\u001b[0m\n\u001b[0;32m      4\u001b[0m     \u001b[0mprint\u001b[0m\u001b[1;33m(\u001b[0m\u001b[0me\u001b[0m\u001b[1;33m)\u001b[0m\u001b[1;33m\u001b[0m\u001b[1;33m\u001b[0m\u001b[0m\n\u001b[0;32m      5\u001b[0m \u001b[1;33m\u001b[0m\u001b[0m\n",
      "\u001b[1;31mNameError\u001b[0m: name 'a' is not defined"
     ]
    }
   ],
   "source": [
    "from array import *\n",
    "v = array('u',[e,a,i])\n",
    "for e in v:\n",
    "    print(e)\n",
    "\n"
   ]
  },
  {
   "cell_type": "code",
   "execution_count": null,
   "id": "4cff9e30",
   "metadata": {},
   "outputs": [],
   "source": []
  },
  {
   "cell_type": "markdown",
   "id": "9b457c53",
   "metadata": {},
   "source": [
    "### Lecture 27: Array values fron user in python.\n",
    "In Python, we can get user input like this: name = input(\"Enter your name: \") print(\"Hello\", name + \"!\") The code above simply prompts the user for information, and the prints out what they entered in"
   ]
  },
  {
   "cell_type": "code",
   "execution_count": 1,
   "id": "ec70204d",
   "metadata": {},
   "outputs": [
    {
     "name": "stdout",
     "output_type": "stream",
     "text": [
      "Enter the length of value of array 5\n",
      "enter the value 6\n",
      "enter the value 8\n",
      "enter the value 3\n",
      "enter the value 6\n",
      "enter the value 2\n",
      "2\n"
     ]
    }
   ],
   "source": [
    "from array import *\n",
    "\n",
    "arr = array('i',[])\n",
    "\n",
    "n = int(input(\"Enter the length of value of array \"))\n",
    "\n",
    "for i in range(5):\n",
    "    x = int(input(\"enter the value \"))\n",
    "    arr.append(x)\n",
    "    \n",
    "print(x)\n"
   ]
  },
  {
   "cell_type": "code",
   "execution_count": 9,
   "id": "c941014d",
   "metadata": {},
   "outputs": [
    {
     "name": "stdout",
     "output_type": "stream",
     "text": [
      "Enter the length of value of array5\n",
      "enter the value7\n",
      "enter the value6\n",
      "enter the value5\n",
      "enter the value4\n",
      "enter the value3\n",
      "array('i', [7, 6, 5, 4, 3])\n"
     ]
    }
   ],
   "source": [
    " from array import *\n",
    "\n",
    "arr = array('i',[])\n",
    "\n",
    "n = int(input(\"Enter the length of value of array\"))\n",
    "\n",
    "for i in range(n):\n",
    "    x = int(input(\"enter the value\"))\n",
    "    arr.append(x)\n",
    "    \n",
    "print(arr)"
   ]
  },
  {
   "cell_type": "code",
   "execution_count": 13,
   "id": "e4a581c4",
   "metadata": {},
   "outputs": [
    {
     "name": "stdout",
     "output_type": "stream",
     "text": [
      "Enter the length of value of array5\n",
      "enter the value6\n",
      "enter the value7\n",
      "enter the value8\n",
      "enter the value9\n",
      "enter the value3\n",
      "array('i', [6, 7, 8, 9, 3])\n",
      "Enter the value for search9\n",
      "3\n"
     ]
    }
   ],
   "source": [
    "from array import *\n",
    "\n",
    "arr = array('i',[])\n",
    "\n",
    "n = int(input(\"Enter the length of value of array\"))\n",
    "\n",
    "for i in range(5):\n",
    "    x = int(input(\"enter the value\"))\n",
    "    arr.append(x)\n",
    "    \n",
    "print(arr)\n",
    "\n",
    "val = int(input(\"Enter the value for search\"))\n",
    "\n",
    "k = 0\n",
    "for e in arr:\n",
    "    if e == val:\n",
    "        print(k)\n",
    "        break\n",
    "    k  += 1"
   ]
  },
  {
   "cell_type": "code",
   "execution_count": 14,
   "id": "e129f16a",
   "metadata": {},
   "outputs": [
    {
     "name": "stdout",
     "output_type": "stream",
     "text": [
      "Enter the length of value of array6\n",
      "enter the value55\n",
      "enter the value44\n",
      "enter the value33\n",
      "enter the value22\n",
      "enter the value11\n",
      "array('i', [55, 44, 33, 22, 11])\n",
      "Enter the value for search33\n",
      "2\n",
      "2\n"
     ]
    }
   ],
   "source": [
    "from array import *\n",
    "\n",
    "arr = array('i',[])\n",
    "\n",
    "n = int(input(\"Enter the length of value of array\"))\n",
    "\n",
    "for i in range(5):\n",
    "    x = int(input(\"enter the value\"))\n",
    "    arr.append(x)\n",
    "    \n",
    "print(arr)\n",
    "\n",
    "val = int(input(\"Enter the value for search\"))\n",
    "\n",
    "k = 0\n",
    "for e in arr:\n",
    "    if e == val:\n",
    "        print(k)\n",
    "        break\n",
    "    k  += 1\n",
    "print(arr.index(val))"
   ]
  },
  {
   "cell_type": "markdown",
   "id": "f7ab06a7",
   "metadata": {},
   "source": [
    "##### in the above code 2,2 comes. in this first 2 because of\n",
    "above code and second 2 comes bc of last line code."
   ]
  },
  {
   "cell_type": "code",
   "execution_count": null,
   "id": "030510a2",
   "metadata": {},
   "outputs": [],
   "source": []
  },
  {
   "cell_type": "markdown",
   "id": "4e6fd67a",
   "metadata": {},
   "source": [
    "### Lecture 28: Numpy,numpy arrys\n",
    "A numpy array is a grid of values, all of the same type, and is indexed by a tuple of nonnegative integers. The number of dimensions is the rank of the array; the shape of an array is a tuple of integers giving the size of the array along each dimension."
   ]
  },
  {
   "cell_type": "code",
   "execution_count": 4,
   "id": "4c0e9d46",
   "metadata": {},
   "outputs": [],
   "source": [
    "from numpy import *"
   ]
  },
  {
   "cell_type": "code",
   "execution_count": 9,
   "id": "2859d4c2",
   "metadata": {},
   "outputs": [],
   "source": [
    "arr = array([1,2,3,4,5,6],int)"
   ]
  },
  {
   "cell_type": "code",
   "execution_count": 10,
   "id": "aefea8a5",
   "metadata": {},
   "outputs": [
    {
     "name": "stdout",
     "output_type": "stream",
     "text": [
      "[1 2 3 4 5 6]\n"
     ]
    }
   ],
   "source": [
    "print(arr)"
   ]
  },
  {
   "cell_type": "code",
   "execution_count": 12,
   "id": "1908766d",
   "metadata": {},
   "outputs": [
    {
     "ename": "TypeError",
     "evalue": "Cannot interpret '<module 'numpy.core.defchararray' from 'd:\\\\Users\\\\M.Rizwan\\\\anaconda3\\\\lib\\\\site-packages\\\\numpy\\\\core\\\\defchararray.py'>' as a data type",
     "output_type": "error",
     "traceback": [
      "\u001b[1;31m---------------------------------------------------------------------------\u001b[0m",
      "\u001b[1;31mTypeError\u001b[0m                                 Traceback (most recent call last)",
      "\u001b[1;32m<ipython-input-12-47d9d018d518>\u001b[0m in \u001b[0;36m<module>\u001b[1;34m\u001b[0m\n\u001b[1;32m----> 1\u001b[1;33m \u001b[0marr\u001b[0m \u001b[1;33m=\u001b[0m \u001b[0marray\u001b[0m\u001b[1;33m(\u001b[0m\u001b[1;33m[\u001b[0m\u001b[1;36m1\u001b[0m\u001b[1;33m,\u001b[0m\u001b[1;36m2\u001b[0m\u001b[1;33m,\u001b[0m\u001b[1;36m3\u001b[0m\u001b[1;33m,\u001b[0m\u001b[1;36m4\u001b[0m\u001b[1;33m,\u001b[0m\u001b[1;36m5\u001b[0m\u001b[1;33m,\u001b[0m\u001b[1;36m6\u001b[0m\u001b[1;33m]\u001b[0m\u001b[1;33m,\u001b[0m\u001b[0mchar\u001b[0m\u001b[1;33m)\u001b[0m\u001b[1;33m\u001b[0m\u001b[1;33m\u001b[0m\u001b[0m\n\u001b[0m",
      "\u001b[1;31mTypeError\u001b[0m: Cannot interpret '<module 'numpy.core.defchararray' from 'd:\\\\Users\\\\M.Rizwan\\\\anaconda3\\\\lib\\\\site-packages\\\\numpy\\\\core\\\\defchararray.py'>' as a data type"
     ]
    }
   ],
   "source": [
    "arr = array([1,2,3,4,5,6],char)"
   ]
  },
  {
   "cell_type": "code",
   "execution_count": 13,
   "id": "57c83a68",
   "metadata": {},
   "outputs": [
    {
     "name": "stdout",
     "output_type": "stream",
     "text": [
      "[1 2 3 4 5 6]\n"
     ]
    }
   ],
   "source": [
    "print(arr)"
   ]
  },
  {
   "cell_type": "code",
   "execution_count": null,
   "id": "41c2d164",
   "metadata": {},
   "outputs": [],
   "source": []
  },
  {
   "cell_type": "markdown",
   "id": "70e54320",
   "metadata": {},
   "source": [
    "### Lecture 29: Diffrent ways of creating arrays in numpay.\n",
    "Array in Python can be created by importing array module. array(data_type, value_list) is used to create an array with data type and value list specified in its arguments."
   ]
  },
  {
   "cell_type": "code",
   "execution_count": 15,
   "id": "daad6ff6",
   "metadata": {},
   "outputs": [],
   "source": [
    "#  6 ways to create arrays in python "
   ]
  },
  {
   "cell_type": "markdown",
   "id": "a5c66d27",
   "metadata": {},
   "source": [
    "### 1) Array()\n",
    "An array is a collection of elements of the same type placed in contiguous memory locations that can be individually referenced by using an index to a unique identifier. Five values of type int can be declared as an array without having to declare five different variables (each with its own identifier)"
   ]
  },
  {
   "cell_type": "code",
   "execution_count": 17,
   "id": "491e431c",
   "metadata": {},
   "outputs": [],
   "source": [
    "from numpy import*"
   ]
  },
  {
   "cell_type": "code",
   "execution_count": 18,
   "id": "f206188a",
   "metadata": {},
   "outputs": [],
   "source": [
    "arr = array([1,2,3,4,5])"
   ]
  },
  {
   "cell_type": "code",
   "execution_count": 19,
   "id": "87764b62",
   "metadata": {},
   "outputs": [
    {
     "name": "stdout",
     "output_type": "stream",
     "text": [
      "[1 2 3 4 5]\n"
     ]
    }
   ],
   "source": [
    "print(arr)"
   ]
  },
  {
   "cell_type": "code",
   "execution_count": 20,
   "id": "41638f13",
   "metadata": {},
   "outputs": [],
   "source": [
    "arr = array([1,2,3,4,5])"
   ]
  },
  {
   "cell_type": "code",
   "execution_count": 23,
   "id": "528218aa",
   "metadata": {},
   "outputs": [
    {
     "name": "stdout",
     "output_type": "stream",
     "text": [
      "int32\n"
     ]
    }
   ],
   "source": [
    "print(arr.dtype)"
   ]
  },
  {
   "cell_type": "code",
   "execution_count": 25,
   "id": "93b31ecb",
   "metadata": {},
   "outputs": [],
   "source": [
    "arr = array([1,2,3,4,5.5])"
   ]
  },
  {
   "cell_type": "code",
   "execution_count": 28,
   "id": "5207c0be",
   "metadata": {},
   "outputs": [
    {
     "name": "stdout",
     "output_type": "stream",
     "text": [
      "float64\n",
      "[1.  2.  3.  4.  5.5]\n"
     ]
    }
   ],
   "source": [
    "print(arr.dtype)\n",
    "print(arr)"
   ]
  },
  {
   "cell_type": "code",
   "execution_count": 30,
   "id": "e905946a",
   "metadata": {},
   "outputs": [],
   "source": [
    "arr = array([1,2,3,4,5.5],int)"
   ]
  },
  {
   "cell_type": "code",
   "execution_count": 31,
   "id": "1582bf02",
   "metadata": {},
   "outputs": [
    {
     "name": "stdout",
     "output_type": "stream",
     "text": [
      "int32\n",
      "[1 2 3 4 5]\n"
     ]
    }
   ],
   "source": [
    "print(arr.dtype)\n",
    "print(arr)"
   ]
  },
  {
   "cell_type": "code",
   "execution_count": 33,
   "id": "8b3840bc",
   "metadata": {},
   "outputs": [],
   "source": [
    "arr = array([1,2,3,4,55],float)"
   ]
  },
  {
   "cell_type": "code",
   "execution_count": 34,
   "id": "838bdb52",
   "metadata": {},
   "outputs": [
    {
     "name": "stdout",
     "output_type": "stream",
     "text": [
      "float64\n",
      "[ 1.  2.  3.  4. 55.]\n"
     ]
    }
   ],
   "source": [
    "print(arr.dtype)\n",
    "print(arr)"
   ]
  },
  {
   "cell_type": "markdown",
   "id": "512717d1",
   "metadata": {},
   "source": [
    "### 2): linspace()\n",
    "What does Linspace do in Python?\n",
    "Image result for linspace in python\n",
    "linspace) is a tool in Python for creating numeric sequences. It's somewhat similar to the NumPy arange function, in that it creates sequences of evenly spaced numbers structured as a NumPy array."
   ]
  },
  {
   "cell_type": "code",
   "execution_count": 36,
   "id": "00cb0743",
   "metadata": {},
   "outputs": [],
   "source": [
    "arr = linspace(1,10,11)"
   ]
  },
  {
   "cell_type": "code",
   "execution_count": 37,
   "id": "1917b00a",
   "metadata": {},
   "outputs": [
    {
     "name": "stdout",
     "output_type": "stream",
     "text": [
      "[ 1.   1.9  2.8  3.7  4.6  5.5  6.4  7.3  8.2  9.1 10. ]\n"
     ]
    }
   ],
   "source": [
    "print(arr)"
   ]
  },
  {
   "cell_type": "code",
   "execution_count": 38,
   "id": "99cf9b31",
   "metadata": {},
   "outputs": [],
   "source": [
    "arr = linspace(1,10,9)"
   ]
  },
  {
   "cell_type": "code",
   "execution_count": 39,
   "id": "cfa9a73a",
   "metadata": {},
   "outputs": [
    {
     "name": "stdout",
     "output_type": "stream",
     "text": [
      "[ 1.     2.125  3.25   4.375  5.5    6.625  7.75   8.875 10.   ]\n"
     ]
    }
   ],
   "source": [
    "print(arr)"
   ]
  },
  {
   "cell_type": "code",
   "execution_count": 40,
   "id": "b308a64b",
   "metadata": {},
   "outputs": [],
   "source": [
    "arr = linspace(1,10,10)"
   ]
  },
  {
   "cell_type": "code",
   "execution_count": 41,
   "id": "f27e54fa",
   "metadata": {},
   "outputs": [
    {
     "name": "stdout",
     "output_type": "stream",
     "text": [
      "[ 1.  2.  3.  4.  5.  6.  7.  8.  9. 10.]\n"
     ]
    }
   ],
   "source": [
    "print(arr)"
   ]
  },
  {
   "cell_type": "code",
   "execution_count": 42,
   "id": "9ba97a01",
   "metadata": {},
   "outputs": [],
   "source": [
    "arr = linspace(1,10,20)"
   ]
  },
  {
   "cell_type": "code",
   "execution_count": 43,
   "id": "971340ea",
   "metadata": {},
   "outputs": [
    {
     "name": "stdout",
     "output_type": "stream",
     "text": [
      "[ 1.          1.47368421  1.94736842  2.42105263  2.89473684  3.36842105\n",
      "  3.84210526  4.31578947  4.78947368  5.26315789  5.73684211  6.21052632\n",
      "  6.68421053  7.15789474  7.63157895  8.10526316  8.57894737  9.05263158\n",
      "  9.52631579 10.        ]\n"
     ]
    }
   ],
   "source": [
    "print(arr)"
   ]
  },
  {
   "cell_type": "code",
   "execution_count": 44,
   "id": "d5ac12fe",
   "metadata": {},
   "outputs": [],
   "source": [
    "arr = linspace(1,10)"
   ]
  },
  {
   "cell_type": "code",
   "execution_count": 45,
   "id": "2c5ae160",
   "metadata": {},
   "outputs": [
    {
     "name": "stdout",
     "output_type": "stream",
     "text": [
      "[ 1.          1.18367347  1.36734694  1.55102041  1.73469388  1.91836735\n",
      "  2.10204082  2.28571429  2.46938776  2.65306122  2.83673469  3.02040816\n",
      "  3.20408163  3.3877551   3.57142857  3.75510204  3.93877551  4.12244898\n",
      "  4.30612245  4.48979592  4.67346939  4.85714286  5.04081633  5.2244898\n",
      "  5.40816327  5.59183673  5.7755102   5.95918367  6.14285714  6.32653061\n",
      "  6.51020408  6.69387755  6.87755102  7.06122449  7.24489796  7.42857143\n",
      "  7.6122449   7.79591837  7.97959184  8.16326531  8.34693878  8.53061224\n",
      "  8.71428571  8.89795918  9.08163265  9.26530612  9.44897959  9.63265306\n",
      "  9.81632653 10.        ]\n"
     ]
    }
   ],
   "source": [
    "print(arr)"
   ]
  },
  {
   "cell_type": "markdown",
   "id": "1c21aa5d",
   "metadata": {},
   "source": [
    "### 3) Arrange\n",
    "arrange() It creates an array by using the evenly spaced values over the given interval. The interval mentioned is half opened i.e. [Start, Stop])."
   ]
  },
  {
   "cell_type": "code",
   "execution_count": 48,
   "id": "cb23190f",
   "metadata": {},
   "outputs": [],
   "source": [
    " arr = arange(1,20,4)"
   ]
  },
  {
   "cell_type": "code",
   "execution_count": 49,
   "id": "ea421dcb",
   "metadata": {},
   "outputs": [
    {
     "name": "stdout",
     "output_type": "stream",
     "text": [
      "[ 1  5  9 13 17]\n"
     ]
    }
   ],
   "source": [
    "print(arr)"
   ]
  },
  {
   "cell_type": "code",
   "execution_count": null,
   "id": "5f321da1",
   "metadata": {},
   "outputs": [],
   "source": []
  },
  {
   "cell_type": "markdown",
   "id": "1de22981",
   "metadata": {},
   "source": [
    "### 4) logspace\n",
    "logspace() in Python. The numpy. logspace() function returns number spaces evenly w.r.t interval on a log scale."
   ]
  },
  {
   "cell_type": "code",
   "execution_count": 51,
   "id": "d1b1c085",
   "metadata": {},
   "outputs": [],
   "source": [
    "arr = logspace(1,20,3)"
   ]
  },
  {
   "cell_type": "code",
   "execution_count": 52,
   "id": "a142d2f0",
   "metadata": {},
   "outputs": [
    {
     "name": "stdout",
     "output_type": "stream",
     "text": [
      "[1.00000000e+01 3.16227766e+10 1.00000000e+20]\n"
     ]
    }
   ],
   "source": [
    "print(arr)"
   ]
  },
  {
   "cell_type": "code",
   "execution_count": 53,
   "id": "9052b23c",
   "metadata": {},
   "outputs": [],
   "source": [
    "arr = logspace(1,20,6)"
   ]
  },
  {
   "cell_type": "code",
   "execution_count": 54,
   "id": "be24119d",
   "metadata": {},
   "outputs": [
    {
     "name": "stdout",
     "output_type": "stream",
     "text": [
      "[1.00000000e+01 6.30957344e+04 3.98107171e+08 2.51188643e+12\n",
      " 1.58489319e+16 1.00000000e+20]\n"
     ]
    }
   ],
   "source": [
    "print(arr)"
   ]
  },
  {
   "cell_type": "code",
   "execution_count": 57,
   "id": "b06600b2",
   "metadata": {},
   "outputs": [],
   "source": [
    "arr = logspace(1,20,3)"
   ]
  },
  {
   "cell_type": "code",
   "execution_count": 59,
   "id": "db9d0737",
   "metadata": {},
   "outputs": [
    {
     "name": "stdout",
     "output_type": "stream",
     "text": [
      "10.00\n"
     ]
    }
   ],
   "source": [
    "print('%.2f' %arr[0])"
   ]
  },
  {
   "cell_type": "code",
   "execution_count": 60,
   "id": "77b3fafc",
   "metadata": {},
   "outputs": [],
   "source": [
    "arr = logspace(1,20,3)"
   ]
  },
  {
   "cell_type": "code",
   "execution_count": 61,
   "id": "61ba5469",
   "metadata": {},
   "outputs": [
    {
     "name": "stdout",
     "output_type": "stream",
     "text": [
      "31622776601.68\n"
     ]
    }
   ],
   "source": [
    "print('%.2f' %arr[1])"
   ]
  },
  {
   "cell_type": "code",
   "execution_count": 62,
   "id": "2bd228d3",
   "metadata": {},
   "outputs": [
    {
     "name": "stdout",
     "output_type": "stream",
     "text": [
      "100000000000000000000.00\n"
     ]
    }
   ],
   "source": [
    "print('%.2f' %arr[2])"
   ]
  },
  {
   "cell_type": "code",
   "execution_count": null,
   "id": "980fad6c",
   "metadata": {},
   "outputs": [],
   "source": []
  },
  {
   "cell_type": "markdown",
   "id": "59a0c225",
   "metadata": {},
   "source": [
    "### 5) zeros()\n",
    "The zeros() function is used to get a new array of given shape and type, filled with zeros. Shape of the new array, e.g., (2, 3) or 2. The desired data-type for the array, e.g., numpy. int8"
   ]
  },
  {
   "cell_type": "code",
   "execution_count": 64,
   "id": "1b36f769",
   "metadata": {},
   "outputs": [],
   "source": [
    "arr = zeros(5)"
   ]
  },
  {
   "cell_type": "code",
   "execution_count": 65,
   "id": "bc40f70d",
   "metadata": {},
   "outputs": [
    {
     "name": "stdout",
     "output_type": "stream",
     "text": [
      "[0. 0. 0. 0. 0.]\n"
     ]
    }
   ],
   "source": [
    "print(arr)"
   ]
  },
  {
   "cell_type": "code",
   "execution_count": null,
   "id": "e76fc277",
   "metadata": {},
   "outputs": [],
   "source": []
  },
  {
   "cell_type": "markdown",
   "id": "0ed733f3",
   "metadata": {},
   "source": [
    "### 6) ones()\n",
    "ones() function returns a new array of given shape and data type, where the element's value is set to 1. This function is very similar to numpy zeros() function."
   ]
  },
  {
   "cell_type": "code",
   "execution_count": 72,
   "id": "05406702",
   "metadata": {},
   "outputs": [],
   "source": [
    "arr = ones(4)"
   ]
  },
  {
   "cell_type": "code",
   "execution_count": 73,
   "id": "3a5e0f01",
   "metadata": {},
   "outputs": [
    {
     "name": "stdout",
     "output_type": "stream",
     "text": [
      "[1. 1. 1. 1.]\n"
     ]
    }
   ],
   "source": [
    "print(arr)"
   ]
  },
  {
   "cell_type": "code",
   "execution_count": 76,
   "id": "f0ab1707",
   "metadata": {},
   "outputs": [],
   "source": [
    "arr = ones(4,int)"
   ]
  },
  {
   "cell_type": "code",
   "execution_count": 77,
   "id": "68654b68",
   "metadata": {},
   "outputs": [
    {
     "name": "stdout",
     "output_type": "stream",
     "text": [
      "[1 1 1 1]\n"
     ]
    }
   ],
   "source": [
    "print(arr)"
   ]
  },
  {
   "cell_type": "code",
   "execution_count": null,
   "id": "cf4cf5bb",
   "metadata": {},
   "outputs": [],
   "source": []
  },
  {
   "cell_type": "markdown",
   "id": "d705277e",
   "metadata": {},
   "source": [
    "### Lecture 30: coping an array in python\n",
    "We can create a copy of an array by using the assignment operator (=). In Python, Assignment statements do not copy objects, they create bindings between a target and an object. When we use = operator user thinks that this creates a new object; well, it doesn't."
   ]
  },
  {
   "cell_type": "code",
   "execution_count": 92,
   "id": "50b37c5a",
   "metadata": {},
   "outputs": [],
   "source": [
    "from numpy import *"
   ]
  },
  {
   "cell_type": "code",
   "execution_count": 93,
   "id": "55b328b9",
   "metadata": {},
   "outputs": [],
   "source": [
    "arr = array([1,2,3,4,5])"
   ]
  },
  {
   "cell_type": "code",
   "execution_count": 94,
   "id": "0fd93cc5",
   "metadata": {},
   "outputs": [
    {
     "data": {
      "text/plain": [
       "array([1, 2, 3, 4, 5])"
      ]
     },
     "execution_count": 94,
     "metadata": {},
     "output_type": "execute_result"
    }
   ],
   "source": [
    "arr"
   ]
  },
  {
   "cell_type": "code",
   "execution_count": 95,
   "id": "1af67c04",
   "metadata": {},
   "outputs": [
    {
     "data": {
      "text/plain": [
       "array([5, 6, 7, 8, 9])"
      ]
     },
     "execution_count": 95,
     "metadata": {},
     "output_type": "execute_result"
    }
   ],
   "source": [
    "arr + 4"
   ]
  },
  {
   "cell_type": "code",
   "execution_count": 96,
   "id": "de12e5f9",
   "metadata": {},
   "outputs": [
    {
     "data": {
      "text/plain": [
       "array([11, 12, 13, 14, 15])"
      ]
     },
     "execution_count": 96,
     "metadata": {},
     "output_type": "execute_result"
    }
   ],
   "source": [
    "arr + 10"
   ]
  },
  {
   "cell_type": "code",
   "execution_count": 97,
   "id": "e2d55434",
   "metadata": {},
   "outputs": [],
   "source": [
    "arr1 = array([1,2,3,4,5])"
   ]
  },
  {
   "cell_type": "code",
   "execution_count": 98,
   "id": "179074bf",
   "metadata": {},
   "outputs": [],
   "source": [
    "arr2 = array([6,7,8,9,10])"
   ]
  },
  {
   "cell_type": "code",
   "execution_count": 99,
   "id": "7ffca571",
   "metadata": {},
   "outputs": [],
   "source": [
    "arr = arr1 + arr2,#also called vectorized opration."
   ]
  },
  {
   "cell_type": "code",
   "execution_count": 100,
   "id": "4a47021f",
   "metadata": {},
   "outputs": [
    {
     "name": "stdout",
     "output_type": "stream",
     "text": [
      "(array([ 7,  9, 11, 13, 15]),)\n"
     ]
    }
   ],
   "source": [
    "print(arr)"
   ]
  },
  {
   "cell_type": "code",
   "execution_count": null,
   "id": "2c9b0ee8",
   "metadata": {},
   "outputs": [],
   "source": []
  },
  {
   "cell_type": "code",
   "execution_count": 101,
   "id": "3981f00c",
   "metadata": {},
   "outputs": [],
   "source": [
    "arr = array([1,2,3,4,5])"
   ]
  },
  {
   "cell_type": "code",
   "execution_count": 104,
   "id": "d35d5ff4",
   "metadata": {},
   "outputs": [
    {
     "name": "stdout",
     "output_type": "stream",
     "text": [
      "[ 0.84147098  0.90929743  0.14112001 -0.7568025  -0.95892427]\n"
     ]
    }
   ],
   "source": [
    "print(sin(arr))"
   ]
  },
  {
   "cell_type": "code",
   "execution_count": 105,
   "id": "70ff2124",
   "metadata": {},
   "outputs": [
    {
     "name": "stdout",
     "output_type": "stream",
     "text": [
      "[ 0.54030231 -0.41614684 -0.9899925  -0.65364362  0.28366219]\n"
     ]
    }
   ],
   "source": [
    "print(cos(arr))"
   ]
  },
  {
   "cell_type": "code",
   "execution_count": 106,
   "id": "efbf00ab",
   "metadata": {},
   "outputs": [
    {
     "name": "stdout",
     "output_type": "stream",
     "text": [
      "[0.         0.69314718 1.09861229 1.38629436 1.60943791]\n"
     ]
    }
   ],
   "source": [
    "print(log(arr))"
   ]
  },
  {
   "cell_type": "code",
   "execution_count": 107,
   "id": "251afe8b",
   "metadata": {},
   "outputs": [
    {
     "data": {
      "text/plain": [
       "array([1, 2, 3, 4, 5])"
      ]
     },
     "execution_count": 107,
     "metadata": {},
     "output_type": "execute_result"
    }
   ],
   "source": [
    "arr"
   ]
  },
  {
   "cell_type": "code",
   "execution_count": 108,
   "id": "d038577b",
   "metadata": {},
   "outputs": [
    {
     "name": "stdout",
     "output_type": "stream",
     "text": [
      "[1.         1.41421356 1.73205081 2.         2.23606798]\n"
     ]
    }
   ],
   "source": [
    "print(sqrt(arr))"
   ]
  },
  {
   "cell_type": "code",
   "execution_count": 109,
   "id": "5c7f987e",
   "metadata": {},
   "outputs": [
    {
     "name": "stdout",
     "output_type": "stream",
     "text": [
      "15\n"
     ]
    }
   ],
   "source": [
    "print(sum(arr))"
   ]
  },
  {
   "cell_type": "code",
   "execution_count": 110,
   "id": "a062f2c3",
   "metadata": {},
   "outputs": [
    {
     "name": "stdout",
     "output_type": "stream",
     "text": [
      "1\n"
     ]
    }
   ],
   "source": [
    "print(min(arr))"
   ]
  },
  {
   "cell_type": "code",
   "execution_count": 111,
   "id": "e0e86d61",
   "metadata": {},
   "outputs": [
    {
     "name": "stdout",
     "output_type": "stream",
     "text": [
      "5\n"
     ]
    }
   ],
   "source": [
    "print(max(arr))"
   ]
  },
  {
   "cell_type": "code",
   "execution_count": 112,
   "id": "2817c05a",
   "metadata": {},
   "outputs": [
    {
     "data": {
      "text/plain": [
       "array([1, 2, 3, 4, 5])"
      ]
     },
     "execution_count": 112,
     "metadata": {},
     "output_type": "execute_result"
    }
   ],
   "source": [
    "arr1"
   ]
  },
  {
   "cell_type": "code",
   "execution_count": 113,
   "id": "00b49c20",
   "metadata": {},
   "outputs": [
    {
     "data": {
      "text/plain": [
       "array([ 6,  7,  8,  9, 10])"
      ]
     },
     "execution_count": 113,
     "metadata": {},
     "output_type": "execute_result"
    }
   ],
   "source": [
    "arr2"
   ]
  },
  {
   "cell_type": "code",
   "execution_count": 117,
   "id": "93ac018a",
   "metadata": {},
   "outputs": [
    {
     "name": "stdout",
     "output_type": "stream",
     "text": [
      "[ 1  2  3  4  5  6  7  8  9 10]\n"
     ]
    }
   ],
   "source": [
    "print(concatenate([arr1,arr2]))"
   ]
  },
  {
   "cell_type": "code",
   "execution_count": 125,
   "id": "fd639985",
   "metadata": {},
   "outputs": [],
   "source": [
    "arr3 = ([2,4,6,8,10])"
   ]
  },
  {
   "cell_type": "code",
   "execution_count": 126,
   "id": "dde9743c",
   "metadata": {},
   "outputs": [],
   "source": [
    "arr4 = ([1,3,5,7,9])"
   ]
  },
  {
   "cell_type": "code",
   "execution_count": 127,
   "id": "3257e75f",
   "metadata": {},
   "outputs": [
    {
     "data": {
      "text/plain": [
       "[1, 3, 5, 7, 9]"
      ]
     },
     "execution_count": 127,
     "metadata": {},
     "output_type": "execute_result"
    }
   ],
   "source": [
    "arr4"
   ]
  },
  {
   "cell_type": "code",
   "execution_count": 128,
   "id": "c5744ed2",
   "metadata": {},
   "outputs": [
    {
     "data": {
      "text/plain": [
       "[2, 4, 6, 8, 10]"
      ]
     },
     "execution_count": 128,
     "metadata": {},
     "output_type": "execute_result"
    }
   ],
   "source": [
    "arr3"
   ]
  },
  {
   "cell_type": "code",
   "execution_count": 129,
   "id": "f2200632",
   "metadata": {},
   "outputs": [],
   "source": [
    "arr3 = arr4"
   ]
  },
  {
   "cell_type": "code",
   "execution_count": 131,
   "id": "deb2f364",
   "metadata": {},
   "outputs": [
    {
     "name": "stdout",
     "output_type": "stream",
     "text": [
      "[1, 3, 5, 7, 9]\n",
      "[1, 3, 5, 7, 9]\n"
     ]
    }
   ],
   "source": [
    "print(arr4)\n",
    "print(arr3)"
   ]
  },
  {
   "cell_type": "code",
   "execution_count": 133,
   "id": "768bd69d",
   "metadata": {},
   "outputs": [
    {
     "name": "stdout",
     "output_type": "stream",
     "text": [
      "2725507737984\n",
      "2725507737984\n"
     ]
    }
   ],
   "source": [
    "print(id(arr4))\n",
    "print(id(arr3))\n"
   ]
  },
  {
   "cell_type": "markdown",
   "id": "ea8a75a7",
   "metadata": {},
   "source": [
    "##### this also called alising\n",
    "In Python, aliasing happens whenever one variable's value is assigned to another variable, because variables are just names that store references to values."
   ]
  },
  {
   "cell_type": "code",
   "execution_count": null,
   "id": "a6615ed7",
   "metadata": {},
   "outputs": [],
   "source": []
  },
  {
   "cell_type": "code",
   "execution_count": 152,
   "id": "c52135b5",
   "metadata": {},
   "outputs": [],
   "source": [
    "arr5 = array([6,5,4,3])"
   ]
  },
  {
   "cell_type": "code",
   "execution_count": 153,
   "id": "33da2462",
   "metadata": {},
   "outputs": [],
   "source": [
    "arr7 = arr5.view()\n"
   ]
  },
  {
   "cell_type": "code",
   "execution_count": 156,
   "id": "216ab17c",
   "metadata": {},
   "outputs": [],
   "source": [
    "arr5[1] = 7"
   ]
  },
  {
   "cell_type": "code",
   "execution_count": 157,
   "id": "fef41076",
   "metadata": {
    "scrolled": true
   },
   "outputs": [
    {
     "name": "stdout",
     "output_type": "stream",
     "text": [
      "[6 7 4 3]\n",
      "[6 7 4 3]\n",
      "2725507708272\n",
      "2725507707888\n"
     ]
    }
   ],
   "source": [
    "print(arr5)\n",
    "print(arr7)\n",
    "print(id(arr5))\n",
    "print(id(arr7))"
   ]
  },
  {
   "cell_type": "markdown",
   "id": "d3fa42c0",
   "metadata": {},
   "source": [
    "### Two types of copy \n",
    " 1): shallow copy: changes both values and adress (e.g: view())\n",
    " 2): Deep copy:chandes one value but both adress  (e.g: copy())\n",
    "  simple copy:    arr1 = arr2 (alising)\n",
    "    "
   ]
  },
  {
   "cell_type": "markdown",
   "id": "bf9fd0f1",
   "metadata": {},
   "source": [
    "##### 1): shallow copy: \n",
    "A shallow copy means constructing a new collection object and then populating it with references to the child objects found in the original. The copying process does not recurse and therefore won't create copies of the child objects themselves. In case of shallow copy, a reference of object is copied in other object."
   ]
  },
  {
   "cell_type": "markdown",
   "id": "9401213f",
   "metadata": {},
   "source": [
    "### 2): Deep copy:\n",
    "Deep copy is a process in which the copying process occurs recursively. It means first constructing a new collection object and then recursively populating it with copies of the child objects found in the original. In case of deep copy, a copy of object is copied in other object."
   ]
  },
  {
   "cell_type": "code",
   "execution_count": 161,
   "id": "cffb9fa1",
   "metadata": {},
   "outputs": [],
   "source": [
    "arr5 = array([6,5,4,3])"
   ]
  },
  {
   "cell_type": "code",
   "execution_count": 162,
   "id": "fc674423",
   "metadata": {},
   "outputs": [],
   "source": [
    "arr7 = arr5.copy()"
   ]
  },
  {
   "cell_type": "code",
   "execution_count": 163,
   "id": "58903dc3",
   "metadata": {},
   "outputs": [],
   "source": [
    "arr5[1] = 7"
   ]
  },
  {
   "cell_type": "code",
   "execution_count": 164,
   "id": "ac07585e",
   "metadata": {},
   "outputs": [
    {
     "name": "stdout",
     "output_type": "stream",
     "text": [
      "[6 7 4 3]\n",
      "[6 5 4 3]\n",
      "2725507917936\n",
      "2725507918608\n"
     ]
    }
   ],
   "source": [
    "print(arr5)\n",
    "print(arr7)\n",
    "print(id(arr5))\n",
    "print(id(arr7))"
   ]
  },
  {
   "cell_type": "code",
   "execution_count": 165,
   "id": "af67dc92",
   "metadata": {},
   "outputs": [],
   "source": [
    "#END"
   ]
  },
  {
   "cell_type": "code",
   "execution_count": null,
   "id": "c8cd0e43",
   "metadata": {},
   "outputs": [],
   "source": []
  }
 ],
 "metadata": {
  "kernelspec": {
   "display_name": "Python 3",
   "language": "python",
   "name": "python3"
  },
  "language_info": {
   "codemirror_mode": {
    "name": "ipython",
    "version": 3
   },
   "file_extension": ".py",
   "mimetype": "text/x-python",
   "name": "python",
   "nbconvert_exporter": "python",
   "pygments_lexer": "ipython3",
   "version": "3.8.8"
  }
 },
 "nbformat": 4,
 "nbformat_minor": 5
}
