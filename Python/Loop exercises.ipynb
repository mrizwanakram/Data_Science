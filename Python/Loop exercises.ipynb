{
 "cells": [
  {
   "cell_type": "markdown",
   "id": "7da29f32",
   "metadata": {},
   "source": [
    "### Q1"
   ]
  },
  {
   "cell_type": "markdown",
   "id": "42583cdc",
   "metadata": {},
   "source": [
    "### Write a Python program to find those numbers which are divisible by 7 and multiples of 5, between 1500 and 2700 (both included)."
   ]
  },
  {
   "cell_type": "code",
   "execution_count": 2,
   "id": "6fc94bce",
   "metadata": {},
   "outputs": [
    {
     "name": "stdout",
     "output_type": "stream",
     "text": [
      "[1505, 1540, 1575, 1610, 1645, 1680, 1715, 1750, 1785, 1820, 1855, 1890, 1925, 1960, 1995, 2030, 2065, 2100, 2135, 2170, 2205, 2240, 2275, 2310, 2345, 2380, 2415, 2450, 2485, 2520, 2555, 2590, 2625, 2660, 2695]\n",
      "35\n"
     ]
    }
   ],
   "source": [
    "lower_limit = 1500\n",
    "upper_limit = 2700\n",
    "outPut = []\n",
    "for i in range(lower_limit, upper_limit):\n",
    "    if i % 7 == 0 and i % 5 ==0:\n",
    "        outPut.append(i)\n",
    "print(outPut)\n",
    "print(len(outPut))"
   ]
  },
  {
   "cell_type": "code",
   "execution_count": 3,
   "id": "511b9724",
   "metadata": {},
   "outputs": [
    {
     "name": "stdout",
     "output_type": "stream",
     "text": [
      "1505, 1540, 1575, 1610, 1645, 1680, 1715, 1750, 1785, 1820, 1855, 1890, 1925, 1960, 1995, 2030, 2065, 2100, 2135, 2170, 2205, 2240, 2275, 2310, 2345, 2380, 2415, 2450, 2485, 2520, 2555, 2590, 2625, 2660, 2695\n"
     ]
    }
   ],
   "source": [
    "lower_limit = 1500\n",
    "upper_limit = 2700\n",
    "outPut = []\n",
    "for i in range(lower_limit, upper_limit):\n",
    "    if i % 7 == 0 and i % 5 ==0:\n",
    "        outPut.append(str(i))\n",
    "print(', '.join(outPut))"
   ]
  },
  {
   "cell_type": "markdown",
   "id": "8c20b587",
   "metadata": {},
   "source": [
    "### Q3"
   ]
  },
  {
   "cell_type": "markdown",
   "id": "767cccdb",
   "metadata": {},
   "source": [
    "### Write a Python program to guess a number between 1 and 9. Go to the editor\n",
    "Note : User is prompted to enter a guess. If the user guesses wrong then the prompt appears again until the guess is correct, on successful guess, user will get a \"Well guessed!\" message, and the program will exit."
   ]
  },
  {
   "cell_type": "code",
   "execution_count": null,
   "id": "6fa2c398",
   "metadata": {},
   "outputs": [
    {
     "name": "stdout",
     "output_type": "stream",
     "text": [
      "enter a number to check for guess : 4\n",
      "enter a number to check for guess : 3\n",
      "well Guess\n"
     ]
    }
   ],
   "source": [
    "import random\n",
    "target_num, guess_num = random.randint(1,10),0\n",
    "while target_num !=  guess_num:\n",
    "    guess_num = int(input(\"enter a number to check for guess : \"))\n",
    "print('well Guess')"
   ]
  },
  {
   "cell_type": "code",
   "execution_count": 16,
   "id": "53fc51ec",
   "metadata": {},
   "outputs": [
    {
     "name": "stdout",
     "output_type": "stream",
     "text": [
      "7\n"
     ]
    }
   ],
   "source": [
    "a = random.randint(0,10)\n",
    "print(a)"
   ]
  },
  {
   "cell_type": "code",
   "execution_count": 19,
   "id": "acaa1cdd",
   "metadata": {},
   "outputs": [
    {
     "name": "stdout",
     "output_type": "stream",
     "text": [
      "put number for guess : 1\n",
      "put number for guess : 2\n",
      "put number for guess : 3\n",
      "put number for guess : 4\n",
      "put number for guess : 5\n",
      "well guess\n"
     ]
    }
   ],
   "source": [
    "import random\n",
    "random_num, guess_num = random.randint(0,9),0\n",
    "while random_num != guess_num:\n",
    "    guess_num = int(input(\"put number for guess : \"))\n",
    "print(\"well guess\")"
   ]
  },
  {
   "cell_type": "markdown",
   "id": "5aa5aad2",
   "metadata": {},
   "source": [
    "### Q4"
   ]
  },
  {
   "cell_type": "markdown",
   "id": "5eb15f09",
   "metadata": {},
   "source": [
    "### Write a Python program to construct the following pattern, using a nested for loop.\n",
    "\n",
    "#### * \n",
    "#### * * \n",
    "#### * * * \n",
    "#### * * * * \n",
    "#### * * * * * \n",
    "#### * * * * \n",
    "#### * * * \n",
    "#### * * \n",
    "#### *"
   ]
  },
  {
   "cell_type": "code",
   "execution_count": null,
   "id": "ca0b16f8",
   "metadata": {},
   "outputs": [],
   "source": []
  },
  {
   "cell_type": "code",
   "execution_count": 74,
   "id": "c86b128f",
   "metadata": {},
   "outputs": [
    {
     "name": "stdout",
     "output_type": "stream",
     "text": [
      "\n",
      "*  \n",
      "*  *  \n",
      "*  *  *  \n",
      "*  *  *  *  \n",
      "*  *  *  *  *  \n",
      "*  *  *  *  \n",
      "*  *  *  \n",
      "*  *  \n",
      "*  \n"
     ]
    }
   ],
   "source": [
    "a = 5\n",
    "for i in range(a):\n",
    "    for j in range(i):\n",
    "        print('* ', end=' ')\n",
    "    print('')\n",
    "    \n",
    "for i in range(a, 0, -1):\n",
    "    for j in range(i):\n",
    "        print('* ', end=' ')\n",
    "    print('')"
   ]
  },
  {
   "cell_type": "markdown",
   "id": "b7661c22",
   "metadata": {},
   "source": [
    "### Q4"
   ]
  },
  {
   "cell_type": "markdown",
   "id": "1bacb7f7",
   "metadata": {},
   "source": [
    "### Write a Python program that accepts a word from the user and reverses it."
   ]
  },
  {
   "cell_type": "code",
   "execution_count": 96,
   "id": "19690453",
   "metadata": {},
   "outputs": [
    {
     "name": "stdout",
     "output_type": "stream",
     "text": [
      "dlrow olleh\n"
     ]
    }
   ],
   "source": [
    "\n",
    "def reverse_string(s):\n",
    "    reversed_s = \"\"\n",
    "    for i in range(len(s)-1, -1, -1):\n",
    "        reversed_s += s[i]\n",
    "    return reversed_s\n",
    "\n",
    "my_string = \"hello world\"\n",
    "reversed_string = reverse_string(my_string)\n",
    "print(reversed_string)"
   ]
  },
  {
   "cell_type": "code",
   "execution_count": 4,
   "id": "cefd013b",
   "metadata": {},
   "outputs": [
    {
     "name": "stdout",
     "output_type": "stream",
     "text": [
      "nawzir\n"
     ]
    }
   ],
   "source": [
    "def reverse_string(n):\n",
    "    reversed_string = \"\"\n",
    "    for i in range(len(n) -1, -1, -1):\n",
    "        reversed_string += n[i]\n",
    "    return reversed_string\n",
    "\n",
    "my_strint = input('put a string :')\n",
    "a = reverse_string(my_strint)\n",
    "print(a)"
   ]
  },
  {
   "cell_type": "markdown",
   "id": "03d43b67",
   "metadata": {},
   "source": [
    "### Q5"
   ]
  },
  {
   "cell_type": "markdown",
   "id": "5d5746df",
   "metadata": {},
   "source": [
    "### . Write a Python program to count the number of even and odd numbers in a series of numbers.\n",
    "Sample numbers : numbers = (1, 2, 3, 4, 5, 6, 7, 8, 9) \n",
    "Expected Output :\n",
    "Number of even numbers : 5\n",
    "Number of odd numbers : 4"
   ]
  },
  {
   "cell_type": "code",
   "execution_count": 23,
   "id": "a94279ff",
   "metadata": {},
   "outputs": [
    {
     "name": "stdout",
     "output_type": "stream",
     "text": [
      "(4, 5)\n"
     ]
    }
   ],
   "source": [
    "def count_e_o(numbers):\n",
    "    even = 0\n",
    "    odd = 0\n",
    "    for i in numbers:\n",
    "        if i % 2 == 0:\n",
    "            even += 1\n",
    "        else:\n",
    "            odd += 1\n",
    "    return (even, odd)\n",
    "numbers = (1, 2, 3, 4, 5, 6, 7, 8, 9)\n",
    "print(count_e_o(numbers))"
   ]
  },
  {
   "cell_type": "code",
   "execution_count": 2,
   "id": "1ef46485",
   "metadata": {},
   "outputs": [],
   "source": [
    "# help(list)"
   ]
  },
  {
   "cell_type": "markdown",
   "id": "89bf2bf4",
   "metadata": {},
   "source": [
    "### Q6"
   ]
  },
  {
   "cell_type": "markdown",
   "id": "d0bdd6e1",
   "metadata": {},
   "source": [
    "### Write a Python program that prints each item and its corresponding type from the following list.\n",
    "Sample List : datalist = [1452, 11.23, 1+2j, True, 'w3resource', (0, -1), [5, 12], {\"class\":'V', \"section\":'A'}]"
   ]
  },
  {
   "cell_type": "code",
   "execution_count": 112,
   "id": "0644c9e8",
   "metadata": {},
   "outputs": [
    {
     "name": "stdout",
     "output_type": "stream",
     "text": [
      "item is :  1452    and its type is :  <class 'int'>\n",
      "item is :  11.23    and its type is :  <class 'float'>\n",
      "item is :  (1+2j)    and its type is :  <class 'complex'>\n",
      "item is :  True    and its type is :  <class 'bool'>\n",
      "item is :  w3resource    and its type is :  <class 'str'>\n",
      "item is :  (0, -1)    and its type is :  <class 'tuple'>\n",
      "item is :  [5, 12]    and its type is :  <class 'list'>\n",
      "item is :  {'class': 'V', 'section': 'A'}    and its type is :  <class 'dict'>\n"
     ]
    }
   ],
   "source": [
    "datalist = [1452, 11.23, 1+2j, True, 'w3resource', (0, -1), [5, 12], {\"class\":'V', \"section\":'A'}]\n",
    "\n",
    "for i in datalist:\n",
    "    print('item is : ',i  , '   and its type is : ' ,type(i))"
   ]
  },
  {
   "cell_type": "code",
   "execution_count": null,
   "id": "9b66664e",
   "metadata": {},
   "outputs": [],
   "source": []
  },
  {
   "cell_type": "markdown",
   "id": "9f4091b5",
   "metadata": {},
   "source": [
    "### Q7"
   ]
  },
  {
   "cell_type": "markdown",
   "id": "96a0ef57",
   "metadata": {},
   "source": [
    "### Write a Python program that prints all the numbers from 0 to 6 except 3 and 6.\n",
    "Note : Use 'continue' statement.\n",
    "Expected Output : 0 1 2 4 5"
   ]
  },
  {
   "cell_type": "code",
   "execution_count": 2,
   "id": "05918162",
   "metadata": {},
   "outputs": [
    {
     "name": "stdout",
     "output_type": "stream",
     "text": [
      "0 1 2 4 5 "
     ]
    }
   ],
   "source": [
    "for i in range(6):\n",
    "    if i == 3 or i == 6:\n",
    "        continue\n",
    "    print(i, end=' ')"
   ]
  },
  {
   "cell_type": "code",
   "execution_count": null,
   "id": "1414352f",
   "metadata": {},
   "outputs": [],
   "source": []
  },
  {
   "cell_type": "markdown",
   "id": "8e027b05",
   "metadata": {},
   "source": [
    "### Q8"
   ]
  },
  {
   "cell_type": "markdown",
   "id": "a243114f",
   "metadata": {},
   "source": [
    "### Write a Python program to get the Fibonacci series between 0 and 50. Go to the editor\n",
    "Note : The Fibonacci Sequence is the series of numbers :\n",
    "0, 1, 1, 2, 3, 5, 8, 13, 21, ....\n",
    "Every next number is found by adding up the two numbers before it.\n",
    "Expected Output : 1 1 2 3 5 8 13 21 34"
   ]
  },
  {
   "cell_type": "code",
   "execution_count": 134,
   "id": "a7f703a3",
   "metadata": {},
   "outputs": [
    {
     "name": "stdout",
     "output_type": "stream",
     "text": [
      "1\n",
      "1\n",
      "2\n",
      "3\n",
      "5\n",
      "8\n",
      "13\n",
      "21\n",
      "34\n"
     ]
    }
   ],
   "source": [
    "a, b = 0,1\n",
    "while b < 50:\n",
    "    print(b)\n",
    "    a,b = b, a+b\n",
    "        "
   ]
  },
  {
   "cell_type": "code",
   "execution_count": 1,
   "id": "9dc86dfb",
   "metadata": {},
   "outputs": [
    {
     "name": "stdout",
     "output_type": "stream",
     "text": [
      "0\n",
      "1\n",
      "1\n",
      "2\n",
      "3\n",
      "5\n",
      "8\n",
      "13\n",
      "21\n",
      "34\n"
     ]
    }
   ],
   "source": [
    "n = 50\n",
    "a, b = 0, 1\n",
    "while a < n:\n",
    "    print(a)\n",
    "    a, b = b, a + b"
   ]
  },
  {
   "cell_type": "code",
   "execution_count": 9,
   "id": "2c21af63",
   "metadata": {},
   "outputs": [
    {
     "name": "stdout",
     "output_type": "stream",
     "text": [
      "12586269025\n"
     ]
    }
   ],
   "source": [
    "def fib_n(n):\n",
    "    a, b = 0, 1\n",
    "    for i in range(n-1):\n",
    "        a, b = b, a + b\n",
    "    return b\n",
    "\n",
    "print(fib_n(50))\n"
   ]
  },
  {
   "cell_type": "code",
   "execution_count": null,
   "id": "c314c56e",
   "metadata": {},
   "outputs": [],
   "source": []
  },
  {
   "cell_type": "code",
   "execution_count": null,
   "id": "6f9f94ce",
   "metadata": {},
   "outputs": [],
   "source": []
  },
  {
   "cell_type": "markdown",
   "id": "da919a1e",
   "metadata": {},
   "source": [
    "### Q9:"
   ]
  },
  {
   "cell_type": "markdown",
   "id": "2bd417ad",
   "metadata": {},
   "source": [
    "### Write a Python program that iterates the integers from 1 to 50. For multiples of three print \"Fizz\" instead of the number and for multiples of five print \"Buzz\". For numbers that are multiples of three and five, print \"FizzBuzz\".\n",
    "Sample Output :\n",
    "fizzbuzz\n",
    "1\n",
    "2\n",
    "fizz\n",
    "4\n",
    "buzz"
   ]
  },
  {
   "cell_type": "code",
   "execution_count": 192,
   "id": "afe0669c",
   "metadata": {},
   "outputs": [
    {
     "name": "stdout",
     "output_type": "stream",
     "text": [
      "FizzFuzz\n",
      "1\n",
      "2\n",
      "Fizz\n",
      "4\n",
      "Fuzz\n",
      "Fizz\n",
      "7\n",
      "8\n",
      "Fizz\n",
      "Fuzz\n",
      "11\n",
      "Fizz\n",
      "13\n",
      "14\n",
      "FizzFuzz\n",
      "16\n",
      "17\n",
      "Fizz\n",
      "19\n",
      "Fuzz\n",
      "Fizz\n",
      "22\n",
      "23\n",
      "Fizz\n",
      "Fuzz\n",
      "26\n",
      "Fizz\n",
      "28\n",
      "29\n",
      "FizzFuzz\n",
      "31\n",
      "32\n",
      "Fizz\n",
      "34\n",
      "Fuzz\n",
      "Fizz\n",
      "37\n",
      "38\n",
      "Fizz\n",
      "Fuzz\n",
      "41\n",
      "Fizz\n",
      "43\n",
      "44\n",
      "FizzFuzz\n",
      "46\n",
      "47\n",
      "Fizz\n",
      "49\n"
     ]
    }
   ],
   "source": [
    "for i in range(50):\n",
    "    \n",
    "    if i % 3 == 0 and i % 5 == 0:\n",
    "        print('FizzFuzz')\n",
    "        continue\n",
    "        \n",
    "    elif i % 5 == 0:\n",
    "        print('Fuzz')\n",
    "        continue\n",
    "    elif i % 3 == 0:\n",
    "        print('Fizz')\n",
    "        continue\n",
    "    print(i)"
   ]
  },
  {
   "cell_type": "markdown",
   "id": "502f54dd",
   "metadata": {},
   "source": [
    "### Q10:\n"
   ]
  },
  {
   "cell_type": "markdown",
   "id": "cdde279d",
   "metadata": {},
   "source": [
    "### Write a Python program that takes two digits m (row) and n (column) as input and generates a two-dimensional array. The element value in the i-th row and j-th column of the array should be i*j.\n",
    "Note :\n",
    "i = 0,1.., m-1\n",
    "j = 0,1, n-1."
   ]
  },
  {
   "cell_type": "code",
   "execution_count": 199,
   "id": "a610b24e",
   "metadata": {},
   "outputs": [
    {
     "name": "stdout",
     "output_type": "stream",
     "text": [
      "[[0, 0, 0], [0, 1, 2], [0, 2, 4], [0, 3, 6], [0, 4, 8]]\n"
     ]
    }
   ],
   "source": [
    "def row_and_col(m,n):\n",
    "    array = []\n",
    "    for i in range(m):\n",
    "        row = []\n",
    "        for j in range(n):\n",
    "            row.append(i * j)\n",
    "        array.append(row)\n",
    "    return array\n",
    "print(row_and_col(5,3))"
   ]
  },
  {
   "cell_type": "code",
   "execution_count": null,
   "id": "38b3c582",
   "metadata": {},
   "outputs": [],
   "source": []
  },
  {
   "cell_type": "markdown",
   "id": "15c6980b",
   "metadata": {},
   "source": [
    "### Q11"
   ]
  },
  {
   "cell_type": "markdown",
   "id": "1b22651b",
   "metadata": {},
   "source": [
    "### Write a Python program that accepts a sequence of lines (blank line to terminate) as input and prints the lines as output (all characters in lower case).\n",
    "\n"
   ]
  },
  {
   "cell_type": "code",
   "execution_count": 3,
   "id": "f4c2b7c9",
   "metadata": {},
   "outputs": [
    {
     "name": "stdout",
     "output_type": "stream",
     "text": [
      "stwutyu       \n",
      "STWUTYU\n",
      "hjgj\n",
      "HJGJ\n",
      "\n"
     ]
    }
   ],
   "source": [
    "while True:\n",
    "    line = input().strip()  # Read a line from user input and remove leading/trailing whitespace\n",
    "    if not line:  # Exit loop if line is empty\n",
    "        break\n",
    "    print(line.upper())  # Print line in lower case\n"
   ]
  },
  {
   "cell_type": "markdown",
   "id": "d61688a4",
   "metadata": {},
   "source": [
    "### Q12"
   ]
  },
  {
   "cell_type": "markdown",
   "id": "f2284434",
   "metadata": {},
   "source": [
    "### Write a Python program that accepts a string and calculates the number of digits and letters. Go to the editor\n",
    "Sample Data : Python 3.2\n",
    "Expected Output :\n",
    "Letters 6\n",
    "Digits 2"
   ]
  },
  {
   "cell_type": "code",
   "execution_count": 225,
   "id": "772e5e56",
   "metadata": {},
   "outputs": [
    {
     "name": "stdout",
     "output_type": "stream",
     "text": [
      "(3, 4)\n"
     ]
    }
   ],
   "source": [
    "def count_d_s(ls):\n",
    "    digit = 0\n",
    "    num = 0\n",
    "    for i in ls:\n",
    "        if i.isdigit():\n",
    "            digit += 1\n",
    "        elif i.isalpha():\n",
    "            num += 1\n",
    "    return digit,num\n",
    "print(count_d_s('sdsd432'))"
   ]
  },
  {
   "cell_type": "code",
   "execution_count": null,
   "id": "a6c3e67a",
   "metadata": {},
   "outputs": [],
   "source": []
  },
  {
   "cell_type": "markdown",
   "id": "03cac705",
   "metadata": {},
   "source": [
    "### Q14"
   ]
  },
  {
   "cell_type": "markdown",
   "id": "aedb8f38",
   "metadata": {},
   "source": [
    "### Write a Python program to check the validity of passwords input by users.\n",
    "Validation :\n",
    "\n",
    "#### At least 1 letter between [a-z] and 1 letter between [A-Z].\n",
    "#### At least 1 number between [0-9].\n",
    "#### At least 1 character from [$#@].\n",
    "\n",
    "### Minimum length 6 characters.\n",
    "#### Maximum length 16 characters."
   ]
  },
  {
   "cell_type": "code",
   "execution_count": 5,
   "id": "6e93e4f9",
   "metadata": {},
   "outputs": [
    {
     "name": "stdout",
     "output_type": "stream",
     "text": [
      "Enter password: ghkf#65A\n",
      "Password is valid.\n"
     ]
    }
   ],
   "source": [
    "# Get password from user input\n",
    "password = input(\"Enter password: \")\n",
    "\n",
    "# Define variables for criteria\n",
    "lower = False\n",
    "upper = False\n",
    "number = False\n",
    "special = False\n",
    "\n",
    "# Check password for criteria\n",
    "if len(password) >= 6 and len(password) <= 16:\n",
    "    for char in password:\n",
    "        if char.islower():\n",
    "            lower = True\n",
    "        elif char.isupper():\n",
    "            upper = True\n",
    "        elif char.isdigit():\n",
    "            number = True\n",
    "        elif char in ['$','#','@']:\n",
    "            special = True\n",
    "\n",
    "# Print result\n",
    "if lower and upper and number and special:\n",
    "    print(\"Password is valid.\")\n",
    "else:\n",
    "    print(\"Password is not valid.\")\n",
    "\n",
    "            \n",
    "            \n",
    "    "
   ]
  },
  {
   "cell_type": "code",
   "execution_count": null,
   "id": "1f293db1",
   "metadata": {},
   "outputs": [],
   "source": []
  },
  {
   "cell_type": "markdown",
   "id": "133d98ea",
   "metadata": {},
   "source": [
    "### Q15"
   ]
  },
  {
   "cell_type": "markdown",
   "id": "8487e67c",
   "metadata": {},
   "source": [
    "#### . Write a Python program to find numbers between 100 and 400 (both included) where each digit of a number is an even number. The numbers obtained should be printed in a comma-separated sequence."
   ]
  },
  {
   "cell_type": "code",
   "execution_count": 5,
   "id": "98a7f0a8",
   "metadata": {},
   "outputs": [
    {
     "name": "stdout",
     "output_type": "stream",
     "text": [
      "[100, 102, 104, 106, 108, 110, 112, 114, 116, 118, 120, 122, 124, 126, 128, 130, 132, 134, 136, 138, 140, 142, 144, 146, 148, 150, 152, 154, 156, 158, 160, 162, 164, 166, 168, 170, 172, 174, 176, 178, 180, 182, 184, 186, 188, 190, 192, 194, 196, 198, 200, 202, 204, 206, 208, 210, 212, 214, 216, 218, 220, 222, 224, 226, 228, 230, 232, 234, 236, 238, 240, 242, 244, 246, 248, 250, 252, 254, 256, 258, 260, 262, 264, 266, 268, 270, 272, 274, 276, 278, 280, 282, 284, 286, 288, 290, 292, 294, 296, 298, 300, 302, 304, 306, 308, 310, 312, 314, 316, 318, 320, 322, 324, 326, 328, 330, 332, 334, 336, 338, 340, 342, 344, 346, 348, 350, 352, 354, 356, 358, 360, 362, 364, 366, 368, 370, 372, 374, 376, 378, 380, 382, 384, 386, 388, 390, 392, 394, 396, 398, 400]\n"
     ]
    }
   ],
   "source": [
    "lower_limit = 100\n",
    "upper_limit = 400\n",
    "even_num_str = []\n",
    "for i in range(lower_limit, upper_limit + 1):\n",
    "    if i % 2 == 0:\n",
    "        even_num_str.append(i) \n",
    "print(even_num_str)"
   ]
  },
  {
   "cell_type": "code",
   "execution_count": null,
   "id": "a5b4771c",
   "metadata": {},
   "outputs": [],
   "source": []
  },
  {
   "cell_type": "markdown",
   "id": "6ff45ecf",
   "metadata": {},
   "source": [
    "### Exercise 1: Print First 10 natural numbers using while loop\n",
    "\n",
    "Expected output:\n",
    "\n",
    "1\n",
    "2\n",
    "3\n",
    "4\n",
    "5\n",
    "6\n",
    "7\n",
    "8\n",
    "9\n",
    "10"
   ]
  },
  {
   "cell_type": "code",
   "execution_count": 3,
   "id": "2fcdbb81",
   "metadata": {},
   "outputs": [
    {
     "name": "stdout",
     "output_type": "stream",
     "text": [
      "1\n",
      "2\n",
      "3\n",
      "4\n",
      "5\n",
      "6\n",
      "7\n",
      "8\n",
      "9\n",
      "10\n"
     ]
    }
   ],
   "source": [
    "i = 1\n",
    "while i < 11:\n",
    "    print(i)\n",
    "    i = i +1"
   ]
  },
  {
   "cell_type": "code",
   "execution_count": null,
   "id": "d5deca90",
   "metadata": {},
   "outputs": [],
   "source": []
  },
  {
   "cell_type": "markdown",
   "id": "8c79d655",
   "metadata": {},
   "source": [
    "### Exercise 2: Print the following pattern\n",
    "Write a program to print the following number pattern using a loop.\n",
    "\n",
    "1 \n",
    "\n",
    "1 2 \n",
    "\n",
    "1 2 3 \n",
    "\n",
    "1 2 3 4 \n",
    "\n",
    "1 2 3 4 5"
   ]
  },
  {
   "cell_type": "code",
   "execution_count": 7,
   "id": "03469f93",
   "metadata": {},
   "outputs": [
    {
     "name": "stdout",
     "output_type": "stream",
     "text": [
      "Number Pattern \n",
      "1 \n",
      "1 2 \n",
      "1 2 3 \n",
      "1 2 3 4 \n",
      "1 2 3 4 5 \n"
     ]
    }
   ],
   "source": [
    "\n",
    "print(\"Number Pattern \")\n",
    "\n",
    "# Decide the row count. (above pattern contains 5 rows)\n",
    "row = 5\n",
    "# start: 1\n",
    "# stop: row+1 (range never include stop number in result)\n",
    "# step: 1\n",
    "# run loop 5 times\n",
    "for i in range(1, row + 1, 1):\n",
    "    # Run inner loop i+1 times\n",
    "    for j in range(1, i + 1):\n",
    "        print(j, end=' ')\n",
    "    # empty line after each row\n",
    "    print(\"\")\n"
   ]
  },
  {
   "cell_type": "code",
   "execution_count": null,
   "id": "015a9343",
   "metadata": {},
   "outputs": [],
   "source": []
  },
  {
   "cell_type": "markdown",
   "id": "47d24d45",
   "metadata": {},
   "source": [
    "### Exercise 3: Calculate the sum of all numbers from 1 to a given number\n",
    "Write a program to accept a number from a user and calculate the sum of all numbers from 1 to a given number\n",
    "\n",
    "For example, if the user entered 10 the output should be 55 (1+2+3+4+5+6+7+8+9+10)\n",
    "\n",
    "Expected Output:\n",
    "\n",
    "Enter number 10\n",
    "\n",
    "Sum is:  55\n"
   ]
  },
  {
   "cell_type": "code",
   "execution_count": 15,
   "id": "8bf0a11f",
   "metadata": {},
   "outputs": [
    {
     "name": "stdout",
     "output_type": "stream",
     "text": [
      "put your num : 9\n",
      "Sum is: 45\n"
     ]
    }
   ],
   "source": [
    "n = int(input(\"put your num : \"))\n",
    "x = sum(range(1, n + 1))\n",
    "print('Sum is:', x)"
   ]
  },
  {
   "cell_type": "code",
   "execution_count": null,
   "id": "c33b3f71",
   "metadata": {},
   "outputs": [],
   "source": []
  },
  {
   "cell_type": "markdown",
   "id": "89adf4bd",
   "metadata": {},
   "source": [
    "### Exercise 4: Write a program to print multiplication table of a given number\n",
    "For example, num = 2 so the output should be"
   ]
  },
  {
   "cell_type": "code",
   "execution_count": 17,
   "id": "bf0c2f94",
   "metadata": {},
   "outputs": [
    {
     "name": "stdout",
     "output_type": "stream",
     "text": [
      "put number for table : 2\n",
      "0\n",
      "2\n",
      "4\n",
      "6\n",
      "8\n",
      "10\n",
      "12\n",
      "14\n",
      "16\n",
      "18\n",
      "20\n"
     ]
    }
   ],
   "source": [
    "table_num = int(input(\"put number for table : \"))\n",
    "for i in range(11):\n",
    "    print(table_num * i)"
   ]
  },
  {
   "cell_type": "code",
   "execution_count": 18,
   "id": "8d784bcc",
   "metadata": {},
   "outputs": [
    {
     "name": "stdout",
     "output_type": "stream",
     "text": [
      "2\n",
      "4\n",
      "6\n",
      "8\n",
      "10\n",
      "12\n",
      "14\n",
      "16\n",
      "18\n",
      "20\n"
     ]
    }
   ],
   "source": [
    "n = 2\n",
    "# stop: 11 (because range never include stop number in result)\n",
    "# run loop 10 times\n",
    "for i in range(1, 11, 1):\n",
    "    # 2 *i (current number)\n",
    "    product = n * i\n",
    "    print(product)\n"
   ]
  },
  {
   "cell_type": "code",
   "execution_count": null,
   "id": "809fc338",
   "metadata": {},
   "outputs": [],
   "source": []
  },
  {
   "cell_type": "markdown",
   "id": "8647ea5d",
   "metadata": {},
   "source": [
    "### Exercise 5: Display numbers from a list using loop\n",
    "\n",
    "Write a program to display only those numbers from a list that satisfy the following conditions\n",
    "\n",
    "The number must be divisible by five\n",
    "\n",
    "If the number is greater than 150, then skip it and move to the next number\n",
    "\n",
    "If the number is greater than 500, then stop the loop\n",
    "\n",
    "Given:\n",
    "\n",
    "numbers = [12, 75, 150, 180, 145, 525, 50]\n",
    "\n",
    "Expected output:\n",
    "\n",
    "75\n",
    "\n",
    "150\n",
    "\n",
    "145"
   ]
  },
  {
   "cell_type": "code",
   "execution_count": 3,
   "id": "0b7008f9",
   "metadata": {},
   "outputs": [
    {
     "name": "stdout",
     "output_type": "stream",
     "text": [
      "75\n",
      "150\n",
      "145\n"
     ]
    }
   ],
   "source": [
    "numbers = [12, 75, 150, 180, 145, 525, 50]\n",
    "# iterate each item of a list\n",
    "for i in numbers:\n",
    "    if i > 500:\n",
    "        break\n",
    "    elif i > 150:\n",
    "        continue\n",
    "    # check if number is divisible by 5\n",
    "    elif i % 5 == 0:\n",
    "        print(i)\n"
   ]
  },
  {
   "cell_type": "markdown",
   "id": "dc5e4e73",
   "metadata": {},
   "source": [
    "### Write a program to count the total number of digits in a number using a while loop.\n",
    "For example, the number is 75869, so the output should be 5."
   ]
  },
  {
   "cell_type": "code",
   "execution_count": 2,
   "id": "74eb3d0a",
   "metadata": {},
   "outputs": [
    {
     "name": "stdout",
     "output_type": "stream",
     "text": [
      "1\n",
      "2\n",
      "3\n",
      "4\n",
      "5\n"
     ]
    }
   ],
   "source": [
    "number = 43254\n",
    "count = 0\n",
    "while number != 0:\n",
    "    number = number // 10\n",
    "    count +=1\n",
    "    print(count)"
   ]
  },
  {
   "cell_type": "code",
   "execution_count": null,
   "id": "02dc4a58",
   "metadata": {},
   "outputs": [],
   "source": []
  },
  {
   "cell_type": "markdown",
   "id": "ed28c7de",
   "metadata": {},
   "source": [
    "### Exercise 7: Print the following pattern\n",
    "Write a program to use for loop to print the following reverse number pattern\n",
    "\n",
    "5 4 3 2 1 \n",
    "\n",
    "4 3 2 1 \n",
    "\n",
    "3 2 1 \n",
    "\n",
    "2 1 \n",
    "\n",
    "1"
   ]
  },
  {
   "cell_type": "code",
   "execution_count": 4,
   "id": "5dab833b",
   "metadata": {},
   "outputs": [
    {
     "name": "stdout",
     "output_type": "stream",
     "text": [
      "\n",
      "\n",
      "\n",
      "\n",
      "\n",
      "\n"
     ]
    }
   ],
   "source": [
    "n = 5\n",
    "k = 5\n",
    "for i in range(0,n+1):\n",
    "    for j in range(k-i,0, 1):\n",
    "        print(j,end=' ')\n",
    "    print()"
   ]
  },
  {
   "cell_type": "markdown",
   "id": "0f393bef",
   "metadata": {},
   "source": [
    "#### Exercise 8: Print list in reverse order using a loop\n",
    "Given:\n",
    "list1 = [10, 20, 30, 40, 50]\n",
    "\n",
    "Expected output:\n",
    "\n",
    "50\n",
    "40\n",
    "30\n",
    "20\n",
    "10"
   ]
  },
  {
   "cell_type": "code",
   "execution_count": 12,
   "id": "b7b1baa7",
   "metadata": {},
   "outputs": [
    {
     "name": "stdout",
     "output_type": "stream",
     "text": [
      "50\n",
      "40\n",
      "30\n",
      "20\n",
      "10\n"
     ]
    }
   ],
   "source": [
    "list1 = [10, 20, 30, 40, 50] \n",
    "size = len(list1) - 1\n",
    "for i in range(size, -1 ,-1):\n",
    "    print(list1[i])\n",
    "    "
   ]
  },
  {
   "cell_type": "code",
   "execution_count": null,
   "id": "e9b90fde",
   "metadata": {},
   "outputs": [],
   "source": []
  },
  {
   "cell_type": "code",
   "execution_count": 13,
   "id": "85af7932",
   "metadata": {},
   "outputs": [
    {
     "name": "stdout",
     "output_type": "stream",
     "text": [
      "50\n",
      "40\n",
      "30\n",
      "20\n",
      "10\n"
     ]
    }
   ],
   "source": [
    "list1 = [10, 20, 30, 40, 50]\n",
    "# reverse list\n",
    "new_list = reversed(list1)\n",
    "# iterate reversed list\n",
    "for item in new_list:\n",
    "    print(item)\n"
   ]
  },
  {
   "cell_type": "markdown",
   "id": "043184bd",
   "metadata": {},
   "source": [
    "### Exercise 9: Display numbers from -10 to -1 using for loop\n",
    "Expected output:\n",
    "\n",
    "-10\n",
    "\n",
    "-9\n",
    "\n",
    "-8\n",
    "\n",
    "-7\n",
    "\n",
    "-6\n",
    "\n",
    "-5\n",
    "\n",
    "-4\n",
    "\n",
    "-3\n",
    "\n",
    "-2\n",
    "\n",
    "-1"
   ]
  },
  {
   "cell_type": "code",
   "execution_count": 3,
   "id": "a93086ce",
   "metadata": {},
   "outputs": [
    {
     "name": "stdout",
     "output_type": "stream",
     "text": [
      "-10\n",
      "-9\n",
      "-8\n",
      "-7\n",
      "-6\n",
      "-5\n",
      "-4\n",
      "-3\n",
      "-2\n",
      "-1\n"
     ]
    }
   ],
   "source": [
    "for i in range(-10, 0):\n",
    "    print(i)"
   ]
  },
  {
   "cell_type": "markdown",
   "id": "e0798245",
   "metadata": {},
   "source": [
    "### Exercise 10: Use else block to display a message “Done” after successful execution of for loop\n",
    "For example, the following loop will execute without any error.\n",
    "\n",
    "Given:\n",
    "\n",
    "for i in range(5):\n",
    "\n",
    "    print(i)\n",
    "    \n",
    "Expected output:\n",
    "\n",
    "0\n",
    "\n",
    "1\n",
    "\n",
    "2\n",
    "\n",
    "3\n",
    "\n",
    "4\n",
    "\n",
    "Done!"
   ]
  },
  {
   "cell_type": "code",
   "execution_count": 27,
   "id": "1a1768ce",
   "metadata": {},
   "outputs": [
    {
     "name": "stdout",
     "output_type": "stream",
     "text": [
      "0\n",
      "1\n",
      "2\n",
      "3\n",
      "4\n",
      "Done!\n"
     ]
    }
   ],
   "source": [
    "for i in range(5):\n",
    "    print(i)\n",
    "else: \n",
    "    print(\"Done!\")"
   ]
  },
  {
   "cell_type": "code",
   "execution_count": null,
   "id": "abc096c3",
   "metadata": {},
   "outputs": [],
   "source": []
  },
  {
   "cell_type": "markdown",
   "id": "c4292095",
   "metadata": {},
   "source": [
    "### Exercise 11: Write a program to display all prime numbers within a range\n",
    "Note: A Prime Number is a number that cannot be made by multiplying other whole numbers. A prime number is a natural number greater than 1 that is not a product of two smaller natural numbers\n",
    "\n",
    "Examples:\n",
    "\n",
    "6 is not a prime mumber because it can be made by 2×3 = 6\n",
    "\n",
    "37 is a prime number because no other whole numbers multiply together to make it.\n",
    "\n",
    "Given:\n",
    "\n",
    "# range\n",
    "\n",
    "start = 25\n",
    "\n",
    "end = 50\n",
    "\n",
    "Expected output:\n",
    "\n",
    "Prime numbers between 25 and 50 are:\n",
    "\n",
    "29\n",
    "31\n",
    "37\n",
    "41\n",
    "43\n",
    "47"
   ]
  },
  {
   "cell_type": "code",
   "execution_count": 33,
   "id": "64a9792a",
   "metadata": {},
   "outputs": [
    {
     "name": "stdout",
     "output_type": "stream",
     "text": [
      "Prime numbers between 25 and 50 are:\n",
      "29\n",
      "31\n",
      "37\n",
      "41\n",
      "43\n",
      "47\n"
     ]
    }
   ],
   "source": [
    "start = 25\n",
    "end = 50\n",
    "print(\"Prime numbers between\", start, \"and\", end, \"are:\")\n",
    "\n",
    "for num in range(start, end + 1):\n",
    "    # all prime numbers are greater than 1\n",
    "    # if number is less than or equal to 1, it is not prime\n",
    "    if num > 1:\n",
    "        for i in range(2, num):\n",
    "            # check for factors\n",
    "            if (num % i) == 0:\n",
    "                # not a prime number so break inner loop and\n",
    "                # look for next number\n",
    "                break\n",
    "        else:\n",
    "            print(num)  "
   ]
  },
  {
   "cell_type": "code",
   "execution_count": null,
   "id": "21fd6716",
   "metadata": {},
   "outputs": [],
   "source": []
  },
  {
   "cell_type": "markdown",
   "id": "f07fce61",
   "metadata": {},
   "source": [
    "### Exercise 12: Display Fibonacci series up to 10 terms\n",
    "The Fibonacci Sequence is a series of numbers. The next number is found by adding up the two numbers before it. The first two numbers are 0 and 1.\n",
    "\n",
    "For example, 0, 1, 1, 2, 3, 5, 8, 13, 21. The next number in this series above is 13+21 = 34.\n",
    "\n",
    "Expected output:\n",
    "\n",
    "Fibonacci sequence:\n",
    "0  1  1  2  3  5  8  13  21  34"
   ]
  },
  {
   "cell_type": "code",
   "execution_count": 3,
   "id": "3d090742",
   "metadata": {},
   "outputs": [
    {
     "name": "stdout",
     "output_type": "stream",
     "text": [
      "0 1 1 2 3 5 8 13 21 34 "
     ]
    }
   ],
   "source": [
    "a , b = 0, 1\n",
    "for i in range(10):\n",
    "    print(a,end=' ')\n",
    "    c = a + b\n",
    "    a = b\n",
    "    b = c\n",
    "        "
   ]
  },
  {
   "cell_type": "code",
   "execution_count": 4,
   "id": "5055bb00",
   "metadata": {},
   "outputs": [
    {
     "name": "stdout",
     "output_type": "stream",
     "text": [
      "Fibonacci sequence:\n",
      "0  1  1  2  3  5  8  13  21  34  "
     ]
    }
   ],
   "source": [
    "# first two numbers\n",
    "num1, num2 = 0, 1\n",
    "\n",
    "print(\"Fibonacci sequence:\")\n",
    "# run loop 10 times\n",
    "for i in range(10):\n",
    "    # print next number of a series\n",
    "    print(num1, end=\"  \")\n",
    "    # add last two numbers to get next number\n",
    "    res = num1 + num2\n",
    "\n",
    "    # update values\n",
    "    num1 = num2\n",
    "    num2 = res\n"
   ]
  },
  {
   "cell_type": "code",
   "execution_count": null,
   "id": "bc9e8aa8",
   "metadata": {},
   "outputs": [],
   "source": []
  },
  {
   "cell_type": "markdown",
   "id": "7641cd0a",
   "metadata": {},
   "source": [
    "### Exercise 13: Find the factorial of a given number\n",
    "Write a program to use the loop to find the factorial of a given number.\n",
    "\n",
    "The factorial (symbol: !) means to multiply all whole numbers from the chosen number down to 1.\n",
    "\n",
    "For example: calculate the factorial of 5\n",
    "\n",
    "\n",
    "5! = 5 × 4 × 3 × 2 × 1 = 120\n",
    "Expected output:\n",
    "\n",
    "120"
   ]
  },
  {
   "cell_type": "code",
   "execution_count": 10,
   "id": "9c45cd86",
   "metadata": {},
   "outputs": [
    {
     "data": {
      "text/plain": [
       "120"
      ]
     },
     "execution_count": 10,
     "metadata": {},
     "output_type": "execute_result"
    }
   ],
   "source": [
    "def fact(n):\n",
    "    factorail = 1\n",
    "    for i in range(1, n + 1):\n",
    "        factorail = factorail * i\n",
    "    return factorail\n",
    "fact(5)"
   ]
  },
  {
   "cell_type": "code",
   "execution_count": null,
   "id": "2164231c",
   "metadata": {},
   "outputs": [],
   "source": [
    "def fact(n):\n",
    "    if n==0:\n",
    "        return 1\n",
    "    else:\n",
    "        print(n)\n",
    "        return fact(n-1)*(n)\n",
    "    \n",
    "fact(4)"
   ]
  },
  {
   "cell_type": "markdown",
   "id": "c976833e",
   "metadata": {},
   "source": [
    "### Exercise 15: Use a loop to display elements from a given list present at odd index positions\n",
    "\n",
    "Given:\n",
    "\n",
    "my_list = [10, 20, 30, 40, 50, 60, 70, 80, 90, 100]\n",
    "Note: list index always starts at 0\n",
    "\n",
    "Expected output:\n",
    "\n",
    "20 40 60 80 100"
   ]
  },
  {
   "cell_type": "code",
   "execution_count": 19,
   "id": "7f8c6e11",
   "metadata": {},
   "outputs": [
    {
     "name": "stdout",
     "output_type": "stream",
     "text": [
      "20\n",
      "40\n",
      "60\n",
      "80\n",
      "100\n"
     ]
    }
   ],
   "source": [
    "my_list = [10, 20, 30, 40, 50, 60, 70, 80, 90, 100]\n",
    "for i in my_list[1::2]:\n",
    "    print(i)\n",
    "    "
   ]
  },
  {
   "cell_type": "markdown",
   "id": "1da9705e",
   "metadata": {},
   "source": [
    "### Exercise 16: Calculate the cube of all numbers from 1 to a given number\n",
    "Write a program to rint the cube of all numbers from 1 to a given number\n",
    "\n",
    "Given:\n",
    "\n",
    "input_number = 6\n",
    "\n",
    "Expected output:\n",
    "\n",
    "Current Number is : 1  and the cube is 1\n",
    "\n",
    "Current Number is : 2  and the cube is 8\n",
    "\n",
    "Current Number is : 3  and the cube is 27\n",
    "\n",
    "Current Number is : 4  and the cube is 64\n",
    "\n",
    "Current Number is : 5  and the cube is 125\n",
    "\n",
    "Current Number is : 6  and the cube is 216"
   ]
  },
  {
   "cell_type": "code",
   "execution_count": 20,
   "id": "6a318e83",
   "metadata": {},
   "outputs": [
    {
     "name": "stdout",
     "output_type": "stream",
     "text": [
      "1\n",
      "8\n",
      "27\n",
      "64\n",
      "125\n",
      "216\n"
     ]
    }
   ],
   "source": [
    "n = 6\n",
    "for i in range(1,n+1):\n",
    "    a = i*i*i\n",
    "    print(a)\n",
    "    "
   ]
  },
  {
   "cell_type": "code",
   "execution_count": null,
   "id": "10001d39",
   "metadata": {},
   "outputs": [],
   "source": []
  },
  {
   "cell_type": "markdown",
   "id": "95a0087d",
   "metadata": {},
   "source": [
    "### Exercise 18: Print the following pattern\n",
    "Write a program to print the following start pattern using the for loop"
   ]
  },
  {
   "cell_type": "code",
   "execution_count": 7,
   "id": "2f23bd8c",
   "metadata": {},
   "outputs": [
    {
     "name": "stdout",
     "output_type": "stream",
     "text": [
      "* \n",
      "* * \n",
      "* * * \n",
      "* * * * \n",
      "* * * * * \n",
      "* * * * \n",
      "* * * \n",
      "* * \n",
      "* \n",
      "\n"
     ]
    }
   ],
   "source": [
    "rows = 5\n",
    "for i in range(0, rows):\n",
    "    for j in range(0, i + 1):\n",
    "        print(\"*\", end=' ')\n",
    "    print(\"\\r\")\n",
    "\n",
    "for i in range(rows, 0, -1):\n",
    "    for j in range(0, i - 1):\n",
    "        print(\"*\", end=' ')\n",
    "    print(\"\\r\")\n"
   ]
  },
  {
   "cell_type": "code",
   "execution_count": null,
   "id": "2a47b8c3",
   "metadata": {},
   "outputs": [],
   "source": []
  }
 ],
 "metadata": {
  "kernelspec": {
   "display_name": "Python 3",
   "language": "python",
   "name": "python3"
  },
  "language_info": {
   "codemirror_mode": {
    "name": "ipython",
    "version": 3
   },
   "file_extension": ".py",
   "mimetype": "text/x-python",
   "name": "python",
   "nbconvert_exporter": "python",
   "pygments_lexer": "ipython3",
   "version": "3.10.12"
  }
 },
 "nbformat": 4,
 "nbformat_minor": 5
}
