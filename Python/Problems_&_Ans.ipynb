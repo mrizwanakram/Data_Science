{
 "cells": [
  {
   "cell_type": "markdown",
   "id": "8ce1655e",
   "metadata": {},
   "source": [
    "### Q_NO_1"
   ]
  },
  {
   "cell_type": "markdown",
   "id": "16db7f32",
   "metadata": {},
   "source": [
    "### Write a program to reverse an integer in Python."
   ]
  },
  {
   "cell_type": "code",
   "execution_count": 1,
   "id": "3e4e4139",
   "metadata": {},
   "outputs": [
    {
     "data": {
      "text/plain": [
       "'4321'"
      ]
     },
     "execution_count": 1,
     "metadata": {},
     "output_type": "execute_result"
    }
   ],
   "source": [
    "a = '1234'\n",
    "a[::-1]"
   ]
  },
  {
   "cell_type": "markdown",
   "id": "7493d2a6",
   "metadata": {},
   "source": [
    "### Q_No_2"
   ]
  },
  {
   "cell_type": "markdown",
   "id": "1cec6f8a",
   "metadata": {},
   "source": [
    "### Write a Python Code to Check if a Number is Odd or Even."
   ]
  },
  {
   "cell_type": "code",
   "execution_count": 21,
   "id": "34a58c28",
   "metadata": {},
   "outputs": [
    {
     "name": "stdout",
     "output_type": "stream",
     "text": [
      "put number you want to check : 7\n",
      "odd\n"
     ]
    }
   ],
   "source": [
    "n = int(input('put number you want to check : '))\n",
    "if n % 2 == 0:\n",
    "    print(\"even\")\n",
    "else:\n",
    "    print('odd')\n",
    "\n",
    "\n"
   ]
  },
  {
   "cell_type": "markdown",
   "id": "0939b753",
   "metadata": {},
   "source": [
    "### Q_NO_3"
   ]
  },
  {
   "cell_type": "markdown",
   "id": "79da0c5d",
   "metadata": {},
   "source": [
    "### Write a Python code to find the maximum of two numbers."
   ]
  },
  {
   "cell_type": "code",
   "execution_count": 23,
   "id": "e817a80e",
   "metadata": {},
   "outputs": [
    {
     "name": "stdout",
     "output_type": "stream",
     "text": [
      "Put number 1: 5\n",
      "put number 2: 8\n",
      "8 is greater then 5\n"
     ]
    }
   ],
   "source": [
    "a = int(input('Put number 1: '))\n",
    "b = int(input('put number 2: '))\n",
    "\n",
    "if a > b:\n",
    "    print(a,'is greater then',b)\n",
    "else:\n",
    "    print(b, 'is greater then',a)"
   ]
  },
  {
   "cell_type": "markdown",
   "id": "55424d69",
   "metadata": {},
   "source": [
    "### Q_No_4"
   ]
  },
  {
   "cell_type": "markdown",
   "id": "ac1037bf",
   "metadata": {},
   "source": [
    "### Write a Python factorial program without using if-else, for, and ternary operators."
   ]
  },
  {
   "cell_type": "code",
   "execution_count": 2,
   "id": "036dad24",
   "metadata": {},
   "outputs": [
    {
     "name": "stdout",
     "output_type": "stream",
     "text": [
      "The factorial of 23 is 25852016738884976640000\n"
     ]
    }
   ],
   "source": [
    "def factorial(n):\n",
    "    return (n == 1) or (n * factorial(n-1))\n",
    "\n",
    "num = int(input(\"Enter a number: \"))\n",
    "result = factorial(num)\n",
    "\n",
    "print(\"The factorial of\", num, \"is\", result)\n"
   ]
  },
  {
   "cell_type": "code",
   "execution_count": null,
   "metadata": {},
   "outputs": [],
   "source": []
  },
  {
   "cell_type": "markdown",
   "id": "c4268d96",
   "metadata": {},
   "source": [
    "### Q_NO_6"
   ]
  },
  {
   "cell_type": "markdown",
   "id": "967940e7",
   "metadata": {},
   "source": [
    "### Write a Python code to calculate the square root of a given number."
   ]
  },
  {
   "cell_type": "code",
   "execution_count": 31,
   "id": "0e6ddffc",
   "metadata": {},
   "outputs": [
    {
     "name": "stdout",
     "output_type": "stream",
     "text": [
      "put number for sqare : 4\n"
     ]
    },
    {
     "data": {
      "text/plain": [
       "2.0"
      ]
     },
     "execution_count": 31,
     "metadata": {},
     "output_type": "execute_result"
    }
   ],
   "source": [
    "a = int(input('put number for sqare : '))\n",
    "b = a ** 0.5\n",
    "b"
   ]
  },
  {
   "cell_type": "code",
   "execution_count": 32,
   "id": "5ad7a505",
   "metadata": {},
   "outputs": [
    {
     "name": "stdout",
     "output_type": "stream",
     "text": [
      "Enter a number: 4\n",
      "The square root of 4.0 is 2.0\n"
     ]
    }
   ],
   "source": [
    "import math\n",
    "\n",
    "num = float(input(\"Enter a number: \"))\n",
    "sqrt = math.sqrt(num)\n",
    "\n",
    "print(\"The square root of\", num, \"is\", sqrt)\n"
   ]
  },
  {
   "cell_type": "markdown",
   "id": "b2fadf0c",
   "metadata": {},
   "source": [
    "### Q_NO_7"
   ]
  },
  {
   "cell_type": "markdown",
   "id": "4fdd962a",
   "metadata": {},
   "source": [
    "### Write a Python code to calculate the area of a triangle"
   ]
  },
  {
   "cell_type": "code",
   "execution_count": 38,
   "id": "a4b2154b",
   "metadata": {},
   "outputs": [
    {
     "name": "stdout",
     "output_type": "stream",
     "text": [
      "put traingle side a value : 3\n",
      "put traingle side b value : 4\n",
      "put traingle side c value : 5\n",
      "3.0\n"
     ]
    }
   ],
   "source": [
    "# ABC = (s(s*a)+(s*b)+(s*c))*0.5\n",
    "a = int(input('put traingle side a value : '))\n",
    "b = int(input('put traingle side b value : '))\n",
    "c = int(input('put traingle side c value : '))\n",
    "s = a + b + c\n",
    "p = s / 2\n",
    "t = p * 0.5\n",
    "print(t)"
   ]
  },
  {
   "cell_type": "code",
   "execution_count": 1,
   "id": "cdfcd482",
   "metadata": {},
   "outputs": [
    {
     "name": "stdout",
     "output_type": "stream",
     "text": [
      "Enter the base length of the triangle: 5\n",
      "Enter the height of the triangle: 4\n",
      "The area of the triangle is: 10.0\n"
     ]
    }
   ],
   "source": [
    "def calculate_triangle_area(base, height):\n",
    "    area = 0.5 * base * height\n",
    "    return area\n",
    "\n",
    "# Example usage:\n",
    "base = float(input(\"Enter the base length of the triangle: \"))\n",
    "height = float(input(\"Enter the height of the triangle: \"))\n",
    "\n",
    "triangle_area = calculate_triangle_area(base, height)\n",
    "print(\"The area of the triangle is:\", triangle_area)\n"
   ]
  },
  {
   "cell_type": "markdown",
   "id": "5b770a08",
   "metadata": {},
   "source": [
    "### Q_No_8"
   ]
  },
  {
   "cell_type": "markdown",
   "id": "3d9cb561",
   "metadata": {},
   "source": [
    "### Write a Python code to display a multiplication table using for loop."
   ]
  },
  {
   "cell_type": "code",
   "execution_count": 8,
   "id": "f9cd963d",
   "metadata": {},
   "outputs": [
    {
     "name": "stdout",
     "output_type": "stream",
     "text": [
      "Enter a number: 7\n",
      "Multiplication Table for 7:\n",
      "7 x 1 = 7\n",
      "7 x 2 = 14\n",
      "7 x 3 = 21\n",
      "7 x 4 = 28\n",
      "7 x 5 = 35\n",
      "7 x 6 = 42\n",
      "7 x 7 = 49\n",
      "7 x 8 = 56\n",
      "7 x 9 = 63\n",
      "7 x 10 = 70\n"
     ]
    }
   ],
   "source": [
    "num = int(input(\"Enter a number: \"))\n",
    "\n",
    "print(f\"Multiplication Table for {num}:\")\n",
    "for i in range(1, 11):\n",
    "    result = num * i\n",
    "    print(f\"{num} x {i} = {result}\")\n",
    "\n",
    "    "
   ]
  },
  {
   "cell_type": "code",
   "execution_count": 5,
   "id": "065a8cb1",
   "metadata": {},
   "outputs": [
    {
     "name": "stdout",
     "output_type": "stream",
     "text": [
      "put your list : fsdfds\n"
     ]
    }
   ],
   "source": [
    "a = list(input('put your list : ').split(','))"
   ]
  },
  {
   "cell_type": "code",
   "execution_count": null,
   "id": "17ea8d4b",
   "metadata": {},
   "outputs": [],
   "source": [
    "\n"
   ]
  },
  {
   "cell_type": "code",
   "execution_count": 48,
   "id": "663cbede",
   "metadata": {},
   "outputs": [
    {
     "name": "stdout",
     "output_type": "stream",
     "text": [
      "Enter comma-separated numbers: 2,3,4,5,6,-3,4,5,6,7,-8\n",
      "Negative values: [-3, -8]\n",
      "Even values: [2, 4, 6, 4, 6]\n",
      "Odd values: [3, 5, 5, 7]\n"
     ]
    }
   ],
   "source": [
    "# Function to separate negative values into one list and even/odd values into two separate lists\n",
    "def separate_values(input_list):\n",
    "    negative_values = []\n",
    "    even_values = []\n",
    "    odd_values = []\n",
    "    for num in input_list:\n",
    "        if num < 0:\n",
    "            negative_values.append(num)\n",
    "        elif num % 2 == 0:\n",
    "            even_values.append(num)\n",
    "        else:\n",
    "            odd_values.append(num)\n",
    "    return negative_values, even_values, odd_values\n",
    "\n",
    "# Get input from user and convert it to a list\n",
    "input_list = list(map(int, input(\"Enter comma-separated numbers: \").split(\",\")))\n",
    "\n",
    "# Call the separate_values function to separate the values\n",
    "negative_values, even_values, odd_values = separate_values(input_list)\n",
    "\n",
    "# Print the results\n",
    "print(\"Negative values:\", negative_values)\n",
    "print(\"Even values:\", even_values)\n",
    "print(\"Odd values:\", odd_values)\n"
   ]
  },
  {
   "cell_type": "code",
   "execution_count": null,
   "id": "13fc7139",
   "metadata": {},
   "outputs": [],
   "source": [
    "\n",
    "\n",
    "\n",
    "\n",
    "\n"
   ]
  },
  {
   "cell_type": "code",
   "execution_count": null,
   "id": "701b6dfc",
   "metadata": {},
   "outputs": [],
   "source": []
  },
  {
   "cell_type": "code",
   "execution_count": null,
   "id": "4e9aff3b",
   "metadata": {},
   "outputs": [],
   "source": []
  }
 ],
 "metadata": {
  "kernelspec": {
   "display_name": "Python 3",
   "language": "python",
   "name": "python3"
  },
  "language_info": {
   "codemirror_mode": {
    "name": "ipython",
    "version": 3
   },
   "file_extension": ".py",
   "mimetype": "text/x-python",
   "name": "python",
   "nbconvert_exporter": "python",
   "pygments_lexer": "ipython3",
   "version": "3.10.12"
  }
 },
 "nbformat": 4,
 "nbformat_minor": 5
}
