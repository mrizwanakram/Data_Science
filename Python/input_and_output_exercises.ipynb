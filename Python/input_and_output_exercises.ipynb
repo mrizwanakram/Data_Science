{
 "cells": [
  {
   "cell_type": "markdown",
   "id": "499e2153",
   "metadata": {},
   "source": [
    "### Exercise 1: Accept numbers from a user\n",
    "Write a program to accept two numbers from the user and calculate multiplication"
   ]
  },
  {
   "cell_type": "code",
   "execution_count": 1,
   "id": "c2d83065",
   "metadata": {},
   "outputs": [
    {
     "name": "stdout",
     "output_type": "stream",
     "text": [
      "our output is:  3\n"
     ]
    }
   ],
   "source": [
    "num1 = int(input(\"put your number 1 here : \"))\n",
    "num2 = int(input(\"put your number 2 here : \"))\n",
    "mul = num1 * num2 \n",
    "print(\"our output is: \",mul)"
   ]
  },
  {
   "cell_type": "code",
   "execution_count": null,
   "id": "31cc81d4",
   "metadata": {},
   "outputs": [],
   "source": []
  },
  {
   "cell_type": "markdown",
   "id": "7211eaf7",
   "metadata": {},
   "source": [
    "### Exercise 2: Display three string “Name”, “Is”, “James” as “Name**Is**James”\n",
    "Use the print() function to format the given words in the mentioned format. Display the ** separator between each string.\n",
    "\n",
    "Expected Output:\n",
    "\n",
    "For example: print('Name', 'Is', 'James') will display Name**Is**James"
   ]
  },
  {
   "cell_type": "code",
   "execution_count": 1,
   "id": "a1d7d54d",
   "metadata": {},
   "outputs": [],
   "source": [
    "#For example: print('Name', 'Is', 'James') will display Name**Is**James"
   ]
  },
  {
   "cell_type": "code",
   "execution_count": 4,
   "id": "689fc912",
   "metadata": {},
   "outputs": [
    {
     "name": "stdout",
     "output_type": "stream",
     "text": [
      "my**Name**Is**James\n"
     ]
    }
   ],
   "source": [
    "\n",
    "print('my', 'Name','Is','James', sep='**')"
   ]
  },
  {
   "cell_type": "code",
   "execution_count": null,
   "id": "c08606c7",
   "metadata": {},
   "outputs": [],
   "source": []
  },
  {
   "cell_type": "code",
   "execution_count": null,
   "id": "44ea6213",
   "metadata": {},
   "outputs": [],
   "source": []
  },
  {
   "cell_type": "markdown",
   "id": "2c196e72",
   "metadata": {},
   "source": [
    "### Exercise 4: Display float number with 2 decimal places using print()\n",
    "Given:\n",
    "\n",
    "num = 458.541315\n",
    "Expected Output:\n",
    "\n",
    "458.54"
   ]
  },
  {
   "cell_type": "code",
   "execution_count": 26,
   "id": "cec5b5a9",
   "metadata": {},
   "outputs": [
    {
     "name": "stdout",
     "output_type": "stream",
     "text": [
      "458.54\n"
     ]
    }
   ],
   "source": [
    "num = 458.541315\n",
    "print('%.2f' % num)"
   ]
  },
  {
   "cell_type": "code",
   "execution_count": 9,
   "id": "2415d10d",
   "metadata": {},
   "outputs": [
    {
     "name": "stdout",
     "output_type": "stream",
     "text": [
      "1\n"
     ]
    }
   ],
   "source": [
    "a = 5\n",
    "b = 2\n",
    "c = a % b\n",
    "print(c)"
   ]
  },
  {
   "cell_type": "markdown",
   "id": "d160a445",
   "metadata": {},
   "source": [
    "### Exercise 5: Accept a list of 5 float numbers as an input from the user\n",
    "\n",
    "Expected Output:\n",
    "\n",
    "[78.6, 78.6, 85.3, 1.2, 3.5]"
   ]
  },
  {
   "cell_type": "code",
   "execution_count": 5,
   "id": "05b9a26c",
   "metadata": {},
   "outputs": [
    {
     "name": "stdout",
     "output_type": "stream",
     "text": [
      "[45.6, 78.9, 99.9, 88.8, 78.8]\n"
     ]
    }
   ],
   "source": [
    "number = []\n",
    "for i in range(1,6):\n",
    "    item = float(input())\n",
    "    number.append(item)\n",
    "print(number)    "
   ]
  },
  {
   "cell_type": "code",
   "execution_count": null,
   "id": "46a9e47f",
   "metadata": {},
   "outputs": [],
   "source": []
  },
  {
   "cell_type": "markdown",
   "id": "5ce9b24c",
   "metadata": {},
   "source": [
    "### Exercise 6: Accept any three string from one input() call\n",
    "Write a program to take three names as input from a user in the single input() function call.\n",
    "\n",
    "Expected Output\n",
    "\n",
    "Enter three string Emma Jessa Kelly\n",
    "\n",
    "Name1: Emma\n",
    "\n",
    "Name2: Jessa\n",
    "\n",
    "Name3: Kelly"
   ]
  },
  {
   "cell_type": "code",
   "execution_count": 7,
   "id": "f66887eb",
   "metadata": {},
   "outputs": [
    {
     "name": "stdout",
     "output_type": "stream",
     "text": [
      "Name1: emma\n",
      "Name2: jessa\n",
      "Name3: kella\n"
     ]
    }
   ],
   "source": [
    "str1, str2, str3 = input(\"Enter three string : \").split()\n",
    "print('Name1:', str1)\n",
    "print('Name2:', str2)\n",
    "print('Name3:', str3)"
   ]
  },
  {
   "cell_type": "code",
   "execution_count": null,
   "id": "defdcf99",
   "metadata": {},
   "outputs": [],
   "source": []
  },
  {
   "cell_type": "markdown",
   "id": "fb2388bf",
   "metadata": {},
   "source": [
    "### Exercise 8: Format variables using a string.format() method.\n",
    "Write a program to use string.format() method to format the following three variables as per the expected output\n",
    "\n",
    "Given:\n",
    "\n",
    "\n",
    "totalMoney = 1000\n",
    "\n",
    "quantity = 3\n",
    "\n",
    "price = 450\n",
    "\n",
    "Expected Output:\n",
    "\n",
    "I have 1000 dollars so I can buy 3 football for 450.00 dollars"
   ]
  },
  {
   "cell_type": "code",
   "execution_count": 39,
   "id": "cc96949b",
   "metadata": {},
   "outputs": [
    {
     "name": "stdout",
     "output_type": "stream",
     "text": [
      "I have 1000 dollars so I can buy 3 football for 450.00 dollars.\n"
     ]
    }
   ],
   "source": [
    "quantity = 3\n",
    "totalMoney = 1000\n",
    "price = 450\n",
    "statement1 = \"I have {1} dollars so I can buy {0} football for {2:.2f} dollars.\"\n",
    "print(statement1.format(quantity, totalMoney, price))\n"
   ]
  },
  {
   "cell_type": "code",
   "execution_count": null,
   "id": "e9b7ac52",
   "metadata": {},
   "outputs": [],
   "source": []
  }
 ],
 "metadata": {
  "kernelspec": {
   "display_name": "Python 3",
   "language": "python",
   "name": "python3"
  },
  "language_info": {
   "codemirror_mode": {
    "name": "ipython",
    "version": 3
   },
   "file_extension": ".py",
   "mimetype": "text/x-python",
   "name": "python",
   "nbconvert_exporter": "python",
   "pygments_lexer": "ipython3",
   "version": "3.10.12"
  }
 },
 "nbformat": 4,
 "nbformat_minor": 5
}
