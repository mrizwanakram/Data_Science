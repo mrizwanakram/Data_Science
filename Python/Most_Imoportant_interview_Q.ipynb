{
 "cells": [
  {
   "cell_type": "markdown",
   "id": "427bcf3d",
   "metadata": {},
   "source": [
    "### Q_No_1"
   ]
  },
  {
   "cell_type": "markdown",
   "id": "b0544e46",
   "metadata": {},
   "source": [
    "### Reverse a string without slicing"
   ]
  },
  {
   "cell_type": "code",
   "execution_count": 10,
   "id": "b167011d",
   "metadata": {},
   "outputs": [
    {
     "data": {
      "text/plain": [
       "'nawziR'"
      ]
     },
     "execution_count": 10,
     "metadata": {},
     "output_type": "execute_result"
    }
   ],
   "source": [
    "def reverse_str(str1):\n",
    "    b= ''\n",
    "    for i in range(len(str1) -1, -1, -1):\n",
    "        b+= str1[i]\n",
    "    return b\n",
    "reverse_str(\"Rizwan\")\n"
   ]
  },
  {
   "cell_type": "code",
   "execution_count": 5,
   "id": "99a0b480",
   "metadata": {},
   "outputs": [
    {
     "data": {
      "text/plain": [
       "'76543'"
      ]
     },
     "execution_count": 5,
     "metadata": {},
     "output_type": "execute_result"
    }
   ],
   "source": [
    "#Write a program to reverse an integer in Python.\n",
    "def rev(a):\n",
    "    b = ''\n",
    "    for i in range(len(a) -1, -1, -1):\n",
    "        b += a[i]\n",
    "    return b\n",
    "a = '34567'\n",
    "rev(a)\n",
    "    "
   ]
  },
  {
   "cell_type": "code",
   "execution_count": 6,
   "id": "b644d04c",
   "metadata": {},
   "outputs": [
    {
     "name": "stdout",
     "output_type": "stream",
     "text": [
      "nawzir\n"
     ]
    }
   ],
   "source": [
    "a = 'rizwan'\n",
    "b = a[::-1]\n",
    "print(b)"
   ]
  },
  {
   "cell_type": "markdown",
   "id": "4a64030b",
   "metadata": {},
   "source": [
    "### Q_NO_2"
   ]
  },
  {
   "cell_type": "markdown",
   "id": "12d4fc16",
   "metadata": {},
   "source": [
    "### Sort a list without builtin function"
   ]
  },
  {
   "cell_type": "code",
   "execution_count": 6,
   "id": "dad967f0",
   "metadata": {},
   "outputs": [
    {
     "data": {
      "text/plain": [
       "[1, 2, 3, 4, 5, 9]"
      ]
     },
     "execution_count": 6,
     "metadata": {},
     "output_type": "execute_result"
    }
   ],
   "source": [
    "a = [3,4,5,1,2,9]\n",
    "a.sort()\n",
    "a\n",
    "#cannt use this "
   ]
  },
  {
   "cell_type": "code",
   "execution_count": null,
   "id": "94ace0ba",
   "metadata": {},
   "outputs": [],
   "source": []
  },
  {
   "cell_type": "code",
   "execution_count": 23,
   "id": "93f7e610",
   "metadata": {},
   "outputs": [
    {
     "data": {
      "text/plain": [
       "[1, 2, 3, 4, 5, 9]"
      ]
     },
     "execution_count": 23,
     "metadata": {},
     "output_type": "execute_result"
    }
   ],
   "source": [
    "def bubble_sort(a):\n",
    "    n = len(a)\n",
    "    for i in range(n - 1):\n",
    "        for j in range(0, n -i -1):\n",
    "            if a[j] > a[j +1]:\n",
    "                a[j], a[j +1] = a[j + 1], a[j]\n",
    "    return a\n",
    "\n",
    "bubble_sort([3,4,5,1,2,9])                "
   ]
  },
  {
   "cell_type": "code",
   "execution_count": null,
   "id": "e8f698e4",
   "metadata": {},
   "outputs": [],
   "source": [
    "def bubble_sort(arr):\n",
    "    n = len(arr)\n",
    "    \n",
    "    for i in range(n - 1):\n",
    "        # Last i elements are already in place\n",
    "        for j in range(0, n - i - 1):\n",
    "            # Traverse the list from 0 to n-i-1\n",
    "            # Swap if the element found is greater than the next element\n",
    "            if arr[j] > arr[j + 1]:\n",
    "                arr[j], arr[j + 1] = arr[j + 1], arr[j]\n",
    "    \n",
    "    return arr\n",
    "\n",
    "# Example usage:\n",
    "my_list = [5, 2, 8, 1, 3]\n",
    "sorted_list = bubble_sort(my_list)\n",
    "print(sorted_list)\n"
   ]
  },
  {
   "cell_type": "markdown",
   "id": "feed8dd7",
   "metadata": {},
   "source": [
    "### Q_No_3"
   ]
  },
  {
   "cell_type": "markdown",
   "id": "5d8296ff",
   "metadata": {},
   "source": [
    "### Find find a febnochhi sequnce of n"
   ]
  },
  {
   "cell_type": "code",
   "execution_count": 27,
   "id": "77fe1ec5",
   "metadata": {},
   "outputs": [
    {
     "name": "stdout",
     "output_type": "stream",
     "text": [
      "The Fibonacci value of 10 is: 55\n"
     ]
    }
   ],
   "source": [
    "def fibonacci_iterative(n):\n",
    "    # Base case: 0th and 1st Fibonacci numbers are 0 and 1\n",
    "    if n <= 1:\n",
    "        return n\n",
    "\n",
    "    # Initialize variables for the first two Fibonacci numbers\n",
    "    a, b = 0, 1\n",
    "\n",
    "    # Calculate Fibonacci values iteratively\n",
    "    for i in range(2, n + 1):\n",
    "        c = a + b\n",
    "        a, b = b, c\n",
    "\n",
    "    return c\n",
    "\n",
    "# Example usage:\n",
    "n = 10\n",
    "fibonacci_value = fibonacci_iterative(n)\n",
    "print(f\"The Fibonacci value of {n} is: {fibonacci_value}\")\n",
    "\n",
    "        "
   ]
  },
  {
   "cell_type": "code",
   "execution_count": 9,
   "id": "607effa2",
   "metadata": {},
   "outputs": [
    {
     "data": {
      "text/plain": [
       "55"
      ]
     },
     "execution_count": 9,
     "metadata": {},
     "output_type": "execute_result"
    }
   ],
   "source": [
    "def feb(n):\n",
    "    if n < 0:\n",
    "        return n\n",
    "    else:\n",
    "        a, b = 0, 1\n",
    "        for i in range(2, n +1):\n",
    "            c = a + b\n",
    "            a, b = b, c\n",
    "        return c\n",
    "feb(10)"
   ]
  },
  {
   "cell_type": "markdown",
   "id": "06a9718c",
   "metadata": {},
   "source": [
    "### Q_NO_4    (important)"
   ]
  },
  {
   "cell_type": "markdown",
   "id": "8a2659bf",
   "metadata": {},
   "source": [
    "### Write a python code to find prime number untill n"
   ]
  },
  {
   "cell_type": "code",
   "execution_count": 15,
   "id": "ccf447a5",
   "metadata": {},
   "outputs": [
    {
     "name": "stdout",
     "output_type": "stream",
     "text": [
      "Enter a number: 44\n",
      "44 is not a prime number\n"
     ]
    }
   ],
   "source": [
    "# Program to check if a number is prime or not\n",
    "# Input from the user\n",
    "num = int(input(\"Enter a number: \"))\n",
    "\n",
    "# If number is greater than 1\n",
    "if num > 1:\n",
    "    # Check if factors exist\n",
    "    for i in range(2, num):\n",
    "        if (num % i) == 0:\n",
    "            print(num, \"is not a prime number\")\n",
    "            break\n",
    "    else:\n",
    "        print(num, \"is a prime number\")\n",
    "       \n",
    "# If the input number is less than or equal to 1\n",
    "else:\n",
    "    print(num, \"is not a prime number\")\n",
    "\n"
   ]
  },
  {
   "cell_type": "code",
   "execution_count": null,
   "metadata": {},
   "outputs": [],
   "source": []
  },
  {
   "cell_type": "code",
   "execution_count": 2,
   "id": "4977c017",
   "metadata": {},
   "outputs": [
    {
     "name": "stdout",
     "output_type": "stream",
     "text": [
      "29 is a prime number.\n"
     ]
    }
   ],
   "source": [
    "def is_prime(n):\n",
    "    if n <= 1:\n",
    "        return False\n",
    "    for i in range(2, n):\n",
    "        if n % i == 0:\n",
    "            return False\n",
    "    return True\n",
    "\n",
    "# Test the function\n",
    "num = 29\n",
    "if is_prime(num):\n",
    "    print(f\"{num} is a prime number.\")\n",
    "else:\n",
    "    print(f\"{num} is not a prime number.\")\n"
   ]
  },
  {
   "cell_type": "code",
   "execution_count": 12,
   "id": "a3d212b4",
   "metadata": {},
   "outputs": [
    {
     "name": "stdout",
     "output_type": "stream",
     "text": [
      "Prime numbers up to 20: [2, 3, 5, 7, 11, 13, 17, 19]\n"
     ]
    }
   ],
   "source": [
    "def get_primes_until(n):\n",
    "    primes = []  # List to store prime numbers\n",
    "    for num in range(2, n + 1):\n",
    "        is_prime = True\n",
    "        for i in range(2, int(num ** 0.5) + 1):\n",
    "            if num % i == 0:\n",
    "                is_prime = False\n",
    "                break\n",
    "        if is_prime:\n",
    "            primes.append(num)\n",
    "    return primes\n",
    "\n",
    "# Test the function\n",
    "n = 20\n",
    "print(f\"Prime numbers up to {n}: {get_primes_until(n)}\")\n"
   ]
  },
  {
   "cell_type": "code",
   "execution_count": null,
   "id": "84ea8859",
   "metadata": {},
   "outputs": [],
   "source": []
  },
  {
   "cell_type": "code",
   "execution_count": null,
   "id": "1409007b",
   "metadata": {},
   "outputs": [],
   "source": []
  },
  {
   "cell_type": "markdown",
   "id": "c4473196",
   "metadata": {},
   "source": [
    "### Q_NO_5"
   ]
  },
  {
   "cell_type": "markdown",
   "id": "8892e72a",
   "metadata": {},
   "source": [
    "### Write python code to find table of a number"
   ]
  },
  {
   "cell_type": "code",
   "execution_count": 7,
   "id": "ac68f980",
   "metadata": {},
   "outputs": [],
   "source": [
    "def find_table(n):\n",
    "    for i in range(1, 11):\n",
    "        print(n,'x', i, '=', n * i)\n",
    "    "
   ]
  },
  {
   "cell_type": "code",
   "execution_count": 8,
   "id": "e1a4fa28",
   "metadata": {},
   "outputs": [
    {
     "name": "stdout",
     "output_type": "stream",
     "text": [
      "5 x 1 = 5\n",
      "5 x 2 = 10\n",
      "5 x 3 = 15\n",
      "5 x 4 = 20\n",
      "5 x 5 = 25\n",
      "5 x 6 = 30\n",
      "5 x 7 = 35\n",
      "5 x 8 = 40\n",
      "5 x 9 = 45\n",
      "5 x 10 = 50\n"
     ]
    }
   ],
   "source": [
    "find_table(5)"
   ]
  },
  {
   "cell_type": "code",
   "execution_count": null,
   "id": "f25f147e",
   "metadata": {},
   "outputs": [],
   "source": []
  },
  {
   "cell_type": "markdown",
   "id": "65a7161b",
   "metadata": {},
   "source": [
    "### Q_NO_6(important)"
   ]
  },
  {
   "cell_type": "markdown",
   "id": "52d78b3e",
   "metadata": {},
   "source": [
    "###     Write a program in Python to check whether an integer is palndrome number or not."
   ]
  },
  {
   "cell_type": "code",
   "execution_count": 18,
   "id": "888dbdb0",
   "metadata": {},
   "outputs": [],
   "source": [
    "# 121, mom, 343"
   ]
  },
  {
   "cell_type": "code",
   "execution_count": 21,
   "id": "8f9817e5",
   "metadata": {},
   "outputs": [
    {
     "name": "stdout",
     "output_type": "stream",
     "text": [
      "Enter a number: 453\n",
      "453 is not a palindrome number.\n"
     ]
    }
   ],
   "source": [
    "def is_palindrome(num):\n",
    "    # Convert the number to a string\n",
    "    num_str = str(num)\n",
    "    \n",
    "    # Reverse the string\n",
    "    reversed_str = num_str[::-1]\n",
    "    \n",
    "    # Check if the reversed string is equal to the original string\n",
    "    if num_str == reversed_str:\n",
    "        return True\n",
    "    else:\n",
    "        return False\n",
    "\n",
    "# Example usage:\n",
    "num = int(input(\"Enter a number: \"))\n",
    "\n",
    "if is_palindrome(num):\n",
    "    print(num, \"is a palindrome number.\")\n",
    "else:\n",
    "    print(num, \"is not a palindrome number.\")\n"
   ]
  },
  {
   "cell_type": "code",
   "execution_count": null,
   "id": "31c79106",
   "metadata": {},
   "outputs": [],
   "source": []
  },
  {
   "cell_type": "markdown",
   "id": "906397ee",
   "metadata": {},
   "source": [
    "### Q_No_7"
   ]
  },
  {
   "cell_type": "code",
   "execution_count": 34,
   "id": "799e0a7b",
   "metadata": {},
   "outputs": [],
   "source": [
    "# Write a program in Python to find greatest among three integers.\n",
    "def greatest(a,b,c):\n",
    "    gretest = []\n",
    "    if a > b and a > c:\n",
    "        gretest.append(a)\n",
    "    elif b > a and b > c:\n",
    "        gretest.append(b)\n",
    "    elif c > b and c > a:\n",
    "        gretest.append(c)\n",
    "    return gretest\n",
    "\n",
    "        "
   ]
  },
  {
   "cell_type": "code",
   "execution_count": 35,
   "id": "ae48b46a",
   "metadata": {},
   "outputs": [
    {
     "name": "stdout",
     "output_type": "stream",
     "text": [
      "[7]\n"
     ]
    }
   ],
   "source": [
    "print(greatest(4,1,7))"
   ]
  },
  {
   "cell_type": "markdown",
   "id": "1eee2532",
   "metadata": {},
   "source": [
    "### Q_No_8"
   ]
  },
  {
   "cell_type": "markdown",
   "id": "ccdd7a77",
   "metadata": {},
   "source": [
    "### Write a program in Python to check if a number is binary?\n"
   ]
  },
  {
   "cell_type": "code",
   "execution_count": 42,
   "id": "900097f4",
   "metadata": {},
   "outputs": [
    {
     "name": "stdout",
     "output_type": "stream",
     "text": [
      "Enter a number: 987\n",
      "987 is not a binary number.\n"
     ]
    }
   ],
   "source": [
    "def is_binary(num):\n",
    "    # Convert the number to a string\n",
    "    num_str = str(num)\n",
    "    \n",
    "    # Check if the string contains only 0s and 1s\n",
    "    for i in num_str:\n",
    "        if i != '0' and i != '1':\n",
    "            return False\n",
    "    \n",
    "    return True\n",
    "\n",
    "# Example usage:\n",
    "num = input(\"Enter a number: \")\n",
    "\n",
    "if is_binary(num):\n",
    "    print(num, \"is a binary number.\")\n",
    "else:\n",
    "    print(num, \"is not a binary number.\")\n"
   ]
  },
  {
   "cell_type": "code",
   "execution_count": null,
   "id": "c995ad95",
   "metadata": {},
   "outputs": [],
   "source": []
  },
  {
   "cell_type": "markdown",
   "id": "37781b51",
   "metadata": {},
   "source": [
    "### Q_No_9"
   ]
  },
  {
   "cell_type": "markdown",
   "id": "5c3f24c4",
   "metadata": {},
   "source": [
    "### Write a program in Python to find sum of digits of a number using recursion?"
   ]
  },
  {
   "cell_type": "code",
   "execution_count": 53,
   "id": "1f65e470",
   "metadata": {},
   "outputs": [
    {
     "name": "stdout",
     "output_type": "stream",
     "text": [
      "30\n"
     ]
    }
   ],
   "source": [
    "a = [23,4,3]\n",
    "print(sum(a))"
   ]
  },
  {
   "cell_type": "code",
   "execution_count": 55,
   "id": "07bc6dd0",
   "metadata": {},
   "outputs": [
    {
     "name": "stdout",
     "output_type": "stream",
     "text": [
      "Enter a number: 4523\n",
      "Sum of digits: 14\n"
     ]
    }
   ],
   "source": [
    "def sum_of_digits(n):\n",
    "    if n == 0:\n",
    "        return 0\n",
    "    else:\n",
    "        return (n % 10) + sum_of_digits(n // 10)\n",
    "\n",
    "# Example usage:\n",
    "num = int(input(\"Enter a number: \"))\n",
    "\n",
    "digit_sum = sum_of_digits(num)\n",
    "print(\"Sum of digits:\", digit_sum)\n"
   ]
  },
  {
   "cell_type": "code",
   "execution_count": null,
   "id": "145c85b7",
   "metadata": {},
   "outputs": [],
   "source": []
  },
  {
   "cell_type": "markdown",
   "id": "72a7efbe",
   "metadata": {},
   "source": [
    "### Q_No_10"
   ]
  },
  {
   "cell_type": "markdown",
   "id": "c240c7c7",
   "metadata": {},
   "source": [
    "### Write a program in Python to swap two numbers without using third variable?"
   ]
  },
  {
   "cell_type": "code",
   "execution_count": 67,
   "id": "648959d5",
   "metadata": {},
   "outputs": [
    {
     "name": "stdout",
     "output_type": "stream",
     "text": [
      "7\n",
      "6\n"
     ]
    }
   ],
   "source": [
    "a = 6\n",
    "b = 7\n",
    "a = a - b\n",
    "b = a + b\n",
    "a = b -a\n",
    "print(a)\n",
    "print(b)"
   ]
  },
  {
   "cell_type": "markdown",
   "id": "a9755d00",
   "metadata": {},
   "source": [
    "### Q_No_11"
   ]
  },
  {
   "cell_type": "markdown",
   "id": "cb991114",
   "metadata": {},
   "source": [
    "### Write a program in Python to swap two numbers using third variable?"
   ]
  },
  {
   "cell_type": "code",
   "execution_count": 68,
   "id": "66027ba5",
   "metadata": {},
   "outputs": [
    {
     "name": "stdout",
     "output_type": "stream",
     "text": [
      "2\n",
      "3\n"
     ]
    }
   ],
   "source": [
    "a = 3 \n",
    "b = 2\n",
    "c = a\n",
    "a = b\n",
    "b = c\n",
    "print(a)\n",
    "print(b)"
   ]
  },
  {
   "cell_type": "markdown",
   "id": "820452c7",
   "metadata": {},
   "source": [
    "### Q_No_12"
   ]
  },
  {
   "cell_type": "markdown",
   "id": "3a2a0959",
   "metadata": {},
   "source": [
    "### Write a program in Python to find factorial of a number"
   ]
  },
  {
   "cell_type": "code",
   "execution_count": 16,
   "id": "0acb4044",
   "metadata": {},
   "outputs": [
    {
     "name": "stdout",
     "output_type": "stream",
     "text": [
      "puy your number to find factorial : 6\n",
      "720\n"
     ]
    }
   ],
   "source": [
    "def fact(n):\n",
    "    fact = 1\n",
    "    if n < 0:\n",
    "        print('invalid number')\n",
    "    elif n == 0:\n",
    "        print(' the factorial of 0 is 1')\n",
    "    for i in range(1, n+1):\n",
    "        fact = fact * i\n",
    "    return fact\n",
    "\n",
    "n = int(input(\"puy your number to find factorial : \"))\n",
    "print(fact(n))"
   ]
  },
  {
   "cell_type": "code",
   "execution_count": null,
   "id": "329ce8c3",
   "metadata": {},
   "outputs": [],
   "source": []
  },
  {
   "cell_type": "markdown",
   "id": "86d86a1f",
   "metadata": {},
   "source": [
    "### Q_No_13:"
   ]
  },
  {
   "cell_type": "markdown",
   "id": "cc2dc098",
   "metadata": {},
   "source": [
    "### Python Program to find Smallest number among three."
   ]
  },
  {
   "cell_type": "code",
   "execution_count": 82,
   "id": "30a3dc68",
   "metadata": {},
   "outputs": [
    {
     "name": "stdout",
     "output_type": "stream",
     "text": [
      "[1]\n"
     ]
    }
   ],
   "source": [
    "\n",
    "def smallest(a,b,c):\n",
    "    smallest = []\n",
    "    if a < b and a < c:\n",
    "        smallest.append(a)\n",
    "    elif b < a and b < c:\n",
    "        smallest.append(b)\n",
    "    elif c < b and c < a:\n",
    "        smallest.append(c)\n",
    "    return smallest\n",
    "\n",
    "print(smallest(3,6,1))\n"
   ]
  },
  {
   "cell_type": "code",
   "execution_count": null,
   "id": "5a7d7886",
   "metadata": {},
   "outputs": [],
   "source": []
  },
  {
   "cell_type": "markdown",
   "id": "ac4982e3",
   "metadata": {},
   "source": [
    "### Q_No_14"
   ]
  },
  {
   "cell_type": "markdown",
   "id": "13f87fbd",
   "metadata": {},
   "source": [
    "### Python Program to check the given year is a leap year or not."
   ]
  },
  {
   "cell_type": "code",
   "execution_count": 83,
   "id": "f90f0d26",
   "metadata": {},
   "outputs": [
    {
     "name": "stdout",
     "output_type": "stream",
     "text": [
      "Please Enter a year: 2050\n",
      "2050 is not a leap year\n"
     ]
    }
   ],
   "source": [
    "year = int(input(\"Please Enter a year: \"))\n",
    "if year % 4 == 0:\n",
    "    if year % 100 == 0:\n",
    "        if year % 400 == 0:\n",
    "            print(year, \"is a leap year\")\n",
    "        else:\n",
    "            print(year, \"is not a leap year\")\n",
    "    else:\n",
    "        print(year, \"is a leap year\")\n",
    "else:\n",
    "    print(year, \"is not a leap year\")"
   ]
  },
  {
   "cell_type": "code",
   "execution_count": null,
   "id": "af41360f",
   "metadata": {},
   "outputs": [],
   "source": []
  },
  {
   "cell_type": "markdown",
   "id": "dec0f1c2",
   "metadata": {},
   "source": [
    "### Q_NO_15"
   ]
  },
  {
   "cell_type": "markdown",
   "id": "1476c514",
   "metadata": {},
   "source": [
    "### Python Program to convert Celsius to Fahrenheit.\n",
    "\n",
    "# F = (c * 1.8)+32 = 86"
   ]
  },
  {
   "cell_type": "code",
   "execution_count": 87,
   "id": "20860ec3",
   "metadata": {},
   "outputs": [
    {
     "name": "stdout",
     "output_type": "stream",
     "text": [
      "put number to convert into farenhite  :34\n",
      "93.2\n"
     ]
    }
   ],
   "source": [
    "n = float(input('put number to convert into farenhite  :'))\n",
    "f_tem = (n * 1.8) + 32 \n",
    "\n",
    "print(f_tem)"
   ]
  },
  {
   "cell_type": "code",
   "execution_count": 86,
   "id": "34402921",
   "metadata": {},
   "outputs": [
    {
     "name": "stdout",
     "output_type": "stream",
     "text": [
      "Enter temperature in Celsius: 34\n",
      "Temperature in Fahrenheit:  93.2\n"
     ]
    }
   ],
   "source": [
    "# program to convert Celsius to Fahrenheit\n",
    "celsius = float(input(\"Enter temperature in Celsius: \"))\n",
    "fahrenheit = (celsius * 1.8) + 32\n",
    "print(\"Temperature in Fahrenheit: \", fahrenheit)\n"
   ]
  },
  {
   "cell_type": "code",
   "execution_count": null,
   "id": "7888b257",
   "metadata": {},
   "outputs": [],
   "source": []
  },
  {
   "cell_type": "markdown",
   "id": "780f3142",
   "metadata": {},
   "source": [
    "### Q_No_16"
   ]
  },
  {
   "cell_type": "code",
   "execution_count": 8,
   "id": "75fccd00",
   "metadata": {},
   "outputs": [
    {
     "data": {
      "text/plain": [
       "array.array"
      ]
     },
     "execution_count": 8,
     "metadata": {},
     "output_type": "execute_result"
    }
   ],
   "source": [
    "# creating an array containing same\n",
    "# data type elements\n",
    "import array\n",
    "\n",
    "sample_array = array.array('i', [1, 2, 3])\n",
    "type(sample_array)\n",
    "\n"
   ]
  },
  {
   "cell_type": "code",
   "execution_count": 9,
   "id": "fac3b92a",
   "metadata": {},
   "outputs": [
    {
     "name": "stdout",
     "output_type": "stream",
     "text": [
      "1\n",
      "2\n",
      "3\n"
     ]
    }
   ],
   "source": [
    "# accessing elements of array\n",
    "for i in sample_array:\n",
    "\tprint(i)"
   ]
  },
  {
   "cell_type": "code",
   "execution_count": 10,
   "id": "b9f5ee5e",
   "metadata": {},
   "outputs": [
    {
     "name": "stdout",
     "output_type": "stream",
     "text": [
      "[1, 'Yash', ['a', 'e']]\n"
     ]
    }
   ],
   "source": [
    "# creating a list containing elements\n",
    "# belonging to different data types\n",
    "sample_list = [1,\"Yash\",['a','e']]\n",
    "print(sample_list)\n"
   ]
  },
  {
   "cell_type": "code",
   "execution_count": 11,
   "id": "ce9bba44",
   "metadata": {},
   "outputs": [
    {
     "data": {
      "text/plain": [
       "3"
      ]
     },
     "execution_count": 11,
     "metadata": {},
     "output_type": "execute_result"
    }
   ],
   "source": [
    "len(sample_list)"
   ]
  },
  {
   "cell_type": "code",
   "execution_count": 2,
   "id": "d9ede582",
   "metadata": {},
   "outputs": [
    {
     "name": "stdout",
     "output_type": "stream",
     "text": [
      "0\n",
      "1\n",
      "2\n",
      "3\n",
      "4\n",
      "5\n",
      "6\n",
      "7\n",
      "8\n",
      "9\n",
      "9\n"
     ]
    }
   ],
   "source": [
    "for i in range(10):\n",
    "    print(i)\n",
    "print(i)"
   ]
  },
  {
   "cell_type": "code",
   "execution_count": null,
   "id": "d1f2e0c8",
   "metadata": {},
   "outputs": [],
   "source": []
  },
  {
   "cell_type": "markdown",
   "id": "24802745",
   "metadata": {},
   "source": []
  },
  {
   "cell_type": "markdown",
   "id": "fa7c2963",
   "metadata": {},
   "source": [
    "### Count the numbers in an arry (Devsin)\n"
   ]
  },
  {
   "cell_type": "code",
   "execution_count": 1,
   "id": "a94916a3",
   "metadata": {},
   "outputs": [
    {
     "name": "stdout",
     "output_type": "stream",
     "text": [
      "{1: 1, 2: 2, 3: 1, 4: 1, 5: 2}\n"
     ]
    }
   ],
   "source": [
    "a = [1, 2, 3, 4, 5, 5, 2]\n",
    "b = dict()\n",
    "for i in a:\n",
    "    if i in b:\n",
    "        b[i] += 1  # Increment the count of the existing number\n",
    "    else:\n",
    "        b[i] = 1  # Initialize the count for the new number\n",
    "print(b)\n"
   ]
  },
  {
   "cell_type": "code",
   "execution_count": null,
   "id": "e37990ac",
   "metadata": {},
   "outputs": [],
   "source": []
  },
  {
   "cell_type": "markdown",
   "id": "d25167c5",
   "metadata": {},
   "source": []
  },
  {
   "cell_type": "code",
   "execution_count": 41,
   "id": "595ef06c",
   "metadata": {},
   "outputs": [
    {
     "name": "stdout",
     "output_type": "stream",
     "text": [
      "{'t': 4, 'r': 4, 'y': 2}\n"
     ]
    }
   ],
   "source": [
    "a = 'trtrtrtyry'\n",
    "b = dict()\n",
    "for i in a:\n",
    "    if i in b:\n",
    "        b[i] += 1  # Increment the count of the existing number\n",
    "    else:\n",
    "        b[i] = 1  # Initialize the count for the new number\n",
    "print(b)\n"
   ]
  },
  {
   "cell_type": "markdown",
   "id": "e025fabe",
   "metadata": {},
   "source": [
    "### Covert lower case letters to Uppercase and vice versa(Devsin)"
   ]
  },
  {
   "cell_type": "code",
   "execution_count": 48,
   "id": "5415dd76",
   "metadata": {},
   "outputs": [
    {
     "name": "stdout",
     "output_type": "stream",
     "text": [
      "rEGISTER YOUR mODELS hERE"
     ]
    }
   ],
   "source": [
    "a = 'Register your Models Here'\n",
    "for i in a:\n",
    "    if i.isupper():\n",
    "        print(i.lower(), end = '')\n",
    "    else:\n",
    "        print(i.upper(), end= '')\n",
    "  \n",
    "            \n"
   ]
  },
  {
   "cell_type": "code",
   "execution_count": 49,
   "id": "07d0c43d",
   "metadata": {},
   "outputs": [],
   "source": [
    "# leap year"
   ]
  },
  {
   "cell_type": "code",
   "execution_count": 72,
   "id": "fca59670",
   "metadata": {},
   "outputs": [
    {
     "name": "stdout",
     "output_type": "stream",
     "text": [
      "4\n",
      "3\n",
      "2\n",
      "1\n"
     ]
    },
    {
     "data": {
      "text/plain": [
       "24"
      ]
     },
     "execution_count": 72,
     "metadata": {},
     "output_type": "execute_result"
    }
   ],
   "source": [
    "def fact(n):\n",
    "    if n==0:\n",
    "        return 1\n",
    "    else:\n",
    "        print(n)\n",
    "        return fact(n-1)*(n)\n",
    "    \n",
    "fact(4)"
   ]
  },
  {
   "cell_type": "code",
   "execution_count": null,
   "id": "3ca4428a",
   "metadata": {},
   "outputs": [],
   "source": [
    "4*3*2*1"
   ]
  },
  {
   "cell_type": "code",
   "execution_count": null,
   "id": "966db8f9",
   "metadata": {},
   "outputs": [],
   "source": []
  },
  {
   "cell_type": "markdown",
   "id": "0346ebad",
   "metadata": {},
   "source": [
    "### Class For Bank Account"
   ]
  },
  {
   "cell_type": "code",
   "execution_count": 2,
   "id": "e7bf00bd",
   "metadata": {},
   "outputs": [
    {
     "name": "stdout",
     "output_type": "stream",
     "text": [
      "Initial Balance: 100\n",
      "Deposited: 50\n",
      "Balance after deposit: 150\n",
      "Withdrawn: 30\n",
      "Balance after withdrawal: 120\n",
      "Insufficient funds or invalid amount\n"
     ]
    }
   ],
   "source": [
    "class BankAccount:\n",
    "    def __init__(self, initial_balance=0):\n",
    "        self._balance = initial_balance  # Private attribute\n",
    "    \n",
    "    def deposit(self, amount):\n",
    "        if amount > 0:\n",
    "            self._balance += amount\n",
    "            print(f\"Deposited: {amount}\")\n",
    "        else:\n",
    "            print(\"Deposit amount must be positive\")\n",
    "    \n",
    "    def withdraw(self, amount):\n",
    "        if 0 < amount <= self._balance:\n",
    "            self._balance -= amount\n",
    "            print(f\"Withdrawn: {amount}\")\n",
    "        else:\n",
    "            print(\"Insufficient funds or invalid amount\")\n",
    "    \n",
    "    def get_balance(self):\n",
    "        return self._balance\n",
    "\n",
    "# Example usage:\n",
    "account = BankAccount(100)  # Initial balance of 100\n",
    "print(f\"Initial Balance: {account.get_balance()}\")\n",
    "\n",
    "account.deposit(50)  # Depositing 50\n",
    "print(f\"Balance after deposit: {account.get_balance()}\")\n",
    "\n",
    "account.withdraw(30)  # Withdrawing 30\n",
    "print(f\"Balance after withdrawal: {account.get_balance()}\")\n",
    "\n",
    "account.withdraw(150)  # Attempt to withdraw more than the balance"
   ]
  },
  {
   "cell_type": "markdown",
   "id": "9ee29ab5",
   "metadata": {},
   "source": []
  },
  {
   "cell_type": "code",
   "execution_count": 1,
   "id": "d7884cf8",
   "metadata": {},
   "outputs": [
    {
     "name": "stdout",
     "output_type": "stream",
     "text": [
      "iner value 11\n",
      "outer value 10\n"
     ]
    }
   ],
   "source": [
    "def val(x):\n",
    "    x = x +1 \n",
    "    print('iner value', x)\n",
    "\n",
    "a = 10\n",
    "val(a)\n",
    "print('outer value', a)"
   ]
  },
  {
   "cell_type": "code",
   "execution_count": 1,
   "id": "11bec6bf",
   "metadata": {},
   "outputs": [
    {
     "name": "stdout",
     "output_type": "stream",
     "text": [
      "s1 and s2 are balanced: True\n",
      "s1 and s2 are balanced: False\n"
     ]
    }
   ],
   "source": [
    "def string_balance_test(s1, s2):\n",
    "    flag = True\n",
    "    for char in s1:\n",
    "        if char in s2:\n",
    "            continue\n",
    "        else:\n",
    "            flag = False\n",
    "    return flag\n",
    "\n",
    "\n",
    "s1 = \"Yn\"\n",
    "s2 = \"PYnative\"\n",
    "flag = string_balance_test(s1, s2)\n",
    "print(\"s1 and s2 are balanced:\", flag)\n",
    "\n",
    "s1 = \"Ynf\"\n",
    "s2 = \"PYnative\"\n",
    "flag = string_balance_test(s1, s2)\n",
    "print(\"s1 and s2 are balanced:\", flag)\n"
   ]
  },
  {
   "cell_type": "code",
   "execution_count": null,
   "id": "5ae86963",
   "metadata": {},
   "outputs": [],
   "source": []
  },
  {
   "cell_type": "code",
   "execution_count": null,
   "id": "7b501eaa",
   "metadata": {},
   "outputs": [],
   "source": []
  },
  {
   "cell_type": "markdown",
   "id": "cb2270ba",
   "metadata": {},
   "source": [
    "### Given an array of integers nums and an integer target, return the indices of the two numbers that add up to the target.(arhmsoft)"
   ]
  },
  {
   "cell_type": "code",
   "execution_count": 3,
   "id": "122c171c",
   "metadata": {},
   "outputs": [
    {
     "name": "stdout",
     "output_type": "stream",
     "text": [
      "[0, 1]\n"
     ]
    }
   ],
   "source": [
    "a = [1, 2, 3, 4, 5]\n",
    "target  = 3 \n",
    "\n",
    "for i in range(len(a)):\n",
    "    for j in range(i, len(a)):\n",
    "        if a[i] + a[j] == target and i != j:\n",
    "            print([i, j])\n"
   ]
  },
  {
   "cell_type": "code",
   "execution_count": null,
   "id": "bde46e05",
   "metadata": {},
   "outputs": [],
   "source": []
  }
 ],
 "metadata": {
  "kernelspec": {
   "display_name": "Python 3",
   "language": "python",
   "name": "python3"
  },
  "language_info": {
   "codemirror_mode": {
    "name": "ipython",
    "version": 3
   },
   "file_extension": ".py",
   "mimetype": "text/x-python",
   "name": "python",
   "nbconvert_exporter": "python",
   "pygments_lexer": "ipython3",
   "version": "3.10.12"
  }
 },
 "nbformat": 4,
 "nbformat_minor": 5
}
