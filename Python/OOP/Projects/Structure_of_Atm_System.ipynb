{
  "cells": [
    {
      "cell_type": "code",
      "execution_count": 1,
      "metadata": {
        "id": "Vo4tjKVd-sgm"
      },
      "outputs": [],
      "source": [
        "# always use pascal case to intilize a class\n",
        "class Atm:\n",
        "    #constructer : a function inside a class\n",
        "    # constructer(special function)->superpower\n",
        "    def __init__(self):\n",
        "        self.pin = ''\n",
        "        self.balance = 0\n",
        "        self.menu()\n",
        "    def menu(self):\n",
        "        user_input = input(\"\"\"\n",
        "              Hi, how can i help you?\n",
        "              1. press 1 to create pin\n",
        "              2. press 2 to change pin\n",
        "              3. press 3 to check balance\n",
        "              4. press 4 to withdraw\n",
        "              5. Anything Else to exit\n",
        "              \"\"\")\n",
        "        if user_input == '1':\n",
        "            #create pin\n",
        "            self.create_pin()\n",
        "        elif user_input =='2':\n",
        "            self.change_pin()\n",
        "        elif user_input == '3':\n",
        "            self.check_balace()\n",
        "            pass\n",
        "        elif user_input == '4':\n",
        "            self.widthdraw()\n",
        "        else:\n",
        "            exit()\n",
        "            \n",
        "    def create_pin(self):\n",
        "        user_pin = input('Enter your pin')\n",
        "        self.pin = user_pin\n",
        "        \n",
        "        user_balance = int(input('Enter Balance'))\n",
        "        self.balance = user_balance\n",
        "        \n",
        "        print('pin created Successfully')\n",
        "        self.menu()\n",
        "        \n",
        "    def change_pin(self):\n",
        "        old_pin = input('Enter old pin')\n",
        "        \n",
        "        if old_pin == self.pin:\n",
        "            #let him change the pin\n",
        "            new_pin = input('Enter new pin')\n",
        "            self.pin = new_pin\n",
        "            print('pin changed successfully')\n",
        "            self.menu()\n",
        "        else:\n",
        "            print('ni change kar sakta bhai')\n",
        "            self.menu        \n",
        "    \n",
        "    def check_balace(self):\n",
        "        user_pin = input('Enter your pin')\n",
        "        if user_pin == self.pin:\n",
        "            print('your balance is', self.balance)\n",
        "        else:\n",
        "            print(\"Chal nikal ya sa\")\n",
        "            \n",
        "    def widthdraw(self):\n",
        "        user_pin = input('Enter your pin')\n",
        "        if user_pin == self.pin:\n",
        "            #let him withdraw\n",
        "            amount = int(input('Enter amount'))\n",
        "            if amount <= self.balance:\n",
        "                self.balance = self.balance - amount\n",
        "                print('Widraw successfull.balance is',self.balance)\n",
        "            else:\n",
        "                print(\"Garib ha tuu\")\n",
        "        else:\n",
        "            ('Chor ha tuu')\n",
        "        self.menu"
      ]
    },
    {
      "cell_type": "code",
      "execution_count": 2,
      "metadata": {
        "colab": {
          "base_uri": "https://localhost:8080/"
        },
        "id": "kyl28vTB-sgr",
        "outputId": "8bb46f04-15fb-4d16-ee13-9ecc3c7297d0"
      },
      "outputs": [
        {
          "name": "stdout",
          "output_type": "stream",
          "text": [
            "\n",
            "              Hi, how can i help you?\n",
            "              1. press 1 to create pin\n",
            "              2. press 2 to change pin\n",
            "              3. press 3 to check balance\n",
            "              4. press 4 to withdraw\n",
            "              5. Anything Else to exit\n",
            "              1\n",
            "Enter your pin12345678\n",
            "Enter Balance5000\n",
            "pin created Successfully\n",
            "\n",
            "              Hi, how can i help you?\n",
            "              1. press 1 to create pin\n",
            "              2. press 2 to change pin\n",
            "              3. press 3 to check balance\n",
            "              4. press 4 to withdraw\n",
            "              5. Anything Else to exit\n",
            "              5\n"
          ]
        }
      ],
      "source": [
        "obj = Atm()"
      ]
    },
    {
      "cell_type": "code",
      "execution_count": 2,
      "metadata": {
        "id": "NvrYnhwm-sgu"
      },
      "outputs": [],
      "source": []
    },
    {
      "cell_type": "code",
      "execution_count": 2,
      "metadata": {
        "colab": {
          "base_uri": "https://localhost:8080/"
        },
        "id": "_lG7gIw7-sgv",
        "outputId": "dad81c16-b207-46c5-b34d-d7d9b3101c19"
      },
      "outputs": [
        {
          "output_type": "stream",
          "name": "stdout",
          "text": [
            "The name is rizwan and my age is 23\n"
          ]
        }
      ],
      "source": [
        "name = \"rizwan\"\n",
        "age = 23\n",
        "print(\"The name is {} and my age is {}\".format(name,age))"
      ]
    },
    {
      "cell_type": "code",
      "execution_count": 2,
      "metadata": {
        "id": "YIQRpwVe-sgv"
      },
      "outputs": [],
      "source": []
    },
    {
      "cell_type": "code",
      "execution_count": null,
      "metadata": {
        "id": "x8Z9s7Z7-sgw"
      },
      "outputs": [],
      "source": []
    }
  ],
  "metadata": {
    "kernelspec": {
      "display_name": "Python 3.9.13 ('base')",
      "language": "python",
      "name": "python3"
    },
    "language_info": {
      "codemirror_mode": {
        "name": "ipython",
        "version": 3
      },
      "file_extension": ".py",
      "mimetype": "text/x-python",
      "name": "python",
      "nbconvert_exporter": "python",
      "pygments_lexer": "ipython3",
      "version": "3.9.13"
    },
    "orig_nbformat": 4,
    "vscode": {
      "interpreter": {
        "hash": "2f5cef63cf2183520a2df254e42574008b7d0e0f7f7eb25eab8a73f475d99c74"
      }
    },
    "colab": {
      "provenance": []
    }
  },
  "nbformat": 4,
  "nbformat_minor": 0
}