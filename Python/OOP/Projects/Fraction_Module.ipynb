{
  "cells": [
    {
      "cell_type": "code",
      "execution_count": 1,
      "metadata": {
        "colab": {
          "base_uri": "https://localhost:8080/"
        },
        "id": "eVvcAXj5ALNC",
        "outputId": "df4a18fc-11e0-4739-9393-a7a6dc704473"
      },
      "outputs": [
        {
          "output_type": "execute_result",
          "data": {
            "text/plain": [
              "0.75"
            ]
          },
          "metadata": {},
          "execution_count": 1
        }
      ],
      "source": [
        "3/4"
      ]
    },
    {
      "cell_type": "code",
      "execution_count": 2,
      "metadata": {
        "colab": {
          "base_uri": "https://localhost:8080/"
        },
        "id": "EKFPOwiVALNI",
        "outputId": "5dc7e6d7-1c44-4f14-e3d9-0f2b19aea051"
      },
      "outputs": [
        {
          "output_type": "execute_result",
          "data": {
            "text/plain": [
              "0.5"
            ]
          },
          "metadata": {},
          "execution_count": 2
        }
      ],
      "source": [
        "1/2\n",
        "# get 1/2"
      ]
    },
    {
      "cell_type": "code",
      "execution_count": 3,
      "metadata": {
        "id": "hjHM8Ty2ALNJ"
      },
      "outputs": [],
      "source": [
        "class Fraction:\n",
        "    # parameterized constructor: takes numerator and denominator as arguments\n",
        "    def __init__(self, x, y):\n",
        "        self.num = x\n",
        "        self.den = y\n",
        "        \n",
        "    def __str__(self):\n",
        "        return '{}/{}'.format(self.num, self.den)"
      ]
    },
    {
      "cell_type": "code",
      "execution_count": null,
      "metadata": {
        "id": "7z3aMH1eALNK"
      },
      "outputs": [],
      "source": [
        "fr1 = Fraction(3,4)\n",
        "fr2 = Fraction(1,2)\n",
        "#3/4"
      ]
    },
    {
      "cell_type": "code",
      "execution_count": null,
      "metadata": {
        "id": "AQ6asyL5ALNL",
        "outputId": "685df7e3-1327-41c8-a9ac-49767643f778"
      },
      "outputs": [
        {
          "name": "stdout",
          "output_type": "stream",
          "text": [
            "3/4\n",
            "1/2\n"
          ]
        }
      ],
      "source": [
        "print(fr1)\n",
        "print(fr2)"
      ]
    },
    {
      "cell_type": "code",
      "execution_count": null,
      "metadata": {
        "id": "7Z6evzXMALNM"
      },
      "outputs": [],
      "source": []
    },
    {
      "cell_type": "code",
      "execution_count": null,
      "metadata": {
        "id": "24t1KjeOALNN"
      },
      "outputs": [],
      "source": []
    }
  ],
  "metadata": {
    "kernelspec": {
      "display_name": "Python 3.10.8 64-bit (microsoft store)",
      "language": "python",
      "name": "python3"
    },
    "language_info": {
      "codemirror_mode": {
        "name": "ipython",
        "version": 3
      },
      "file_extension": ".py",
      "mimetype": "text/x-python",
      "name": "python",
      "nbconvert_exporter": "python",
      "pygments_lexer": "ipython3",
      "version": "3.10.8"
    },
    "orig_nbformat": 4,
    "vscode": {
      "interpreter": {
        "hash": "ba37d69516b96b2df66115ef342e83722e1a1518f5d2e0ee41eb08141fa2fe2a"
      }
    },
    "colab": {
      "provenance": []
    }
  },
  "nbformat": 4,
  "nbformat_minor": 0
}