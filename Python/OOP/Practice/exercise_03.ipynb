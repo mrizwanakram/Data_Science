{
  "cells": [
    {
      "cell_type": "code",
      "execution_count": 1,
      "id": "2aaed61f",
      "metadata": {
        "id": "2aaed61f"
      },
      "outputs": [],
      "source": [
        "#create a laptop class with attrribute like brand name,model name or price\n",
        "#creare two objects/instance of your laptop class"
      ]
    },
    {
      "cell_type": "code",
      "execution_count": 2,
      "id": "c669e36f",
      "metadata": {
        "id": "c669e36f",
        "outputId": "b05bc7f0-bcfd-4e97-fb8a-393e202b5621",
        "colab": {
          "base_uri": "https://localhost:8080/"
        }
      },
      "outputs": [
        {
          "output_type": "stream",
          "name": "stdout",
          "text": [
            "3000\n",
            "2019\n"
          ]
        }
      ],
      "source": [
        "class Laptop:\n",
        "    def __init__(self,Brand_name,model_name,price,model):\n",
        "        #instance variables\n",
        "        self.Brand_name = Brand_name\n",
        "        self.model_name = model_name\n",
        "        self.price = price\n",
        "        self.model = model\n",
        "    \n",
        "#create objects\n",
        "L1 = Laptop(\"HP\",\"A7\",\"30000\",\"2019\")\n",
        "L2 = Laptop(\"Dell\",\"d8\",\"3000\",\"2009\")\n",
        "    \n",
        "print(L2.price)\n",
        "print(L1.model)\n",
        "    "
      ]
    },
    {
      "cell_type": "code",
      "execution_count": null,
      "id": "0bc8e3a9",
      "metadata": {
        "id": "0bc8e3a9"
      },
      "outputs": [],
      "source": []
    },
    {
      "cell_type": "code",
      "execution_count": null,
      "id": "77f727ac",
      "metadata": {
        "id": "77f727ac"
      },
      "outputs": [],
      "source": []
    }
  ],
  "metadata": {
    "kernelspec": {
      "display_name": "Python 3",
      "language": "python",
      "name": "python3"
    },
    "language_info": {
      "codemirror_mode": {
        "name": "ipython",
        "version": 3
      },
      "file_extension": ".py",
      "mimetype": "text/x-python",
      "name": "python",
      "nbconvert_exporter": "python",
      "pygments_lexer": "ipython3",
      "version": "3.8.8"
    },
    "colab": {
      "provenance": []
    }
  },
  "nbformat": 4,
  "nbformat_minor": 5
}