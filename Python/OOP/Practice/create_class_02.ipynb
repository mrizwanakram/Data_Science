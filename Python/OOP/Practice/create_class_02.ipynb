{
  "cells": [
    {
      "cell_type": "code",
      "execution_count": 1,
      "id": "f6b06a75",
      "metadata": {
        "id": "f6b06a75",
        "outputId": "ef78d2d9-4907-48c6-8fc4-7291dd9dbfea",
        "colab": {
          "base_uri": "https://localhost:8080/"
        }
      },
      "outputs": [
        {
          "output_type": "stream",
          "name": "stdout",
          "text": [
            "init method // constructor get called\n",
            "init method // constructor get called\n",
            "Rizwan\n",
            "Akram\n",
            "24\n",
            "25\n"
          ]
        }
      ],
      "source": [
        "#class is a blue print\n",
        "#create a class\n",
        "class Person:\n",
        "    def __init__(self, firstname, lastname, age):\n",
        "        #instance variables\n",
        "        print('init method // constructor get called')\n",
        "        self.firstname = firstname\n",
        "        self.lastname = lastname\n",
        "        self.age = age\n",
        "        \n",
        "#craete object\n",
        "p1 = Person('Rizwan', 'Akram', 24)\n",
        "p2 = Person('saqib', 'hamid', 25)\n",
        "\n",
        "print(p1.firstname)\n",
        "print(p1.lastname)\n",
        "print(p1.age)\n",
        "print(p2.age)\n",
        "    "
      ]
    },
    {
      "cell_type": "code",
      "execution_count": null,
      "id": "05f26669",
      "metadata": {
        "id": "05f26669"
      },
      "outputs": [],
      "source": []
    }
  ],
  "metadata": {
    "kernelspec": {
      "display_name": "Python 3",
      "language": "python",
      "name": "python3"
    },
    "language_info": {
      "codemirror_mode": {
        "name": "ipython",
        "version": 3
      },
      "file_extension": ".py",
      "mimetype": "text/x-python",
      "name": "python",
      "nbconvert_exporter": "python",
      "pygments_lexer": "ipython3",
      "version": "3.8.8"
    },
    "colab": {
      "provenance": []
    }
  },
  "nbformat": 4,
  "nbformat_minor": 5
}