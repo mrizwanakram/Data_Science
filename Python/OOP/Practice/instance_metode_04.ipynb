{
  "cells": [
    {
      "cell_type": "code",
      "execution_count": 1,
      "id": "cb60af04",
      "metadata": {
        "id": "cb60af04",
        "outputId": "01d36ee2-b012-4bd1-fcdc-ea28c08133da",
        "colab": {
          "base_uri": "https://localhost:8080/"
        }
      },
      "outputs": [
        {
          "output_type": "stream",
          "name": "stdout",
          "text": [
            "Rizwan Akram\n",
            "saqib hamid\n"
          ]
        }
      ],
      "source": [
        "#instance method\n",
        "class Person:\n",
        "    def __init__(self,firstname,lastname,age):\n",
        "        self.firstname = firstname\n",
        "        self.lastname = lastname\n",
        "        self.age = age\n",
        "        \n",
        "    def fullname(self):\n",
        "        return f\"{self.firstname} {self.lastname}\"\n",
        "        \n",
        "#craete object\n",
        "p1 = Person('Rizwan', 'Akram', 24)\n",
        "p2 = Person('saqib', 'hamid', 25)\n",
        "#p3.fullname()\n",
        "\n",
        "print(p1.fullname())\n",
        "#Person.fullname(p2)\n",
        "print(p2.fullname())"
      ]
    },
    {
      "cell_type": "code",
      "execution_count": null,
      "id": "83c57b51",
      "metadata": {
        "id": "83c57b51"
      },
      "outputs": [],
      "source": []
    },
    {
      "cell_type": "code",
      "execution_count": null,
      "id": "679aa158",
      "metadata": {
        "id": "679aa158"
      },
      "outputs": [],
      "source": []
    }
  ],
  "metadata": {
    "kernelspec": {
      "display_name": "Python 3",
      "language": "python",
      "name": "python3"
    },
    "language_info": {
      "codemirror_mode": {
        "name": "ipython",
        "version": 3
      },
      "file_extension": ".py",
      "mimetype": "text/x-python",
      "name": "python",
      "nbconvert_exporter": "python",
      "pygments_lexer": "ipython3",
      "version": "3.8.8"
    },
    "colab": {
      "provenance": []
    }
  },
  "nbformat": 4,
  "nbformat_minor": 5
}