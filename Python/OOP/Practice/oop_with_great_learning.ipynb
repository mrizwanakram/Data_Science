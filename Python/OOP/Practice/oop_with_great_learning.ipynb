{
  "cells": [
    {
      "cell_type": "code",
      "execution_count": 1,
      "id": "576dbd16",
      "metadata": {
        "id": "576dbd16"
      },
      "outputs": [],
      "source": [
        "#1.create first class in python\n",
        "class Phone:\n",
        "    def make_call(self):\n",
        "        print(\"i am making a call\")\n",
        "    def play_game(self):\n",
        "        print(\"i am playing a game\")\n",
        "        "
      ]
    },
    {
      "cell_type": "code",
      "execution_count": 2,
      "id": "e762235a",
      "metadata": {
        "id": "e762235a"
      },
      "outputs": [],
      "source": [
        "p1 = Phone()"
      ]
    },
    {
      "cell_type": "code",
      "execution_count": 3,
      "id": "c021632c",
      "metadata": {
        "colab": {
          "base_uri": "https://localhost:8080/"
        },
        "id": "c021632c",
        "outputId": "20b9f742-c05e-4421-f0c7-ff8e8ebd379c"
      },
      "outputs": [
        {
          "output_type": "stream",
          "name": "stdout",
          "text": [
            "i am making a call\n"
          ]
        }
      ],
      "source": [
        "p1.make_call()\n"
      ]
    },
    {
      "cell_type": "code",
      "execution_count": 4,
      "id": "1d7a4efa",
      "metadata": {
        "colab": {
          "base_uri": "https://localhost:8080/"
        },
        "id": "1d7a4efa",
        "outputId": "790e5e6b-b801-4399-e785-6cd349d721fd"
      },
      "outputs": [
        {
          "output_type": "stream",
          "name": "stdout",
          "text": [
            "i am playing a game\n"
          ]
        }
      ],
      "source": [
        "p1.play_game()"
      ]
    },
    {
      "cell_type": "code",
      "execution_count": null,
      "id": "18b6d5a1",
      "metadata": {
        "id": "18b6d5a1"
      },
      "outputs": [],
      "source": []
    },
    {
      "cell_type": "code",
      "execution_count": 5,
      "id": "396611d8",
      "metadata": {
        "id": "396611d8"
      },
      "outputs": [],
      "source": [
        "#2.adding parameters to the class"
      ]
    },
    {
      "cell_type": "code",
      "execution_count": 6,
      "id": "598f2cfb",
      "metadata": {
        "id": "598f2cfb"
      },
      "outputs": [],
      "source": [
        "class Phone:\n",
        "    def set_color(self,color):\n",
        "        self.color = color\n",
        "        \n",
        "    def set_cost(self,cost):\n",
        "        self.cost = cost\n",
        "        \n",
        "    def show_color(self):\n",
        "        return self.color\n",
        "    \n",
        "    def show_cost(self):\n",
        "        return self.cost\n",
        "    \n",
        "    def make_call(self):\n",
        "        print(\"make a call\")\n",
        "        \n",
        "    def play_game(self):\n",
        "        print(\"play game\")\n",
        "    "
      ]
    },
    {
      "cell_type": "code",
      "execution_count": 7,
      "id": "de83865a",
      "metadata": {
        "id": "de83865a"
      },
      "outputs": [],
      "source": [
        "p2  = Phone()"
      ]
    },
    {
      "cell_type": "code",
      "execution_count": 8,
      "id": "cc7ab0bb",
      "metadata": {
        "id": "cc7ab0bb"
      },
      "outputs": [],
      "source": [
        "p2.set_color(\"blue\")"
      ]
    },
    {
      "cell_type": "code",
      "execution_count": 9,
      "id": "0348df14",
      "metadata": {
        "id": "0348df14"
      },
      "outputs": [],
      "source": [
        "p2.set_cost(5000)"
      ]
    },
    {
      "cell_type": "code",
      "execution_count": 10,
      "id": "60613c0e",
      "metadata": {
        "colab": {
          "base_uri": "https://localhost:8080/",
          "height": 36
        },
        "id": "60613c0e",
        "outputId": "40b8a1d3-408c-4f91-ca0d-f971b0a9ae28"
      },
      "outputs": [
        {
          "output_type": "execute_result",
          "data": {
            "text/plain": [
              "'blue'"
            ],
            "application/vnd.google.colaboratory.intrinsic+json": {
              "type": "string"
            }
          },
          "metadata": {},
          "execution_count": 10
        }
      ],
      "source": [
        "p2.show_color()"
      ]
    },
    {
      "cell_type": "code",
      "execution_count": 11,
      "id": "a9bb606b",
      "metadata": {
        "colab": {
          "base_uri": "https://localhost:8080/"
        },
        "id": "a9bb606b",
        "outputId": "3d664e97-3f54-42ee-e7e5-6ea01308e489"
      },
      "outputs": [
        {
          "output_type": "execute_result",
          "data": {
            "text/plain": [
              "5000"
            ]
          },
          "metadata": {},
          "execution_count": 11
        }
      ],
      "source": [
        "p2.show_cost()"
      ]
    },
    {
      "cell_type": "code",
      "execution_count": 12,
      "id": "6240fa3c",
      "metadata": {
        "colab": {
          "base_uri": "https://localhost:8080/"
        },
        "id": "6240fa3c",
        "outputId": "5aff5dec-00a0-4bb4-a500-32f584a0ac5e"
      },
      "outputs": [
        {
          "output_type": "stream",
          "name": "stdout",
          "text": [
            "make a call\n"
          ]
        }
      ],
      "source": [
        "p2.make_call()"
      ]
    },
    {
      "cell_type": "code",
      "execution_count": 13,
      "id": "7a40a9f0",
      "metadata": {
        "colab": {
          "base_uri": "https://localhost:8080/"
        },
        "id": "7a40a9f0",
        "outputId": "819abc1a-ab11-4e03-d370-6f3d67a23cd6"
      },
      "outputs": [
        {
          "output_type": "stream",
          "name": "stdout",
          "text": [
            "play game\n"
          ]
        }
      ],
      "source": [
        "p2.play_game()"
      ]
    },
    {
      "cell_type": "code",
      "execution_count": null,
      "id": "15277bd2",
      "metadata": {
        "id": "15277bd2"
      },
      "outputs": [],
      "source": []
    },
    {
      "cell_type": "code",
      "execution_count": 14,
      "id": "64451f77",
      "metadata": {
        "id": "64451f77"
      },
      "outputs": [],
      "source": [
        "#3-Creating class with constructor"
      ]
    },
    {
      "cell_type": "code",
      "execution_count": 15,
      "id": "aac9bcf5",
      "metadata": {
        "id": "aac9bcf5"
      },
      "outputs": [],
      "source": [
        "class Employee:\n",
        "    def __init__ (self,name,age,salary,gender):\n",
        "        self.name = name\n",
        "        self.age = age\n",
        "        self.salary = salary\n",
        "        self.gender = gender\n",
        "        \n",
        "    def show_empolyee_deatails(self):\n",
        "        print(\"name of empolyee is : \" ,self.name)\n",
        "        print(\"age of empolyee is : \" ,self.age)\n",
        "        print(\"salary of empolyee is : \", self.salary)\n",
        "        print(\"gender of empolyee is : \", self.gender) \n",
        "        "
      ]
    },
    {
      "cell_type": "code",
      "execution_count": 16,
      "id": "a08ac93c",
      "metadata": {
        "id": "a08ac93c"
      },
      "outputs": [],
      "source": [
        "e1 = Employee('rizwan',23,5000,'Male')"
      ]
    },
    {
      "cell_type": "code",
      "execution_count": 17,
      "id": "01c65f7a",
      "metadata": {
        "colab": {
          "base_uri": "https://localhost:8080/"
        },
        "id": "01c65f7a",
        "outputId": "199424af-96e7-4a5d-fe1e-e542ea5a5487"
      },
      "outputs": [
        {
          "output_type": "stream",
          "name": "stdout",
          "text": [
            "name of empolyee is :  rizwan\n",
            "age of empolyee is :  23\n",
            "salary of empolyee is :  5000\n",
            "gender of empolyee is :  Male\n"
          ]
        }
      ],
      "source": [
        "e1.show_empolyee_deatails()"
      ]
    },
    {
      "cell_type": "code",
      "execution_count": null,
      "id": "2315159b",
      "metadata": {
        "id": "2315159b"
      },
      "outputs": [],
      "source": []
    },
    {
      "cell_type": "code",
      "execution_count": 18,
      "id": "2492e496",
      "metadata": {
        "id": "2492e496"
      },
      "outputs": [],
      "source": [
        "# 4- inheretence\n",
        "#get properties of one class to other"
      ]
    },
    {
      "cell_type": "code",
      "execution_count": 19,
      "id": "e4554d92",
      "metadata": {
        "id": "e4554d92"
      },
      "outputs": [],
      "source": [
        "#inheretence example\n",
        "class Vehicle:\n",
        "    def __init__(self,milage,cost):\n",
        "        self.milage = milage\n",
        "        self.cost = cost\n",
        "        \n",
        "    def show_vehicle_details(self):\n",
        "        print(\"Milage of vehicle is : \",self.milage)\n",
        "        print(\"cost of vehicle is : \",self.cost)\n",
        "        print(\"i am a vhicle\")\n",
        "        "
      ]
    },
    {
      "cell_type": "code",
      "execution_count": 20,
      "id": "e573ad89",
      "metadata": {
        "id": "e573ad89"
      },
      "outputs": [],
      "source": [
        "v1 = Vehicle(300,500)"
      ]
    },
    {
      "cell_type": "code",
      "execution_count": 21,
      "id": "3e879fbf",
      "metadata": {
        "colab": {
          "base_uri": "https://localhost:8080/"
        },
        "id": "3e879fbf",
        "outputId": "baa26af2-9968-4422-9a97-0cd5d4f81dbd"
      },
      "outputs": [
        {
          "output_type": "stream",
          "name": "stdout",
          "text": [
            "Milage of vehicle is :  300\n",
            "cost of vehicle is :  500\n",
            "i am a vhicle\n"
          ]
        }
      ],
      "source": [
        "v1.show_vehicle_details()"
      ]
    },
    {
      "cell_type": "code",
      "execution_count": 22,
      "id": "1b4cc75c",
      "metadata": {
        "id": "1b4cc75c"
      },
      "outputs": [],
      "source": [
        "class Car(Vehicle):\n",
        "    def show_Car_details(self):\n",
        "        print(\"i am car\")\n",
        "        "
      ]
    },
    {
      "cell_type": "code",
      "execution_count": 23,
      "id": "d46e673f",
      "metadata": {
        "id": "d46e673f"
      },
      "outputs": [],
      "source": [
        "c1 = Car(400,333)"
      ]
    },
    {
      "cell_type": "code",
      "execution_count": 24,
      "id": "ad4635e6",
      "metadata": {
        "colab": {
          "base_uri": "https://localhost:8080/"
        },
        "id": "ad4635e6",
        "outputId": "88495fef-c7d3-4450-c1c1-54cad7674ea3"
      },
      "outputs": [
        {
          "output_type": "stream",
          "name": "stdout",
          "text": [
            "Milage of vehicle is :  400\n",
            "cost of vehicle is :  333\n",
            "i am a vhicle\n"
          ]
        }
      ],
      "source": [
        "c1.show_vehicle_details()"
      ]
    },
    {
      "cell_type": "code",
      "execution_count": 25,
      "id": "b40ffabd",
      "metadata": {
        "colab": {
          "base_uri": "https://localhost:8080/"
        },
        "id": "b40ffabd",
        "outputId": "df7b51e5-f56e-4b06-e6e0-7027bb9a79c6"
      },
      "outputs": [
        {
          "output_type": "stream",
          "name": "stdout",
          "text": [
            "i am car\n"
          ]
        }
      ],
      "source": [
        "c1.show_Car_details()"
      ]
    },
    {
      "cell_type": "code",
      "execution_count": null,
      "id": "5f78c016",
      "metadata": {
        "id": "5f78c016"
      },
      "outputs": [],
      "source": []
    },
    {
      "cell_type": "code",
      "execution_count": 26,
      "id": "05dc28ef",
      "metadata": {
        "id": "05dc28ef"
      },
      "outputs": [],
      "source": [
        "#5- over riding init method"
      ]
    },
    {
      "cell_type": "code",
      "execution_count": 27,
      "id": "d1697724",
      "metadata": {
        "id": "d1697724"
      },
      "outputs": [],
      "source": [
        "class Vehicle:\n",
        "    def __init__(self,milage,cost):\n",
        "        self.milage = milage\n",
        "        self.cost = cost\n",
        "        \n",
        "    def show_vehicle_details(self):\n",
        "        print(\"Milage of vehicle is : \",self.milage)\n",
        "        print(\"cost of vehicle is : \",self.cost)\n",
        "        print(\"i am a vhicle\")\n",
        "        "
      ]
    },
    {
      "cell_type": "code",
      "execution_count": 28,
      "id": "ae44c78e",
      "metadata": {
        "id": "ae44c78e"
      },
      "outputs": [],
      "source": [
        "v1 = Vehicle(500,700)"
      ]
    },
    {
      "cell_type": "code",
      "execution_count": 29,
      "id": "d29673b0",
      "metadata": {
        "id": "d29673b0"
      },
      "outputs": [],
      "source": [
        "# a)sigle inheretence\n",
        "class Car(Vehicle):\n",
        "    def __init__(self,mileage,cost,tyres,hp):\n",
        "        super().__init__(mileage,cost)\n",
        "        self.tyres = tyres\n",
        "        self.hp = hp\n",
        "    def show_Car_details(self):\n",
        "        print(\"Number of tyres in car: \",self.tyres)\n",
        "        print(\"horse of car is: \",self.hp)\n",
        "        print(\"i am a car\")\n",
        "        "
      ]
    },
    {
      "cell_type": "code",
      "execution_count": 30,
      "id": "3943169e",
      "metadata": {
        "id": "3943169e"
      },
      "outputs": [],
      "source": [
        "c1 = Car(600,10000,6,888)"
      ]
    },
    {
      "cell_type": "code",
      "execution_count": 31,
      "id": "cd275b44",
      "metadata": {
        "colab": {
          "base_uri": "https://localhost:8080/"
        },
        "id": "cd275b44",
        "outputId": "28f30347-fa47-4a55-a57a-932d8d48cd10"
      },
      "outputs": [
        {
          "output_type": "stream",
          "name": "stdout",
          "text": [
            "Milage of vehicle is :  600\n",
            "cost of vehicle is :  10000\n",
            "i am a vhicle\n"
          ]
        }
      ],
      "source": [
        "c1.show_vehicle_details()"
      ]
    },
    {
      "cell_type": "code",
      "execution_count": null,
      "id": "2956d63e",
      "metadata": {
        "id": "2956d63e"
      },
      "outputs": [],
      "source": []
    },
    {
      "cell_type": "code",
      "execution_count": 32,
      "id": "b361cfa1",
      "metadata": {
        "id": "b361cfa1"
      },
      "outputs": [],
      "source": [
        "#6-diff type of inheretence\n",
        "# a)sigle inheretence\n",
        "# b) Multiple inheretence\n",
        "# c) Multi-level inheretence\n",
        "# d) hybarid inheretence\n"
      ]
    },
    {
      "cell_type": "code",
      "execution_count": 33,
      "id": "e331d57a",
      "metadata": {
        "id": "e331d57a"
      },
      "outputs": [],
      "source": [
        "# b) Multiple inheretence(the child inheret from more than one class)\n",
        "class Parent1:\n",
        "    def assign_string_one(self,str1):\n",
        "        self.str1 = str1\n",
        "    def show_string_one(self):\n",
        "        return self.str1\n",
        "        "
      ]
    },
    {
      "cell_type": "code",
      "execution_count": 34,
      "id": "620f4428",
      "metadata": {
        "id": "620f4428"
      },
      "outputs": [],
      "source": [
        "class Parent2:\n",
        "    def assign_string_two(self,str2):\n",
        "        self.str2 = str2\n",
        "    def show_string_two(self):\n",
        "        return self.str2 "
      ]
    },
    {
      "cell_type": "code",
      "execution_count": 35,
      "id": "cca3ea79",
      "metadata": {
        "id": "cca3ea79"
      },
      "outputs": [],
      "source": [
        "class Child(Parent1,Parent2):\n",
        "    def assign_string_three(self,str3):\n",
        "        self.str3  = str3\n",
        "    def show_string_three(self):\n",
        "        return self.str3"
      ]
    },
    {
      "cell_type": "code",
      "execution_count": 36,
      "id": "a07b9024",
      "metadata": {
        "id": "a07b9024"
      },
      "outputs": [],
      "source": [
        "my_child = Child()"
      ]
    },
    {
      "cell_type": "code",
      "execution_count": 37,
      "id": "42c09d2e",
      "metadata": {
        "id": "42c09d2e"
      },
      "outputs": [],
      "source": [
        "my_child.assign_string_three(\"i am a string of parent 3\")"
      ]
    },
    {
      "cell_type": "code",
      "execution_count": 38,
      "id": "06c1e8f6",
      "metadata": {
        "colab": {
          "base_uri": "https://localhost:8080/",
          "height": 36
        },
        "id": "06c1e8f6",
        "outputId": "e63f8805-d16a-4315-bcd5-02c30a584b3a"
      },
      "outputs": [
        {
          "output_type": "execute_result",
          "data": {
            "text/plain": [
              "'i am a string of parent 3'"
            ],
            "application/vnd.google.colaboratory.intrinsic+json": {
              "type": "string"
            }
          },
          "metadata": {},
          "execution_count": 38
        }
      ],
      "source": [
        "my_child.show_string_three()"
      ]
    },
    {
      "cell_type": "code",
      "execution_count": null,
      "id": "1c85d54d",
      "metadata": {
        "id": "1c85d54d"
      },
      "outputs": [],
      "source": []
    },
    {
      "cell_type": "code",
      "execution_count": 41,
      "id": "6d368d7f",
      "metadata": {
        "id": "6d368d7f"
      },
      "outputs": [],
      "source": [
        "#c) multi-level= we have parent, child, grand-child relationship"
      ]
    },
    {
      "cell_type": "code",
      "execution_count": 42,
      "id": "47cb4f91",
      "metadata": {
        "id": "47cb4f91"
      },
      "outputs": [],
      "source": [
        "#parent class\n",
        "class Parent:\n",
        "    def get_name(self,name):\n",
        "        self.name = name\n",
        "    def show_name(self):\n",
        "        return self.name"
      ]
    },
    {
      "cell_type": "code",
      "execution_count": 43,
      "id": "f24240de",
      "metadata": {
        "id": "f24240de"
      },
      "outputs": [],
      "source": [
        "class child(Parent):\n",
        "    def get_age(self,age):\n",
        "        self.age = age\n",
        "    def show_age(self):\n",
        "        return self.age"
      ]
    },
    {
      "cell_type": "code",
      "execution_count": 44,
      "id": "f1c1cd32",
      "metadata": {
        "id": "f1c1cd32"
      },
      "outputs": [],
      "source": [
        "class grandchild(child):\n",
        "    def get_gender(self,gender):\n",
        "        self.gender = gender\n",
        "    def show_gender(self):\n",
        "        return self.gender"
      ]
    },
    {
      "cell_type": "code",
      "execution_count": 45,
      "id": "f771d7b8",
      "metadata": {
        "id": "f771d7b8"
      },
      "outputs": [],
      "source": [
        "gc = grandchild()"
      ]
    },
    {
      "cell_type": "code",
      "execution_count": 46,
      "id": "93b837bc",
      "metadata": {
        "id": "93b837bc"
      },
      "outputs": [],
      "source": [
        "gc.get_name(\"rizwan\")"
      ]
    },
    {
      "cell_type": "code",
      "execution_count": 47,
      "id": "5e9b4c89",
      "metadata": {
        "id": "5e9b4c89"
      },
      "outputs": [],
      "source": [
        "gc.get_age(21)"
      ]
    },
    {
      "cell_type": "code",
      "execution_count": 48,
      "id": "1242f1cb",
      "metadata": {
        "id": "1242f1cb"
      },
      "outputs": [],
      "source": [
        "gc.get_gender('Male')"
      ]
    },
    {
      "cell_type": "code",
      "execution_count": 49,
      "id": "d7b1949d",
      "metadata": {
        "colab": {
          "base_uri": "https://localhost:8080/",
          "height": 36
        },
        "id": "d7b1949d",
        "outputId": "6261c9bc-8c2c-499a-df5c-bf4fdc6d91a2"
      },
      "outputs": [
        {
          "output_type": "execute_result",
          "data": {
            "text/plain": [
              "'rizwan'"
            ],
            "application/vnd.google.colaboratory.intrinsic+json": {
              "type": "string"
            }
          },
          "metadata": {},
          "execution_count": 49
        }
      ],
      "source": [
        "gc.show_name()"
      ]
    },
    {
      "cell_type": "code",
      "execution_count": 50,
      "id": "805263f5",
      "metadata": {
        "colab": {
          "base_uri": "https://localhost:8080/",
          "height": 36
        },
        "id": "805263f5",
        "outputId": "96ef5039-f767-4680-84aa-a5e42adaffa2"
      },
      "outputs": [
        {
          "output_type": "execute_result",
          "data": {
            "text/plain": [
              "'Male'"
            ],
            "application/vnd.google.colaboratory.intrinsic+json": {
              "type": "string"
            }
          },
          "metadata": {},
          "execution_count": 50
        }
      ],
      "source": [
        "gc.show_gender()"
      ]
    },
    {
      "cell_type": "code",
      "execution_count": 51,
      "id": "75147756",
      "metadata": {
        "colab": {
          "base_uri": "https://localhost:8080/"
        },
        "id": "75147756",
        "outputId": "255f2c13-2492-400b-8daf-db6ef9df2851"
      },
      "outputs": [
        {
          "output_type": "execute_result",
          "data": {
            "text/plain": [
              "21"
            ]
          },
          "metadata": {},
          "execution_count": 51
        }
      ],
      "source": [
        "gc.show_age()"
      ]
    },
    {
      "cell_type": "code",
      "execution_count": null,
      "id": "d38ff4f3",
      "metadata": {
        "id": "d38ff4f3"
      },
      "outputs": [],
      "source": []
    }
  ],
  "metadata": {
    "kernelspec": {
      "display_name": "Python 3",
      "language": "python",
      "name": "python3"
    },
    "language_info": {
      "codemirror_mode": {
        "name": "ipython",
        "version": 3
      },
      "file_extension": ".py",
      "mimetype": "text/x-python",
      "name": "python",
      "nbconvert_exporter": "python",
      "pygments_lexer": "ipython3",
      "version": "3.8.8"
    },
    "colab": {
      "provenance": []
    }
  },
  "nbformat": 4,
  "nbformat_minor": 5
}