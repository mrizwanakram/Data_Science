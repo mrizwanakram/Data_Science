{
 "cells": [
  {
   "cell_type": "markdown",
   "id": "268e8ddb",
   "metadata": {},
   "source": [
    "### Exercise 1: Create a list by picking an odd-index items from the first list and even index items from the second\n",
    "Given two lists, l1 and l2, write a program to create a third list l3 by picking an odd-index element from the list l1 and even index elements from the list l2.\n",
    "\n",
    "Given:\n",
    "\n",
    "l1 = [3, 6, 9, 12, 15, 18, 21]\n",
    "\n",
    "l2 = [4, 8, 12, 16, 20, 24, 28]\n",
    "\n",
    "Expected Output:\n",
    "\n",
    "Element at odd-index positions from list one\n",
    "\n",
    "[6, 12, 18]\n",
    "\n",
    "Element at even-index positions from list two\n",
    "\n",
    "[4, 12, 20, 28]\n",
    "\n",
    "Printing Final third list\n",
    "\n",
    "[6, 12, 18, 4, 12, 20, 28]"
   ]
  },
  {
   "cell_type": "code",
   "execution_count": 5,
   "id": "2e480304",
   "metadata": {},
   "outputs": [
    {
     "data": {
      "text/plain": [
       "[6, 12, 18, 4, 12, 20, 28]"
      ]
     },
     "execution_count": 5,
     "metadata": {},
     "output_type": "execute_result"
    }
   ],
   "source": [
    "l1 = [3, 6, 9, 12, 15, 18, 21]\n",
    "\n",
    "l2 = [4, 8, 12, 16, 20, 24, 28]\n",
    "\n",
    "a = l1[1::2]\n",
    "b = l2[0::2]\n",
    "a + b"
   ]
  },
  {
   "cell_type": "code",
   "execution_count": 6,
   "id": "9ec1372a",
   "metadata": {},
   "outputs": [
    {
     "name": "stdout",
     "output_type": "stream",
     "text": [
      "Element at odd-index positions from list one\n",
      "[6, 12, 18]\n",
      "Element at even-index positions from list two\n",
      "[4, 12, 20, 28]\n",
      "Printing Final third list\n",
      "[6, 12, 18, 4, 12, 20, 28]\n"
     ]
    }
   ],
   "source": [
    "list1 = [3, 6, 9, 12, 15, 18, 21]\n",
    "list2 = [4, 8, 12, 16, 20, 24, 28]\n",
    "res = list()\n",
    "\n",
    "odd_elements = list1[1::2]\n",
    "print(\"Element at odd-index positions from list one\")\n",
    "print(odd_elements)\n",
    "\n",
    "even_elements = list2[0::2]\n",
    "print(\"Element at even-index positions from list two\")\n",
    "print(even_elements)\n",
    "\n",
    "print(\"Printing Final third list\")\n",
    "res.extend(odd_elements)\n",
    "res.extend(even_elements)\n",
    "print(res)\n"
   ]
  },
  {
   "cell_type": "code",
   "execution_count": null,
   "id": "f35d3bc7",
   "metadata": {},
   "outputs": [],
   "source": []
  },
  {
   "cell_type": "markdown",
   "id": "9038aa34",
   "metadata": {},
   "source": [
    "### Exercise 2: Remove and add item in a list\n",
    "Write a program to remove the item present at index 4 and add it to the 2nd position and at the end of the list.\n",
    "\n",
    "Given:\n",
    "\n",
    "list1 = [54, 44, 27, 79, 91, 41]\n",
    "\n",
    "Expected Output:\n",
    "\n",
    "List After removing element at index 4  [34, 54, 67, 89, 43, 94]\n",
    "\n",
    "List after Adding element at index 2  [34, 54, 11, 67, 89, 43, 94]\n",
    "\n",
    "List after Adding element at last  [34, 54, 11, 67, 89, 43, 94, 11]"
   ]
  },
  {
   "cell_type": "code",
   "execution_count": 17,
   "id": "b5e48beb",
   "metadata": {},
   "outputs": [
    {
     "name": "stdout",
     "output_type": "stream",
     "text": [
      "[54, 44, 27, 91, 41]\n",
      "[54, 44, 11, 27, 91, 41]\n",
      "[54, 44, 11, 27, 91, 41, 11]\n"
     ]
    }
   ],
   "source": [
    "list1 = [54, 44, 27, 79, 91, 41]\n",
    "a = list1.pop(3)\n",
    "print(list1)\n",
    "b = list1.insert(2, 11)\n",
    "print(list1)\n",
    "c = list1.append(11)\n",
    "print(list1)"
   ]
  },
  {
   "cell_type": "code",
   "execution_count": 18,
   "id": "df0af6e9",
   "metadata": {},
   "outputs": [
    {
     "name": "stdout",
     "output_type": "stream",
     "text": [
      "Original list  [34, 54, 67, 89, 11, 43, 94]\n",
      "List After removing element at index 4  [34, 54, 67, 89, 43, 94]\n",
      "List after Adding element at index 2  [34, 54, 11, 67, 89, 43, 94]\n",
      "List after Adding element at last  [34, 54, 11, 67, 89, 43, 94, 11]\n"
     ]
    }
   ],
   "source": [
    "sample_list = [34, 54, 67, 89, 11, 43, 94]\n",
    "\n",
    "print(\"Original list \", sample_list)\n",
    "element = sample_list.pop(4)\n",
    "print(\"List After removing element at index 4 \", sample_list)\n",
    "\n",
    "sample_list.insert(2, element)\n",
    "print(\"List after Adding element at index 2 \", sample_list)\n",
    "\n",
    "sample_list.append(element)\n",
    "print(\"List after Adding element at last \", sample_list)"
   ]
  },
  {
   "cell_type": "code",
   "execution_count": null,
   "id": "b0685146",
   "metadata": {},
   "outputs": [],
   "source": []
  },
  {
   "cell_type": "markdown",
   "id": "3354a025",
   "metadata": {},
   "source": [
    "### Exercise 3: Slice list into 3 equal chunks and reverse each chunk\n",
    "Given:\n",
    "\n",
    "sample_list = [11, 45, 8, 23, 14, 12, 78, 45, 89]\n",
    "\n",
    "Expected Outcome:\n",
    "\n",
    "Chunk  1 [11, 45, 8]\n",
    "\n",
    "After reversing it  [8, 45, 11]\n",
    "\n",
    "Chunk  2 [23, 14, 12]\n",
    "\n",
    "After reversing it  [12, 14, 23]\n",
    "\n",
    "Chunk  3 [78, 45, 89]\n",
    "\n",
    "After reversing it  [89, 45, 78]"
   ]
  },
  {
   "cell_type": "code",
   "execution_count": 46,
   "id": "a2b65490",
   "metadata": {},
   "outputs": [
    {
     "name": "stdout",
     "output_type": "stream",
     "text": [
      "[11, 45, 8]\n",
      "rev_chunk [8, 45, 11]\n",
      "[23, 14, 12]\n",
      "rev_chunk [12, 14, 23]\n",
      "[78, 45, 89]\n",
      "rev_chunk [89, 45, 78]\n"
     ]
    }
   ],
   "source": [
    "sample_list = [11, 45, 8, 23, 14, 12, 78, 45, 89]\n",
    "\n",
    "chunk_1 = sample_list[0:3]\n",
    "print(chunk_1)\n",
    "print(\"rev_chunk\",list(reversed(chunk_1)))\n",
    "chunk_2 = sample_list[3:6]\n",
    "print(chunk_2)\n",
    "print(\"rev_chunk\",list(reversed(chunk_2)))\n",
    "chunk_3 = sample_list[6:]\n",
    "print(chunk_3)\n",
    "print(\"rev_chunk\",list(reversed(chunk_3)))"
   ]
  },
  {
   "cell_type": "code",
   "execution_count": null,
   "id": "da62e45a",
   "metadata": {},
   "outputs": [],
   "source": []
  },
  {
   "cell_type": "markdown",
   "id": "c4fdded2",
   "metadata": {},
   "source": [
    "### Exercise 4: Count the occurrence of each element from a list\n",
    "Write a program to iterate a given list and count the occurrence of each element and create a dictionary to show the count of each element.\n",
    "\n",
    "Given:\n",
    "\n",
    "sample_list = [11, 45, 8, 11, 23, 45, 23, 45, 89]\n",
    "\n",
    "Expected Output:\n",
    "\n",
    "Printing count of each item   {11: 2, 45: 3, 8: 1, 23: 2, 89: 1}"
   ]
  },
  {
   "cell_type": "code",
   "execution_count": 50,
   "id": "fdecd4e1",
   "metadata": {},
   "outputs": [
    {
     "name": "stdout",
     "output_type": "stream",
     "text": [
      "Original list  [11, 45, 8, 11, 23, 45, 23, 45, 89]\n",
      "Printing count of each item   {11: 2, 45: 3, 8: 1, 23: 2, 89: 1}\n"
     ]
    }
   ],
   "source": [
    "sample_list = [11, 45, 8, 11, 23, 45, 23, 45, 89]\n",
    "print(\"Original list \", sample_list)\n",
    "\n",
    "count_dict = dict()\n",
    "for item in sample_list:\n",
    "    if item in count_dict:\n",
    "        count_dict[item] += 1\n",
    "    else:\n",
    "        count_dict[item] = 1\n",
    "\n",
    "print(\"Printing count of each item  \", count_dict)\n"
   ]
  },
  {
   "cell_type": "code",
   "execution_count": null,
   "id": "7c0450e8",
   "metadata": {},
   "outputs": [],
   "source": []
  },
  {
   "cell_type": "markdown",
   "id": "766183d1",
   "metadata": {},
   "source": [
    "### Exercise 5: Create a Python set such that it shows the element from both lists in a pair\n",
    "Given:\n",
    "\n",
    "first_list = [2, 3, 4, 5, 6, 7, 8]\n",
    "\n",
    "second_list = [4, 9, 16, 25, 36, 49, 64]\n",
    "\n",
    "Expected Output:\n",
    "\n",
    "Result is  {(6, 36), (8, 64), (4, 16), (5, 25), (3, 9), (7, 49), (2, 4)}"
   ]
  },
  {
   "cell_type": "code",
   "execution_count": 7,
   "id": "fb76ef07",
   "metadata": {},
   "outputs": [
    {
     "data": {
      "text/plain": [
       "{(2, 4), (3, 9), (4, 16), (5, 25), (6, 36), (7, 49), (8, 64)}"
      ]
     },
     "execution_count": 7,
     "metadata": {},
     "output_type": "execute_result"
    }
   ],
   "source": [
    "first_list = [2, 3, 4, 5, 6, 7, 8 ]\n",
    "\n",
    "second_list = [4, 9, 16, 25, 36, 49, 64]\n",
    "\n",
    "a = zip(first_list, second_list)\n",
    "\n",
    "b = set(a)    \n",
    "b"
   ]
  },
  {
   "cell_type": "code",
   "execution_count": 3,
   "id": "df1ff5ee",
   "metadata": {},
   "outputs": [
    {
     "data": {
      "text/plain": [
       "{(2, 4), (3, 9), (4, 16), (5, 25), (6, 36), (7, 49), (8, 64)}"
      ]
     },
     "execution_count": 3,
     "metadata": {},
     "output_type": "execute_result"
    }
   ],
   "source": [
    "first_list = [2, 3, 4, 5, 6, 7, 8]\n",
    "\n",
    "second_list = [4, 9, 16, 25, 36, 49, 64]\n",
    "\n",
    "a = set(zip(first_list, second_list))\n",
    "a"
   ]
  },
  {
   "cell_type": "markdown",
   "id": "cf6e85ed",
   "metadata": {},
   "source": [
    "### Exercise 6: Find the intersection (common) of two sets and remove those elements from the first set\n",
    "See: Python Set\n",
    "\n",
    "Given:\n",
    "\n",
    "first_set = {23, 42, 65, 57, 78, 83, 29}\n",
    "\n",
    "second_set = {57, 83, 29, 67, 73, 43, 48}\n",
    "\n",
    "Expected Output:\n",
    "\n",
    "Intersection is  {57, 83, 29}\n",
    "\n",
    "First Set after removing common element  {65, 42, 78, 23}"
   ]
  },
  {
   "cell_type": "code",
   "execution_count": 74,
   "id": "6ee717a7",
   "metadata": {},
   "outputs": [
    {
     "name": "stdout",
     "output_type": "stream",
     "text": [
      "First Set  {65, 83, 23, 57, 42, 29, 78}\n",
      "Second Set  {48, 67, 83, 73, 43, 29, 57}\n",
      "Intersection is  {57, 83, 29}\n",
      "First Set after removing common element  {65, 23, 42, 78}\n"
     ]
    }
   ],
   "source": [
    "first_set = {23, 42, 65, 57, 78, 83, 29}\n",
    "second_set = {57, 83, 29, 67, 73, 43, 48}\n",
    "\n",
    "print(\"First Set \", first_set)\n",
    "print(\"Second Set \", second_set)\n",
    "\n",
    "intersection = first_set.intersection(second_set)\n",
    "print(\"Intersection is \", intersection)\n",
    "for item in intersection:\n",
    "    first_set.remove(item)\n",
    "\n",
    "print(\"First Set after removing common element \", first_set)\n"
   ]
  },
  {
   "cell_type": "code",
   "execution_count": null,
   "id": "763fcddb",
   "metadata": {},
   "outputs": [],
   "source": []
  },
  {
   "cell_type": "markdown",
   "id": "cf0bf86f",
   "metadata": {},
   "source": [
    "### Exercise 7: Checks if one set is a subset or superset of another set. If found, delete all elements from that set\n",
    "Given:\n",
    "\n",
    "first_set = {27, 43, 34}\n",
    "\n",
    "second_set = {34, 93, 22, 27, 43, 53, 48}\n",
    "\n",
    "Expected Output:\n",
    "\n",
    "First set is subset of second set - True\n",
    "\n",
    "Second set is subset of First set -  False\n",
    "\n",
    "First set is Super set of second set -  False\n",
    "\n",
    "Second set is Super set of First set -  True\n",
    "\n",
    "First Set  set()\n",
    "\n",
    "Second Set  {67, 73, 43, 48, 83, 57, 29}"
   ]
  },
  {
   "cell_type": "code",
   "execution_count": 76,
   "id": "8c29fb77",
   "metadata": {},
   "outputs": [
    {
     "name": "stdout",
     "output_type": "stream",
     "text": [
      "First Set  {57, 83, 29}\n",
      "Second Set  {48, 67, 83, 73, 43, 29, 57}\n",
      "First set is subset of second set - True\n",
      "Second set is subset of First set -  False\n",
      "First set is Super set of second set -  False\n",
      "Second set is Super set of First set -  True\n",
      "First Set  set()\n",
      "Second Set  {48, 67, 83, 73, 43, 29, 57}\n"
     ]
    }
   ],
   "source": [
    "first_set = {57, 83, 29}\n",
    "second_set = {57, 83, 29, 67, 73, 43, 48}\n",
    "\n",
    "print(\"First Set \", first_set)\n",
    "print(\"Second Set \", second_set)\n",
    "\n",
    "print(\"First set is subset of second set -\", first_set.issubset(second_set))\n",
    "print(\"Second set is subset of First set - \", second_set.issubset(first_set))\n",
    "\n",
    "print(\"First set is Super set of second set - \", first_set.issuperset(second_set))\n",
    "print(\"Second set is Super set of First set - \", second_set.issuperset(first_set))\n",
    "\n",
    "if first_set.issubset(second_set):\n",
    "    first_set.clear()\n",
    "\n",
    "if second_set.issubset(first_set):\n",
    "    second_set.clear()\n",
    "\n",
    "print(\"First Set \", first_set)\n",
    "print(\"Second Set \", second_set)"
   ]
  },
  {
   "cell_type": "code",
   "execution_count": null,
   "id": "9f6dd7b3",
   "metadata": {},
   "outputs": [],
   "source": []
  },
  {
   "cell_type": "markdown",
   "id": "ecc68e7f",
   "metadata": {},
   "source": [
    "### Exercise 8: Iterate a given list and check if a given element exists as a key’s value in a dictionary. If not, delete it from the list\n",
    "Given:\n",
    "\n",
    "roll_number = [47, 64, 69, 37, 76, 83, 95, 97]\n",
    "\n",
    "sample_dict = {'Jhon':47, 'Emma':69, 'Kelly':76, 'Jason':97\n",
    "\n",
    "Expected Outcome:\n",
    "\n",
    "After removing unwanted elements from list [47, 69, 76, 97]"
   ]
  },
  {
   "cell_type": "code",
   "execution_count": 1,
   "id": "aa997b77",
   "metadata": {},
   "outputs": [
    {
     "name": "stdout",
     "output_type": "stream",
     "text": [
      "List: [47, 64, 69, 37, 76, 83, 95, 97]\n",
      "Dictionary: {'Jhon': 47, 'Emma': 69, 'Kelly': 76, 'Jason': 97}\n",
      "[47, 64, 69, 37, 76, 83, 95, 97]\n",
      "after removing unwanted elements from list: [47, 69, 76, 97]\n"
     ]
    }
   ],
   "source": [
    "\n",
    "\n",
    "roll_number = [47, 64, 69, 37, 76, 83, 95, 97]\n",
    "sample_dict = {'Jhon': 47, 'Emma': 69, 'Kelly': 76, 'Jason': 97}\n",
    "\n",
    "print(\"List:\", roll_number)\n",
    "print(\"Dictionary:\", sample_dict)\n",
    "print(roll_number[:]) \n",
    "# create new list\n",
    "roll_number[:] = [item for item in roll_number if item in sample_dict.values()]\n",
    "print(\"after removing unwanted elements from list:\", roll_number)\n"
   ]
  },
  {
   "cell_type": "code",
   "execution_count": null,
   "id": "0e359c47",
   "metadata": {},
   "outputs": [],
   "source": []
  },
  {
   "cell_type": "markdown",
   "id": "f7dda737",
   "metadata": {},
   "source": [
    "### Exercise 9: Get all values from the dictionary and add them to a list but don’t add duplicates\n",
    "Given:\n",
    "\n",
    "speed = {'jan': 47, 'feb': 52, 'march': 47, 'April': 44, 'May': 52, 'June': 53, 'july': 54, 'Aug': 44, 'Sept': 54}\n",
    "\n",
    "Expected Outcome:\n",
    "\n",
    "[47, 52, 44, 53, 54]"
   ]
  },
  {
   "cell_type": "code",
   "execution_count": 85,
   "id": "05398a02",
   "metadata": {},
   "outputs": [
    {
     "name": "stdout",
     "output_type": "stream",
     "text": [
      "47 52 47 44 52 53 54 44 54 [47, 52, 44, 53, 54]\n"
     ]
    }
   ],
   "source": [
    "speed = {'jan': 47, 'feb': 52, 'march': 47, 'April': 44, 'May': 52, 'June': 53, 'july': 54, 'Aug': 44, 'Sept': 54}\n",
    "for i in speed.values():\n",
    "    print(i, end=' ')\n",
    "uni_speed = list()\n",
    "for i in speed.values():\n",
    "    if i not in uni_speed:\n",
    "        uni_speed.append(i)\n",
    "print(uni_speed)"
   ]
  },
  {
   "cell_type": "code",
   "execution_count": 82,
   "id": "60aa6792",
   "metadata": {},
   "outputs": [
    {
     "name": "stdout",
     "output_type": "stream",
     "text": [
      "Dictionary's values -  dict_values([47, 52, 47, 44, 52, 53, 54, 44, 54])\n",
      "unique list [47, 52, 44, 53, 54]\n"
     ]
    }
   ],
   "source": [
    "speed = {'jan': 47, 'feb': 52, 'march': 47, 'April': 44, 'May': 52, 'June': 53,\n",
    "         'july': 54, 'Aug': 44, 'Sept': 54}\n",
    "\n",
    "print(\"Dictionary's values - \", speed.values())\n",
    "\n",
    "speed_list = list()\n",
    "\n",
    "# iterate dict values\n",
    "for val in speed.values():\n",
    "    # check if value not present in a list\n",
    "    if val not in speed_list:\n",
    "        speed_list.append(val)\n",
    "print(\"unique list\", speed_list)"
   ]
  },
  {
   "cell_type": "code",
   "execution_count": null,
   "id": "2d7cb29d",
   "metadata": {},
   "outputs": [],
   "source": []
  },
  {
   "cell_type": "markdown",
   "id": "b0417f53",
   "metadata": {},
   "source": [
    "### Exercise 10: Remove duplicates from a list and create a tuple and find the minimum and maximum number\n",
    "Given:\n",
    "\n",
    "sample_list = [87, 45, 41, 65, 94, 41, 99, 94]\n",
    "\n",
    "Expected Outcome:\n",
    "\n",
    "unique items [87, 45, 41, 65, 99]\n",
    "\n",
    "tuple (87, 45, 41, 65, 99)\n",
    "\n",
    "min: 41\n",
    "    \n",
    "max: 99"
   ]
  },
  {
   "cell_type": "code",
   "execution_count": 101,
   "id": "f1ed0b6a",
   "metadata": {},
   "outputs": [
    {
     "name": "stdout",
     "output_type": "stream",
     "text": [
      "[65, 99, 41, 45, 87, 94]\n",
      "(65, 99, 41, 45, 87, 94)\n",
      "99\n",
      "41\n"
     ]
    }
   ],
   "source": [
    "sample_list = [87, 45, 41, 65, 94, 41, 99, 94]\n",
    "uni = list(set(sample_list))\n",
    "print(uni)\n",
    "a  = tuple(uni)\n",
    "print(a)\n",
    "b = max(a)\n",
    "print(b)\n",
    "c= min(a)\n",
    "print(c)"
   ]
  },
  {
   "cell_type": "code",
   "execution_count": 102,
   "id": "02a2f811",
   "metadata": {},
   "outputs": [
    {
     "name": "stdout",
     "output_type": "stream",
     "text": [
      "Original list [87, 52, 44, 53, 54, 87, 52, 53]\n",
      "unique list [44, 52, 53, 54, 87]\n",
      "tuple  (44, 52, 53, 54, 87)\n",
      "Minimum number is:  44\n",
      "Maximum number is:  87\n"
     ]
    }
   ],
   "source": [
    "sample_list = [87, 52, 44, 53, 54, 87, 52, 53]\n",
    "\n",
    "print(\"Original list\", sample_list)\n",
    "\n",
    "sample_list = list(set(sample_list))\n",
    "print(\"unique list\", sample_list)\n",
    "\n",
    "t = tuple(sample_list)\n",
    "print(\"tuple \", t)\n",
    "\n",
    "print(\"Minimum number is: \", min(t))\n",
    "print(\"Maximum number is: \", max(t))"
   ]
  },
  {
   "cell_type": "markdown",
   "id": "99b02f1a",
   "metadata": {},
   "source": [
    "## Find All Pairs with a Given Sum\n",
    "\n",
    "\n",
    "### Write a function that takes a list of integers and a target sum, returning all unique pairs of integers in the list that add up to the target sum."
   ]
  },
  {
   "cell_type": "markdown",
   "id": "1f4bec3b",
   "metadata": {},
   "source": [
    "### Input: [2, 4, 3, 5, 7, 8, -1], target=6  \n",
    "### Output: [(2, 4), (-1, 7)]\n"
   ]
  },
  {
   "cell_type": "code",
   "execution_count": 47,
   "id": "c1c3fee4",
   "metadata": {},
   "outputs": [
    {
     "data": {
      "text/plain": [
       "[(2, 4), (7, -1)]"
      ]
     },
     "execution_count": 47,
     "metadata": {},
     "output_type": "execute_result"
    }
   ],
   "source": [
    "def find_pairs(nums, target):\n",
    "    pairs = []\n",
    "    for i in range(len(nums)):\n",
    "        for j in range(i + 1, len(nums)):\n",
    "            if nums[i] + nums[j] == target:\n",
    "                pairs.append((nums[i], nums[j]))\n",
    "    return pairs\n",
    "                \n",
    "find_pairs([2,4,3,5,7,8,-1], 6)"
   ]
  },
  {
   "cell_type": "markdown",
   "id": "15b0256b",
   "metadata": {},
   "source": [
    "# Group Anagrams\n",
    "## Given a list of strings, group all anagrams together.\n",
    "\n",
    "\n",
    "### Input: [\"eat\", \"tea\", \"tan\", \"ate\", \"nat\", \"bat\"]\n",
    "### Output: [[\"eat\", \"tea\", \"ate\"], [\"tan\", \"nat\"], [\"bat\"]]\n"
   ]
  },
  {
   "cell_type": "code",
   "execution_count": 92,
   "id": "234fc526",
   "metadata": {},
   "outputs": [
    {
     "data": {
      "text/plain": [
       "[['eat', 'tea', 'ate'], ['tan', 'nat'], ['bat']]"
      ]
     },
     "execution_count": 92,
     "metadata": {},
     "output_type": "execute_result"
    }
   ],
   "source": [
    "def group_anagrams(words):\n",
    "    anagrams = {} \n",
    "    for word in words:\n",
    "        sorted_word = \"\".join(sorted(word))\n",
    "        if sorted_word in anagrams:\n",
    "            anagrams[sorted_word].append(word)\n",
    "        else:\n",
    "            anagrams[sorted_word] = [word]\n",
    "    return list(anagrams.values())\n",
    "\n",
    "words = [\"eat\", \"tea\", \"tan\", \"ate\", \"nat\", \"bat\"]\n",
    "group_anagrams(words)"
   ]
  },
  {
   "cell_type": "markdown",
   "id": "06dafea9",
   "metadata": {},
   "source": [
    "# Rotate List\n",
    "## Rotate a list k steps to the right without using any additional list or importing libraries.\n",
    "\n",
    "### Input: [1, 2, 3, 4, 5], k=2  \n",
    "### Output: [4, 5, 1, 2, 3]"
   ]
  },
  {
   "cell_type": "code",
   "execution_count": 43,
   "id": "1713e7e3",
   "metadata": {},
   "outputs": [
    {
     "name": "stdout",
     "output_type": "stream",
     "text": [
      "3\n",
      "[5, 4, 3, 2, 1]\n",
      "[3, 4, 5, 2, 1]\n",
      "[3, 4, 5, 1, 2]\n"
     ]
    }
   ],
   "source": [
    "\n",
    "def rotate_ls(inp, k):\n",
    "\n",
    "    z = len(inp)\n",
    "    k = k % z\n",
    "\n",
    "    print(k)\n",
    "\n",
    "    inp.reverse()\n",
    "    print(inp)\n",
    "\n",
    "    inp[:k] = inp[:k][::-1]\n",
    "    print(inp)\n",
    "\n",
    "    inp[k:] = inp[k:][::-1]\n",
    "    print(inp)\n",
    "\n",
    "inp = [1,2,3,4,5]\n",
    "rotate_ls(inp, 3)"
   ]
  },
  {
   "cell_type": "code",
   "execution_count": null,
   "id": "ba892184",
   "metadata": {},
   "outputs": [],
   "source": []
  },
  {
   "cell_type": "markdown",
   "id": "0b05b9dc",
   "metadata": {},
   "source": [
    "# Find the Second Largest Number\n",
    "## Write a function to find the second largest number in a list without using built-in functions like sorted().\n",
    "\n",
    "### inp: [3, 1, 4, 1, 5, 9]\n",
    "### Output: 5"
   ]
  },
  {
   "cell_type": "code",
   "execution_count": 51,
   "id": "e3564f8a",
   "metadata": {},
   "outputs": [
    {
     "name": "stdout",
     "output_type": "stream",
     "text": [
      "5\n"
     ]
    }
   ],
   "source": [
    "def sec_lrg(inp):\n",
    "    a = sorted(inp)\n",
    "    a =a[-1]\n",
    "    print(a)\n",
    "sec_lrg(inp)"
   ]
  },
  {
   "cell_type": "code",
   "execution_count": null,
   "id": "61ab2484",
   "metadata": {},
   "outputs": [
    {
     "ename": "",
     "evalue": "",
     "output_type": "error",
     "traceback": [
      "\u001b[1;31mRunning cells with 'Python 3.12.3' requires the ipykernel package.\n",
      "\u001b[1;31mRun the following command to install 'ipykernel' into the Python environment. \n",
      "\u001b[1;31mCommand: '/usr/bin/python3 -m pip install ipykernel -U --user --force-reinstall'"
     ]
    }
   ],
   "source": [
    "def find_second_largest(numbers):\n",
    "    largest = second_largest = None\n",
    "\n",
    "    for num in numbers:\n",
    "        if largest is None or num > largest:\n",
    "            second_largest = largest\n",
    "            largest = num\n",
    "        elif second_largest is None or (num > second_largest and num != largest):\n",
    "            second_largest = num\n",
    "\n",
    "    return second_largest\n",
    "\n",
    "inp = [3, 1, 4, 1, 5, 9]\n",
    "print(find_second_largest(inp))  \n"
   ]
  },
  {
   "cell_type": "markdown",
   "id": "a811be03",
   "metadata": {},
   "source": [
    "# Maximum Product of Three Numbers\n",
    "## Given a list of integers, find the maximum product of any three numbers.\n",
    "\n",
    "### Input: [-10, -10, 5, 2]  \n",
    "### Output: 500  # (-10 * -10 * 5)"
   ]
  },
  {
   "cell_type": "code",
   "execution_count": null,
   "id": "ad718ded",
   "metadata": {},
   "outputs": [],
   "source": []
  },
  {
   "cell_type": "code",
   "execution_count": null,
   "id": "c1479a6e",
   "metadata": {},
   "outputs": [],
   "source": []
  },
  {
   "cell_type": "markdown",
   "id": "344edd2f",
   "metadata": {},
   "source": [
    "# Find Missing Number\n",
    "## You are given a list of n-1 integers in the range from 1 to n. Find the missing number.\n",
    "\n",
    "### Input: [1, 2, 4, 6, 3, 7, 8]  \n",
    "### Output: 5"
   ]
  },
  {
   "cell_type": "markdown",
   "id": "c2c096fb",
   "metadata": {},
   "source": []
  },
  {
   "cell_type": "markdown",
   "id": "1d4fcd08",
   "metadata": {},
   "source": [
    "# Spiral Order of a Matrix\n",
    "## Given a 2D list (matrix), return all elements in spiral order.\n",
    "\n",
    "### Input: [[1, 2, 3], \n",
    " ###       [4, 5, 6], \n",
    " ###       [7, 8, 9]]  \n",
    "### Output: [1, 2, 3, 6, 9, 8, 7, 4, 5]"
   ]
  },
  {
   "cell_type": "markdown",
   "id": "9b644106",
   "metadata": {},
   "source": []
  },
  {
   "cell_type": "markdown",
   "id": "0f1df0e7",
   "metadata": {},
   "source": [
    "# Remove Duplicates In-Place\n",
    "## Remove duplicates from a list in-place such that each element appears only once and return the new length.\n",
    "\n",
    "### Input: [1, 1, 2, 3, 4, 4, 5]\n",
    "### Output: [1, 2, 3, 4, 5]"
   ]
  },
  {
   "cell_type": "markdown",
   "id": "0f28c8d0",
   "metadata": {},
   "source": []
  },
  {
   "cell_type": "markdown",
   "id": "b9307de0",
   "metadata": {},
   "source": [
    "# Find Common Elements in Two Lists\n",
    "## Given two lists, find the common elements without using set operations.\n",
    "\n",
    "### Input: [1, 2, 3, 4, 5], [3, 4, 5, 6, 7]  \n",
    "### Output: [3, 4, 5]"
   ]
  },
  {
   "cell_type": "markdown",
   "id": "dcd2458f",
   "metadata": {},
   "source": []
  }
 ],
 "metadata": {
  "kernelspec": {
   "display_name": "Python 3",
   "language": "python",
   "name": "python3"
  },
  "language_info": {
   "codemirror_mode": {
    "name": "ipython",
    "version": 3
   },
   "file_extension": ".py",
   "mimetype": "text/x-python",
   "name": "python",
   "nbconvert_exporter": "python",
   "pygments_lexer": "ipython3",
   "version": "3.12.3"
  }
 },
 "nbformat": 4,
 "nbformat_minor": 5
}
