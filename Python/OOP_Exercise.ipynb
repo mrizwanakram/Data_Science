{
 "cells": [
  {
   "cell_type": "markdown",
   "id": "87b7ec33",
   "metadata": {},
   "source": [
    "### 1: Create a Class with instance attributes\n",
    "Write a Python program to create a Vehicle class with max_speed and mileage instance attributes."
   ]
  },
  {
   "cell_type": "code",
   "execution_count": 9,
   "id": "993b5dfd",
   "metadata": {},
   "outputs": [],
   "source": [
    "class Vehicle:\n",
    "    def __init__(self, max_speed, mileage):\n",
    "        self.max_speed = max_speed\n",
    "        self.mileage = mileage\n",
    "    "
   ]
  },
  {
   "cell_type": "code",
   "execution_count": 12,
   "id": "d8a7a6c7",
   "metadata": {},
   "outputs": [
    {
     "name": "stdout",
     "output_type": "stream",
     "text": [
      "400 45\n"
     ]
    }
   ],
   "source": [
    "details = Vehicle(400, 45)\n",
    "print(details.max_speed, details.mileage)"
   ]
  },
  {
   "cell_type": "code",
   "execution_count": null,
   "id": "7caa932b",
   "metadata": {},
   "outputs": [],
   "source": []
  },
  {
   "cell_type": "markdown",
   "id": "a383bafd",
   "metadata": {},
   "source": [
    "### OOP Exercise 2: Create a Vehicle class without any variables and methods"
   ]
  },
  {
   "cell_type": "code",
   "execution_count": 13,
   "id": "b97efa0a",
   "metadata": {},
   "outputs": [],
   "source": [
    "class Vehicle:\n",
    "    pass"
   ]
  },
  {
   "cell_type": "code",
   "execution_count": null,
   "id": "0a7a40e1",
   "metadata": {},
   "outputs": [],
   "source": []
  },
  {
   "cell_type": "markdown",
   "id": "248195db",
   "metadata": {},
   "source": [
    "### OOP Exercise 3: Create a child class Bus that will inherit all of the variables and methods of the Vehicle class\n",
    "Given:\n",
    "\n",
    "class Vehicle:\n",
    "\n",
    "    def __init__(self, name, max_speed, mileage):\n",
    "    \n",
    "        self.name = name\n",
    "        \n",
    "        self.max_speed = max_speed\n",
    "        \n",
    "        self.mileage = mileage\n",
    "        \n",
    "Create a Bus object that will inherit all of the variables and methods of the parent Vehicle class and display it.\n",
    "\n",
    "Expected Output:\n",
    "\n",
    "Vehicle Name: School Volvo Speed: 180 Mileage: 12"
   ]
  },
  {
   "cell_type": "code",
   "execution_count": 20,
   "id": "6343b7e5",
   "metadata": {},
   "outputs": [],
   "source": [
    "class Vehicle:\n",
    "    def __init__(self, name, max_speed, mileage):\n",
    "        self.name = name\n",
    "        self.max_speed = max_speed\n",
    "        self.mileage = mileage\n",
    "class Bus(Vehicle):\n",
    "    pass"
   ]
  },
  {
   "cell_type": "code",
   "execution_count": 25,
   "id": "add3bb20",
   "metadata": {},
   "outputs": [
    {
     "data": {
      "text/plain": [
       "123"
      ]
     },
     "execution_count": 25,
     "metadata": {},
     "output_type": "execute_result"
    }
   ],
   "source": [
    "details = Bus(\"volve\", 123, 7)\n",
    "details.name\n",
    "details.max_speed\n"
   ]
  },
  {
   "cell_type": "code",
   "execution_count": 26,
   "id": "efc8fe91",
   "metadata": {},
   "outputs": [
    {
     "name": "stdout",
     "output_type": "stream",
     "text": [
      "Vehicle Name: School Volvo Speed: 180 Mileage: 12\n"
     ]
    }
   ],
   "source": [
    "class Vehicle:\n",
    "\n",
    "    def __init__(self, name, max_speed, mileage):\n",
    "        self.name = name\n",
    "        self.max_speed = max_speed\n",
    "        self.mileage = mileage\n",
    "\n",
    "class Bus(Vehicle):\n",
    "    pass\n",
    "\n",
    "School_bus = Bus(\"School Volvo\", 180, 12)\n",
    "print(\"Vehicle Name:\", School_bus.name, \"Speed:\", School_bus.max_speed, \"Mileage:\", School_bus.mileage)"
   ]
  },
  {
   "cell_type": "code",
   "execution_count": null,
   "id": "640e5b61",
   "metadata": {},
   "outputs": [],
   "source": []
  },
  {
   "cell_type": "markdown",
   "id": "830ac595",
   "metadata": {},
   "source": [
    "### OOP Exercise 4: Class Inheritance\n",
    "Given:\n",
    "\n",
    "Create a Bus class that inherits from the Vehicle class. Give the capacity argument of Bus.seating_capacity() a default value of 50.\n",
    "\n",
    "Use the following code for your parent Vehicle class.\n",
    "\n",
    "class Vehicle:\n",
    "    \n",
    "    def __init__(self, name, max_speed, mileage):\n",
    "        \n",
    "        self.name = name\n",
    "        \n",
    "        self.max_speed = max_speed\n",
    "        \n",
    "        self.mileage = mileage\n",
    "\n",
    "    def seating_capacity(self, capacity):\n",
    "        \n",
    "        return f\"The seating capacity of a {self.name} is {capacity} passengers\"\n",
    "    \n",
    "Expected Output:\n",
    "\n",
    "The seating capacity of a bus is 50 passengers"
   ]
  },
  {
   "cell_type": "code",
   "execution_count": 31,
   "id": "f29ff7af",
   "metadata": {},
   "outputs": [
    {
     "name": "stdout",
     "output_type": "stream",
     "text": [
      "The seating capacity of a School Volvo is 50 passengers\n"
     ]
    }
   ],
   "source": [
    "class Vehicle:\n",
    "    def __init__(self, name, max_speed, mileage):\n",
    "        self.name = name\n",
    "        self.max_speed = max_speed\n",
    "        self.mileage = mileage\n",
    "\n",
    "    def seating_capacity(self, capacity):\n",
    "        return f\"The seating capacity of a {self.name} is {capacity} passengers\"\n",
    "\n",
    "class Bus(Vehicle):\n",
    "    # assign default value to capacity\n",
    "    def seating_capacity(self, capacity=50):\n",
    "        return super().seating_capacity(capacity=50)\n",
    "\n",
    "School_bus = Bus(\"School Volvo\", 180, 12)\n",
    "print(School_bus.seating_capacity())\n"
   ]
  },
  {
   "cell_type": "code",
   "execution_count": null,
   "id": "24df9e82",
   "metadata": {},
   "outputs": [],
   "source": []
  },
  {
   "cell_type": "markdown",
   "id": "0bcc641f",
   "metadata": {},
   "source": [
    "### OOP Exercise 5: Define a property that must have the same value for every class instance (object)\n",
    "Define a class attribute”color” with a default value white. I.e., Every Vehicle should be white.\n",
    "\n",
    "Use the following code for this exercise.\n",
    "\n",
    "class Vehicle:\n",
    "\n",
    "    def __init__(self, name, max_speed, mileage):\n",
    "        \n",
    "        self.name = name\n",
    "        \n",
    "        self.max_speed = max_speed\n",
    "        \n",
    "        self.mileage = mileage\n",
    "\n",
    "class Bus(Vehicle):\n",
    "    pass\n",
    "\n",
    "class Car(Vehicle):\n",
    "    pass\n",
    "\n",
    "Expected out:\n",
    "    \n",
    "Color: White, Vehicle name: School Volvo, Speed: 180, Mileage: 12\n",
    "                \n",
    "Color: White, Vehicle name: Audi Q5, Speed: 240, Mileage: 18"
   ]
  },
  {
   "cell_type": "code",
   "execution_count": 37,
   "id": "5a9f5a3d",
   "metadata": {},
   "outputs": [
    {
     "name": "stdout",
     "output_type": "stream",
     "text": [
      "volve 345 34\n",
      "white volve 345 34\n"
     ]
    }
   ],
   "source": [
    "class Vehicle:\n",
    "    color = \"white\"\n",
    "\n",
    "    def __init__(self, name, max_speed, mileage):\n",
    "        self.name = name\n",
    "        self.max_speed = max_speed\n",
    "        self.mileage = mileage\n",
    "\n",
    "class Bus(Vehicle):\n",
    "    pass\n",
    "\n",
    "class Car(Vehicle):\n",
    "    pass\n",
    "\n",
    "school_bus = Bus(\"volve\", 345, 34)\n",
    "print(school_bus.name, school_bus.max_speed, school_bus.mileage)\n",
    "\n",
    "school_bus = Car(\"volve\", 345, 34)\n",
    "print(school_bus.color, school_bus.name, school_bus.max_speed, school_bus.mileage)"
   ]
  },
  {
   "cell_type": "code",
   "execution_count": 38,
   "id": "35eed879",
   "metadata": {},
   "outputs": [
    {
     "name": "stdout",
     "output_type": "stream",
     "text": [
      "White School Volvo Speed: 180 Mileage: 12\n",
      "White Audi Q5 Speed: 240 Mileage: 18\n"
     ]
    }
   ],
   "source": [
    "class Vehicle:\n",
    "    # Class attribute\n",
    "    color = \"White\"\n",
    "\n",
    "    def __init__(self, name, max_speed, mileage):\n",
    "        self.name = name\n",
    "        self.max_speed = max_speed\n",
    "        self.mileage = mileage\n",
    "\n",
    "class Bus(Vehicle):\n",
    "    pass\n",
    "\n",
    "class Car(Vehicle):\n",
    "    pass\n",
    "\n",
    "School_bus = Bus(\"School Volvo\", 180, 12)\n",
    "print(School_bus.color, School_bus.name, \"Speed:\", School_bus.max_speed, \"Mileage:\", School_bus.mileage)\n",
    "\n",
    "car = Car(\"Audi Q5\", 240, 18)\n",
    "print(car.color, car.name, \"Speed:\", car.max_speed, \"Mileage:\", car.mileage)"
   ]
  },
  {
   "cell_type": "code",
   "execution_count": null,
   "id": "1c67ede9",
   "metadata": {},
   "outputs": [],
   "source": []
  }
 ],
 "metadata": {
  "kernelspec": {
   "display_name": "Python 3 (ipykernel)",
   "language": "python",
   "name": "python3"
  },
  "language_info": {
   "codemirror_mode": {
    "name": "ipython",
    "version": 3
   },
   "file_extension": ".py",
   "mimetype": "text/x-python",
   "name": "python",
   "nbconvert_exporter": "python",
   "pygments_lexer": "ipython3",
   "version": "3.10.6"
  }
 },
 "nbformat": 4,
 "nbformat_minor": 5
}
