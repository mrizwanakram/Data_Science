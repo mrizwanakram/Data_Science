{
 "cells": [
  {
   "cell_type": "markdown",
   "id": "64de4694",
   "metadata": {},
   "source": [
    "### Exercise 1: Create a function in Python\n",
    "Write a program to create a function that takes two arguments, name and age, and print their value.\n",
    "\n"
   ]
  },
  {
   "cell_type": "code",
   "execution_count": 14,
   "id": "50ad38c9",
   "metadata": {},
   "outputs": [
    {
     "name": "stdout",
     "output_type": "stream",
     "text": [
      "riz 23\n"
     ]
    }
   ],
   "source": [
    "def data(name,age):\n",
    "    print(name,age)\n",
    "data(\"riz\",23)"
   ]
  },
  {
   "cell_type": "code",
   "execution_count": 2,
   "id": "10bededb",
   "metadata": {},
   "outputs": [
    {
     "name": "stdout",
     "output_type": "stream",
     "text": [
      "(3, 4, 6)\n"
     ]
    }
   ],
   "source": [
    "def vari_length(*rand):\n",
    "    print(rand)\n",
    "vari_length(3,4,6)"
   ]
  },
  {
   "cell_type": "markdown",
   "id": "eadcd4cd",
   "metadata": {},
   "source": [
    "### Exercise 2: Create a function with variable length of arguments\n",
    "Write a program to create function func1() to accept a variable length of arguments and print their value.\n",
    "\n",
    "Note: Create a function in such a way that we can pass any number of arguments to this function, and the function should process them and display each argument’s value.\n",
    "\n",
    "Function call:\n",
    "\n",
    "\n",
    "call function with 3 arguments\n",
    "\n",
    "func1(20, 40, 60)\n",
    "\n",
    "call function with 2 arguments\n",
    "\n",
    "func1(80, 100)\n",
    "\n",
    "Expected Output:\n",
    "\n",
    "Printing values\n",
    "\n",
    "20\n",
    "\n",
    "40\n",
    "\n",
    "60\n",
    "\n",
    "\n",
    "Printing values\n",
    "\n",
    "80\n",
    "\n",
    "100"
   ]
  },
  {
   "cell_type": "code",
   "execution_count": 19,
   "id": "2c32a578",
   "metadata": {},
   "outputs": [
    {
     "name": "stdout",
     "output_type": "stream",
     "text": [
      "(12, 34, 54, 32, 12, 43, 23)\n",
      "(44, 32, 1)\n"
     ]
    }
   ],
   "source": [
    "def vari_legth(*args):\n",
    "    print(args)\n",
    "vari_legth(12,34,54,32,12,43,23)\n",
    "vari_legth(44,32,1)"
   ]
  },
  {
   "cell_type": "code",
   "execution_count": 20,
   "id": "10d246d4",
   "metadata": {},
   "outputs": [
    {
     "name": "stdout",
     "output_type": "stream",
     "text": [
      "20\n",
      "40\n",
      "60\n",
      "80\n",
      "100\n"
     ]
    }
   ],
   "source": [
    "def func1(*args):\n",
    "    for i in args:\n",
    "        print(i)\n",
    "\n",
    "func1(20, 40, 60)\n",
    "func1(80, 100)"
   ]
  },
  {
   "cell_type": "markdown",
   "id": "8a78af05",
   "metadata": {},
   "source": [
    "### Exercise 4: Create a function with a default argument\n",
    "Write a program to create a function show_employee() using the following conditions.\n",
    "\n",
    "It should accept the employee’s name and salary and display both.\n",
    "If the salary is missing in the function call then assign default value 9000 to salary\n",
    "See: Default arguments in function\n",
    "\n",
    "Given:\n",
    "\n",
    "showEmployee(\"Ben\", 12000)\n",
    "\n",
    "showEmployee(\"Jessa\")\n",
    "\n",
    "Expected output:\n",
    "\n",
    "Name: Ben salary: 12000\n",
    "\n",
    "Name: Jessa salary: 9000"
   ]
  },
  {
   "cell_type": "code",
   "execution_count": 23,
   "id": "fed6ada1",
   "metadata": {},
   "outputs": [
    {
     "name": "stdout",
     "output_type": "stream",
     "text": [
      "Ben 12000\n",
      "jessa 9000\n"
     ]
    }
   ],
   "source": [
    "def show_employee(name, salary = 9000):\n",
    "    print(name, salary)\n",
    "show_employee(\"Ben\", 12000)\n",
    "show_employee(\"jessa\")"
   ]
  },
  {
   "cell_type": "code",
   "execution_count": null,
   "id": "a95fbc81",
   "metadata": {},
   "outputs": [],
   "source": []
  },
  {
   "cell_type": "markdown",
   "id": "9200ec5c",
   "metadata": {},
   "source": [
    "### Exercise 5: Create an inner function to calculate the addition in the following way\n",
    "\n",
    "Create an outer function that will accept two parameters, a and b\n",
    "\n",
    "Create an inner function inside an outer function that will calculate the addition of a and b\n",
    "\n",
    "At last, an outer function will add 5 into addition and return it"
   ]
  },
  {
   "cell_type": "code",
   "execution_count": 30,
   "id": "89ceb9aa",
   "metadata": {},
   "outputs": [
    {
     "name": "stdout",
     "output_type": "stream",
     "text": [
      "20\n"
     ]
    }
   ],
   "source": [
    "\n",
    "# outer function\n",
    "def outer_fun(a, b):\n",
    "    square = a ** 2\n",
    "\n",
    "    # inner function\n",
    "    def addition(a, b):\n",
    "        return a + b\n",
    "\n",
    "    # call inner function from outer function\n",
    "    add = addition(a, b)\n",
    "    # add 5 to the result\n",
    "    return add + 5\n",
    "\n",
    "result = outer_fun(5, 10)\n",
    "print(result)\n"
   ]
  },
  {
   "cell_type": "code",
   "execution_count": null,
   "id": "87aff799",
   "metadata": {},
   "outputs": [],
   "source": []
  },
  {
   "cell_type": "markdown",
   "id": "90e2a179",
   "metadata": {},
   "source": [
    "### Exercise 6: Create a recursive function\n",
    "Write a program to create a recursive function to calculate the sum of numbers from 0 to 10.\n",
    "\n",
    "A recursive function is a function that calls itself again and again.\n",
    "\n",
    "Expected Output:\n",
    "\n",
    "55"
   ]
  },
  {
   "cell_type": "code",
   "execution_count": 31,
   "id": "28e60c66",
   "metadata": {},
   "outputs": [
    {
     "name": "stdout",
     "output_type": "stream",
     "text": [
      "55\n"
     ]
    }
   ],
   "source": [
    "def recursive(n):\n",
    "    if n:\n",
    "        return n + recursive(n -1)\n",
    "    else:\n",
    "        return 0\n",
    "a = recursive(10)\n",
    "print(a)"
   ]
  },
  {
   "cell_type": "code",
   "execution_count": null,
   "id": "baa1e47a",
   "metadata": {},
   "outputs": [],
   "source": []
  },
  {
   "cell_type": "markdown",
   "id": "92ae76b4",
   "metadata": {},
   "source": [
    "### Exercise 7: Assign a different name to function and call it through the new name\n",
    "Below is the function display_student(name, age). Assign a new name show_tudent(name, age) to it and call it using the new name.\n",
    "\n",
    "Given:\n",
    "\n",
    "def display_student(name, age):\n",
    "    \n",
    "    print(name, age)\n",
    "\n",
    "display_student(\"Emma\", 26)\n",
    "\n",
    "You should be able to call the same function using\n",
    "\n",
    "show_student(name, age)\n"
   ]
  },
  {
   "cell_type": "code",
   "execution_count": 39,
   "id": "fbd7f9dd",
   "metadata": {},
   "outputs": [
    {
     "name": "stdout",
     "output_type": "stream",
     "text": [
      "rizwan 23\n"
     ]
    }
   ],
   "source": [
    "def display_student(name, age):\n",
    "    print(name, age)\n",
    "display_student(\"rizwan\", 23)\n"
   ]
  },
  {
   "cell_type": "code",
   "execution_count": 41,
   "id": "3c39cfd0",
   "metadata": {},
   "outputs": [
    {
     "name": "stdout",
     "output_type": "stream",
     "text": [
      "rizwan 23\n"
     ]
    }
   ],
   "source": [
    "show_student = display_student\n",
    "show_student(\"rizwan\", 23)"
   ]
  },
  {
   "cell_type": "code",
   "execution_count": null,
   "id": "cfcec06c",
   "metadata": {},
   "outputs": [],
   "source": []
  },
  {
   "cell_type": "markdown",
   "id": "4c94cddc",
   "metadata": {},
   "source": [
    "### Exercise 8: Generate a Python list of all the even numbers between 4 to 30\n",
    "Expected Output:\n",
    "\n",
    "[4, 6, 8, 10, 12, 14, 16, 18, 20, 22, 24, 26, 28]"
   ]
  },
  {
   "cell_type": "code",
   "execution_count": 47,
   "id": "943d94c5",
   "metadata": {},
   "outputs": [
    {
     "name": "stdout",
     "output_type": "stream",
     "text": [
      "4 6 8 10 12 14 16 18 20 22 24 26 28 "
     ]
    }
   ],
   "source": [
    "for i in range(4, 30):\n",
    "    if i % 2 == 0:\n",
    "        print(i, end=\" \")"
   ]
  },
  {
   "cell_type": "code",
   "execution_count": 49,
   "id": "4210917d",
   "metadata": {},
   "outputs": [
    {
     "name": "stdout",
     "output_type": "stream",
     "text": [
      "[4, 6, 8, 10, 12, 14, 16, 18, 20, 22, 24, 26, 28]\n"
     ]
    }
   ],
   "source": [
    "print(list(range(4,30, 2)))"
   ]
  },
  {
   "cell_type": "markdown",
   "id": "ec405c98",
   "metadata": {},
   "source": [
    "### Exercise 9: Find the largest item from a given list\n",
    "    \n",
    "x = [4, 6, 8, 24, 12, 2]\n",
    "\n",
    "Expected Output:\n",
    "\n",
    "24"
   ]
  },
  {
   "cell_type": "code",
   "execution_count": 58,
   "id": "16bb8a88",
   "metadata": {},
   "outputs": [
    {
     "name": "stdout",
     "output_type": "stream",
     "text": [
      "24\n"
     ]
    }
   ],
   "source": [
    "def largest(x):\n",
    "    x = [4, 6, 8, 24, 12, 2]\n",
    "    print(max(x))\n",
    "largest(x)"
   ]
  },
  {
   "cell_type": "code",
   "execution_count": 55,
   "id": "f98b7004",
   "metadata": {},
   "outputs": [
    {
     "data": {
      "text/plain": [
       "24"
      ]
     },
     "execution_count": 55,
     "metadata": {},
     "output_type": "execute_result"
    }
   ],
   "source": [
    "x = [4, 6, 8, 24, 12, 2]\n",
    "x.sort()\n",
    "x[-1]"
   ]
  },
  {
   "cell_type": "code",
   "execution_count": null,
   "id": "cd1776c5",
   "metadata": {},
   "outputs": [],
   "source": []
  }
 ],
 "metadata": {
  "kernelspec": {
   "display_name": "Python 3 (ipykernel)",
   "language": "python",
   "name": "python3"
  },
  "language_info": {
   "codemirror_mode": {
    "name": "ipython",
    "version": 3
   },
   "file_extension": ".py",
   "mimetype": "text/x-python",
   "name": "python",
   "nbconvert_exporter": "python",
   "pygments_lexer": "ipython3",
   "version": "3.11.4"
  }
 },
 "nbformat": 4,
 "nbformat_minor": 5
}
