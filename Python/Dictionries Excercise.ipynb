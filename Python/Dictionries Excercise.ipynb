{
 "cells": [
  {
   "cell_type": "code",
   "execution_count": 1,
   "id": "7616061b",
   "metadata": {},
   "outputs": [
    {
     "name": "stdout",
     "output_type": "stream",
     "text": [
      "190\n"
     ]
    }
   ],
   "source": [
    "dic =  {\"lahore\": 100,'multan':{\"lah\": 10,'isl':20,'mul':190},'karachi':95}\n",
    "print(dic['multan']['mul'])"
   ]
  },
  {
   "cell_type": "code",
   "execution_count": 2,
   "id": "6d2164be",
   "metadata": {},
   "outputs": [
    {
     "name": "stdout",
     "output_type": "stream",
     "text": [
      "{'lahore': 1000, 'multan': {'lah': 10, 'isl': 20, 'mul': 190}, 'karachi': 95}\n"
     ]
    }
   ],
   "source": [
    "dic['lahore'] = 1000\n",
    "print(dic)"
   ]
  },
  {
   "cell_type": "code",
   "execution_count": 10,
   "id": "f8289d77",
   "metadata": {},
   "outputs": [
    {
     "name": "stdout",
     "output_type": "stream",
     "text": [
      "{'lahore': 100, 'multan': {'lah': 10, 'isl': 20, 'mul': 190}, 'karachi': 95}\n"
     ]
    }
   ],
   "source": [
    "dic['lahore'] = 100\n",
    "print(dic)"
   ]
  },
  {
   "cell_type": "code",
   "execution_count": 11,
   "id": "eeb208f7",
   "metadata": {},
   "outputs": [
    {
     "name": "stdout",
     "output_type": "stream",
     "text": [
      "3\n"
     ]
    }
   ],
   "source": [
    "print(len(dic))"
   ]
  },
  {
   "cell_type": "code",
   "execution_count": 12,
   "id": "b5ab8112",
   "metadata": {},
   "outputs": [
    {
     "name": "stdout",
     "output_type": "stream",
     "text": [
      "['isl', 'lah', 'mul']\n"
     ]
    }
   ],
   "source": [
    "print(sorted(dic['multan']))"
   ]
  },
  {
   "cell_type": "code",
   "execution_count": 13,
   "id": "993bd234",
   "metadata": {},
   "outputs": [
    {
     "name": "stdout",
     "output_type": "stream",
     "text": [
      "['karachi', 'lahore', 'multan']\n"
     ]
    }
   ],
   "source": [
    "print(sorted(dic))"
   ]
  },
  {
   "cell_type": "code",
   "execution_count": 18,
   "id": "00ab1dfe",
   "metadata": {},
   "outputs": [
    {
     "name": "stdout",
     "output_type": "stream",
     "text": [
      "lahore : 100\n",
      "multan : {'lah': 10, 'isl': 20, 'mul': 190}\n",
      "karachi : 95\n"
     ]
    }
   ],
   "source": [
    "for i in dic:\n",
    "    print(i, ':', dic[i])"
   ]
  },
  {
   "cell_type": "code",
   "execution_count": null,
   "id": "7907b1ea",
   "metadata": {},
   "outputs": [],
   "source": []
  },
  {
   "cell_type": "code",
   "execution_count": 19,
   "id": "5e3c0001",
   "metadata": {},
   "outputs": [
    {
     "name": "stdout",
     "output_type": "stream",
     "text": [
      "lahore is their\n"
     ]
    }
   ],
   "source": [
    "if 'lahore' in dic: #true\n",
    "    print('lahore is their')\n"
   ]
  },
  {
   "cell_type": "code",
   "execution_count": 21,
   "id": "4c277b93",
   "metadata": {},
   "outputs": [
    {
     "name": "stdout",
     "output_type": "stream",
     "text": [
      "Not their\n"
     ]
    }
   ],
   "source": [
    "if 1000 in dic:#false\n",
    "    print('1000 is thir')\n",
    "else:\n",
    "    print(\"Not their\")"
   ]
  },
  {
   "cell_type": "code",
   "execution_count": 22,
   "id": "f34ac9a2",
   "metadata": {},
   "outputs": [
    {
     "data": {
      "text/plain": [
       "{'lahore': 100, 'multan': {'lah': 10, 'isl': 20, 'mul': 190}, 'karachi': 95}"
      ]
     },
     "execution_count": 22,
     "metadata": {},
     "output_type": "execute_result"
    }
   ],
   "source": [
    "dic"
   ]
  },
  {
   "cell_type": "code",
   "execution_count": 4,
   "id": "04f5b6ee",
   "metadata": {},
   "outputs": [
    {
     "data": {
      "text/plain": [
       "{'lahore': 1000, 'multan': 40, 'karachi': 95}"
      ]
     },
     "execution_count": 4,
     "metadata": {},
     "output_type": "execute_result"
    }
   ],
   "source": [
    "dic1 = {'lahore': 1000, 'multan':40, 'karachi': 95}\n",
    "dic1"
   ]
  },
  {
   "cell_type": "code",
   "execution_count": 5,
   "id": "acfba058",
   "metadata": {},
   "outputs": [
    {
     "name": "stdout",
     "output_type": "stream",
     "text": [
      "dict_keys(['lahore', 'multan', 'karachi'])\n",
      "dict_values([1000, 40, 95])\n",
      "dict_items([('lahore', 1000), ('multan', 40), ('karachi', 95)])\n"
     ]
    }
   ],
   "source": [
    "print(dic1.keys())\n",
    "print(dic1.values())\n",
    "print(dic1.items())"
   ]
  },
  {
   "cell_type": "code",
   "execution_count": 7,
   "id": "af12999d",
   "metadata": {},
   "outputs": [
    {
     "name": "stdout",
     "output_type": "stream",
     "text": [
      "lahore\n",
      "multan\n",
      "karachi\n"
     ]
    }
   ],
   "source": [
    "for i in dic1.keys():\n",
    "    print(i)\n",
    "    "
   ]
  },
  {
   "cell_type": "code",
   "execution_count": 26,
   "id": "821b3d4b",
   "metadata": {},
   "outputs": [
    {
     "name": "stdout",
     "output_type": "stream",
     "text": [
      "1000\n",
      "40\n",
      "95\n"
     ]
    }
   ],
   "source": [
    "for i in dic1.values():\n",
    "    print(i)"
   ]
  },
  {
   "cell_type": "code",
   "execution_count": 27,
   "id": "0b7a4038",
   "metadata": {},
   "outputs": [
    {
     "name": "stdout",
     "output_type": "stream",
     "text": [
      "('lahore', 1000)\n",
      "('multan', 40)\n",
      "('karachi', 95)\n"
     ]
    }
   ],
   "source": [
    "for i in dic1.items():\n",
    "    print(i)"
   ]
  },
  {
   "cell_type": "code",
   "execution_count": 8,
   "id": "e777ac1d",
   "metadata": {},
   "outputs": [
    {
     "name": "stdout",
     "output_type": "stream",
     "text": [
      "1000\n"
     ]
    }
   ],
   "source": [
    "val = dic1.get('lahore')\n",
    "print(val)"
   ]
  },
  {
   "cell_type": "code",
   "execution_count": null,
   "id": "e432fb19",
   "metadata": {},
   "outputs": [],
   "source": []
  },
  {
   "cell_type": "code",
   "execution_count": null,
   "id": "99cbdb0d",
   "metadata": {},
   "outputs": [],
   "source": []
  },
  {
   "cell_type": "code",
   "execution_count": null,
   "id": "5797169c",
   "metadata": {},
   "outputs": [],
   "source": []
  },
  {
   "cell_type": "code",
   "execution_count": null,
   "id": "f934fa9a",
   "metadata": {},
   "outputs": [],
   "source": []
  },
  {
   "cell_type": "markdown",
   "id": "5be22493",
   "metadata": {},
   "source": [
    "### Exercise 1: Convert two lists into a dictionary"
   ]
  },
  {
   "cell_type": "code",
   "execution_count": 1,
   "id": "a56b12ca",
   "metadata": {},
   "outputs": [],
   "source": [
    "# input\n",
    "keys = ['Ten', 'Twenty', 'Thirty']\n",
    "values = [10, 20, 30]\n",
    "\n",
    "# Expected output:\n",
    "\n",
    "# {'Ten': 10, 'Twenty': 20, 'Thirty': 30}"
   ]
  },
  {
   "cell_type": "code",
   "execution_count": 2,
   "id": "15923e27",
   "metadata": {},
   "outputs": [
    {
     "data": {
      "text/plain": [
       "{'Ten': 10, 'Twenty': 20, 'Thirty': 30}"
      ]
     },
     "execution_count": 2,
     "metadata": {},
     "output_type": "execute_result"
    }
   ],
   "source": [
    "a = dict(zip(keys, values))\n",
    "a"
   ]
  },
  {
   "cell_type": "code",
   "execution_count": 3,
   "id": "e5c9183b",
   "metadata": {},
   "outputs": [
    {
     "data": {
      "text/plain": [
       "{('Ten', 10), ('Thirty', 30), ('Twenty', 20)}"
      ]
     },
     "execution_count": 3,
     "metadata": {},
     "output_type": "execute_result"
    }
   ],
   "source": [
    "\n",
    "a = set(zip(keys, values))\n",
    "a       "
   ]
  },
  {
   "cell_type": "markdown",
   "id": "33d894fb",
   "metadata": {},
   "source": [
    "### Exercise 2: Merge two Python dictionaries into one"
   ]
  },
  {
   "cell_type": "code",
   "execution_count": 32,
   "id": "99cb532d",
   "metadata": {},
   "outputs": [],
   "source": [
    "\n",
    "dict1 = {'Ten': 10, 'Twenty': 20, 'Thirty': 30}\n",
    "dict2 = {'Thirty': 30, 'Fourty': 40, 'Fifty': 50}\n",
    "\n",
    "# Expected output:\n",
    "\n",
    "# {'Ten': 10, 'Twenty': 20, 'Thirty': 30, 'Fourty': 40, 'Fifty': 50}"
   ]
  },
  {
   "cell_type": "code",
   "execution_count": 34,
   "id": "fbcc5e6f",
   "metadata": {},
   "outputs": [
    {
     "name": "stdout",
     "output_type": "stream",
     "text": [
      "{'Ten': 10, 'Twenty': 20, 'Thirty': 30, 'Fourty': 40, 'Fifty': 50}\n"
     ]
    }
   ],
   "source": [
    "a = {**dict1, **dict2}\n",
    "print(a)\n",
    "# The syntax ** is used for dictionary unpacking, which allows you to pass multiple dictionaries\n",
    "# as arguments to a function or, in this case, combine them into a single dictionary."
   ]
  },
  {
   "cell_type": "code",
   "execution_count": null,
   "id": "03b1dbd3",
   "metadata": {},
   "outputs": [],
   "source": []
  },
  {
   "cell_type": "markdown",
   "id": "f084c15c",
   "metadata": {},
   "source": [
    "### Exercise 3: Print the value of key ‘history’ from the below dict"
   ]
  },
  {
   "cell_type": "code",
   "execution_count": 9,
   "id": "8c43f476",
   "metadata": {},
   "outputs": [
    {
     "data": {
      "text/plain": [
       "70"
      ]
     },
     "execution_count": 9,
     "metadata": {},
     "output_type": "execute_result"
    }
   ],
   "source": [
    "\n",
    "\n",
    "sampleDict = {\n",
    "    \"class\": {\n",
    "        \"student\": {\n",
    "            \"name\": \"Mike\",\n",
    "            \"marks\": {\n",
    "                \"physics\": 70,\n",
    "                \"history\": 80\n",
    "            }\n",
    "        }\n",
    "    }\n",
    "}\n",
    "\n",
    "# Expected output:\n",
    "# 80\n",
    "\n",
    "sampleDict['class']['student']['marks']['physics']"
   ]
  },
  {
   "cell_type": "code",
   "execution_count": 35,
   "id": "e3ab3a5f",
   "metadata": {},
   "outputs": [],
   "source": [
    "sampleDict = {\n",
    "    \"class\": {\n",
    "        \"student\": {\n",
    "            \"name\": \"Mike\",\n",
    "            \"marks\": {\n",
    "                \"physics\": 70,\n",
    "                \"history\": 80\n",
    "            }\n",
    "        }\n",
    "    }\n",
    "}\n",
    "\n",
    "# Expected output:\n",
    "# 70"
   ]
  },
  {
   "cell_type": "code",
   "execution_count": 36,
   "id": "e609700b",
   "metadata": {},
   "outputs": [
    {
     "name": "stdout",
     "output_type": "stream",
     "text": [
      "70\n"
     ]
    }
   ],
   "source": [
    "print(sampleDict['class']['student']['marks']['physics'])"
   ]
  },
  {
   "cell_type": "markdown",
   "id": "3dde39bc",
   "metadata": {},
   "source": [
    "### Exercise 4: Initialize dictionary with default values"
   ]
  },
  {
   "cell_type": "code",
   "execution_count": 38,
   "id": "9fb59954",
   "metadata": {},
   "outputs": [],
   "source": [
    "employees = ['Kelly', 'Emma']\n",
    "defaults = {\"designation\": 'Developer', \"salary\": 8000}"
   ]
  },
  {
   "cell_type": "code",
   "execution_count": 39,
   "id": "cf91184b",
   "metadata": {},
   "outputs": [],
   "source": [
    "# {'Kelly': {'designation': 'Developer', 'salary': 8000}, 'Emma': {'designation': 'Developer', 'salary': 8000}}"
   ]
  },
  {
   "cell_type": "code",
   "execution_count": 40,
   "id": "6052a3b4",
   "metadata": {},
   "outputs": [
    {
     "name": "stdout",
     "output_type": "stream",
     "text": [
      "{'Kelly': {'designation': 'Developer', 'salary': 8000}, 'Emma': {'designation': 'Developer', 'salary': 8000}}\n"
     ]
    }
   ],
   "source": [
    "a = dict.fromkeys(employees,defaults)\n",
    "print(a)"
   ]
  },
  {
   "cell_type": "code",
   "execution_count": 41,
   "id": "7df6b8af",
   "metadata": {},
   "outputs": [
    {
     "name": "stdout",
     "output_type": "stream",
     "text": [
      "{'designation': ['Kelly', 'Emma'], 'salary': ['Kelly', 'Emma']}\n"
     ]
    }
   ],
   "source": [
    "a = dict.fromkeys(defaults, employees)\n",
    "print(a)"
   ]
  },
  {
   "cell_type": "markdown",
   "id": "24ece0c8",
   "metadata": {},
   "source": [
    "### Exercise 5: Create a dictionary by extracting the keys from a given dictionary"
   ]
  },
  {
   "cell_type": "code",
   "execution_count": null,
   "metadata": {},
   "outputs": [],
   "source": []
  },
  {
   "cell_type": "code",
   "execution_count": 42,
   "id": "90f127b8",
   "metadata": {},
   "outputs": [],
   "source": [
    "sample_dict = {\n",
    "    \"name\": \"Kelly\",\n",
    "    \"age\": 25,\n",
    "    \"salary\": 8000,\n",
    "    \"city\": \"New york\"}\n",
    "\n",
    "# Keys to extract\n",
    "keys = [\"name\", \"salary\",\"city\"]\n",
    "\n",
    "# Expected output:\n",
    "\n",
    "# {'name': 'Kelly', 'salary': 8000}"
   ]
  },
  {
   "cell_type": "code",
   "execution_count": 43,
   "id": "44c6e81f",
   "metadata": {},
   "outputs": [
    {
     "data": {
      "text/plain": [
       "{'name': 'Kelly', 'salary': 8000, 'city': 'New york'}"
      ]
     },
     "execution_count": 43,
     "metadata": {},
     "output_type": "execute_result"
    }
   ],
   "source": [
    "dic = {k: sample_dict[k] for k in keys}\n",
    "dic"
   ]
  },
  {
   "cell_type": "code",
   "execution_count": null,
   "id": "70836571",
   "metadata": {},
   "outputs": [],
   "source": []
  },
  {
   "cell_type": "markdown",
   "id": "5c98db2c",
   "metadata": {},
   "source": [
    "### Exercise 6: Delete a list of keys from a dictionary\n"
   ]
  },
  {
   "cell_type": "code",
   "execution_count": 76,
   "id": "8b8a30a1",
   "metadata": {},
   "outputs": [],
   "source": [
    "sample_dict = {\n",
    "    \"name\": \"Kelly\",\n",
    "    \"age\": 25,\n",
    "    \"salary\": 8000,\n",
    "    \"city\": \"New york\"\n",
    "}\n",
    "\n",
    "# Keys to remove\n",
    "keys = [\"name\", \"salary\"]\n",
    "\n",
    "# Expected output:\n",
    "# {'city': 'New york', 'age': 25}"
   ]
  },
  {
   "cell_type": "code",
   "execution_count": 77,
   "id": "9df5a84a",
   "metadata": {},
   "outputs": [
    {
     "data": {
      "text/plain": [
       "{'age': 25, 'city': 'New york'}"
      ]
     },
     "execution_count": 77,
     "metadata": {},
     "output_type": "execute_result"
    }
   ],
   "source": [
    "dit = {k:sample_dict[k] for k in sample_dict.keys()- keys}\n",
    "dit"
   ]
  },
  {
   "cell_type": "code",
   "execution_count": null,
   "id": "7921b61f",
   "metadata": {},
   "outputs": [],
   "source": []
  },
  {
   "cell_type": "markdown",
   "id": "f2745d65",
   "metadata": {},
   "source": [
    "### Exercise 7: Check if a value exists in a dictionary"
   ]
  },
  {
   "cell_type": "code",
   "execution_count": 45,
   "id": "39137a7f",
   "metadata": {},
   "outputs": [],
   "source": [
    "sample_dict = {'a': 100, 'b': 200, 'c': 300}\n",
    "\n",
    "# Expected output:\n",
    "# 200 present in a dict"
   ]
  },
  {
   "cell_type": "code",
   "execution_count": 46,
   "id": "c8e945c7",
   "metadata": {},
   "outputs": [
    {
     "name": "stdout",
     "output_type": "stream",
     "text": [
      "300 present in a dict\n"
     ]
    }
   ],
   "source": [
    "if 300 in sample_dict.values():\n",
    "    print('300 present in a dict')"
   ]
  },
  {
   "cell_type": "code",
   "execution_count": 47,
   "id": "32c0b82b",
   "metadata": {},
   "outputs": [
    {
     "name": "stdout",
     "output_type": "stream",
     "text": [
      "b present in a dict\n"
     ]
    }
   ],
   "source": [
    "if 'b' in sample_dict.keys():\n",
    "    print('b present in a dict')"
   ]
  },
  {
   "cell_type": "markdown",
   "id": "bb928473",
   "metadata": {},
   "source": [
    "### Exercise 8: Rename key of a dictionary"
   ]
  },
  {
   "cell_type": "code",
   "execution_count": 54,
   "id": "b0f220cb",
   "metadata": {},
   "outputs": [],
   "source": [
    "# Given:\n",
    "\n",
    "sample_dict = {\n",
    "  \"name\": \"Kelly\",\n",
    "  \"age\":25,\n",
    "  \"salary\": 8000,\n",
    "  \"city\": \"New york\"\n",
    "}"
   ]
  },
  {
   "cell_type": "code",
   "execution_count": 55,
   "id": "8413ab0f",
   "metadata": {},
   "outputs": [
    {
     "data": {
      "text/plain": [
       "{'name': 'Kelly', 'age': 25, 'salary': 8000, 'location': 'New york'}"
      ]
     },
     "execution_count": 55,
     "metadata": {},
     "output_type": "execute_result"
    }
   ],
   "source": [
    "sample_dict['location'] = sample_dict.pop('city') \n",
    "sample_dict"
   ]
  },
  {
   "cell_type": "code",
   "execution_count": 56,
   "id": "b08c290b",
   "metadata": {},
   "outputs": [],
   "source": [
    "# Expected output:\n",
    "# {'name': 'Kelly', 'age': 25, 'salary': 8000, 'location': 'New york'}"
   ]
  },
  {
   "cell_type": "markdown",
   "id": "d315b9f9",
   "metadata": {},
   "source": [
    "### Exercise 9: Get the key of a minimum value from the following dictionary"
   ]
  },
  {
   "cell_type": "code",
   "execution_count": 57,
   "id": "fb9fc23e",
   "metadata": {},
   "outputs": [],
   "source": [
    "\n",
    "sample_dict = {\n",
    "  'Physics': 82,\n",
    "  'Math': 65,\n",
    "  'history': 75\n",
    "}\n",
    "# Expected output:\n",
    "# Math"
   ]
  },
  {
   "cell_type": "code",
   "execution_count": 58,
   "id": "545fd8aa",
   "metadata": {},
   "outputs": [
    {
     "name": "stdout",
     "output_type": "stream",
     "text": [
      "Math\n"
     ]
    }
   ],
   "source": [
    "print(min(sample_dict, key = sample_dict.get))"
   ]
  },
  {
   "cell_type": "markdown",
   "id": "a4301ec8",
   "metadata": {},
   "source": [
    "### Exercise 10: Change value of a key in a nested dictionary"
   ]
  },
  {
   "cell_type": "code",
   "execution_count": 59,
   "id": "57fe04ec",
   "metadata": {},
   "outputs": [],
   "source": [
    "# Given:\n",
    "\n",
    "sample_dict = {\n",
    "    'emp1': {'name': 'Jhon', 'salary': 7500},\n",
    "    'emp2': {'name': 'Emma', 'salary': 8000},\n",
    "    'emp3': {'name': 'Brad', 'salary': 500}\n",
    "}\n"
   ]
  },
  {
   "cell_type": "code",
   "execution_count": 60,
   "id": "fce8e285",
   "metadata": {},
   "outputs": [
    {
     "data": {
      "text/plain": [
       "{'emp1': {'name': 'Jhon', 'salary': 7500},\n",
       " 'emp2': {'name': 'Emma', 'salary': 8000},\n",
       " 'emp3': {'name': 'Brad', 'salary': 8500}}"
      ]
     },
     "execution_count": 60,
     "metadata": {},
     "output_type": "execute_result"
    }
   ],
   "source": [
    "sample_dict['emp3']['salary'] = 8500\n",
    "sample_dict"
   ]
  },
  {
   "cell_type": "code",
   "execution_count": 61,
   "id": "85fec11d",
   "metadata": {},
   "outputs": [],
   "source": [
    "# Expected output:\n",
    "\n",
    "# {\n",
    "#    'emp1': {'name': 'Jhon', 'salary': 7500},\n",
    "#    'emp2': {'name': 'Emma', 'salary': 8000},\n",
    "#    'emp3': {'name': 'Brad', 'salary': 8500}\n",
    "# }"
   ]
  }
 ],
 "metadata": {
  "kernelspec": {
   "display_name": "Python 3 (ipykernel)",
   "language": "python",
   "name": "python3"
  },
  "language_info": {
   "codemirror_mode": {
    "name": "ipython",
    "version": 3
   },
   "file_extension": ".py",
   "mimetype": "text/x-python",
   "name": "python",
   "nbconvert_exporter": "python",
   "pygments_lexer": "ipython3",
   "version": "3.12.3"
  }
 },
 "nbformat": 4,
 "nbformat_minor": 5
}
